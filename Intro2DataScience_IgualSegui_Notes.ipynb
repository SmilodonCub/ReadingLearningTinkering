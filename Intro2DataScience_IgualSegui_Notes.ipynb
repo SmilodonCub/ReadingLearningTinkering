{
 "cells": [
  {
   "cell_type": "markdown",
   "metadata": {},
   "source": [
    "# Introduction to Data Science: a python approach to concepts techniques and applications\n",
    "-Laura Igual & Santi Sequi\n",
    "\n",
    "Working through this book and implementing the examples in p3"
   ]
  },
  {
   "cell_type": "markdown",
   "metadata": {},
   "source": [
    "## Introduction to Data Science\n",
    "\n",
    "**Datafication** the process of rendering into data aspects of the world that have never been quantified before.\n",
    "\n",
    "**Democratization of Data Analysis** the recent availability of open analytic tools makes it possible for anyone to use rich data to take evidence-based decisions.\n",
    "\n",
    "**Data Science** a methodology by which actionable insights can be inferred from data. ...The production of beliefs informaed by data and to be used as the basis of decision making. Data Science allows four different strategies to explore the world using data:\n",
    "\n",
    "1. *Probing reality* the responce of the world to our actions. e.g. A/B testing for web development.\n",
    "2. *Pattern discovery* discover useful patterns and natural clusters to simplify solutions.\n",
    "3. *Predicting future events* allow decisions to be taken in response to future events, not only reactively.\n",
    "4. *Understanding people and the world* natural language, computer vision, psychology and neuroscience.\n",
    "\n",
    "**This book** demystify data science by describing a set of tools and techniques thatallows a person with basic skills in computer science, mathematics and statistics to perform the tasks commonly associated with data science.\n",
    "\n"
   ]
  },
  {
   "cell_type": "markdown",
   "metadata": {},
   "source": []
  },
  {
   "cell_type": "markdown",
   "metadata": {},
   "source": [
    "## Toolboxes for Data Scienctists\n",
    "\n",
    "**Fundamental Python Libraries**\n",
    "1. *Numpy* support for multidimentional arrays\n",
    "2. *SciPy* collections of algorithms and toolboxes for stats, signal processing, optimization etc.\n",
    "3. *SCIKIT-Learn* machine learning library for classification, regression, model selection etc.\n",
    "4. *PANDAS* dataframes & data analysis tools.\n",
    "5. *Matplotlib* pretty pictures.\n"
   ]
  },
  {
   "cell_type": "code",
   "execution_count": 1,
   "metadata": {},
   "outputs": [],
   "source": [
    "#import some libraries\n",
    "import pandas as pd\n",
    "import numpy as np\n",
    "import matplotlib.pyplot as plt\n",
    "import tabulate as tbl"
   ]
  },
  {
   "cell_type": "code",
   "execution_count": 2,
   "metadata": {},
   "outputs": [
    {
     "data": {
      "text/html": [
       "<div>\n",
       "<style scoped>\n",
       "    .dataframe tbody tr th:only-of-type {\n",
       "        vertical-align: middle;\n",
       "    }\n",
       "\n",
       "    .dataframe tbody tr th {\n",
       "        vertical-align: top;\n",
       "    }\n",
       "\n",
       "    .dataframe thead th {\n",
       "        text-align: right;\n",
       "    }\n",
       "</style>\n",
       "<table border=\"1\" class=\"dataframe\">\n",
       "  <thead>\n",
       "    <tr style=\"text-align: right;\">\n",
       "      <th></th>\n",
       "      <th>year</th>\n",
       "      <th>team</th>\n",
       "      <th>wins</th>\n",
       "      <th>draws</th>\n",
       "      <th>losses</th>\n",
       "    </tr>\n",
       "  </thead>\n",
       "  <tbody>\n",
       "    <tr>\n",
       "      <th>0</th>\n",
       "      <td>2010</td>\n",
       "      <td>FCBarcelona</td>\n",
       "      <td>30</td>\n",
       "      <td>6</td>\n",
       "      <td>2</td>\n",
       "    </tr>\n",
       "    <tr>\n",
       "      <th>1</th>\n",
       "      <td>2011</td>\n",
       "      <td>FCBarcelona</td>\n",
       "      <td>28</td>\n",
       "      <td>7</td>\n",
       "      <td>3</td>\n",
       "    </tr>\n",
       "    <tr>\n",
       "      <th>2</th>\n",
       "      <td>2012</td>\n",
       "      <td>FCBarcelona</td>\n",
       "      <td>32</td>\n",
       "      <td>4</td>\n",
       "      <td>2</td>\n",
       "    </tr>\n",
       "    <tr>\n",
       "      <th>3</th>\n",
       "      <td>2010</td>\n",
       "      <td>RMadrid</td>\n",
       "      <td>29</td>\n",
       "      <td>5</td>\n",
       "      <td>4</td>\n",
       "    </tr>\n",
       "    <tr>\n",
       "      <th>4</th>\n",
       "      <td>2011</td>\n",
       "      <td>RMadrid</td>\n",
       "      <td>32</td>\n",
       "      <td>4</td>\n",
       "      <td>2</td>\n",
       "    </tr>\n",
       "    <tr>\n",
       "      <th>5</th>\n",
       "      <td>2012</td>\n",
       "      <td>RMadrid</td>\n",
       "      <td>26</td>\n",
       "      <td>7</td>\n",
       "      <td>5</td>\n",
       "    </tr>\n",
       "    <tr>\n",
       "      <th>6</th>\n",
       "      <td>2010</td>\n",
       "      <td>VallenciaCF</td>\n",
       "      <td>21</td>\n",
       "      <td>8</td>\n",
       "      <td>9</td>\n",
       "    </tr>\n",
       "    <tr>\n",
       "      <th>7</th>\n",
       "      <td>2011</td>\n",
       "      <td>VallenciaCF</td>\n",
       "      <td>17</td>\n",
       "      <td>19</td>\n",
       "      <td>11</td>\n",
       "    </tr>\n",
       "    <tr>\n",
       "      <th>8</th>\n",
       "      <td>2012</td>\n",
       "      <td>ValenciaCF</td>\n",
       "      <td>19</td>\n",
       "      <td>8</td>\n",
       "      <td>11</td>\n",
       "    </tr>\n",
       "  </tbody>\n",
       "</table>\n",
       "</div>"
      ],
      "text/plain": [
       "   year         team  wins  draws  losses\n",
       "0  2010  FCBarcelona    30      6       2\n",
       "1  2011  FCBarcelona    28      7       3\n",
       "2  2012  FCBarcelona    32      4       2\n",
       "3  2010      RMadrid    29      5       4\n",
       "4  2011      RMadrid    32      4       2\n",
       "5  2012      RMadrid    26      7       5\n",
       "6  2010  VallenciaCF    21      8       9\n",
       "7  2011  VallenciaCF    17     19      11\n",
       "8  2012   ValenciaCF    19      8      11"
      ]
     },
     "execution_count": 2,
     "metadata": {},
     "output_type": "execute_result"
    }
   ],
   "source": [
    "#pandas data.frames\n",
    "#basically just like R data.frmaes. tabular structures with rows and columns\n",
    "data = { 'year': [\n",
    "    2010, 2011, 2012,\n",
    "    2010, 2011, 2012,\n",
    "    2010, 2011, 2012 ], \n",
    "       'team': [\n",
    "           'FCBarcelona', 'FCBarcelona', 'FCBarcelona',\n",
    "           'RMadrid', 'RMadrid', 'RMadrid',\n",
    "           'VallenciaCF', 'VallenciaCF', 'ValenciaCF'],\n",
    "       'wins': [30, 28, 32, 29, 32, 26, 21, 17, 19],\n",
    "       'draws': [6, 7, 4, 5, 4, 7, 8, 19, 8],\n",
    "       'losses': [2, 3, 2, 4, 2, 5, 9, 11, 11]}\n",
    "football = pd.DataFrame( data, columns = [\n",
    "    'year', 'team', 'wins', 'draws', 'losses'])\n",
    "football"
   ]
  },
  {
   "cell_type": "code",
   "execution_count": 3,
   "metadata": {},
   "outputs": [],
   "source": [
    "#importing data from a .csv to a pandas dataframe\n",
    "edu_url = 'https://raw.githubusercontent.com/DataScienceUB/introduction-datascience-python-book/master/files/ch02/educ_figdp_1_Data.csv'\n",
    "edu_df = pd.read_csv( edu_url, \n",
    "                    na_values = ':',\n",
    "                    usecols = ['TIME', 'GEO', 'Value'])"
   ]
  },
  {
   "cell_type": "markdown",
   "metadata": {},
   "source": [
    "read_csv is much R method to do the same. other methods to import data: `read_excel()`, `read_table()`, `read_hdf()` and even a method to read from clipboard: `read_clipboard()`"
   ]
  },
  {
   "cell_type": "code",
   "execution_count": 4,
   "metadata": {},
   "outputs": [
    {
     "data": {
      "text/html": [
       "<div>\n",
       "<style scoped>\n",
       "    .dataframe tbody tr th:only-of-type {\n",
       "        vertical-align: middle;\n",
       "    }\n",
       "\n",
       "    .dataframe tbody tr th {\n",
       "        vertical-align: top;\n",
       "    }\n",
       "\n",
       "    .dataframe thead th {\n",
       "        text-align: right;\n",
       "    }\n",
       "</style>\n",
       "<table border=\"1\" class=\"dataframe\">\n",
       "  <thead>\n",
       "    <tr style=\"text-align: right;\">\n",
       "      <th></th>\n",
       "      <th>TIME</th>\n",
       "      <th>GEO</th>\n",
       "      <th>Value</th>\n",
       "    </tr>\n",
       "  </thead>\n",
       "  <tbody>\n",
       "    <tr>\n",
       "      <th>0</th>\n",
       "      <td>2000</td>\n",
       "      <td>European Union (28 countries)</td>\n",
       "      <td>NaN</td>\n",
       "    </tr>\n",
       "    <tr>\n",
       "      <th>1</th>\n",
       "      <td>2001</td>\n",
       "      <td>European Union (28 countries)</td>\n",
       "      <td>NaN</td>\n",
       "    </tr>\n",
       "    <tr>\n",
       "      <th>2</th>\n",
       "      <td>2002</td>\n",
       "      <td>European Union (28 countries)</td>\n",
       "      <td>5.00</td>\n",
       "    </tr>\n",
       "    <tr>\n",
       "      <th>3</th>\n",
       "      <td>2003</td>\n",
       "      <td>European Union (28 countries)</td>\n",
       "      <td>5.03</td>\n",
       "    </tr>\n",
       "    <tr>\n",
       "      <th>4</th>\n",
       "      <td>2004</td>\n",
       "      <td>European Union (28 countries)</td>\n",
       "      <td>4.95</td>\n",
       "    </tr>\n",
       "  </tbody>\n",
       "</table>\n",
       "</div>"
      ],
      "text/plain": [
       "   TIME                            GEO  Value\n",
       "0  2000  European Union (28 countries)    NaN\n",
       "1  2001  European Union (28 countries)    NaN\n",
       "2  2002  European Union (28 countries)   5.00\n",
       "3  2003  European Union (28 countries)   5.03\n",
       "4  2004  European Union (28 countries)   4.95"
      ]
     },
     "execution_count": 4,
     "metadata": {},
     "output_type": "execute_result"
    }
   ],
   "source": [
    "edu_df.head( 5 )"
   ]
  },
  {
   "cell_type": "code",
   "execution_count": 5,
   "metadata": {},
   "outputs": [
    {
     "data": {
      "text/html": [
       "<div>\n",
       "<style scoped>\n",
       "    .dataframe tbody tr th:only-of-type {\n",
       "        vertical-align: middle;\n",
       "    }\n",
       "\n",
       "    .dataframe tbody tr th {\n",
       "        vertical-align: top;\n",
       "    }\n",
       "\n",
       "    .dataframe thead th {\n",
       "        text-align: right;\n",
       "    }\n",
       "</style>\n",
       "<table border=\"1\" class=\"dataframe\">\n",
       "  <thead>\n",
       "    <tr style=\"text-align: right;\">\n",
       "      <th></th>\n",
       "      <th>TIME</th>\n",
       "      <th>GEO</th>\n",
       "      <th>Value</th>\n",
       "    </tr>\n",
       "  </thead>\n",
       "  <tbody>\n",
       "    <tr>\n",
       "      <th>380</th>\n",
       "      <td>2008</td>\n",
       "      <td>Finland</td>\n",
       "      <td>6.10</td>\n",
       "    </tr>\n",
       "    <tr>\n",
       "      <th>381</th>\n",
       "      <td>2009</td>\n",
       "      <td>Finland</td>\n",
       "      <td>6.81</td>\n",
       "    </tr>\n",
       "    <tr>\n",
       "      <th>382</th>\n",
       "      <td>2010</td>\n",
       "      <td>Finland</td>\n",
       "      <td>6.85</td>\n",
       "    </tr>\n",
       "    <tr>\n",
       "      <th>383</th>\n",
       "      <td>2011</td>\n",
       "      <td>Finland</td>\n",
       "      <td>6.76</td>\n",
       "    </tr>\n",
       "  </tbody>\n",
       "</table>\n",
       "</div>"
      ],
      "text/plain": [
       "     TIME      GEO  Value\n",
       "380  2008  Finland   6.10\n",
       "381  2009  Finland   6.81\n",
       "382  2010  Finland   6.85\n",
       "383  2011  Finland   6.76"
      ]
     },
     "execution_count": 5,
     "metadata": {},
     "output_type": "execute_result"
    }
   ],
   "source": [
    "edu_df.tail( 4 )"
   ]
  },
  {
   "cell_type": "code",
   "execution_count": 6,
   "metadata": {},
   "outputs": [
    {
     "data": {
      "text/html": [
       "<div>\n",
       "<style scoped>\n",
       "    .dataframe tbody tr th:only-of-type {\n",
       "        vertical-align: middle;\n",
       "    }\n",
       "\n",
       "    .dataframe tbody tr th {\n",
       "        vertical-align: top;\n",
       "    }\n",
       "\n",
       "    .dataframe thead th {\n",
       "        text-align: right;\n",
       "    }\n",
       "</style>\n",
       "<table border=\"1\" class=\"dataframe\">\n",
       "  <thead>\n",
       "    <tr style=\"text-align: right;\">\n",
       "      <th></th>\n",
       "      <th>TIME</th>\n",
       "      <th>Value</th>\n",
       "    </tr>\n",
       "  </thead>\n",
       "  <tbody>\n",
       "    <tr>\n",
       "      <th>count</th>\n",
       "      <td>384.000000</td>\n",
       "      <td>361.000000</td>\n",
       "    </tr>\n",
       "    <tr>\n",
       "      <th>mean</th>\n",
       "      <td>2005.500000</td>\n",
       "      <td>5.203989</td>\n",
       "    </tr>\n",
       "    <tr>\n",
       "      <th>std</th>\n",
       "      <td>3.456556</td>\n",
       "      <td>1.021694</td>\n",
       "    </tr>\n",
       "    <tr>\n",
       "      <th>min</th>\n",
       "      <td>2000.000000</td>\n",
       "      <td>2.880000</td>\n",
       "    </tr>\n",
       "    <tr>\n",
       "      <th>25%</th>\n",
       "      <td>2002.750000</td>\n",
       "      <td>4.620000</td>\n",
       "    </tr>\n",
       "    <tr>\n",
       "      <th>50%</th>\n",
       "      <td>2005.500000</td>\n",
       "      <td>5.060000</td>\n",
       "    </tr>\n",
       "    <tr>\n",
       "      <th>75%</th>\n",
       "      <td>2008.250000</td>\n",
       "      <td>5.660000</td>\n",
       "    </tr>\n",
       "    <tr>\n",
       "      <th>max</th>\n",
       "      <td>2011.000000</td>\n",
       "      <td>8.810000</td>\n",
       "    </tr>\n",
       "  </tbody>\n",
       "</table>\n",
       "</div>"
      ],
      "text/plain": [
       "              TIME       Value\n",
       "count   384.000000  361.000000\n",
       "mean   2005.500000    5.203989\n",
       "std       3.456556    1.021694\n",
       "min    2000.000000    2.880000\n",
       "25%    2002.750000    4.620000\n",
       "50%    2005.500000    5.060000\n",
       "75%    2008.250000    5.660000\n",
       "max    2011.000000    8.810000"
      ]
     },
     "execution_count": 6,
     "metadata": {},
     "output_type": "execute_result"
    }
   ],
   "source": [
    "#describe() works much like summary() in R:\n",
    "edu_df.describe()"
   ]
  },
  {
   "cell_type": "code",
   "execution_count": 7,
   "metadata": {},
   "outputs": [
    {
     "data": {
      "text/html": [
       "<div>\n",
       "<style scoped>\n",
       "    .dataframe tbody tr th:only-of-type {\n",
       "        vertical-align: middle;\n",
       "    }\n",
       "\n",
       "    .dataframe tbody tr th {\n",
       "        vertical-align: top;\n",
       "    }\n",
       "\n",
       "    .dataframe thead th {\n",
       "        text-align: right;\n",
       "    }\n",
       "</style>\n",
       "<table border=\"1\" class=\"dataframe\">\n",
       "  <thead>\n",
       "    <tr style=\"text-align: right;\">\n",
       "      <th></th>\n",
       "      <th>TIME</th>\n",
       "      <th>Value</th>\n",
       "    </tr>\n",
       "  </thead>\n",
       "  <tbody>\n",
       "    <tr>\n",
       "      <th>13</th>\n",
       "      <td>2001</td>\n",
       "      <td>4.99</td>\n",
       "    </tr>\n",
       "    <tr>\n",
       "      <th>14</th>\n",
       "      <td>2002</td>\n",
       "      <td>5.00</td>\n",
       "    </tr>\n",
       "    <tr>\n",
       "      <th>15</th>\n",
       "      <td>2003</td>\n",
       "      <td>5.04</td>\n",
       "    </tr>\n",
       "  </tbody>\n",
       "</table>\n",
       "</div>"
      ],
      "text/plain": [
       "    TIME  Value\n",
       "13  2001   4.99\n",
       "14  2002   5.00\n",
       "15  2003   5.04"
      ]
     },
     "execution_count": 7,
     "metadata": {},
     "output_type": "execute_result"
    }
   ],
   "source": [
    "#selecting data\n",
    "edu_df.loc[ 13:15, [ 'TIME', 'Value' ] ]\n",
    "#iloc is really handy too"
   ]
  },
  {
   "cell_type": "code",
   "execution_count": 8,
   "metadata": {},
   "outputs": [
    {
     "data": {
      "text/plain": [
       "33"
      ]
     },
     "execution_count": 8,
     "metadata": {},
     "output_type": "execute_result"
    }
   ],
   "source": [
    "#filtering data\n",
    "len( edu_df[ edu_df[ 'Value' ] > 6.5 ] )"
   ]
  },
  {
   "cell_type": "markdown",
   "metadata": {},
   "source": [
    "**The only safe way to tell if a value is missing in a DataFrame is by using the isnull() function**"
   ]
  },
  {
   "cell_type": "code",
   "execution_count": 9,
   "metadata": {},
   "outputs": [
    {
     "data": {
      "text/plain": [
       "23"
      ]
     },
     "execution_count": 9,
     "metadata": {},
     "output_type": "execute_result"
    }
   ],
   "source": [
    "len( edu_df[ edu_df[ \"Value\" ].isnull() ] )"
   ]
  },
  {
   "cell_type": "markdown",
   "metadata": {},
   "source": [
    "Common Aggregation Functions: `count()`, `sum()`, `mean()`, `median()`, `min()`, `max()`, `prod()`, `std()`, `var()`"
   ]
  },
  {
   "cell_type": "code",
   "execution_count": 10,
   "metadata": {},
   "outputs": [
    {
     "name": "stdout",
     "output_type": "stream",
     "text": [
      "Pandas max fxn: 8.81\n",
      "Python max fxn: nan\n"
     ]
    }
   ],
   "source": [
    "print( 'Pandas max fxn:', edu_df[ 'Value'].max() )\n",
    "print( 'Python max fxn:', max( edu_df[ 'Value' ] ) )"
   ]
  },
  {
   "cell_type": "code",
   "execution_count": 11,
   "metadata": {},
   "outputs": [
    {
     "data": {
      "text/plain": [
       "0        NaN\n",
       "1        NaN\n",
       "2    25.0000\n",
       "3    25.3009\n",
       "4    24.5025\n",
       "Name: Value, dtype: float64"
      ]
     },
     "execution_count": 11,
     "metadata": {},
     "output_type": "execute_result"
    }
   ],
   "source": [
    "#Applying Operations to values in rows/columns or rows&columns:\n",
    "s = edu_df[ \"Value\" ]/100\n",
    "s.head()\n",
    "\n",
    "s = edu_df[ \"Value\" ].apply( np.sqrt )\n",
    "s.head()\n",
    "\n",
    "#in line functions\n",
    "s = edu_df[ \"Value\" ].apply( lambda d: d**2 )\n",
    "s.head()"
   ]
  },
  {
   "cell_type": "code",
   "execution_count": 12,
   "metadata": {},
   "outputs": [
    {
     "data": {
      "text/html": [
       "<div>\n",
       "<style scoped>\n",
       "    .dataframe tbody tr th:only-of-type {\n",
       "        vertical-align: middle;\n",
       "    }\n",
       "\n",
       "    .dataframe tbody tr th {\n",
       "        vertical-align: top;\n",
       "    }\n",
       "\n",
       "    .dataframe thead th {\n",
       "        text-align: right;\n",
       "    }\n",
       "</style>\n",
       "<table border=\"1\" class=\"dataframe\">\n",
       "  <thead>\n",
       "    <tr style=\"text-align: right;\">\n",
       "      <th></th>\n",
       "      <th>TIME</th>\n",
       "      <th>GEO</th>\n",
       "      <th>Value</th>\n",
       "      <th>ValueNorm</th>\n",
       "    </tr>\n",
       "  </thead>\n",
       "  <tbody>\n",
       "    <tr>\n",
       "      <th>379</th>\n",
       "      <td>2007</td>\n",
       "      <td>Finland</td>\n",
       "      <td>5.90</td>\n",
       "      <td>0.669694</td>\n",
       "    </tr>\n",
       "    <tr>\n",
       "      <th>380</th>\n",
       "      <td>2008</td>\n",
       "      <td>Finland</td>\n",
       "      <td>6.10</td>\n",
       "      <td>0.692395</td>\n",
       "    </tr>\n",
       "    <tr>\n",
       "      <th>381</th>\n",
       "      <td>2009</td>\n",
       "      <td>Finland</td>\n",
       "      <td>6.81</td>\n",
       "      <td>0.772985</td>\n",
       "    </tr>\n",
       "    <tr>\n",
       "      <th>382</th>\n",
       "      <td>2010</td>\n",
       "      <td>Finland</td>\n",
       "      <td>6.85</td>\n",
       "      <td>0.777526</td>\n",
       "    </tr>\n",
       "    <tr>\n",
       "      <th>383</th>\n",
       "      <td>2011</td>\n",
       "      <td>Finland</td>\n",
       "      <td>6.76</td>\n",
       "      <td>0.767310</td>\n",
       "    </tr>\n",
       "  </tbody>\n",
       "</table>\n",
       "</div>"
      ],
      "text/plain": [
       "     TIME      GEO  Value  ValueNorm\n",
       "379  2007  Finland   5.90   0.669694\n",
       "380  2008  Finland   6.10   0.692395\n",
       "381  2009  Finland   6.81   0.772985\n",
       "382  2010  Finland   6.85   0.777526\n",
       "383  2011  Finland   6.76   0.767310"
      ]
     },
     "execution_count": 12,
     "metadata": {},
     "output_type": "execute_result"
    }
   ],
   "source": [
    "#New Feature based on Old\n",
    "edu_df[ \"ValueNorm\" ]= edu_df[ \"Value\" ]/edu_df[ \"Value\" ].max()\n",
    "edu_df.tail()"
   ]
  },
  {
   "cell_type": "code",
   "execution_count": 13,
   "metadata": {},
   "outputs": [
    {
     "data": {
      "text/html": [
       "<div>\n",
       "<style scoped>\n",
       "    .dataframe tbody tr th:only-of-type {\n",
       "        vertical-align: middle;\n",
       "    }\n",
       "\n",
       "    .dataframe tbody tr th {\n",
       "        vertical-align: top;\n",
       "    }\n",
       "\n",
       "    .dataframe thead th {\n",
       "        text-align: right;\n",
       "    }\n",
       "</style>\n",
       "<table border=\"1\" class=\"dataframe\">\n",
       "  <thead>\n",
       "    <tr style=\"text-align: right;\">\n",
       "      <th></th>\n",
       "      <th>TIME</th>\n",
       "      <th>GEO</th>\n",
       "      <th>Value</th>\n",
       "    </tr>\n",
       "  </thead>\n",
       "  <tbody>\n",
       "    <tr>\n",
       "      <th>0</th>\n",
       "      <td>2000</td>\n",
       "      <td>European Union (28 countries)</td>\n",
       "      <td>NaN</td>\n",
       "    </tr>\n",
       "    <tr>\n",
       "      <th>1</th>\n",
       "      <td>2001</td>\n",
       "      <td>European Union (28 countries)</td>\n",
       "      <td>NaN</td>\n",
       "    </tr>\n",
       "    <tr>\n",
       "      <th>2</th>\n",
       "      <td>2002</td>\n",
       "      <td>European Union (28 countries)</td>\n",
       "      <td>5.00</td>\n",
       "    </tr>\n",
       "    <tr>\n",
       "      <th>3</th>\n",
       "      <td>2003</td>\n",
       "      <td>European Union (28 countries)</td>\n",
       "      <td>5.03</td>\n",
       "    </tr>\n",
       "    <tr>\n",
       "      <th>4</th>\n",
       "      <td>2004</td>\n",
       "      <td>European Union (28 countries)</td>\n",
       "      <td>4.95</td>\n",
       "    </tr>\n",
       "  </tbody>\n",
       "</table>\n",
       "</div>"
      ],
      "text/plain": [
       "   TIME                            GEO  Value\n",
       "0  2000  European Union (28 countries)    NaN\n",
       "1  2001  European Union (28 countries)    NaN\n",
       "2  2002  European Union (28 countries)   5.00\n",
       "3  2003  European Union (28 countries)   5.03\n",
       "4  2004  European Union (28 countries)   4.95"
      ]
     },
     "execution_count": 13,
     "metadata": {},
     "output_type": "execute_result"
    }
   ],
   "source": [
    "#removing features with drop()\n",
    "edu_df.drop( [ 'ValueNorm' ], axis=1, inplace=True)\n",
    "edu_df.head()"
   ]
  },
  {
   "cell_type": "code",
   "execution_count": 14,
   "metadata": {},
   "outputs": [
    {
     "data": {
      "text/html": [
       "<div>\n",
       "<style scoped>\n",
       "    .dataframe tbody tr th:only-of-type {\n",
       "        vertical-align: middle;\n",
       "    }\n",
       "\n",
       "    .dataframe tbody tr th {\n",
       "        vertical-align: top;\n",
       "    }\n",
       "\n",
       "    .dataframe thead th {\n",
       "        text-align: right;\n",
       "    }\n",
       "</style>\n",
       "<table border=\"1\" class=\"dataframe\">\n",
       "  <thead>\n",
       "    <tr style=\"text-align: right;\">\n",
       "      <th></th>\n",
       "      <th>TIME</th>\n",
       "      <th>GEO</th>\n",
       "      <th>Value</th>\n",
       "    </tr>\n",
       "  </thead>\n",
       "  <tbody>\n",
       "    <tr>\n",
       "      <th>380</th>\n",
       "      <td>2008</td>\n",
       "      <td>Finland</td>\n",
       "      <td>6.10</td>\n",
       "    </tr>\n",
       "    <tr>\n",
       "      <th>381</th>\n",
       "      <td>2009</td>\n",
       "      <td>Finland</td>\n",
       "      <td>6.81</td>\n",
       "    </tr>\n",
       "    <tr>\n",
       "      <th>382</th>\n",
       "      <td>2010</td>\n",
       "      <td>Finland</td>\n",
       "      <td>6.85</td>\n",
       "    </tr>\n",
       "    <tr>\n",
       "      <th>383</th>\n",
       "      <td>2011</td>\n",
       "      <td>Finland</td>\n",
       "      <td>6.76</td>\n",
       "    </tr>\n",
       "    <tr>\n",
       "      <th>384</th>\n",
       "      <td>2000</td>\n",
       "      <td>a</td>\n",
       "      <td>5.00</td>\n",
       "    </tr>\n",
       "  </tbody>\n",
       "</table>\n",
       "</div>"
      ],
      "text/plain": [
       "     TIME      GEO  Value\n",
       "380  2008  Finland   6.10\n",
       "381  2009  Finland   6.81\n",
       "382  2010  Finland   6.85\n",
       "383  2011  Finland   6.76\n",
       "384  2000        a   5.00"
      ]
     },
     "execution_count": 14,
     "metadata": {},
     "output_type": "execute_result"
    }
   ],
   "source": [
    "#appending a row\n",
    "edu_df_new = pd.DataFrame( { \"TIME\" : [ 2000 ] , \"Value\" : [ 5.00 ] , \"GEO\" : [ 'a' ] } )\n",
    "edu_df = edu_df.append( edu_df_new, ignore_index =  True ) \n",
    "edu_df.tail()"
   ]
  },
  {
   "cell_type": "code",
   "execution_count": 15,
   "metadata": {},
   "outputs": [
    {
     "data": {
      "text/html": [
       "<div>\n",
       "<style scoped>\n",
       "    .dataframe tbody tr th:only-of-type {\n",
       "        vertical-align: middle;\n",
       "    }\n",
       "\n",
       "    .dataframe tbody tr th {\n",
       "        vertical-align: top;\n",
       "    }\n",
       "\n",
       "    .dataframe thead th {\n",
       "        text-align: right;\n",
       "    }\n",
       "</style>\n",
       "<table border=\"1\" class=\"dataframe\">\n",
       "  <thead>\n",
       "    <tr style=\"text-align: right;\">\n",
       "      <th></th>\n",
       "      <th>TIME</th>\n",
       "      <th>GEO</th>\n",
       "      <th>Value</th>\n",
       "    </tr>\n",
       "  </thead>\n",
       "  <tbody>\n",
       "    <tr>\n",
       "      <th>379</th>\n",
       "      <td>2007</td>\n",
       "      <td>Finland</td>\n",
       "      <td>5.90</td>\n",
       "    </tr>\n",
       "    <tr>\n",
       "      <th>380</th>\n",
       "      <td>2008</td>\n",
       "      <td>Finland</td>\n",
       "      <td>6.10</td>\n",
       "    </tr>\n",
       "    <tr>\n",
       "      <th>381</th>\n",
       "      <td>2009</td>\n",
       "      <td>Finland</td>\n",
       "      <td>6.81</td>\n",
       "    </tr>\n",
       "    <tr>\n",
       "      <th>382</th>\n",
       "      <td>2010</td>\n",
       "      <td>Finland</td>\n",
       "      <td>6.85</td>\n",
       "    </tr>\n",
       "    <tr>\n",
       "      <th>383</th>\n",
       "      <td>2011</td>\n",
       "      <td>Finland</td>\n",
       "      <td>6.76</td>\n",
       "    </tr>\n",
       "  </tbody>\n",
       "</table>\n",
       "</div>"
      ],
      "text/plain": [
       "     TIME      GEO  Value\n",
       "379  2007  Finland   5.90\n",
       "380  2008  Finland   6.10\n",
       "381  2009  Finland   6.81\n",
       "382  2010  Finland   6.85\n",
       "383  2011  Finland   6.76"
      ]
     },
     "execution_count": 15,
     "metadata": {},
     "output_type": "execute_result"
    }
   ],
   "source": [
    "#remove the row\n",
    "edu_df.drop( max( edu_df.index ), axis = 0, inplace = True )\n",
    "edu_df.tail()"
   ]
  },
  {
   "cell_type": "code",
   "execution_count": 16,
   "metadata": {},
   "outputs": [
    {
     "data": {
      "text/html": [
       "<div>\n",
       "<style scoped>\n",
       "    .dataframe tbody tr th:only-of-type {\n",
       "        vertical-align: middle;\n",
       "    }\n",
       "\n",
       "    .dataframe tbody tr th {\n",
       "        vertical-align: top;\n",
       "    }\n",
       "\n",
       "    .dataframe thead th {\n",
       "        text-align: right;\n",
       "    }\n",
       "</style>\n",
       "<table border=\"1\" class=\"dataframe\">\n",
       "  <thead>\n",
       "    <tr style=\"text-align: right;\">\n",
       "      <th></th>\n",
       "      <th>TIME</th>\n",
       "      <th>GEO</th>\n",
       "      <th>Value</th>\n",
       "    </tr>\n",
       "  </thead>\n",
       "  <tbody>\n",
       "    <tr>\n",
       "      <th>2</th>\n",
       "      <td>2002</td>\n",
       "      <td>European Union (28 countries)</td>\n",
       "      <td>5.00</td>\n",
       "    </tr>\n",
       "    <tr>\n",
       "      <th>3</th>\n",
       "      <td>2003</td>\n",
       "      <td>European Union (28 countries)</td>\n",
       "      <td>5.03</td>\n",
       "    </tr>\n",
       "    <tr>\n",
       "      <th>4</th>\n",
       "      <td>2004</td>\n",
       "      <td>European Union (28 countries)</td>\n",
       "      <td>4.95</td>\n",
       "    </tr>\n",
       "    <tr>\n",
       "      <th>5</th>\n",
       "      <td>2005</td>\n",
       "      <td>European Union (28 countries)</td>\n",
       "      <td>4.92</td>\n",
       "    </tr>\n",
       "    <tr>\n",
       "      <th>6</th>\n",
       "      <td>2006</td>\n",
       "      <td>European Union (28 countries)</td>\n",
       "      <td>4.91</td>\n",
       "    </tr>\n",
       "  </tbody>\n",
       "</table>\n",
       "</div>"
      ],
      "text/plain": [
       "   TIME                            GEO  Value\n",
       "2  2002  European Union (28 countries)   5.00\n",
       "3  2003  European Union (28 countries)   5.03\n",
       "4  2004  European Union (28 countries)   4.95\n",
       "5  2005  European Union (28 countries)   4.92\n",
       "6  2006  European Union (28 countries)   4.91"
      ]
     },
     "execution_count": 16,
     "metadata": {},
     "output_type": "execute_result"
    }
   ],
   "source": [
    "#filtering NaN values\n",
    "edu_dropNaN = edu_df.dropna( subset = [ \"Value\" ] )\n",
    "edu_dropNaN.head()"
   ]
  },
  {
   "cell_type": "code",
   "execution_count": 17,
   "metadata": {},
   "outputs": [
    {
     "data": {
      "text/html": [
       "<div>\n",
       "<style scoped>\n",
       "    .dataframe tbody tr th:only-of-type {\n",
       "        vertical-align: middle;\n",
       "    }\n",
       "\n",
       "    .dataframe tbody tr th {\n",
       "        vertical-align: top;\n",
       "    }\n",
       "\n",
       "    .dataframe thead th {\n",
       "        text-align: right;\n",
       "    }\n",
       "</style>\n",
       "<table border=\"1\" class=\"dataframe\">\n",
       "  <thead>\n",
       "    <tr style=\"text-align: right;\">\n",
       "      <th></th>\n",
       "      <th>TIME</th>\n",
       "      <th>GEO</th>\n",
       "      <th>Value</th>\n",
       "    </tr>\n",
       "  </thead>\n",
       "  <tbody>\n",
       "    <tr>\n",
       "      <th>130</th>\n",
       "      <td>2010</td>\n",
       "      <td>Denmark</td>\n",
       "      <td>8.81</td>\n",
       "    </tr>\n",
       "    <tr>\n",
       "      <th>131</th>\n",
       "      <td>2011</td>\n",
       "      <td>Denmark</td>\n",
       "      <td>8.75</td>\n",
       "    </tr>\n",
       "    <tr>\n",
       "      <th>129</th>\n",
       "      <td>2009</td>\n",
       "      <td>Denmark</td>\n",
       "      <td>8.74</td>\n",
       "    </tr>\n",
       "    <tr>\n",
       "      <th>121</th>\n",
       "      <td>2001</td>\n",
       "      <td>Denmark</td>\n",
       "      <td>8.44</td>\n",
       "    </tr>\n",
       "    <tr>\n",
       "      <th>122</th>\n",
       "      <td>2002</td>\n",
       "      <td>Denmark</td>\n",
       "      <td>8.44</td>\n",
       "    </tr>\n",
       "  </tbody>\n",
       "</table>\n",
       "</div>"
      ],
      "text/plain": [
       "     TIME      GEO  Value\n",
       "130  2010  Denmark   8.81\n",
       "131  2011  Denmark   8.75\n",
       "129  2009  Denmark   8.74\n",
       "121  2001  Denmark   8.44\n",
       "122  2002  Denmark   8.44"
      ]
     },
     "execution_count": 17,
     "metadata": {},
     "output_type": "execute_result"
    }
   ],
   "source": [
    "#sorting\n",
    "edu_df.sort_values( by = 'Value', ascending = False, inplace = True )\n",
    "edu_df.head()"
   ]
  },
  {
   "cell_type": "code",
   "execution_count": 18,
   "metadata": {},
   "outputs": [
    {
     "data": {
      "text/html": [
       "<div>\n",
       "<style scoped>\n",
       "    .dataframe tbody tr th:only-of-type {\n",
       "        vertical-align: middle;\n",
       "    }\n",
       "\n",
       "    .dataframe tbody tr th {\n",
       "        vertical-align: top;\n",
       "    }\n",
       "\n",
       "    .dataframe thead th {\n",
       "        text-align: right;\n",
       "    }\n",
       "</style>\n",
       "<table border=\"1\" class=\"dataframe\">\n",
       "  <thead>\n",
       "    <tr style=\"text-align: right;\">\n",
       "      <th></th>\n",
       "      <th>Value</th>\n",
       "    </tr>\n",
       "    <tr>\n",
       "      <th>GEO</th>\n",
       "      <th></th>\n",
       "    </tr>\n",
       "  </thead>\n",
       "  <tbody>\n",
       "    <tr>\n",
       "      <th>Austria</th>\n",
       "      <td>5.618333</td>\n",
       "    </tr>\n",
       "    <tr>\n",
       "      <th>Belgium</th>\n",
       "      <td>6.189091</td>\n",
       "    </tr>\n",
       "    <tr>\n",
       "      <th>Bulgaria</th>\n",
       "      <td>4.093333</td>\n",
       "    </tr>\n",
       "    <tr>\n",
       "      <th>Cyprus</th>\n",
       "      <td>7.023333</td>\n",
       "    </tr>\n",
       "    <tr>\n",
       "      <th>Czech Republic</th>\n",
       "      <td>4.168333</td>\n",
       "    </tr>\n",
       "  </tbody>\n",
       "</table>\n",
       "</div>"
      ],
      "text/plain": [
       "                   Value\n",
       "GEO                     \n",
       "Austria         5.618333\n",
       "Belgium         6.189091\n",
       "Bulgaria        4.093333\n",
       "Cyprus          7.023333\n",
       "Czech Republic  4.168333"
      ]
     },
     "execution_count": 18,
     "metadata": {},
     "output_type": "execute_result"
    }
   ],
   "source": [
    "#group by\n",
    "group = edu_df[ [ \"GEO\", \"Value\" ] ].groupby( \"GEO\" ).mean( )\n",
    "group.head( )"
   ]
  },
  {
   "cell_type": "code",
   "execution_count": 19,
   "metadata": {},
   "outputs": [
    {
     "data": {
      "text/html": [
       "<div>\n",
       "<style scoped>\n",
       "    .dataframe tbody tr th:only-of-type {\n",
       "        vertical-align: middle;\n",
       "    }\n",
       "\n",
       "    .dataframe tbody tr th {\n",
       "        vertical-align: top;\n",
       "    }\n",
       "\n",
       "    .dataframe thead th {\n",
       "        text-align: right;\n",
       "    }\n",
       "</style>\n",
       "<table border=\"1\" class=\"dataframe\">\n",
       "  <thead>\n",
       "    <tr style=\"text-align: right;\">\n",
       "      <th>TIME</th>\n",
       "      <th>2006</th>\n",
       "      <th>2007</th>\n",
       "      <th>2008</th>\n",
       "      <th>2009</th>\n",
       "      <th>2010</th>\n",
       "      <th>2011</th>\n",
       "    </tr>\n",
       "    <tr>\n",
       "      <th>GEO</th>\n",
       "      <th></th>\n",
       "      <th></th>\n",
       "      <th></th>\n",
       "      <th></th>\n",
       "      <th></th>\n",
       "      <th></th>\n",
       "    </tr>\n",
       "  </thead>\n",
       "  <tbody>\n",
       "    <tr>\n",
       "      <th>Austria</th>\n",
       "      <td>5.40</td>\n",
       "      <td>5.33</td>\n",
       "      <td>5.47</td>\n",
       "      <td>5.98</td>\n",
       "      <td>5.91</td>\n",
       "      <td>5.80</td>\n",
       "    </tr>\n",
       "    <tr>\n",
       "      <th>Belgium</th>\n",
       "      <td>5.98</td>\n",
       "      <td>6.00</td>\n",
       "      <td>6.43</td>\n",
       "      <td>6.57</td>\n",
       "      <td>6.58</td>\n",
       "      <td>6.55</td>\n",
       "    </tr>\n",
       "    <tr>\n",
       "      <th>Bulgaria</th>\n",
       "      <td>4.04</td>\n",
       "      <td>3.88</td>\n",
       "      <td>4.44</td>\n",
       "      <td>4.58</td>\n",
       "      <td>4.10</td>\n",
       "      <td>3.82</td>\n",
       "    </tr>\n",
       "    <tr>\n",
       "      <th>Cyprus</th>\n",
       "      <td>7.02</td>\n",
       "      <td>6.95</td>\n",
       "      <td>7.45</td>\n",
       "      <td>7.98</td>\n",
       "      <td>7.92</td>\n",
       "      <td>7.87</td>\n",
       "    </tr>\n",
       "    <tr>\n",
       "      <th>Czech Republic</th>\n",
       "      <td>4.42</td>\n",
       "      <td>4.05</td>\n",
       "      <td>3.92</td>\n",
       "      <td>4.36</td>\n",
       "      <td>4.25</td>\n",
       "      <td>4.51</td>\n",
       "    </tr>\n",
       "  </tbody>\n",
       "</table>\n",
       "</div>"
      ],
      "text/plain": [
       "TIME            2006  2007  2008  2009  2010  2011\n",
       "GEO                                               \n",
       "Austria         5.40  5.33  5.47  5.98  5.91  5.80\n",
       "Belgium         5.98  6.00  6.43  6.57  6.58  6.55\n",
       "Bulgaria        4.04  3.88  4.44  4.58  4.10  3.82\n",
       "Cyprus          7.02  6.95  7.45  7.98  7.92  7.87\n",
       "Czech Republic  4.42  4.05  3.92  4.36  4.25  4.51"
      ]
     },
     "execution_count": 19,
     "metadata": {},
     "output_type": "execute_result"
    }
   ],
   "source": [
    "#pivotting data\n",
    "filtered_edu = edu_df[ edu_df[ \"TIME\" ] > 2005 ]\n",
    "pivedu = pd.pivot_table( filtered_edu, values = \"Value\",\n",
    "                       index = [ \"GEO\" ],\n",
    "                       columns = [ \"TIME\" ] )\n",
    "pivedu.head( )"
   ]
  },
  {
   "cell_type": "code",
   "execution_count": 20,
   "metadata": {},
   "outputs": [
    {
     "data": {
      "text/html": [
       "<div>\n",
       "<style scoped>\n",
       "    .dataframe tbody tr th:only-of-type {\n",
       "        vertical-align: middle;\n",
       "    }\n",
       "\n",
       "    .dataframe tbody tr th {\n",
       "        vertical-align: top;\n",
       "    }\n",
       "\n",
       "    .dataframe thead th {\n",
       "        text-align: right;\n",
       "    }\n",
       "</style>\n",
       "<table border=\"1\" class=\"dataframe\">\n",
       "  <thead>\n",
       "    <tr style=\"text-align: right;\">\n",
       "      <th>TIME</th>\n",
       "      <th>2006</th>\n",
       "      <th>2007</th>\n",
       "      <th>2008</th>\n",
       "      <th>2009</th>\n",
       "      <th>2010</th>\n",
       "      <th>2011</th>\n",
       "    </tr>\n",
       "    <tr>\n",
       "      <th>GEO</th>\n",
       "      <th></th>\n",
       "      <th></th>\n",
       "      <th></th>\n",
       "      <th></th>\n",
       "      <th></th>\n",
       "      <th></th>\n",
       "    </tr>\n",
       "  </thead>\n",
       "  <tbody>\n",
       "    <tr>\n",
       "      <th>Austria</th>\n",
       "      <td>10.0</td>\n",
       "      <td>7.0</td>\n",
       "      <td>11.0</td>\n",
       "      <td>7.0</td>\n",
       "      <td>8.0</td>\n",
       "      <td>8.0</td>\n",
       "    </tr>\n",
       "    <tr>\n",
       "      <th>Belgium</th>\n",
       "      <td>5.0</td>\n",
       "      <td>4.0</td>\n",
       "      <td>3.0</td>\n",
       "      <td>4.0</td>\n",
       "      <td>5.0</td>\n",
       "      <td>5.0</td>\n",
       "    </tr>\n",
       "    <tr>\n",
       "      <th>Bulgaria</th>\n",
       "      <td>21.0</td>\n",
       "      <td>21.0</td>\n",
       "      <td>20.0</td>\n",
       "      <td>20.0</td>\n",
       "      <td>22.0</td>\n",
       "      <td>22.0</td>\n",
       "    </tr>\n",
       "    <tr>\n",
       "      <th>Cyprus</th>\n",
       "      <td>2.0</td>\n",
       "      <td>2.0</td>\n",
       "      <td>2.0</td>\n",
       "      <td>2.0</td>\n",
       "      <td>2.0</td>\n",
       "      <td>3.0</td>\n",
       "    </tr>\n",
       "    <tr>\n",
       "      <th>Czech Republic</th>\n",
       "      <td>19.0</td>\n",
       "      <td>20.0</td>\n",
       "      <td>21.0</td>\n",
       "      <td>21.0</td>\n",
       "      <td>20.0</td>\n",
       "      <td>19.0</td>\n",
       "    </tr>\n",
       "  </tbody>\n",
       "</table>\n",
       "</div>"
      ],
      "text/plain": [
       "TIME            2006  2007  2008  2009  2010  2011\n",
       "GEO                                               \n",
       "Austria         10.0   7.0  11.0   7.0   8.0   8.0\n",
       "Belgium          5.0   4.0   3.0   4.0   5.0   5.0\n",
       "Bulgaria        21.0  21.0  20.0  20.0  22.0  22.0\n",
       "Cyprus           2.0   2.0   2.0   2.0   2.0   3.0\n",
       "Czech Republic  19.0  20.0  21.0  21.0  20.0  19.0"
      ]
     },
     "execution_count": 20,
     "metadata": {},
     "output_type": "execute_result"
    }
   ],
   "source": [
    "#ranking data\n",
    "pivedu = pivedu.drop( [ \"Euro area (13 countries)\",\n",
    "                       \"Euro area (15 countries)\",\n",
    "                       \"Euro area (17 countries)\",\n",
    "                       \"Euro area (18 countries)\",\n",
    "                       \"European Union (25 countries)\",\n",
    "                       \"European Union (27 countries)\",\n",
    "                       \"European Union (28 countries)\" ], axis = 0)\n",
    "pivedu = pivedu.rename( index = { \"Germany (until 1990 former territory of the FRG)\" : \"Germany\" })\n",
    "pivedu = pivedu.dropna()\n",
    "pivedu.rank( ascending = False, method = \"first\").head()"
   ]
  },
  {
   "cell_type": "code",
   "execution_count": 21,
   "metadata": {},
   "outputs": [
    {
     "data": {
      "text/plain": [
       "GEO\n",
       "Denmark    1.0\n",
       "Cyprus     2.0\n",
       "Finland    3.0\n",
       "Malta      4.0\n",
       "Belgium    5.0\n",
       "dtype: float64"
      ]
     },
     "execution_count": 21,
     "metadata": {},
     "output_type": "execute_result"
    }
   ],
   "source": [
    "totalSum = pivedu.sum( axis = 1 )\n",
    "totalSum.rank( ascending = False, method = \"dense\" ).sort_values().head()"
   ]
  },
  {
   "cell_type": "markdown",
   "metadata": {},
   "source": [
    "Some basic plots....."
   ]
  },
  {
   "cell_type": "code",
   "execution_count": 22,
   "metadata": {},
   "outputs": [
    {
     "data": {
      "text/plain": [
       "<matplotlib.axes._subplots.AxesSubplot at 0x7fb98872d650>"
      ]
     },
     "execution_count": 22,
     "metadata": {},
     "output_type": "execute_result"
    },
    {
     "data": {
      "image/png": "[encoded data removed]",
      "text/plain": [
       "<Figure size 432x288 with 1 Axes>"
      ]
     },
     "metadata": {
      "needs_background": "light"
     },
     "output_type": "display_data"
    }
   ],
   "source": [
    "totalSum = pivedu.sum( axis = 1 ).sort_values( ascending = False )\n",
    "totalSum.plot( kind = 'bar', style = 'b', title = \"Total values for each country\")"
   ]
  },
  {
   "cell_type": "code",
   "execution_count": 23,
   "metadata": {},
   "outputs": [
    {
     "data": {
      "text/plain": [
       "<matplotlib.legend.Legend at 0x7fb98c9b3fd0>"
      ]
     },
     "execution_count": 23,
     "metadata": {},
     "output_type": "execute_result"
    },
    {
     "data": {
      "image/png": "[encoded data removed]",
      "text/plain": [
       "<Figure size 432x288 with 1 Axes>"
      ]
     },
     "metadata": {
      "needs_background": "light"
     },
     "output_type": "display_data"
    }
   ],
   "source": [
    "my_colors = [ \"b\", \"r\", \"g\", \"m\",\"c\", \"k\" ]\n",
    "ax = pivedu.plot( kind = \"barh\", stacked = True, color = my_colors )\n",
    "ax.legend( loc = \"center left\", bbox_to_anchor = (1, 0.5))"
   ]
  },
  {
   "cell_type": "markdown",
   "metadata": {},
   "source": [
    " "
   ]
  },
  {
   "cell_type": "markdown",
   "metadata": {},
   "source": [
    "## Descriptive Statistics"
   ]
  },
  {
   "cell_type": "markdown",
   "metadata": {},
   "source": [
    "Descriptive statistics do not draw conclusions beyond what is being analyzed.\n",
    "Descriptive statistics describe and summarize the data concisely and evaluate different ways to visualize them.\n",
    "\n",
    "But first, data preparation:\n",
    "1. *Obtaining the data*\n",
    "2. *Parsing the Data*\n",
    "3. *Cleaning the Data*\n",
    "4. *Building data Structures*\n",
    "\n",
    "An example with 'Adult' from UCI's [Machine Learning Repo](https://archive.ics.uci.edu/ml/datasets/Adult)"
   ]
  },
  {
   "cell_type": "code",
   "execution_count": 24,
   "metadata": {},
   "outputs": [
    {
     "data": {
      "text/html": [
       "<div>\n",
       "<style scoped>\n",
       "    .dataframe tbody tr th:only-of-type {\n",
       "        vertical-align: middle;\n",
       "    }\n",
       "\n",
       "    .dataframe tbody tr th {\n",
       "        vertical-align: top;\n",
       "    }\n",
       "\n",
       "    .dataframe thead th {\n",
       "        text-align: right;\n",
       "    }\n",
       "</style>\n",
       "<table border=\"1\" class=\"dataframe\">\n",
       "  <thead>\n",
       "    <tr style=\"text-align: right;\">\n",
       "      <th></th>\n",
       "      <th>age</th>\n",
       "      <th>type_employer</th>\n",
       "      <th>fnlwgt</th>\n",
       "      <th>education</th>\n",
       "      <th>education_num</th>\n",
       "      <th>marital</th>\n",
       "      <th>occupation</th>\n",
       "      <th>relationship</th>\n",
       "      <th>race</th>\n",
       "      <th>sex</th>\n",
       "      <th>capital_gain</th>\n",
       "      <th>capital_loss</th>\n",
       "      <th>hr_per_week</th>\n",
       "      <th>country</th>\n",
       "      <th>income</th>\n",
       "    </tr>\n",
       "  </thead>\n",
       "  <tbody>\n",
       "    <tr>\n",
       "      <th>0</th>\n",
       "      <td>39</td>\n",
       "      <td>State-gov</td>\n",
       "      <td>77516</td>\n",
       "      <td>Bachelors</td>\n",
       "      <td>13</td>\n",
       "      <td>Never-married</td>\n",
       "      <td>Adm-clerical</td>\n",
       "      <td>Not-in-family</td>\n",
       "      <td>White</td>\n",
       "      <td>Male</td>\n",
       "      <td>2174</td>\n",
       "      <td>0</td>\n",
       "      <td>40</td>\n",
       "      <td>United-States</td>\n",
       "      <td>&lt;=50K</td>\n",
       "    </tr>\n",
       "    <tr>\n",
       "      <th>1</th>\n",
       "      <td>50</td>\n",
       "      <td>Self-emp-not-inc</td>\n",
       "      <td>83311</td>\n",
       "      <td>Bachelors</td>\n",
       "      <td>13</td>\n",
       "      <td>Married-civ-spouse</td>\n",
       "      <td>Exec-managerial</td>\n",
       "      <td>Husband</td>\n",
       "      <td>White</td>\n",
       "      <td>Male</td>\n",
       "      <td>0</td>\n",
       "      <td>0</td>\n",
       "      <td>13</td>\n",
       "      <td>United-States</td>\n",
       "      <td>&lt;=50K</td>\n",
       "    </tr>\n",
       "    <tr>\n",
       "      <th>2</th>\n",
       "      <td>38</td>\n",
       "      <td>Private</td>\n",
       "      <td>215646</td>\n",
       "      <td>HS-grad</td>\n",
       "      <td>9</td>\n",
       "      <td>Divorced</td>\n",
       "      <td>Handlers-cleaners</td>\n",
       "      <td>Not-in-family</td>\n",
       "      <td>White</td>\n",
       "      <td>Male</td>\n",
       "      <td>0</td>\n",
       "      <td>0</td>\n",
       "      <td>40</td>\n",
       "      <td>United-States</td>\n",
       "      <td>&lt;=50K</td>\n",
       "    </tr>\n",
       "    <tr>\n",
       "      <th>3</th>\n",
       "      <td>53</td>\n",
       "      <td>Private</td>\n",
       "      <td>234721</td>\n",
       "      <td>11th</td>\n",
       "      <td>7</td>\n",
       "      <td>Married-civ-spouse</td>\n",
       "      <td>Handlers-cleaners</td>\n",
       "      <td>Husband</td>\n",
       "      <td>Black</td>\n",
       "      <td>Male</td>\n",
       "      <td>0</td>\n",
       "      <td>0</td>\n",
       "      <td>40</td>\n",
       "      <td>United-States</td>\n",
       "      <td>&lt;=50K</td>\n",
       "    </tr>\n",
       "    <tr>\n",
       "      <th>4</th>\n",
       "      <td>28</td>\n",
       "      <td>Private</td>\n",
       "      <td>338409</td>\n",
       "      <td>Bachelors</td>\n",
       "      <td>13</td>\n",
       "      <td>Married-civ-spouse</td>\n",
       "      <td>Prof-specialty</td>\n",
       "      <td>Wife</td>\n",
       "      <td>Black</td>\n",
       "      <td>Female</td>\n",
       "      <td>0</td>\n",
       "      <td>0</td>\n",
       "      <td>40</td>\n",
       "      <td>Cuba</td>\n",
       "      <td>&lt;=50K</td>\n",
       "    </tr>\n",
       "  </tbody>\n",
       "</table>\n",
       "</div>"
      ],
      "text/plain": [
       "   age      type_employer  fnlwgt   education  education_num  \\\n",
       "0   39          State-gov   77516   Bachelors             13   \n",
       "1   50   Self-emp-not-inc   83311   Bachelors             13   \n",
       "2   38            Private  215646     HS-grad              9   \n",
       "3   53            Private  234721        11th              7   \n",
       "4   28            Private  338409   Bachelors             13   \n",
       "\n",
       "               marital          occupation    relationship    race      sex  \\\n",
       "0        Never-married        Adm-clerical   Not-in-family   White     Male   \n",
       "1   Married-civ-spouse     Exec-managerial         Husband   White     Male   \n",
       "2             Divorced   Handlers-cleaners   Not-in-family   White     Male   \n",
       "3   Married-civ-spouse   Handlers-cleaners         Husband   Black     Male   \n",
       "4   Married-civ-spouse      Prof-specialty            Wife   Black   Female   \n",
       "\n",
       "   capital_gain  capital_loss  hr_per_week         country  income  \n",
       "0          2174             0           40   United-States   <=50K  \n",
       "1             0             0           13   United-States   <=50K  \n",
       "2             0             0           40   United-States   <=50K  \n",
       "3             0             0           40   United-States   <=50K  \n",
       "4             0             0           40            Cuba   <=50K  "
      ]
     },
     "execution_count": 24,
     "metadata": {},
     "output_type": "execute_result"
    }
   ],
   "source": [
    "#Obtain the data\n",
    "textbooksGitURL = \"https://raw.githubusercontent.com/DataScienceUB/introduction-datascience-python-book/master/files/ch03/adult.data\"\n",
    "\n",
    "adult_df = pd.read_csv( textbooksGitURL, sep=\",\", header=None)\n",
    "adult_df = pd.DataFrame( adult_df )\n",
    "adult_df.columns = ['age', 'type_employer', 'fnlwgt',\n",
    "'education', 'education_num', 'marital', 'occupation', 'relationship', 'race',\n",
    "'sex', 'capital_gain', 'capital_loss', 'hr_per_week', 'country', 'income']\n",
    "\n",
    "adult_df.head()"
   ]
  },
  {
   "cell_type": "code",
   "execution_count": 25,
   "metadata": {},
   "outputs": [
    {
     "data": {
      "text/plain": [
       "(32561, 15)"
      ]
     },
     "execution_count": 25,
     "metadata": {},
     "output_type": "execute_result"
    }
   ],
   "source": [
    "adult_df.shape"
   ]
  },
  {
   "cell_type": "code",
   "execution_count": 26,
   "metadata": {},
   "outputs": [
    {
     "name": "stdout",
     "output_type": "stream",
     "text": [
      "<class 'pandas.core.frame.DataFrame'>\n",
      "RangeIndex: 32561 entries, 0 to 32560\n",
      "Data columns (total 15 columns):\n",
      " #   Column         Non-Null Count  Dtype \n",
      "---  ------         --------------  ----- \n",
      " 0   age            32561 non-null  int64 \n",
      " 1   type_employer  32561 non-null  object\n",
      " 2   fnlwgt         32561 non-null  int64 \n",
      " 3   education      32561 non-null  object\n",
      " 4   education_num  32561 non-null  int64 \n",
      " 5   marital        32561 non-null  object\n",
      " 6   occupation     32561 non-null  object\n",
      " 7   relationship   32561 non-null  object\n",
      " 8   race           32561 non-null  object\n",
      " 9   sex            32561 non-null  object\n",
      " 10  capital_gain   32561 non-null  int64 \n",
      " 11  capital_loss   32561 non-null  int64 \n",
      " 12  hr_per_week    32561 non-null  int64 \n",
      " 13  country        32561 non-null  object\n",
      " 14  income         32561 non-null  object\n",
      "dtypes: int64(6), object(9)\n",
      "memory usage: 3.7+ MB\n"
     ]
    }
   ],
   "source": [
    "adult_df.info()"
   ]
  },
  {
   "cell_type": "code",
   "execution_count": 27,
   "metadata": {},
   "outputs": [
    {
     "name": "stdout",
     "output_type": "stream",
     "text": [
      "country\n",
      " ?           583\n",
      " Cambodia     19\n",
      " Canada      121\n",
      " China        75\n",
      " Columbia     59\n",
      "dtype: int64\n"
     ]
    }
   ],
   "source": [
    "#count the number of items per country\n",
    "counts = adult_df.groupby( 'country' ).size( )\n",
    "print( counts.head( ) )"
   ]
  },
  {
   "cell_type": "markdown",
   "metadata": {},
   "source": [
    "The *sample distribution* of the data can be used to approximate the *population distribution*"
   ]
  },
  {
   "cell_type": "markdown",
   "metadata": {},
   "source": [
    "####  Proportion"
   ]
  },
  {
   "cell_type": "code",
   "execution_count": 28,
   "metadata": {},
   "outputs": [
    {
     "name": "stdout",
     "output_type": "stream",
     "text": [
      "income\n",
      " <=50K    24720\n",
      " >50K      7841\n",
      "dtype: int64\n"
     ]
    }
   ],
   "source": [
    "countsIncome = adult_df.groupby( 'income' ).size( )\n",
    "print( countsIncome )"
   ]
  },
  {
   "cell_type": "code",
   "execution_count": 29,
   "metadata": {},
   "outputs": [
    {
     "name": "stdout",
     "output_type": "stream",
     "text": [
      "sex\n",
      " Female    10771\n",
      " Male      21790\n",
      "dtype: int64\n"
     ]
    }
   ],
   "source": [
    "countsGender = adult_df.groupby( 'sex' ).size( )\n",
    "print( countsGender.head( ) )"
   ]
  },
  {
   "cell_type": "code",
   "execution_count": 30,
   "metadata": {},
   "outputs": [
    {
     "name": "stdout",
     "output_type": "stream",
     "text": [
      "sex      income\n",
      " Female   <=50K     9592\n",
      "          >50K      1179\n",
      " Male     <=50K    15128\n",
      "          >50K      6662\n",
      "dtype: int64\n"
     ]
    }
   ],
   "source": [
    "countsGenIncome = adult_df.groupby( ['sex', 'income'] ).size( )\n",
    "print( countsGenIncome )"
   ]
  },
  {
   "cell_type": "code",
   "execution_count": 31,
   "metadata": {},
   "outputs": [
    {
     "name": "stdout",
     "output_type": "stream",
     "text": [
      "The proportion of female high earners:  10.946058861758425\n",
      "The proportion of male high earners:  30.573657641119777\n",
      "The population proportion of high earners:  24.080955744602438\n"
     ]
    }
   ],
   "source": [
    "print( 'The proportion of female high earners: ', countsGenIncome[1]/countsGender[0]*100 )\n",
    "print( 'The proportion of male high earners: ', countsGenIncome[3]/countsGender[1]*100 )   \n",
    "print( 'The population proportion of high earners: ', countsIncome[1]/( countsIncome[0] + countsIncome[1])*100)"
   ]
  },
  {
   "cell_type": "code",
   "execution_count": 32,
   "metadata": {},
   "outputs": [
    {
     "data": {
      "text/html": [
       "<div>\n",
       "<style scoped>\n",
       "    .dataframe tbody tr th:only-of-type {\n",
       "        vertical-align: middle;\n",
       "    }\n",
       "\n",
       "    .dataframe tbody tr th {\n",
       "        vertical-align: top;\n",
       "    }\n",
       "\n",
       "    .dataframe thead th {\n",
       "        text-align: right;\n",
       "    }\n",
       "</style>\n",
       "<table border=\"1\" class=\"dataframe\">\n",
       "  <thead>\n",
       "    <tr style=\"text-align: right;\">\n",
       "      <th></th>\n",
       "      <th>count</th>\n",
       "      <th>mean</th>\n",
       "      <th>std</th>\n",
       "      <th>min</th>\n",
       "      <th>25%</th>\n",
       "      <th>50%</th>\n",
       "      <th>75%</th>\n",
       "      <th>max</th>\n",
       "    </tr>\n",
       "    <tr>\n",
       "      <th>sex</th>\n",
       "      <th></th>\n",
       "      <th></th>\n",
       "      <th></th>\n",
       "      <th></th>\n",
       "      <th></th>\n",
       "      <th></th>\n",
       "      <th></th>\n",
       "      <th></th>\n",
       "    </tr>\n",
       "  </thead>\n",
       "  <tbody>\n",
       "    <tr>\n",
       "      <th>Female</th>\n",
       "      <td>10771.0</td>\n",
       "      <td>36.858230</td>\n",
       "      <td>14.013697</td>\n",
       "      <td>17.0</td>\n",
       "      <td>25.0</td>\n",
       "      <td>35.0</td>\n",
       "      <td>46.0</td>\n",
       "      <td>90.0</td>\n",
       "    </tr>\n",
       "    <tr>\n",
       "      <th>Male</th>\n",
       "      <td>21790.0</td>\n",
       "      <td>39.433547</td>\n",
       "      <td>13.370630</td>\n",
       "      <td>17.0</td>\n",
       "      <td>29.0</td>\n",
       "      <td>38.0</td>\n",
       "      <td>48.0</td>\n",
       "      <td>90.0</td>\n",
       "    </tr>\n",
       "  </tbody>\n",
       "</table>\n",
       "</div>"
      ],
      "text/plain": [
       "           count       mean        std   min   25%   50%   75%   max\n",
       "sex                                                                 \n",
       " Female  10771.0  36.858230  14.013697  17.0  25.0  35.0  46.0  90.0\n",
       " Male    21790.0  39.433547  13.370630  17.0  29.0  38.0  48.0  90.0"
      ]
     },
     "execution_count": 32,
     "metadata": {},
     "output_type": "execute_result"
    }
   ],
   "source": [
    "adult_df.groupby(['sex'])['age'].describe()"
   ]
  },
  {
   "cell_type": "markdown",
   "metadata": {},
   "source": [
    "### Exploratory Data Analysis\n",
    "\n",
    "#### Summarizing the Data\n",
    "**Categorical Data:** simple tabulation of frequncy is best non-graphical rep. ex: proportions of a category\n",
    "**Quantitative Data:** exploratory data analysis is a way to make preliminary assessments about the populatio distribution of a variable.\n",
    "\n",
    "The characteristics of our randomly observed samples are interesting only to the degree that they represent the population of the data they came from."
   ]
  },
  {
   "cell_type": "markdown",
   "metadata": {},
   "source": [
    "#### Mean\n",
    "the sum of the values divided by the number of values\n",
    "\n",
    "$$\\mu = \\frac{1}{n}\\sum_{i = 1}^{n} x_i$$"
   ]
  },
  {
   "cell_type": "code",
   "execution_count": 33,
   "metadata": {},
   "outputs": [
    {
     "name": "stdout",
     "output_type": "stream",
     "text": [
      "The average age of men is:  39.43354749885268\n",
      "The average age of women is:  36.85823043357163\n"
     ]
    },
    {
     "data": {
      "text/html": [
       "<div>\n",
       "<style scoped>\n",
       "    .dataframe tbody tr th:only-of-type {\n",
       "        vertical-align: middle;\n",
       "    }\n",
       "\n",
       "    .dataframe tbody tr th {\n",
       "        vertical-align: top;\n",
       "    }\n",
       "\n",
       "    .dataframe thead th {\n",
       "        text-align: right;\n",
       "    }\n",
       "</style>\n",
       "<table border=\"1\" class=\"dataframe\">\n",
       "  <thead>\n",
       "    <tr style=\"text-align: right;\">\n",
       "      <th></th>\n",
       "      <th>count</th>\n",
       "      <th>mean</th>\n",
       "      <th>std</th>\n",
       "      <th>min</th>\n",
       "      <th>25%</th>\n",
       "      <th>50%</th>\n",
       "      <th>75%</th>\n",
       "      <th>max</th>\n",
       "    </tr>\n",
       "    <tr>\n",
       "      <th>sex</th>\n",
       "      <th></th>\n",
       "      <th></th>\n",
       "      <th></th>\n",
       "      <th></th>\n",
       "      <th></th>\n",
       "      <th></th>\n",
       "      <th></th>\n",
       "      <th></th>\n",
       "    </tr>\n",
       "  </thead>\n",
       "  <tbody>\n",
       "    <tr>\n",
       "      <th>Female</th>\n",
       "      <td>10771.0</td>\n",
       "      <td>36.858230</td>\n",
       "      <td>14.013697</td>\n",
       "      <td>17.0</td>\n",
       "      <td>25.0</td>\n",
       "      <td>35.0</td>\n",
       "      <td>46.0</td>\n",
       "      <td>90.0</td>\n",
       "    </tr>\n",
       "    <tr>\n",
       "      <th>Male</th>\n",
       "      <td>21790.0</td>\n",
       "      <td>39.433547</td>\n",
       "      <td>13.370630</td>\n",
       "      <td>17.0</td>\n",
       "      <td>29.0</td>\n",
       "      <td>38.0</td>\n",
       "      <td>48.0</td>\n",
       "      <td>90.0</td>\n",
       "    </tr>\n",
       "  </tbody>\n",
       "</table>\n",
       "</div>"
      ],
      "text/plain": [
       "           count       mean        std   min   25%   50%   75%   max\n",
       "sex                                                                 \n",
       " Female  10771.0  36.858230  14.013697  17.0  25.0  35.0  46.0  90.0\n",
       " Male    21790.0  39.433547  13.370630  17.0  29.0  38.0  48.0  90.0"
      ]
     },
     "execution_count": 33,
     "metadata": {},
     "output_type": "execute_result"
    }
   ],
   "source": [
    "genderAgeStats = pd.DataFrame( adult_df.groupby(['sex'])['age'].describe() )\n",
    "print( 'The average age of men is: ', genderAgeStats['mean'][1])\n",
    "print( 'The average age of women is: ', genderAgeStats['mean'][0])\n",
    "genderAgeStats"
   ]
  },
  {
   "cell_type": "code",
   "execution_count": 34,
   "metadata": {},
   "outputs": [
    {
     "name": "stdout",
     "output_type": "stream",
     "text": [
      "The average age of men is:  44.62578805163614\n",
      "The average age of women is:  42.125530110262936\n"
     ]
    },
    {
     "data": {
      "text/html": [
       "<div>\n",
       "<style scoped>\n",
       "    .dataframe tbody tr th:only-of-type {\n",
       "        vertical-align: middle;\n",
       "    }\n",
       "\n",
       "    .dataframe tbody tr th {\n",
       "        vertical-align: top;\n",
       "    }\n",
       "\n",
       "    .dataframe thead th {\n",
       "        text-align: right;\n",
       "    }\n",
       "</style>\n",
       "<table border=\"1\" class=\"dataframe\">\n",
       "  <thead>\n",
       "    <tr style=\"text-align: right;\">\n",
       "      <th></th>\n",
       "      <th></th>\n",
       "      <th>count</th>\n",
       "      <th>mean</th>\n",
       "      <th>std</th>\n",
       "      <th>min</th>\n",
       "      <th>25%</th>\n",
       "      <th>50%</th>\n",
       "      <th>75%</th>\n",
       "      <th>max</th>\n",
       "    </tr>\n",
       "    <tr>\n",
       "      <th>sex</th>\n",
       "      <th>income</th>\n",
       "      <th></th>\n",
       "      <th></th>\n",
       "      <th></th>\n",
       "      <th></th>\n",
       "      <th></th>\n",
       "      <th></th>\n",
       "      <th></th>\n",
       "      <th></th>\n",
       "    </tr>\n",
       "  </thead>\n",
       "  <tbody>\n",
       "    <tr>\n",
       "      <th rowspan=\"2\" valign=\"top\">Female</th>\n",
       "      <th>&lt;=50K</th>\n",
       "      <td>9592.0</td>\n",
       "      <td>36.210801</td>\n",
       "      <td>14.256801</td>\n",
       "      <td>17.0</td>\n",
       "      <td>24.0</td>\n",
       "      <td>34.0</td>\n",
       "      <td>46.0</td>\n",
       "      <td>90.0</td>\n",
       "    </tr>\n",
       "    <tr>\n",
       "      <th>&gt;50K</th>\n",
       "      <td>1179.0</td>\n",
       "      <td>42.125530</td>\n",
       "      <td>10.460104</td>\n",
       "      <td>19.0</td>\n",
       "      <td>34.0</td>\n",
       "      <td>41.0</td>\n",
       "      <td>49.0</td>\n",
       "      <td>90.0</td>\n",
       "    </tr>\n",
       "    <tr>\n",
       "      <th rowspan=\"2\" valign=\"top\">Male</th>\n",
       "      <th>&lt;=50K</th>\n",
       "      <td>15128.0</td>\n",
       "      <td>37.147012</td>\n",
       "      <td>13.856113</td>\n",
       "      <td>17.0</td>\n",
       "      <td>26.0</td>\n",
       "      <td>35.0</td>\n",
       "      <td>46.0</td>\n",
       "      <td>90.0</td>\n",
       "    </tr>\n",
       "    <tr>\n",
       "      <th>&gt;50K</th>\n",
       "      <td>6662.0</td>\n",
       "      <td>44.625788</td>\n",
       "      <td>10.485469</td>\n",
       "      <td>19.0</td>\n",
       "      <td>37.0</td>\n",
       "      <td>44.0</td>\n",
       "      <td>51.0</td>\n",
       "      <td>90.0</td>\n",
       "    </tr>\n",
       "  </tbody>\n",
       "</table>\n",
       "</div>"
      ],
      "text/plain": [
       "                  count       mean        std   min   25%   50%   75%   max\n",
       "sex     income                                                             \n",
       " Female  <=50K   9592.0  36.210801  14.256801  17.0  24.0  34.0  46.0  90.0\n",
       "         >50K    1179.0  42.125530  10.460104  19.0  34.0  41.0  49.0  90.0\n",
       " Male    <=50K  15128.0  37.147012  13.856113  17.0  26.0  35.0  46.0  90.0\n",
       "         >50K    6662.0  44.625788  10.485469  19.0  37.0  44.0  51.0  90.0"
      ]
     },
     "execution_count": 34,
     "metadata": {},
     "output_type": "execute_result"
    }
   ],
   "source": [
    "genderIncomeAgeStats = pd.DataFrame( adult_df.groupby(['sex','income'])['age'].describe() )\n",
    "print( 'The average age of men is: ', genderIncomeAgeStats['mean'][3])\n",
    "print( 'The average age of women is: ', genderIncomeAgeStats['mean'][1])\n",
    "genderIncomeAgeStats"
   ]
  },
  {
   "cell_type": "markdown",
   "metadata": {},
   "source": [
    "#### Sample Variance\n",
    "the variance describes the spread of the data. the variance is the mean squared deviation. the square root of the variance is the standard deviation.\n",
    "\n",
    "$$\\sigma^{n} = \\frac{1}{n}\\sum_{i} (x_i-\\mu)^2$$\n",
    "\n",
    "here we will consider the standard deviation because it is easier to interpret"
   ]
  },
  {
   "cell_type": "code",
   "execution_count": 35,
   "metadata": {},
   "outputs": [
    {
     "name": "stdout",
     "output_type": "stream",
     "text": [
      "Statistics of age for women: \n",
      "mu:  36.85823043357163 \n",
      "var:  196.38370639480374 \n",
      "std:  14.01369709943824 \n",
      "Statistics of age for men: \n",
      "mu:  39.43354749885268 \n",
      "var:  178.77375174530096 \n",
      "std:  13.37063019252649\n"
     ]
    }
   ],
   "source": [
    "print( 'Statistics of age for women: \\nmu: ', genderAgeStats['mean'][0],\n",
    "     '\\nvar: ', genderAgeStats['std'][0]**2,\n",
    "     '\\nstd: ', genderAgeStats['std'][0],\n",
    "      '\\nStatistics of age for men: \\nmu: ', genderAgeStats['mean'][1],\n",
    "     '\\nvar: ', genderAgeStats['std'][1]**2,\n",
    "     '\\nstd: ', genderAgeStats['std'][1])"
   ]
  },
  {
   "cell_type": "markdown",
   "metadata": {},
   "source": [
    "#### Median, Quantiles & Percents\n"
   ]
  },
  {
   "cell_type": "code",
   "execution_count": 36,
   "metadata": {},
   "outputs": [
    {
     "name": "stdout",
     "output_type": "stream",
     "text": [
      "Median age for men and women:  38.0 ,  35.0\n",
      "Median age for men and women with high income:  44.0 ,  41.0\n"
     ]
    }
   ],
   "source": [
    "print( 'Median age for men and women: ', genderAgeStats['50%'][1], ', ', genderAgeStats['50%'][0])\n",
    "print( 'Median age for men and women with high income: ', genderIncomeAgeStats['50%'][3], \n",
    "      ', ', genderIncomeAgeStats['50%'][1])"
   ]
  },
  {
   "cell_type": "code",
   "execution_count": 37,
   "metadata": {},
   "outputs": [
    {
     "name": "stdout",
     "output_type": "stream",
     "text": [
      "The IQR for men and women:  19.0 ,  21.0 \n",
      "The IQR for men and women with high income:  14.0 ,  15.0\n"
     ]
    }
   ],
   "source": [
    "print( 'The IQR for men and women: ', (genderAgeStats['75%'][1]-genderAgeStats['25%'][1]),\n",
    "     ', ', (genderAgeStats['75%'][0]-genderAgeStats['25%'][0]),\n",
    "     '\\nThe IQR for men and women with high income: ', \n",
    "      (genderIncomeAgeStats['75%'][3]-genderIncomeAgeStats['25%'][3]), ', ',\n",
    "      (genderIncomeAgeStats['75%'][1]-genderIncomeAgeStats['25%'][1]))"
   ]
  },
  {
   "cell_type": "markdown",
   "metadata": {},
   "source": [
    "#### Data Distributions\n",
    "\n"
   ]
  },
  {
   "cell_type": "code",
   "execution_count": 38,
   "metadata": {},
   "outputs": [
    {
     "data": {
      "text/plain": [
       "<matplotlib.axes._subplots.AxesSubplot at 0x7fb987be1950>"
      ]
     },
     "execution_count": 38,
     "metadata": {},
     "output_type": "execute_result"
    },
    {
     "data": {
      "image/png": "[encoded data removed]",
      "text/plain": [
       "<Figure size 432x288 with 1 Axes>"
      ]
     },
     "metadata": {
      "needs_background": "light"
     },
     "output_type": "display_data"
    }
   ],
   "source": [
    "adult_df['age'].hist( density = 0, histtype = 'stepfilled', bins = 20 )"
   ]
  },
  {
   "cell_type": "code",
   "execution_count": 39,
   "metadata": {},
   "outputs": [],
   "source": [
    "file = open( '/home/bonzilla/Desktop/ReadingLearningTinkering/adult_data.txt' )\n",
    "\n",
    "def chr_int( a ):\n",
    "    if a.isdigit(): return int( a )\n",
    "    else: return 0\n",
    "\n",
    "data = []\n",
    "\n",
    "for line in file:\n",
    "    data1 = line.split(', ')\n",
    "    if len( data1 ) == 15:\n",
    "        data.append( [chr_int( data1[0]), data1[1],\n",
    "                     chr_int( data1[2]), data1[3],\n",
    "                     chr_int( data1[4]), data1[5],\n",
    "                     data1[6], data1[7], data1[8],\n",
    "                     data1[9], chr_int( data1[10]),\n",
    "                     chr_int(data1[11]), chr_int(data1[12]),\n",
    "                     data1[13], data1[14]])"
   ]
  },
  {
   "cell_type": "code",
   "execution_count": 40,
   "metadata": {},
   "outputs": [
    {
     "name": "stdout",
     "output_type": "stream",
     "text": [
      "[[50, 'Self-emp-not-inc', 83311, 'Bachelors', 13, 'Married-civ-spouse', 'Exec-managerial', 'Husband', 'White', 'Male', 0, 0, 13, 'United-States', '<=50K\\n']]\n"
     ]
    }
   ],
   "source": [
    "print(data[1:2])\n",
    "df = pd.DataFrame( data )\n",
    "df.columns = ['age' , 'type_employer' , 'fnlwgt' ,\n",
    " 'education', 'education_num', 'marital',\n",
    "'occupation' , 'relationship' , 'race' ,\n",
    "'sex' , 'capital_gain' , 'capital_loss' ,\n",
    "'hr_per_week', 'country', 'income']"
   ]
  },
  {
   "cell_type": "code",
   "execution_count": 41,
   "metadata": {},
   "outputs": [],
   "source": [
    "males = df[( df.sex == 'Male') ]\n",
    "females = df[( df.sex == 'Female')]"
   ]
  },
  {
   "cell_type": "code",
   "execution_count": 42,
   "metadata": {},
   "outputs": [
    {
     "data": {
      "text/plain": [
       "<matplotlib.axes._subplots.AxesSubplot at 0x7fb987c06490>"
      ]
     },
     "execution_count": 42,
     "metadata": {},
     "output_type": "execute_result"
    },
    {
     "data": {
      "image/png": "[encoded data removed]",
      "text/plain": [
       "<Figure size 432x288 with 1 Axes>"
      ]
     },
     "metadata": {
      "needs_background": "light"
     },
     "output_type": "display_data"
    }
   ],
   "source": [
    "female_ages = females['age']\n",
    "female_ages.hist( histtype='stepfilled', bins=20)"
   ]
  },
  {
   "cell_type": "code",
   "execution_count": 43,
   "metadata": {},
   "outputs": [
    {
     "data": {
      "text/plain": [
       "<matplotlib.axes._subplots.AxesSubplot at 0x7fb985d57210>"
      ]
     },
     "execution_count": 43,
     "metadata": {},
     "output_type": "execute_result"
    },
    {
     "data": {
      "image/png": "[encoded data removed]",
      "text/plain": [
       "<Figure size 432x288 with 1 Axes>"
      ]
     },
     "metadata": {
      "needs_background": "light"
     },
     "output_type": "display_data"
    }
   ],
   "source": [
    "male_ages = males['age']\n",
    "male_ages.hist( histtype='stepfilled', bins=20)"
   ]
  },
  {
   "cell_type": "code",
   "execution_count": 44,
   "metadata": {},
   "outputs": [
    {
     "data": {
      "text/plain": [
       "<matplotlib.axes._subplots.AxesSubplot at 0x7fb983907610>"
      ]
     },
     "execution_count": 44,
     "metadata": {},
     "output_type": "execute_result"
    },
    {
     "data": {
      "image/png": "[encoded data removed]",
      "text/plain": [
       "<Figure size 432x288 with 1 Axes>"
      ]
     },
     "metadata": {
      "needs_background": "light"
     },
     "output_type": "display_data"
    }
   ],
   "source": [
    "import seaborn as sns\n",
    "female_ages.hist( alpha=0.5, histtype='stepfilled', bins=20).set_title('Absolute Age Distributions')\n",
    "male_ages.hist( alpha=0.5, histtype='stepfilled', bins=20, color=sns.desaturate(\"indianred\",0.75))"
   ]
  },
  {
   "cell_type": "markdown",
   "metadata": {},
   "source": [
    "**Normalization** the above histogram shows that there are many more men sampled than women. However, it is not a very informative figure for understanding the differences of age distributions between the 2 genders. The next figure normalizes for the number of samples in each group with the matplotlib `hist` argument, `density`.\n",
    "\n",
    "`density` normalizes the bin counts to give a probability density.\n",
    "\n",
    "**Probability Density Distribution** the cumulative sum of the bins == 1. "
   ]
  },
  {
   "cell_type": "code",
   "execution_count": 45,
   "metadata": {},
   "outputs": [
    {
     "data": {
      "text/plain": [
       "<matplotlib.axes._subplots.AxesSubplot at 0x7fb9838c6450>"
      ]
     },
     "execution_count": 45,
     "metadata": {},
     "output_type": "execute_result"
    },
    {
     "data": {
      "image/png": "[encoded data removed]",
      "text/plain": [
       "<Figure size 432x288 with 1 Axes>"
      ]
     },
     "metadata": {
      "needs_background": "light"
     },
     "output_type": "display_data"
    }
   ],
   "source": [
    "female_ages.hist( density=1, alpha=0.5, histtype='stepfilled', bins=20).set_title('Normalized Age Distributions')\n",
    "male_ages.hist( density=1, alpha=0.5, histtype='stepfilled', bins=20, color=sns.desaturate(\"indianred\",0.75))"
   ]
  },
  {
   "cell_type": "markdown",
   "metadata": {},
   "source": [
    "**Cumulative Distribution Fxn** a figure that describes the probability that a real-valued random variable $X$ with a given probability distribution will be found to have a value less than or equal to $x$. "
   ]
  },
  {
   "cell_type": "code",
   "execution_count": 46,
   "metadata": {},
   "outputs": [
    {
     "data": {
      "text/plain": [
       "<matplotlib.axes._subplots.AxesSubplot at 0x7fb983840190>"
      ]
     },
     "execution_count": 46,
     "metadata": {},
     "output_type": "execute_result"
    },
    {
     "data": {
      "image/png": "[encoded data removed]",
      "text/plain": [
       "<Figure size 432x288 with 1 Axes>"
      ]
     },
     "metadata": {
      "needs_background": "light"
     },
     "output_type": "display_data"
    }
   ],
   "source": [
    "female_ages.hist( density=1, alpha=0.5, histtype='step', \n",
    "                 bins=20, cumulative=1, linewidth=3.5).set_title('Normalized Age Distributions')\n",
    "male_ages.hist( density=1, alpha=0.5, histtype='step', bins=20, \n",
    "               color=sns.desaturate(\"indianred\",0.75), cumulative=1, linewidth=3.5)"
   ]
  },
  {
   "cell_type": "markdown",
   "metadata": {},
   "source": [
    "#### Outlier Treatment\n",
    "\n",
    "1. Samples that are far from the median\n",
    "2. Samples that exceed the mean by 2 or 3 standard deviations"
   ]
  },
  {
   "cell_type": "code",
   "execution_count": 47,
   "metadata": {},
   "outputs": [
    {
     "name": "stdout",
     "output_type": "stream",
     "text": [
      "487380\n",
      "488415\n"
     ]
    }
   ],
   "source": [
    "df_filtered = df.drop( df.index[\n",
    "    (df.income == '>50K\\n') &\n",
    "    (df['age'] > df['age'].median()+35) &\n",
    "    (df['age'] > df['age'].median()-15)])\n",
    "\n",
    "print( df_filtered.size)\n",
    "print( df.size)"
   ]
  },
  {
   "cell_type": "code",
   "execution_count": 48,
   "metadata": {},
   "outputs": [],
   "source": [
    "filt_males = df_filtered[( df_filtered.sex == 'Male') ]\n",
    "filt_females = df_filtered[( df_filtered.sex == 'Female')]\n",
    "fm_age = filt_males['age']\n",
    "ff_age = filt_females['age']"
   ]
  },
  {
   "cell_type": "code",
   "execution_count": 49,
   "metadata": {},
   "outputs": [
    {
     "name": "stdout",
     "output_type": "stream",
     "text": [
      "Female Age Stats before filtering: \n"
     ]
    },
    {
     "data": {
      "text/plain": [
       "count    10771.000000\n",
       "mean        36.858230\n",
       "std         14.013697\n",
       "min         17.000000\n",
       "25%         25.000000\n",
       "50%         35.000000\n",
       "75%         46.000000\n",
       "max         90.000000\n",
       "Name: age, dtype: float64"
      ]
     },
     "execution_count": 49,
     "metadata": {},
     "output_type": "execute_result"
    }
   ],
   "source": [
    "print( 'Female Age Stats before filtering: ')\n",
    "female_ages.describe()"
   ]
  },
  {
   "cell_type": "code",
   "execution_count": 50,
   "metadata": {},
   "outputs": [
    {
     "name": "stdout",
     "output_type": "stream",
     "text": [
      "\n",
      "Female Age Stats After filtering:\n"
     ]
    },
    {
     "data": {
      "text/plain": [
       "count    10763.000000\n",
       "mean        36.827279\n",
       "std         13.971564\n",
       "min         17.000000\n",
       "25%         25.000000\n",
       "50%         35.000000\n",
       "75%         46.000000\n",
       "max         90.000000\n",
       "Name: age, dtype: float64"
      ]
     },
     "execution_count": 50,
     "metadata": {},
     "output_type": "execute_result"
    }
   ],
   "source": [
    "print( '\\nFemale Age Stats After filtering:')\n",
    "ff_age.describe()"
   ]
  },
  {
   "cell_type": "code",
   "execution_count": 51,
   "metadata": {},
   "outputs": [
    {
     "name": "stdout",
     "output_type": "stream",
     "text": [
      "Male Age Stats before filtering: \n"
     ]
    },
    {
     "data": {
      "text/plain": [
       "count    21790.000000\n",
       "mean        39.433547\n",
       "std         13.370630\n",
       "min         17.000000\n",
       "25%         29.000000\n",
       "50%         38.000000\n",
       "75%         48.000000\n",
       "max         90.000000\n",
       "Name: age, dtype: float64"
      ]
     },
     "execution_count": 51,
     "metadata": {},
     "output_type": "execute_result"
    }
   ],
   "source": [
    "print( 'Male Age Stats before filtering: ')\n",
    "male_ages.describe()"
   ]
  },
  {
   "cell_type": "code",
   "execution_count": 52,
   "metadata": {},
   "outputs": [
    {
     "name": "stdout",
     "output_type": "stream",
     "text": [
      "Male Age Stats after filtering: \n"
     ]
    },
    {
     "data": {
      "text/plain": [
       "count    21729.000000\n",
       "mean        39.325464\n",
       "std         13.230138\n",
       "min         17.000000\n",
       "25%         29.000000\n",
       "50%         38.000000\n",
       "75%         48.000000\n",
       "max         90.000000\n",
       "Name: age, dtype: float64"
      ]
     },
     "execution_count": 52,
     "metadata": {},
     "output_type": "execute_result"
    }
   ],
   "source": [
    "print( 'Male Age Stats after filtering: ')\n",
    "fm_age.describe()"
   ]
  },
  {
   "cell_type": "code",
   "execution_count": 53,
   "metadata": {},
   "outputs": [
    {
     "data": {
      "text/plain": [
       "<matplotlib.axes._subplots.AxesSubplot at 0x7fb983836c50>"
      ]
     },
     "execution_count": 53,
     "metadata": {},
     "output_type": "execute_result"
    },
    {
     "data": {
      "image/png": "[encoded data removed]",
      "text/plain": [
       "<Figure size 964.8x360 with 1 Axes>"
      ]
     },
     "metadata": {
      "needs_background": "light"
     },
     "output_type": "display_data"
    }
   ],
   "source": [
    "#Visualizing the Outliers that were removed\n",
    "plt.figure(figsize = (13.4, 5))\n",
    "df.age[(df.income == \">50K\\n\")].plot(alpha=0.5, color='crimson')\n",
    "df_filtered.age[(df_filtered.income == \">50K\\n\")].plot(alpha=1, color='aquamarine')"
   ]
  },
  {
   "cell_type": "code",
   "execution_count": 54,
   "metadata": {},
   "outputs": [
    {
     "name": "stdout",
     "output_type": "stream",
     "text": [
      "The mean difference with outliers:  2.575\n",
      "\n",
      "The mean difference without outliers:  2.498\n"
     ]
    }
   ],
   "source": [
    "print( 'The mean difference with outliers: ', round(male_ages.mean()-female_ages.mean(),3))\n",
    "print( '\\nThe mean difference without outliers: ', round(fm_age.mean()-ff_age.mean(),3))"
   ]
  },
  {
   "cell_type": "code",
   "execution_count": 55,
   "metadata": {},
   "outputs": [
    {
     "data": {
      "text/plain": [
       "[<matplotlib.lines.Line2D at 0x7fb983730c50>]"
      ]
     },
     "execution_count": 55,
     "metadata": {},
     "output_type": "execute_result"
    },
    {
     "data": {
      "image/png": "[encoded data removed]",
      "text/plain": [
       "<Figure size 432x288 with 1 Axes>"
      ]
     },
     "metadata": {
      "needs_background": "light"
     },
     "output_type": "display_data"
    }
   ],
   "source": [
    "countx, divisionx = np.histogram( fm_age, density=1)\n",
    "county, divisiony = np.histogram( ff_age, density=1)\n",
    "\n",
    "val = [(divisionx[i] + divisionx[i+1])/2\n",
    "      for i in range(len(divisionx)-1)]\n",
    "\n",
    "plt.plot(val, countx - county, 'o-')"
   ]
  },
  {
   "cell_type": "markdown",
   "metadata": {},
   "source": [
    "#### Measuring Asymmetry: skewness and Pearson's median skewness coef.\n",
    "\n",
    "measureing the asymmetry in a set of univariate data:\n",
    "$$g_1 = \\frac{1}{n}\\frac{\\sum_{i} (x_i-\\mu^3)}{\\sigma^3}$$"
   ]
  },
  {
   "cell_type": "code",
   "execution_count": 56,
   "metadata": {},
   "outputs": [],
   "source": [
    "def skewness(x):\n",
    "    res = 0\n",
    "    m = x.mean()\n",
    "    s = x.std()\n",
    "    for i in x:\n",
    "        res += (i-m)*(i-m)*(i-m)\n",
    "    res /= (len(x)*s*s*s)\n",
    "    return res"
   ]
  },
  {
   "cell_type": "code",
   "execution_count": 57,
   "metadata": {},
   "outputs": [
    {
     "name": "stdout",
     "output_type": "stream",
     "text": [
      "Skewness of male sample:  0.5197695091628508 \n",
      "Skewness of female sample:  0.6787226057767358\n"
     ]
    }
   ],
   "source": [
    "print('Skewness of male sample: ', skewness( male_ages ),\n",
    "     '\\nSkewness of female sample: ', skewness( female_ages ))"
   ]
  },
  {
   "cell_type": "code",
   "execution_count": 58,
   "metadata": {},
   "outputs": [],
   "source": [
    "def pearson( x ):\n",
    "    return 3*( x.mean() - x.median())*x.std()"
   ]
  },
  {
   "cell_type": "code",
   "execution_count": 59,
   "metadata": {},
   "outputs": [
    {
     "name": "stdout",
     "output_type": "stream",
     "text": [
      "Pearsons coef. of male sample:  57.50230041174153 \n",
      "Pearsons coef. of female sample:  78.12203531109172\n"
     ]
    }
   ],
   "source": [
    "print('Pearsons coef. of male sample: ', pearson( male_ages ),\n",
    "     '\\nPearsons coef. of female sample: ', pearson( female_ages ))"
   ]
  },
  {
   "cell_type": "markdown",
   "metadata": {},
   "source": [
    "#### Kernal Density Estimation\n",
    "\n",
    "estimating the continuous representation of a distribution. e.g. a Gaussian kernal.  \n",
    "if we consider a Gaussian kernal around the data, the sum of those kernals can give us a continuous function that when normalized would approximate the density of the distribution"
   ]
  },
  {
   "cell_type": "code",
   "execution_count": 60,
   "metadata": {},
   "outputs": [
    {
     "data": {
      "text/plain": [
       "[<matplotlib.lines.Line2D at 0x7fb98367a450>]"
      ]
     },
     "execution_count": 60,
     "metadata": {},
     "output_type": "execute_result"
    },
    {
     "data": {
      "image/png": "[encoded data removed]",
      "text/plain": [
       "<Figure size 432x288 with 1 Axes>"
      ]
     },
     "metadata": {
      "needs_background": "light"
     },
     "output_type": "display_data"
    }
   ],
   "source": [
    "from scipy.stats import norm\n",
    "\n",
    "x1 = np.random.normal( -1, 0.5, 15 )\n",
    "x2 = np.random.normal( 6, 1, 10 )\n",
    "y = np.r_[ x1, x2 ]\n",
    "x = np.linspace( min(y), max(y), 100 )\n",
    "s = 0.4\n",
    "\n",
    "kernels = np.transpose([ norm.pdf( x, yi, s ) for yi in y ])\n",
    "\n",
    "plt.plot( x, kernels, 'k:' )\n",
    "plt.plot( x, kernels.sum( 1 ), 'r' )\n",
    "plt.plot( y, np.zeros( len( y ) ), 'bo', ms =10 )"
   ]
  },
  {
   "cell_type": "code",
   "execution_count": 61,
   "metadata": {},
   "outputs": [
    {
     "data": {
      "text/plain": [
       "[<matplotlib.lines.Line2D at 0x7fb9835c5850>]"
      ]
     },
     "execution_count": 61,
     "metadata": {},
     "output_type": "execute_result"
    },
    {
     "data": {
      "image/png": "[encoded data removed]",
      "text/plain": [
       "<Figure size 432x288 with 1 Axes>"
      ]
     },
     "metadata": {
      "needs_background": "light"
     },
     "output_type": "display_data"
    }
   ],
   "source": [
    "from scipy.stats import kde\n",
    "density = kde.gaussian_kde( y )\n",
    "xgrid = np.linspace( x.min(), x.max(), 200)\n",
    "plt.hist( y, bins = 28, density = True )\n",
    "plt.plot( xgrid, density( xgrid ), 'r-' )"
   ]
  },
  {
   "cell_type": "markdown",
   "metadata": {},
   "source": [
    "#### Estimation \n",
    "\n",
    "using estimates to approximate the values of unknown parameters of the dataset.\n",
    "**point estimates** single numerical estimates of parameters of a population\n",
    "\n",
    "##### Mean\n",
    "if there are no outliers, the sample mean minimizes the Mean Squared Error.\n",
    "\n",
    "**Mean Squared Error** : the average of the squares of the differences between the observed and the actual data\n",
    "$$MSE =  \\frac{1}{n}\\sum (\\overline{x}-\\mu)^2 $$\n"
   ]
  },
  {
   "cell_type": "code",
   "execution_count": 62,
   "metadata": {},
   "outputs": [
    {
     "name": "stdout",
     "output_type": "stream",
     "text": [
      "MSE:  0.0009941800725141062\n"
     ]
    }
   ],
   "source": [
    "NTs = 200\n",
    "mu = 0.0\n",
    "var = 1.0\n",
    "err = 0.0\n",
    "NPs = 1000\n",
    "for i in range( NTs ):\n",
    "    x = np.random.normal( mu, var, NPs )\n",
    "    err += ( x.mean() -mu)**2\n",
    "print( 'MSE: ', err/NTs )   "
   ]
  },
  {
   "cell_type": "markdown",
   "metadata": {},
   "source": [
    "##### Variance\n",
    "\n",
    "$$\\overline{\\sigma}^2 =  \\frac{1}{n}\\sum (x_i - \\overline{x})^2 $$\n",
    "\n",
    "##### Standard Score\n",
    "\n",
    "$$z_i=  \\frac{(x_i - \\mu)}{\\sigma}$$\n",
    "\n",
    "##### Corvariance\n",
    "two variables, $X$ & $Y$, share the same tendecy\n",
    "\n",
    "$$Cov(X, Y) =  \\frac{1}{n}\\sum^{n}_{i=1}dx_idy_i$$\n",
    "\n",
    "##### Pearson's Correlation\n",
    "normaliza the data with respect to their deviation ... multiplying the standard scores.\n",
    "\n",
    "$$\\rho = \\frac{x_i - \\mu_X}{\\sigma_X}\\frac{y_i - \\mu_Y}{\\sigma_Y} = \\frac{Cov(X, Y)}{\\sigma_X\\sigma_Y}$$\n",
    "\n",
    "Pearson's correlation is always between -1 and +1, where the magnitude depends on the degree of correlation (+ or -), it means that the variable can predict the other very well. However, having a $rho$=0, does not necessarily mean the variables are not correlated (Pearson's is not robust to nonlinear correlations). \n",
    "\n",
    "##### Spearman's Rank Correlation\n",
    "use the ranks of the sorted sample data. is robust to outliers unline Pearson's."
   ]
  },
  {
   "cell_type": "markdown",
   "metadata": {},
   "source": [
    " "
   ]
  },
  {
   "cell_type": "markdown",
   "metadata": {},
   "source": [
    "## Statistical Inference\n"
   ]
  },
  {
   "cell_type": "markdown",
   "metadata": {},
   "source": [
    "**frequentist approach** there is a population which can be represented by several parameters from which we can obtain numerous random samples. compute parameters about the sample and use these to infer probable propositions abount the population's parameters.  \n",
    "  \n",
    "**bayesian approach** parameters describing the data can be described probabilistically. produce parameter distributions that represent all the knowledge we can extract from the sample and from prior information about the problem.\n",
    "  \n",
    "#### Statistical Inference: The Frequentist Approach\n",
    "produce probable propositions concerning population parameters:\n",
    "1. **point estimates** e.g. mean/median & spread\n",
    "2. **confidence intervals** range of values to describe a parameter\n",
    "3. **hypothesis** accept or reject propositions\n",
    "\n",
    "#### Measuring the Variability in Estimates\n",
    "descriptive statistics are not equal to the truth, but they approach the truth as more data becomes available. \n",
    "\n",
    "\n"
   ]
  },
  {
   "cell_type": "code",
   "execution_count": 63,
   "metadata": {},
   "outputs": [],
   "source": [
    "dataSet_URL = 'https://raw.githubusercontent.com/SmilodonCub/introduction-datascience-python-book/master/files/ch04/ACCIDENTS_GU_BCN_2013.csv'\n",
    "\n",
    "data = pd.read_csv( dataSet_URL, encoding = \"ISO-8859-1\")"
   ]
  },
  {
   "cell_type": "code",
   "execution_count": 64,
   "metadata": {},
   "outputs": [
    {
     "name": "stdout",
     "output_type": "stream",
     "text": [
      "Date\n",
      "2013-01-01    16\n",
      "2013-01-02    28\n",
      "2013-01-03    28\n",
      "2013-01-04    12\n",
      "2013-01-05    15\n",
      "dtype: int64\n",
      "25.90958904109589\n"
     ]
    }
   ],
   "source": [
    "data['Date'] = data[u'Dia de mes'].apply(lambda x: str(x)) + '-' + data[u'Mes de any'].apply(lambda x: str(x)) + '-2013'\n",
    "#print(data['Date'].head())\n",
    "data['Date'] = pd.to_datetime( data['Date'])\n",
    "#print(data['Date'].head())\n",
    "accidents = data.groupby(['Date']).size()\n",
    "print( accidents.head() )\n",
    "print( accidents.mean() )"
   ]
  },
  {
   "cell_type": "markdown",
   "metadata": {},
   "source": [
    "**sample mean** is a point estimate of the population mean. i.e. our best guess.  \n",
    "**sampling distribution of the sample mean**"
   ]
  },
  {
   "cell_type": "code",
   "execution_count": 65,
   "metadata": {},
   "outputs": [],
   "source": [
    "df = accidents.to_frame()\n",
    "N_test = 1000\n",
    "elements = 200\n",
    "means = [0]*N_test\n",
    "for i in range( N_test ):\n",
    "    rows = np.random.choice( df.index.values, elements )\n",
    "    sampled_df = df.loc[rows]\n",
    "    means[i] = sampled_df.mean()\n",
    "    \n",
    "df2 = pd.DataFrame({'means': means}) \n"
   ]
  },
  {
   "cell_type": "code",
   "execution_count": 66,
   "metadata": {},
   "outputs": [
    {
     "data": {
      "text/plain": [
       "array([[<matplotlib.axes._subplots.AxesSubplot object at 0x7fb98727d8d0>]],\n",
       "      dtype=object)"
      ]
     },
     "execution_count": 66,
     "metadata": {},
     "output_type": "execute_result"
    },
    {
     "data": {
      "image/png": "[encoded data removed]",
      "text/plain": [
       "<Figure size 432x288 with 1 Axes>"
      ]
     },
     "metadata": {
      "needs_background": "light"
     },
     "output_type": "display_data"
    }
   ],
   "source": [
    "df2 = df2.astype('float64')\n",
    "df2.hist( histtype='stepfilled', bins=50)"
   ]
  },
  {
   "cell_type": "markdown",
   "metadata": {},
   "source": [
    "**Central Limit Theorem** In probability theory, the central limit theorem establishes that, in some situations, when independent random variables are added, their properly normalized sum tends toward a normal distribution even if the original variables themselves are not normally distributed.  \n",
    "*Given a population with a finite mean μ and a finite non-zero variance\n",
    "σ 2 , the sampling distribution of the mean approaches a normal distribution with a\n",
    "mean of μ and a variance of σ 2 /n as n, the sample size, increases.*\n",
    "\n",
    "as a consequence of the CLT, it can be shown that the standard deviation of the sample mean is given by:\n",
    "\n",
    "$$SE = \\frac{\\sigma_x}{\\sqrt{n}}$$\n",
    "\n",
    "...so how to give a measure of the variability of the sample mean? By giving the empiracle standard error of the mean distribution."
   ]
  },
  {
   "cell_type": "code",
   "execution_count": 67,
   "metadata": {},
   "outputs": [
    {
     "name": "stdout",
     "output_type": "stream",
     "text": [
      "Direct estimate of SE from one sample of 200 elements:  0    0.608524\n",
      "dtype: float64\n",
      "Estimation of the SE by 1000 simulations with 200 elements:  means    0.632241\n",
      "dtype: float64\n"
     ]
    }
   ],
   "source": [
    "rows = np.random.choice( df.index.values, 200 )\n",
    "sampled_df = df.loc[rows]\n",
    "meansEst = sampled_df.std()/np.sqrt(200)\n",
    "print('Direct estimate of SE from one sample of 200 elements: ', meansEst)\n",
    "print('Estimation of the SE by 1000 simulations with 200 elements: ', df2.std())"
   ]
  },
  {
   "cell_type": "markdown",
   "metadata": {},
   "source": [
    "**bootstrapping** we draw n observations with replacement from the original data to create a resample. then calcular the point estimate. by repeating this process a large number of times, we can build a good approximation of the mean sampling distribution. this approach assumes that the sample contains sufficient information about the underlying distribution."
   ]
  },
  {
   "cell_type": "code",
   "execution_count": 68,
   "metadata": {},
   "outputs": [
    {
     "name": "stdout",
     "output_type": "stream",
     "text": [
      "Mean estimate:  25.902449315068495\n"
     ]
    }
   ],
   "source": [
    "def meanBootstrap( X, numberb ):\n",
    "    \"\"\"bootstapping method\"\"\"\n",
    "    x = [0]*numberb\n",
    "    for i in range( numberb ):\n",
    "        sample = [X[j] for j in np.random.randint( len(X), size = len(X))]\n",
    "        x[i] = np.mean( sample )\n",
    "    return x    \n",
    "\n",
    "m = meanBootstrap( accidents, 1000 )\n",
    "print( 'Mean estimate: ', np.mean( m ) )"
   ]
  },
  {
   "cell_type": "markdown",
   "metadata": {},
   "source": [
    "**confidence interval** a plausible range of values for a parameter. e.g. roughly 95% of the time our estimate will be within 1.96 standard errors of the true mean of the distribution.. If the interval spreads out 1.96 standard errors from a normally distributed point estimate, we say that we are 95% confident that we have captured the true prameter."
   ]
  },
  {
   "cell_type": "code",
   "execution_count": 69,
   "metadata": {},
   "outputs": [
    {
     "name": "stdout",
     "output_type": "stream",
     "text": [
      "Confidence Interval:  [24.975156065800284, 26.8440220163915]\n"
     ]
    }
   ],
   "source": [
    "m = accidents.mean()\n",
    "se = accidents.std()/np.sqrt(len(accidents))\n",
    "ci = [m - se*1.96, m + se*1.96]\n",
    "print( \"Confidence Interval: \", ci )\n"
   ]
  },
  {
   "cell_type": "code",
   "execution_count": 70,
   "metadata": {},
   "outputs": [
    {
     "name": "stdout",
     "output_type": "stream",
     "text": [
      "The sample mean:  25.91349589041096\n",
      "SE of the estimate:  0.47837446122957883\n",
      "Confidence Interval:  [24.975342465753425, 26.873972602739727]\n"
     ]
    }
   ],
   "source": [
    "#compute the 95% confidence interval of the sample mean using bootstrapping\n",
    "m = meanBootstrap( accidents, 10000 )\n",
    "sample_mean = np.mean( m )\n",
    "sample_se = np.std( m )\n",
    "print( \"The sample mean: \", sample_mean )\n",
    "print( \"SE of the estimate: \", sample_se )\n",
    "ci = [np.percentile(m,2.5), np.percentile(m, 97.5)]\n",
    "print( \"Confidence Interval: \", ci)"
   ]
  },
  {
   "cell_type": "markdown",
   "metadata": {},
   "source": [
    "**To be 95% confident:** In 95% of the cases, when a 95% confidence interval is computed from a sample, the truw mean of the population will fall within the interval defined by theconfidence interval defined by $\\pm 1.96 x SE $"
   ]
  },
  {
   "cell_type": "markdown",
   "metadata": {},
   "source": [
    "### Hypothesis Testing\n",
    "\n",
    "**hypothesis testing** the process of determining the statistical significance of an effect.\n",
    "1. **The Null Hypothesis** $H_0$: There is no statistically significant difference between two samples\n",
    "2. **The Alternative Hypothesis** $H_A$: There exists a statistically significant difference between the two samples.\n",
    "  \n",
    "can use the concept of confidence intervals to measure the plausibility of a hypothesis..."
   ]
  },
  {
   "cell_type": "code",
   "execution_count": 71,
   "metadata": {},
   "outputs": [],
   "source": [
    "dataSet_URL2 = 'https://raw.githubusercontent.com/SmilodonCub/introduction-datascience-python-book/master/files/ch04/ACCIDENTS_GU_BCN_2010.csv'\n",
    "\n",
    "data2 = pd.read_csv( dataSet_URL2, encoding = 'latin-1' )"
   ]
  },
  {
   "cell_type": "code",
   "execution_count": 72,
   "metadata": {},
   "outputs": [
    {
     "name": "stdout",
     "output_type": "stream",
     "text": [
      "2010 Mean:  24.81095890410959 \n",
      "2013 Mean:  25.90958904109589\n"
     ]
    }
   ],
   "source": [
    "data2['Date'] = data2[u'Dia de mes'].apply(lambda x: str(x)) + '-' + data2[u'Mes de any'].apply(lambda x: str(x)) + '-2013'\n",
    "data2['Date'] = pd.to_datetime( data2['Date'])\n",
    "counts2010 = data2['Date'].value_counts()\n",
    "counts2013 = data['Date'].value_counts()\n",
    "\n",
    "print( '2010 Mean: ', counts2010.mean(), '\\n2013 Mean: ', counts2013.mean() )"
   ]
  },
  {
   "cell_type": "markdown",
   "metadata": {},
   "source": [
    "#### Hypothesis Testing with Confidence Intervals"
   ]
  },
  {
   "cell_type": "code",
   "execution_count": 73,
   "metadata": {},
   "outputs": [
    {
     "name": "stdout",
     "output_type": "stream",
     "text": [
      "2010 accident rate estimate:  24.81095890410959 \n",
      "2013 accident rate estimate:  25.90958904109589 \n",
      "Confidence Interval for 2013:  [24.975156065800284, 26.8440220163915]\n"
     ]
    }
   ],
   "source": [
    "#caluclate the confidence intervals for the mean rate of traffice accidents 2013\n",
    "n = len( counts2013 )\n",
    "mean = counts2013.mean( )\n",
    "s = counts2013.std( )\n",
    "ci = [ ( mean - s*1.96/np.sqrt(n) ), ( mean + s*1.96/np.sqrt(n) ) ]\n",
    "print( '2010 accident rate estimate: ', counts2010.mean( ),\n",
    "     '\\n2013 accident rate estimate: ', counts2013.mean( ),\n",
    "     '\\nConfidence Interval for 2013: ', ci )"
   ]
  },
  {
   "cell_type": "markdown",
   "metadata": {},
   "source": [
    "The 2010 estimate lies outside the confidence interval for the 2013 estimate therefore it cannot be ruled out that in 2013 the mean rate of traffic accidents was higher than in 2010.  \n",
    "  \n",
    "If we use a 95% confidence interval to test a problem where the null hypothesis is true, we will make an error whenever the point estimate is at least 1.96 standard errors away from the population parameter. This happens about 5% of the time (2.5% in each tail)  "
   ]
  },
  {
   "cell_type": "markdown",
   "metadata": {},
   "source": [
    "#### Hypothesis Testing with *p-values*\n",
    "\n",
    "**p-value** the probability of observing data at least as favorable to the alternative hypothesis as our current dataset, if the null hypothesis is true.  \n",
    "  \n",
    "*Given a sample and an apparent effect, what is the probability of seeing suzh an effect by chance?*\n",
    "1. quantify the size of the apparent effect by choosing a test statistic (e.g. difference of sample means)\n",
    "2. define a null hypothesis $H_0$ which is a model of the system based on the assumption that the effect is not real\n",
    "3. compute a p-value, which is the probability of seeing the apparent effect if the null hypothesis is true.\n",
    "4. interpret the results. if he p-value is below your criterion then it is very unlikely that the difference is due to the natural variance and it is very likely that this difference would exist in the population from which the sample was drawn.\n"
   ]
  },
  {
   "cell_type": "code",
   "execution_count": 74,
   "metadata": {},
   "outputs": [
    {
     "name": "stdout",
     "output_type": "stream",
     "text": [
      "num records 2010:  365 \n",
      "num records 2013:  365 \n",
      "difference of means:  1.0986301369863014\n"
     ]
    }
   ],
   "source": [
    "#calculate the p-value\n",
    "l2010 = len( counts2010 )\n",
    "l2013 = len( counts2013 )\n",
    "meanDiff = ( counts2013.mean() - counts2010.mean() )\n",
    "\n",
    "print( 'num records 2010: ', l2010,\n",
    "     '\\nnum records 2013: ', l2013,\n",
    "     '\\ndifference of means: ', meanDiff )"
   ]
  },
  {
   "cell_type": "markdown",
   "metadata": {},
   "source": [
    "To approximate the p-values:\n",
    "1. pool the distributions\n",
    "2. generate samples with size n and compute the differences of the mean\n",
    "3. count how many differences are larger than the observed one."
   ]
  },
  {
   "cell_type": "code",
   "execution_count": 75,
   "metadata": {},
   "outputs": [],
   "source": [
    "#pooling the distributions\n",
    "pooledCounts = np.concatenate( [ counts2010, counts2013 ] )\n",
    "np.random.shuffle( pooledCounts )\n",
    "\n",
    "#generate samples\n",
    "import random\n",
    "NumSamples = 1000\n",
    "diff = list(np.zeros(l2010))\n",
    "for i in range( l2010 ):\n",
    "    #print(i)\n",
    "    p1 = [ random.choice( pooledCounts ) for _ in range( l2010 )]\n",
    "    p2 = [ random.choice( pooledCounts ) for _ in range( l2010 )]\n",
    "    diff[i] = ( np.mean( p1 ) - np.mean( p2 ) )\n",
    "    \n",
    "#evaluate how many differences are larger than the observed difference\n",
    "diffa = np.array( diff )\n",
    "test = np.where( diffa > meanDiff )[0]\n"
   ]
  },
  {
   "cell_type": "code",
   "execution_count": 76,
   "metadata": {},
   "outputs": [
    {
     "data": {
      "text/plain": [
       "array([1.29589041, 1.32876712, 1.22465753, 1.60821918, 1.31780822,\n",
       "       1.61643836, 1.17534247, 1.1369863 , 1.89315068, 1.23561644,\n",
       "       1.61917808, 1.35890411, 2.24109589, 1.16164384, 1.53150685,\n",
       "       1.15890411, 1.22465753, 1.31506849])"
      ]
     },
     "execution_count": 76,
     "metadata": {},
     "output_type": "execute_result"
    }
   ],
   "source": [
    "#the differences that were greater (just to verify)\n",
    "diffa[ test ]"
   ]
  },
  {
   "cell_type": "code",
   "execution_count": 77,
   "metadata": {},
   "outputs": [
    {
     "name": "stdout",
     "output_type": "stream",
     "text": [
      "p-value (Simulation) =  0.018 ( 1.8 %)\n",
      "Hypothesis Test Results: \n",
      "The effect is likely\n"
     ]
    }
   ],
   "source": [
    "print( 'p-value (Simulation) = ', len( test )/float( NumSamples ), \n",
    "     '(', round( len( test )/float( NumSamples )*100, 2 ), '%)')\n",
    "\n",
    "print( 'Hypothesis Test Results: ' )\n",
    "if ( len( test )/float( NumSamples ) ) < 0.05:\n",
    "    print( 'The effect is likely' )\n",
    "else:\n",
    "    print( \"The effect is not likely\")"
   ]
  },
  {
   "cell_type": "markdown",
   "metadata": {},
   "source": [
    "## Supervised Learning"
   ]
  },
  {
   "cell_type": "markdown",
   "metadata": {},
   "source": [
    "**Supervised Learning:** Algorithms which learn froma training set of labeled examples to generate the set of all possible inputs. e.g.: logistic regression, support vector machines, decision trees, random forest, etc.\n",
    "\n",
    "**Classification** solution from a set of discrete possibilities ... select from a finite number of categories.\n",
    "\n",
    "**Regression** solution is a prediction of a continuous-values quantity.\n",
    "\n",
    "### Lending Club: predict unsuccessful accepted loans\n",
    "\n",
    "$$\\frac{loan - funded}{loan} \\ge 0.95$$\n",
    "\n",
    "predicting a binary value: either the loan is fully funded or not. "
   ]
  },
  {
   "cell_type": "code",
   "execution_count": 78,
   "metadata": {},
   "outputs": [],
   "source": [
    "import pickle\n",
    "#path = '/home/bonzilla/Desktop/ReadingLearningTinkering/Intro2DS_IgualSegui_git/files/ch05/dataset_small.pkl'\n",
    "#ofname = open(path,'rb')\n",
    "\n",
    "aPickle = pd.read_pickle(r'/home/bonzilla/Desktop/ReadingLearningTinkering/Intro2DS_IgualSegui_git/files/ch05/dataset_small.pkl')"
   ]
  },
  {
   "cell_type": "code",
   "execution_count": 79,
   "metadata": {},
   "outputs": [
    {
     "name": "stdout",
     "output_type": "stream",
     "text": [
      "dims:  15 \n",
      "samples:  4140\n"
     ]
    }
   ],
   "source": [
    "featureMat,labelVec = aPickle\n",
    "labelVec\n",
    "dims = featureMat.shape[1]\n",
    "N = featureMat.shape[0]\n",
    "print( 'dims: ', dims, '\\nsamples: ', N )"
   ]
  },
  {
   "cell_type": "code",
   "execution_count": 80,
   "metadata": {},
   "outputs": [
    {
     "name": "stdout",
     "output_type": "stream",
     "text": [
      "Predicted Values;  -1.0 \n",
      "Real Target:  -1.0\n"
     ]
    }
   ],
   "source": [
    "#apply a classifier using scikit-learn\n",
    "from sklearn import neighbors\n",
    "from sklearn import datasets\n",
    "\n",
    "#create an instance of K-NN\n",
    "knn = neighbors.KNeighborsClassifier( n_neighbors = 11 )\n",
    "\n",
    "#train the classifier\n",
    "knn.fit( featureMat,labelVec )\n",
    "\n",
    "#comput the prediction according to the model\n",
    "yhat = knn.predict( featureMat )\n",
    "\n",
    "print( 'Predicted Values; ', yhat[-1], '\\nReal Target: ', labelVec[-1])"
   ]
  },
  {
   "cell_type": "code",
   "execution_count": 81,
   "metadata": {},
   "outputs": [
    {
     "data": {
      "text/plain": [
       "0.8316425120772947"
      ]
     },
     "execution_count": 81,
     "metadata": {},
     "output_type": "execute_result"
    }
   ],
   "source": [
    "knn.score( featureMat,labelVec )"
   ]
  },
  {
   "cell_type": "code",
   "execution_count": 82,
   "metadata": {},
   "outputs": [
    {
     "data": {
      "image/png": "[encoded data removed]",
      "text/plain": [
       "<Figure size 504x504 with 1 Axes>"
      ]
     },
     "metadata": {},
     "output_type": "display_data"
    }
   ],
   "source": [
    "#but first let's look at data....\n",
    "plt.pie( np.c_[ np.sum( np.where( labelVec == 1, 1, 0 )),\n",
    "              np.sum( np.where( labelVec == -1, 1, 0))][0],\n",
    "       labels = ['Not fully funded', 'Full amount'],\n",
    "       colors = ['r', 'b'],\n",
    "       autopct = '%.2f')\n",
    "plt.gcf().set_size_inches((7,7))"
   ]
  },
  {
   "cell_type": "markdown",
   "metadata": {},
   "source": [
    "So, the KNN score labelled *Full Amount* with an accuracy of 83.2%. However, *Full Amount* cases make up 81.6% of the cases. Therefore, the KNN fit just barely outperforms chance."
   ]
  },
  {
   "cell_type": "code",
   "execution_count": 88,
   "metadata": {},
   "outputs": [
    {
     "name": "stdout",
     "output_type": "stream",
     "text": [
      "----------------  ------------  ------------\n",
      "                  Positive IRL  Negative IRL\n",
      "Predict Positive  3370          690\n",
      "Predict Negative  7             73\n",
      "----------------  ------------  ------------\n"
     ]
    }
   ],
   "source": [
    "#compute a confusion matrix \n",
    "yhat = knn.predict( featureMat )\n",
    "TP = np.sum( np.logical_and( yhat == -1, labelVec == -1))\n",
    "TN = np.sum( np.logical_and( yhat == 1, labelVec == 1))\n",
    "FP = np.sum( np.logical_and( yhat == -1, labelVec == 1))\n",
    "FN = np.sum( np.logical_and( yhat == 1, labelVec == -1))\n",
    "\n",
    "\n",
    "from tabulate import tabulate\n",
    "print(tabulate([['', 'Positive IRL', 'Negative IRL'], ['Predict Positive', TP, FP], ['Predict Negative', FN, TN ]]))\n"
   ]
  },
  {
   "cell_type": "markdown",
   "metadata": {},
   "source": [
    "**Confusion Matrix** classifier outcome and ground truth\n",
    "1. **True Positive** when the classifier predicts a sample as positive and it really is position\n",
    "2. **False Positive** when the classifier predicts a sample as positive but in fact it is negative\n",
    "3. **True Negative** when the classifier predicts a sample as negative and it really is negative\n",
    "4. **False Negative** when the classifier predicts a sample as negative when in fact it is positive\n",
    "\n",
    "**Accuracy**  \n",
    "$$Accuracy = \\frac{TP + TN}{TP + TN + FP + FN}$$\n",
    "\n",
    "**Column-wise performance metrics**\n",
    "$$Sensitivity = \\frac{TP}{Real Positives} = \\frac{TP}{TP + FN}$$\n",
    "$$Specificity = \\frac{TN}{Real Negatives} = \\frac{TN}{TN + FP}$$\n",
    "\n",
    "**Row-wise performance metrics**\n",
    "$$Precision = \\frac{TP}{Predicted Positives} = \\frac{TP}{TP + FP}$$\n",
    "$$Negative Prediction Value = \\frac{TN}{Predicted Negatives} = \\frac{TN}{TN + FN}$$\n",
    "\n"
   ]
  },
  {
   "cell_type": "code",
   "execution_count": 92,
   "metadata": {},
   "outputs": [
    {
     "data": {
      "text/plain": [
       "array([[3377,    0],\n",
       "       [   0,  763]])"
      ]
     },
     "execution_count": 92,
     "metadata": {},
     "output_type": "execute_result"
    }
   ],
   "source": [
    "#train a classifyer with 1 NN\n",
    "#create an instance of K-NN\n",
    "knn = neighbors.KNeighborsClassifier( n_neighbors = 1 )\n",
    "\n",
    "#train the classifier\n",
    "knn.fit( featureMat,labelVec )\n",
    "\n",
    "#comput the prediction according to the model\n",
    "yhat = knn.predict( featureMat )\n",
    "\n",
    "from sklearn import metrics\n",
    "metrics.confusion_matrix( yhat, labelVec )"
   ]
  },
  {
   "cell_type": "markdown",
   "metadata": {},
   "source": [
    "**BIG PROBLEM** the knn classification was performed on the same data that it was fit with. In realy applications need to deploy a model different data.  \n",
    "  \n",
    "Split the data into train/test subsets:  "
   ]
  },
  {
   "cell_type": "code",
   "execution_count": 98,
   "metadata": {},
   "outputs": [
    {
     "name": "stdout",
     "output_type": "stream",
     "text": [
      "fM train size:  (2898, 15) \tlV train size:  (2898,) \n",
      "fM test size:  (1242, 15) \tlV test size:  (1242,)\n"
     ]
    }
   ],
   "source": [
    "#Randomize a split in the data\n",
    "perm = np.random.permutation( labelVec.size )\n",
    "PRC = 0.7\n",
    "split_point = int( np.ceil( labelVec.shape[0]*PRC))\n",
    "\n",
    "featureMat_train = featureMat[ perm[ :split_point ].ravel(), :]\n",
    "labelVec_train = labelVec[ perm[ :split_point ].ravel()]\n",
    "\n",
    "featureMat_test = featureMat[ perm[ split_point: ].ravel(), :]\n",
    "labelVec_test = labelVec[ perm[ split_point: ].ravel()]\n",
    "\n",
    "print( \"fM train size: \", featureMat_train.shape, \"\\tlV train size: \", labelVec_train.shape,\n",
    "      \"\\nfM test size: \", featureMat_test.shape, \"\\tlV test size: \", labelVec_test.shape )"
   ]
  },
  {
   "cell_type": "code",
   "execution_count": 99,
   "metadata": {},
   "outputs": [
    {
     "data": {
      "text/plain": [
       "array([[2360,    0],\n",
       "       [   0,  538]])"
      ]
     },
     "execution_count": 99,
     "metadata": {},
     "output_type": "execute_result"
    }
   ],
   "source": [
    "#train KNN on the training set\n",
    "knn = neighbors.KNeighborsClassifier( n_neighbors = 1 )\n",
    "knn.fit( featureMat_train,labelVec_train )\n",
    "yhat = knn.predict( featureMat_train )\n",
    "\n",
    "metrics.confusion_matrix( yhat, labelVec_train )"
   ]
  },
  {
   "cell_type": "code",
   "execution_count": 100,
   "metadata": {},
   "outputs": [
    {
     "data": {
      "text/plain": [
       "array([[855, 150],\n",
       "       [162,  75]])"
      ]
     },
     "execution_count": 100,
     "metadata": {},
     "output_type": "execute_result"
    }
   ],
   "source": [
    "#now test on the 'new' data\n",
    "yhat = knn.predict( featureMat_test )\n",
    "metrics.confusion_matrix( yhat, labelVec_test )"
   ]
  },
  {
   "cell_type": "code",
   "execution_count": 107,
   "metadata": {},
   "outputs": [
    {
     "name": "stdout",
     "output_type": "stream",
     "text": [
      "mean expected error:  0.7439655172413794\n"
     ]
    }
   ],
   "source": [
    "#lets run this many times to get a good estimate of the model performance\n",
    "from sklearn.model_selection import train_test_split\n",
    "\n",
    "PRC = 0.3\n",
    "numIter = 100\n",
    "acc = np.zeros((numIter,))\n",
    "for i in range(numIter):\n",
    "    X_train, X_test, Y_train, Y_test = train_test_split( featureMat_train,labelVec_train, test_size = PRC )\n",
    "    knn = neighbors.KNeighborsClassifier( n_neighbors = 1 )\n",
    "    knn.fit( X_train, Y_train )\n",
    "    yhat = knn.predict( X_test )\n",
    "    acc[i] = metrics.accuracy_score( yhat, Y_test )\n",
    "acc.shape = ( 1,numIter )  \n",
    "print( \"mean expected error: \", np.mean( acc[0] ))"
   ]
  },
  {
   "cell_type": "code",
   "execution_count": 112,
   "metadata": {},
   "outputs": [
    {
     "name": "stdout",
     "output_type": "stream",
     "text": [
      "mean expected error:  0.7422068965517243\n",
      "mean expected error:  0.8119999999999998\n",
      "mean expected error:  0.786609195402299\n",
      "mean expected error:  0.8136206896551725\n",
      "mean expected error:  0.8035747126436783\n",
      "mean expected error:  0.8157356321839083\n",
      "mean expected error:  0.8107471264367817\n",
      "mean expected error:  0.8180804597701149\n",
      "mean expected error:  0.8122528735632184\n",
      "mean expected error:  0.8177931034482759\n",
      "mean expected error:  0.8165172413793104\n"
     ]
    }
   ],
   "source": [
    "#lets run many times over several values of n_neighbors\n",
    "PRC = 0.3\n",
    "numIter = 100\n",
    "highestKNN = 12\n",
    "allKNN_ExpErr = np.zeros((highestKNN,))\n",
    "for eye in range(1, highestKNN):\n",
    "    acc = np.zeros((numIter,))\n",
    "    for i in range(numIter):\n",
    "        X_train, X_test, Y_train, Y_test = train_test_split( featureMat_train,labelVec_train, test_size = PRC )\n",
    "        knn = neighbors.KNeighborsClassifier( n_neighbors = eye )\n",
    "        knn.fit( X_train, Y_train )\n",
    "        yhat = knn.predict( X_test )\n",
    "        acc[i] = metrics.accuracy_score( yhat, Y_test )\n",
    "    acc.shape = ( 1,numIter ) \n",
    "    allKNN_ExpErr[eye] = np.mean( acc[0] )\n",
    "    #print( \"mean expected error: \", np.mean( acc[0] ))"
   ]
  },
  {
   "cell_type": "code",
   "execution_count": 114,
   "metadata": {},
   "outputs": [
    {
     "data": {
      "text/plain": [
       "Text(0.5, 0, 'KNN')"
      ]
     },
     "execution_count": 114,
     "metadata": {},
     "output_type": "execute_result"
    },
    {
     "data": {
      "image/png": "[encoded data removed]",
      "text/plain": [
       "<Figure size 432x288 with 1 Axes>"
      ]
     },
     "metadata": {
      "needs_background": "light"
     },
     "output_type": "display_data"
    }
   ],
   "source": [
    "plt.plot( range(highestKNN), allKNN_ExpErr )\n",
    "plt.title( \"Mean Expected Error for KNN 1:12\")\n",
    "plt.ylabel( \"Mean Expected Error\" )\n",
    "plt.xlabel( \"KNN\" )"
   ]
  },
  {
   "cell_type": "code",
   "execution_count": 121,
   "metadata": {},
   "outputs": [],
   "source": [
    "#select from several classifiers\n",
    "from sklearn import tree\n",
    "from sklearn import svm\n",
    "\n",
    "PRC = 0.1\n",
    "acc_r = np.zeros((10,4))\n",
    "\n",
    "for eye in range( 10 ):\n",
    "    X_train, X_test, Y_train, Y_test = train_test_split( featureMat_train,labelVec_train, test_size = PRC )\n",
    "    \n",
    "    nn1 = neighbors.KNeighborsClassifier( n_neighbors = 1 )\n",
    "    nn3 = neighbors.KNeighborsClassifier( n_neighbors = 3 )\n",
    "    svc = svm.SVC()\n",
    "    dt = tree.DecisionTreeClassifier()\n",
    "    \n",
    "    nn1.fit( X_train, Y_train )\n",
    "    nn3.fit( X_train, Y_train )\n",
    "    svc.fit( X_train, Y_train )\n",
    "    dt.fit( X_train, Y_train )\n",
    "    \n",
    "    yhat_nn1 = nn1.predict( X_test )\n",
    "    yhat_nn3 = nn3.predict( X_test )\n",
    "    yhat_svc = svc.predict( X_test )\n",
    "    yhat_dt = dt.predict( X_test )\n",
    "    \n",
    "    #print( eye )\n",
    "    acc_r[eye][ 0] = metrics.accuracy_score( yhat_nn1, Y_test )\n",
    "    acc_r[eye][1] = metrics.accuracy_score( yhat_nn3, Y_test )\n",
    "    acc_r[eye][2] = metrics.accuracy_score( yhat_svc, Y_test )\n",
    "    acc_r[eye][3] = metrics.accuracy_score( yhat_dt, Y_test )"
   ]
  },
  {
   "cell_type": "code",
   "execution_count": 129,
   "metadata": {},
   "outputs": [
    {
     "data": {
      "image/png": "[encoded data removed]",
      "text/plain": [
       "<Figure size 432x288 with 1 Axes>"
      ]
     },
     "metadata": {
      "needs_background": "light"
     },
     "output_type": "display_data"
    }
   ],
   "source": [
    "plt.boxplot( acc_r )\n",
    "plt.title( \"Comparison of Classification Methods using Accuracy\")\n",
    "plt.xlabel( \"Classification Method\")\n",
    "plt.ylabel( \"Accuracy\")\n",
    "plt.xticks([1, 2, 3, 4], [\"1-NN\", \"3-NN\", \"SVM\", \"DT\"])\n",
    "plt.show()"
   ]
  },
  {
   "cell_type": "markdown",
   "metadata": {},
   "source": [
    "1-NN appears to have the lowest error rate of the for classifiers that were applied above.\n",
    "\n",
    "This type of classifier comparison is known as **cross-validation**. There are other cross-validation methods:\n",
    "1. **Leave-one-out** given N samples, train with N-1 samples and test with 1. repeat N times and compute the mean\n",
    "2. **K-fold** divide into K nonoverlapping splits. train on K-1 splits and test on 1. repeat K times and take the mean."
   ]
  },
  {
   "cell_type": "markdown",
   "metadata": {},
   "source": [
    "### What is Learning?\n",
    "\n",
    "**training error** error measured over the observed data samples in the training set\n",
    "**generalization error** error expected on unseen data\n",
    "\n",
    "**THE GOAL OF LEARNING IS TO MINIMIZE GENERALIZATION ERROR** \n",
    "\n",
    "**Learning Curves**\n",
    "1. as the number of training samples increases, both errors tend to the same value\n",
    "2. when we have few training data, the training error is very small but the test error is very large\n",
    "3. with a low degree of complexity, the training and test errors converge to the bias sooner (w/fewer data)\n",
    "4. with a low degree of complexity, the error of convergence is larger than with increased complexity\n",
    "\n",
    "**overfitting** models are usually parameterized with hyperparameters. selecting the complexity of the model is usually governed by the parameters. a good heuristic is to choose the value of the hyperparameter that yields the smalled estimate test error (e.g. X-NN, or depth of DT)\n",
    "\n",
    "**regularization** penalize overly complex models. \n",
    "1. L2 weight: favor low complexity 'smooth' models\n",
    "2. L1 weight: favor sparse models with few components\n",
    "\n",
    "**ensemble techniques**\n"
   ]
  },
  {
   "cell_type": "code",
   "execution_count": null,
   "metadata": {},
   "outputs": [],
   "source": []
  },
  {
   "cell_type": "code",
   "execution_count": null,
   "metadata": {},
   "outputs": [],
   "source": []
  },
  {
   "cell_type": "code",
   "execution_count": null,
   "metadata": {},
   "outputs": [],
   "source": []
  },
  {
   "cell_type": "code",
   "execution_count": null,
   "metadata": {},
   "outputs": [],
   "source": []
  },
  {
   "cell_type": "markdown",
   "metadata": {},
   "source": [
    "### linkyLinkLinks\n",
    "https://github.com/DataScienceUB/introduction-datascience-python-book"
   ]
  }
 ],
 "metadata": {
  "kernelspec": {
   "display_name": "Python 3",
   "language": "python",
   "name": "python3"
  },
  "language_info": {
   "codemirror_mode": {
    "name": "ipython",
    "version": 3
   },
   "file_extension": ".py",
   "mimetype": "text/x-python",
   "name": "python",
   "nbconvert_exporter": "python",
   "pygments_lexer": "ipython3",
   "version": "3.7.6"
  }
 },
 "nbformat": 4,
 "nbformat_minor": 4
}
