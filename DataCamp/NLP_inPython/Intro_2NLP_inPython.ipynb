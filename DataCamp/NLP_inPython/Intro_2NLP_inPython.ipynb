{
 "cells": [
  {
   "cell_type": "markdown",
   "metadata": {},
   "source": [
    "# Introduction to Natural Language Processing in `Python`\n",
    "\n",
    "making sense of language with statistics and computers  \n",
    "ex: topic identification, text classification, sentiment analysis, translation, chatbots\n",
    "\n",
    "<br>\n",
    "\n",
    "---\n"
   ]
  },
  {
   "cell_type": "markdown",
   "metadata": {},
   "source": [
    "## Introduction to Regular Expressions\n",
    "\n",
    "strings with a special syntax.  \n",
    "allows us to match patterns in other strings  \n",
    "\n",
    "<br> \n",
    "\n",
    "\n",
    "| **Pattern** |  **Matches**  | **Example**  |\n",
    "|:-----------:|:-------------:|--------------|\n",
    "| \\w+         | word          | 'Magic'      |\n",
    "| \\d          | digit         | 9            |\n",
    "| \\s          | space         | ''           |\n",
    "| .*          | wildcard      | 'username74' |\n",
    "| + or *      | greedy match  | 'aaaaaa'     |\n",
    "| \\S          | **NOT** space | 'no_spaces'  |\n",
    "| \\D          | **NOT** digit | 'username'   |\n",
    "| [a-z]       | lowercase     | 'agic'       |\n",
    "\n",
    "<br>"
   ]
  },
  {
   "cell_type": "code",
   "execution_count": 1,
   "metadata": {},
   "outputs": [
    {
     "data": {
      "text/plain": [
       "(0, 3)"
      ]
     },
     "execution_count": 1,
     "metadata": {},
     "output_type": "execute_result"
    }
   ],
   "source": [
    "# regex is commonly handled with the `re` library\n",
    "import re\n",
    "\n",
    "#match a pattern with a string\n",
    "res = re.match( 'abc', 'abcdef' )\n",
    "res.span() #indices where the pattern matched the string"
   ]
  },
  {
   "cell_type": "code",
   "execution_count": 2,
   "metadata": {},
   "outputs": [
    {
     "data": {
      "text/plain": [
       "<re.Match object; span=(0, 2), match='hi'>"
      ]
     },
     "execution_count": 2,
     "metadata": {},
     "output_type": "execute_result"
    }
   ],
   "source": [
    "word_regex = '\\w+'\n",
    "res = re.match( word_regex, 'hi there!' )\n",
    "res"
   ]
  },
  {
   "cell_type": "code",
   "execution_count": 3,
   "metadata": {},
   "outputs": [
    {
     "data": {
      "text/plain": [
       "['Split', 'on', 'spaces']"
      ]
     },
     "execution_count": 3,
     "metadata": {},
     "output_type": "execute_result"
    }
   ],
   "source": [
    "# splitting strings\n",
    "re.split( '\\s+', 'Split on spaces' )"
   ]
  },
  {
   "cell_type": "code",
   "execution_count": 4,
   "metadata": {},
   "outputs": [
    {
     "data": {
      "text/plain": [
       "['Let', 's', 'write', 'RegEx']"
      ]
     },
     "execution_count": 4,
     "metadata": {},
     "output_type": "execute_result"
    }
   ],
   "source": [
    "my_string = \"Let's write RegEx!\"\n",
    "PATTERN = r\"\\w+\"\n",
    "re.findall( PATTERN, my_string )"
   ]
  },
  {
   "cell_type": "code",
   "execution_count": 5,
   "metadata": {},
   "outputs": [
    {
     "name": "stdout",
     "output_type": "stream",
     "text": [
      "[\"Let's write RegEx\", \"  Won't that be fun\", '  I sure think so', '  Can you find 4 sentences', '  Or perhaps, all 19 words', '']\n",
      "['Let', 'RegEx', 'Won', 'Can', 'Or']\n",
      "[\"Let's\", 'write', 'RegEx!', \"Won't\", 'that', 'be', 'fun?', 'I', 'sure', 'think', 'so.', 'Can', 'you', 'find', '4', 'sentences?', 'Or', 'perhaps,', 'all', '19', 'words?']\n",
      "['4', '19']\n"
     ]
    }
   ],
   "source": [
    "my_string = \"Let's write RegEx!  Won't that be fun?  I sure think so.  Can you find 4 sentences?  Or perhaps, all 19 words?\"\n",
    "\n",
    "sentence_endings = r\"[.?!]\"\n",
    "print(re.split(sentence_endings, my_string))\n",
    "\n",
    "capitalized_words = r\"[A-Z]\\w+\"\n",
    "print(re.findall(capitalized_words, my_string))\n",
    "\n",
    "spaces = r\"\\s+\"\n",
    "print(re.split(spaces, my_string))\n",
    "\n",
    "digits = r\"\\d+\"\n",
    "print(re.findall(digits, my_string))"
   ]
  },
  {
   "cell_type": "markdown",
   "metadata": {},
   "source": [
    "<br>\n",
    "\n",
    "## Introduction to tokenization\n",
    "\n",
    "**tokenization** - turning a string or document into smaller elements  \n",
    "\n",
    "* usually a first step in preprocessing fro NLP\n",
    "* many different rules/approaches for different applications\n",
    "* examples:\n",
    "    - breaking text down to words\n",
    "    - seperating sentences by puntuation\n",
    "    - seperating hashtags from social media data\n",
    "* why tokenize at all?:\n",
    "    - easier to map parts os speach\n",
    "    - match important tokens\n",
    "    - filter unwated tokens\n",
    "\n",
    "<br>"
   ]
  },
  {
   "cell_type": "code",
   "execution_count": 6,
   "metadata": {},
   "outputs": [
    {
     "data": {
      "text/plain": [
       "['Hi', 'there', 'new', 'friend', '!']"
      ]
     },
     "execution_count": 6,
     "metadata": {},
     "output_type": "execute_result"
    }
   ],
   "source": [
    "# a tokenization example using the nltk library\n",
    "# nltk - natural language toolkit\n",
    "from nltk.tokenize import word_tokenize\n",
    "word_tokenize( 'Hi there new friend!' )"
   ]
  },
  {
   "cell_type": "markdown",
   "metadata": {},
   "source": [
    "we see that in the above example, this tokenizer seperates individual words as well as punctuation\n",
    "\n",
    "other `nltk` tokenizers:  \n",
    "\n",
    "* `sent_tokenize` - tokenize a document into sentences\n",
    "* `regexp_tokenize` - tokenize based on a regex pattern\n",
    "* `TweetTokenizer` - special class to allow tokenization hashtags etc.\n",
    "\n",
    "<br>"
   ]
  },
  {
   "cell_type": "code",
   "execution_count": 7,
   "metadata": {},
   "outputs": [
    {
     "name": "stdout",
     "output_type": "stream",
     "text": [
      "54\n",
      "['ARTHUR', ':', 'It', 'is', 'I', ',', 'Arthur', ',', 'son', 'of', 'Uther', 'Pendragon', ',', 'from', 'the', 'castle', 'of', 'Camelot', '.']\n",
      "{'together', 'Well', 'these', 'Listen', 'minute', 'there', 'yeah', 'non-migratory', '!', ',', 'to', 'Uther', 'matter', 'warmer', 'could', 'maintain', 'KING', 'a', '.', 'ounce', 'seek', 'creeper', '[', 'if', 'maybe', 'Camelot', 'son', 'where', 'tell', 'climes', 'Saxons', 'swallow', 'south', 'bangin', 'is', 'knights', 'Britons', 'Yes', 'the', 'Are', 'Not', 'mean', 'carrying', 'held', 'strand', 'feathers', 'sovereign', 'strangers', 'plover', 'may', ']', '#', \"n't\", 'clop', 'The', 'That', 'bring', 'A', 'who', 'halves', 'them', 'ask', '1', 'every', 'In', 'second', 'have', 'coconuts', 'pound', 'temperate', 'forty-three', 'anyway', 'through', 'court', 'then', 'What', 'do', 'but', 'guiding', 'SCENE', 'So', 'needs', 'order', 'carried', 'by', 'and', 'question', 'under', \"'re\", 'tropical', 'its', 'beat', 'Oh', 'wind', 'found', 'an', 'be', '?', 'must', 'why', 'line', 'Ridden', 'SOLDIER', 'with', 'my', 'right', 'one', 'will', 'We', 'length', 'wings', 'Pendragon', '...', 'winter', \"'s\", 'your', 'house', 'grip', 'empty', 'that', 'breadth', 'Patsy', 'join', 'speak', 'you', 'other', 'using', 'European', 'Mercea', 'me', 'horse', 'air-speed', \"'m\", 'it', 'They', 'two', 'velocity', 'not', 'Who', 'I', 'search', '--', 'migrate', 'Am', 'interested', 'covered', 'agree', 'weight', 'all', 'Where', 'go', 'goes', \"'em\", 'trusty', 'of', 'King', 'Supposing', 'he', 'point', 'Please', 'our', 'wants', \"'\", 'since', 'sun', 'fly', 'It', 'they', 'just', 'Arthur', 'here', 'ridden', 'ARTHUR', 'defeator', 'England', 'zone', 'snows', 'castle', 'Whoa', 'suggesting', 'are', 'ratios', 'coconut', 'get', 'five', 'swallows', 'Found', 'kingdom', 'You', 'Pull', 'this', 'land', \"'ve\", ':', 'grips', 'master', 'at', 'does', 'No', 'on', 'But', 'simple', 'use', \"'d\", 'or', 'Halt', 'martin', 'bird', 'times', 'Wait', '2', 'from', 'Court', 'lord', 'course', 'carry', 'got', 'African', 'servant', 'back', 'dorsal', 'Will', 'husk', 'am', 'in', 'yet'}\n"
     ]
    }
   ],
   "source": [
    "# re.match() - pattern at the beginning; re.search() looks for pattern anywhere in string\n",
    "scene_one = \"SCENE 1: [wind] [clop clop clop] \\nKING ARTHUR: Whoa there!  [clop clop clop] \\nSOLDIER #1: Halt!  Who goes there?\\nARTHUR: It is I, Arthur, son of Uther Pendragon, from the castle of Camelot.  King of the Britons, defeator of the Saxons, sovereign of all England!\\nSOLDIER #1: Pull the other one!\\nARTHUR: I am, ...  and this is my trusty servant Patsy.  We have ridden the length and breadth of the land in search of knights who will join me in my court at Camelot.  I must speak with your lord and master.\\nSOLDIER #1: What?  Ridden on a horse?\\nARTHUR: Yes!\\nSOLDIER #1: You're using coconuts!\\nARTHUR: What?\\nSOLDIER #1: You've got two empty halves of coconut and you're bangin' 'em together.\\nARTHUR: So?  We have ridden since the snows of winter covered this land, through the kingdom of Mercea, through--\\nSOLDIER #1: Where'd you get the coconuts?\\nARTHUR: We found them.\\nSOLDIER #1: Found them?  In Mercea?  The coconut's tropical!\\nARTHUR: What do you mean?\\nSOLDIER #1: Well, this is a temperate zone.\\nARTHUR: The swallow may fly south with the sun or the house martin or the plover may seek warmer climes in winter, yet these are not strangers to our land?\\nSOLDIER #1: Are you suggesting coconuts migrate?\\nARTHUR: Not at all.  They could be carried.\\nSOLDIER #1: What?  A swallow carrying a coconut?\\nARTHUR: It could grip it by the husk!\\nSOLDIER #1: It's not a question of where he grips it!  It's a simple question of weight ratios!  A five ounce bird could not carry a one pound coconut.\\nARTHUR: Well, it doesn't matter.  Will you go and tell your master that Arthur from the Court of Camelot is here.\\nSOLDIER #1: Listen.  In order to maintain air-speed velocity, a swallow needs to beat its wings forty-three times every second, right?\\nARTHUR: Please!\\nSOLDIER #1: Am I right?\\nARTHUR: I'm not interested!\\nSOLDIER #2: It could be carried by an African swallow!\\nSOLDIER #1: Oh, yeah, an African swallow maybe, but not a European swallow.  That's my point.\\nSOLDIER #2: Oh, yeah, I agree with that.\\nARTHUR: Will you ask your master if he wants to join my court at Camelot?!\\nSOLDIER #1: But then of course a-- African swallows are non-migratory.\\nSOLDIER #2: Oh, yeah...\\nSOLDIER #1: So they couldn't bring a coconut back anyway...  [clop clop clop] \\nSOLDIER #2: Wait a minute!  Supposing two swallows carried it together?\\nSOLDIER #1: No, they'd have to have it on a line.\\nSOLDIER #2: Well, simple!  They'd just use a strand of creeper!\\nSOLDIER #1: What, held under the dorsal guiding feathers?\\nSOLDIER #2: Well, why not?\\n\"\n",
    "\n",
    "# Import necessary modules\n",
    "from nltk.tokenize import sent_tokenize, word_tokenize\n",
    "\n",
    "# Split scene_one into sentences: sentences\n",
    "sentences = sent_tokenize(scene_one)\n",
    "print( len( sentences ) )\n",
    "\n",
    "# Use word_tokenize to tokenize the fourth sentence: tokenized_sent\n",
    "tokenized_sent = word_tokenize(sentences[3])\n",
    "print( tokenized_sent )\n",
    "\n",
    "# Make a set of unique tokens in the entire scene: unique_tokens\n",
    "unique_tokens = set(word_tokenize(scene_one))\n",
    "\n",
    "# Print the unique tokens result\n",
    "print(unique_tokens)"
   ]
  },
  {
   "cell_type": "code",
   "execution_count": 8,
   "metadata": {},
   "outputs": [
    {
     "name": "stdout",
     "output_type": "stream",
     "text": [
      "580 588\n"
     ]
    }
   ],
   "source": [
    "# Search for the first occurrence of \"coconuts\" in scene_one: match\n",
    "match = re.search(\"coconuts\", scene_one)\n",
    "\n",
    "# Print the start and end indexes of match\n",
    "print(match.start(), match.end())"
   ]
  },
  {
   "cell_type": "markdown",
   "metadata": {},
   "source": [
    "<br>  \n",
    "\n",
    "### Advanced Tokenization with regex\n",
    "\n",
    "Regex groups:  \n",
    "\n",
    "* OR is represented using |\n",
    "* define a group with ()\n",
    "* define character ranges with []\n",
    "\n",
    "\n",
    "|  **Pattern**  |              **Matches**              | **Example**   |\n",
    "|:-------------:|:-------------------------------------:|---------------|\n",
    "| [A-Za-z]+     | upper and lower case                  | 'Magic'       |\n",
    "| [0-9]         | numbers 0-9                           | 9             |\n",
    "| [A-Za-z\\-\\.]+ | upper and lower case alpha plus - & . | My-Wbsite.com |\n",
    "| (a-z)         | literal a,- and z                     | 'a-z'         |\n",
    "| 9\\s+\\|,)      | space or comma                        | ' '           |\n",
    "\n",
    "<br>"
   ]
  },
  {
   "cell_type": "code",
   "execution_count": 9,
   "metadata": {},
   "outputs": [
    {
     "data": {
      "text/plain": [
       "['He', 'has', '11', 'cats', 'named', 'Coolc', 't', 'of', 'sw33ty']"
      ]
     },
     "execution_count": 9,
     "metadata": {},
     "output_type": "execute_result"
    }
   ],
   "source": [
    "match_words_and_digits = ( '(\\d+|\\w+)' )\n",
    "re.findall( match_words_and_digits, 'He has 11 cats named Coolc@t of sw33ty' )"
   ]
  },
  {
   "cell_type": "code",
   "execution_count": 10,
   "metadata": {},
   "outputs": [
    {
     "name": "stdout",
     "output_type": "stream",
     "text": [
      "['SOLDIER', '#1', 'Found', 'them', '?', 'In', 'Mercea', '?', 'The', 'coconut', 's', 'tropical', '!']\n"
     ]
    }
   ],
   "source": [
    "from nltk.tokenize import regexp_tokenize\n",
    "\n",
    "my_string = \"SOLDIER #1: Found them? In Mercea? The coconut's tropical!\"\n",
    "pattern2 = r\"(\\w+|#\\d|\\?|!)\"\n",
    "print(regexp_tokenize(my_string, pattern2))"
   ]
  },
  {
   "cell_type": "code",
   "execution_count": 11,
   "metadata": {},
   "outputs": [
    {
     "name": "stdout",
     "output_type": "stream",
     "text": [
      "['#nlp', '#python']\n",
      "['@datacamp', '#nlp', '#python']\n",
      "[['This', 'is', 'the', 'best', '#nlp', 'exercise', 'ive', 'found', 'online', '!', '#python'], ['#NLP', 'is', 'super', 'fun', '!', '<3', '#learning'], ['Thanks', '@datacamp', ':)', '#nlp', '#python']]\n"
     ]
    }
   ],
   "source": [
    "from nltk.tokenize import regexp_tokenize\n",
    "from nltk.tokenize import TweetTokenizer\n",
    "\n",
    "tweets = ['This is the best #nlp exercise ive found online! #python',\n",
    " '#NLP is super fun! <3 #learning',\n",
    " 'Thanks @datacamp :) #nlp #python']\n",
    "\n",
    "pattern1 = r\"#\\w+\"\n",
    "# Use the pattern on the first tweet in the tweets list\n",
    "hashtags = regexp_tokenize(tweets[0], pattern1)\n",
    "print(hashtags)\n",
    "\n",
    "pattern2 = r\"([#@]\\w+)\"\n",
    "# Use the pattern on the last tweet in the tweets list\n",
    "mentions_hashtags = regexp_tokenize(tweets[-1], pattern2)\n",
    "print(mentions_hashtags)\n",
    "\n",
    "# Use the TweetTokenizer to tokenize all tweets into one list\n",
    "tknzr = TweetTokenizer()\n",
    "all_tokens = [tknzr.tokenize(t) for t in tweets]\n",
    "print(all_tokens)"
   ]
  },
  {
   "cell_type": "code",
   "execution_count": 12,
   "metadata": {},
   "outputs": [
    {
     "name": "stdout",
     "output_type": "stream",
     "text": [
      "['Wann', 'gehen', 'wir', 'Pizza', 'essen', '?', '🍕', 'Und', 'fährst', 'du', 'mit', 'Über', '?', '🚕']\n",
      "['Wann', 'Pizza', 'Und', 'Über']\n",
      "['🍕', '🚕']\n"
     ]
    }
   ],
   "source": [
    "german_text = 'Wann gehen wir Pizza essen? 🍕 Und fährst du mit Über? 🚕'\n",
    "\n",
    "# Tokenize and print all words in german_text\n",
    "all_words = word_tokenize(german_text)\n",
    "print(all_words)\n",
    "\n",
    "# Tokenize and print only capital words\n",
    "capital_words = r\"[A-ZÜ]\\w+\"\n",
    "print(regexp_tokenize(german_text, capital_words))\n",
    "\n",
    "# Tokenize and print only emoji\n",
    "emoji = \"['\\U0001F300-\\U0001F5FF'|'\\U0001F600-\\U0001F64F'|'\\U0001F680-\\U0001F6FF'|'\\u2600-\\u26FF\\u2700-\\u27BF']\"\n",
    "print(regexp_tokenize(german_text, emoji))"
   ]
  },
  {
   "cell_type": "markdown",
   "metadata": {},
   "source": [
    "<br>\n",
    "\n",
    "### Charting word length with `nltk`\n",
    "\n",
    "combining NLP data extraction with plotting\n",
    "\n",
    "<br>"
   ]
  },
  {
   "cell_type": "code",
   "execution_count": 13,
   "metadata": {},
   "outputs": [],
   "source": [
    "from matplotlib import pyplot as plt\n",
    "\n",
    "file_path = 'holy_grail.txt'\n",
    "file = open( file_path )\n",
    "holy_grail = file.read( )"
   ]
  },
  {
   "cell_type": "code",
   "execution_count": 21,
   "metadata": {},
   "outputs": [
    {
     "name": "stdout",
     "output_type": "stream",
     "text": [
      "ARTHUR: It is I, Arthur, son of Uther Pendragon, from the castle of Camelot.  King of the Britons, defeator of the Saxons, sovereign of all England!\n",
      " It is I, Arthur, son of Uther Pendragon, from the castle of Camelot.  King of the Britons, defeator of the Saxons, sovereign of all England!\n",
      "['It', 'is', 'I', 'Arthur', 'son', 'of', 'Uther', 'Pendragon', 'from', 'the', 'castle', 'of', 'Camelot', 'King', 'of', 'the', 'Britons', 'defeator', 'of', 'the', 'Saxons', 'sovereign', 'of', 'all', 'England']\n",
      "[6, 5, 4, 25, 4, 40, 5, 1, 4, 1]\n"
     ]
    },
    {
     "data": {
      "image/png": "[encoded data removed]",
      "text/plain": [
       "<Figure size 1080x720 with 1 Axes>"
      ]
     },
     "metadata": {
      "needs_background": "light"
     },
     "output_type": "display_data"
    }
   ],
   "source": [
    "import seaborn as sns\n",
    "import pandas as pd\n",
    "\n",
    "lines = holy_grail.split('\\\\n')\n",
    "len( lines )\n",
    "print( lines[3] )\n",
    "\n",
    "# Replace all script lines for speaker\n",
    "pattern = \"[A-Z]{2,}(\\s)?(#\\d)?([A-Z]{2,})?:\"\n",
    "lines = [re.sub(pattern, '', l) for l in lines]\n",
    "print( lines[3] )\n",
    "\n",
    "# Tokenize each line: tokenized_lines\n",
    "pattern2 = \"\\w+\"\n",
    "tokenized_lines = [regexp_tokenize(s, pattern2) for s in lines]\n",
    "print( tokenized_lines[3] )\n",
    "\n",
    "# Make a frequency list of lengths: line_num_words\n",
    "line_num_words = [len( t_line ) for t_line in tokenized_lines]\n",
    "print( line_num_words[0:10] )\n",
    "\n",
    "# Plot a histogram of the line lengths\n",
    "line_length = pd.DataFrame( {\"line_length\" :line_num_words} )\n",
    "sns.histplot(data=line_length, x=\"line_length\", kde=True)\n",
    "plt.title('Line Length Distribution')\n",
    "plt.rcParams['figure.figsize'] = [15,10]\n",
    "plt.show()"
   ]
  },
  {
   "cell_type": "markdown",
   "metadata": {},
   "source": [
    "<br>\n",
    "\n",
    "## Word Counts with Bag-of-Words\n",
    "\n",
    "a basic method for finding topins ina text  \n",
    "count frequencies of tokens. the more frequent a word ~= importance\n",
    "\n",
    "<br>"
   ]
  },
  {
   "cell_type": "code",
   "execution_count": 25,
   "metadata": {},
   "outputs": [
    {
     "data": {
      "text/plain": [
       "[(':', 1197),\n",
       " ('!', 830),\n",
       " (',', 746),\n",
       " ('.', 414),\n",
       " ('[', 320),\n",
       " (']', 320),\n",
       " ('the', 298),\n",
       " ('I', 255),\n",
       " ('?', 223),\n",
       " ('you', 191),\n",
       " ('a', 183),\n",
       " ('of', 158),\n",
       " ('--', 151),\n",
       " ('to', 144),\n",
       " ('\\\\nARTHUR', 143),\n",
       " (\"'s\", 140),\n",
       " ('and', 133),\n",
       " ('#', 127),\n",
       " ('...', 125),\n",
       " ('Oh', 105),\n",
       " ('is', 104),\n",
       " ('it', 100),\n",
       " ('in', 85),\n",
       " ('that', 79),\n",
       " ('1', 76)]"
      ]
     },
     "execution_count": 25,
     "metadata": {},
     "output_type": "execute_result"
    }
   ],
   "source": [
    "from nltk.tokenize import word_tokenize\n",
    "from collections import Counter\n",
    "\n",
    "counter = Counter( word_tokenize( holy_grail ) )\n",
    "counter.most_common( 25 )"
   ]
  },
  {
   "cell_type": "code",
   "execution_count": 26,
   "metadata": {},
   "outputs": [
    {
     "name": "stdout",
     "output_type": "stream",
     "text": [
      "[(',', 151), ('the', 147), ('of', 81), ('.', 70), ('to', 61), ('a', 59), (\"''\", 42), ('and', 41), ('in', 41), ('(', 40)]\n"
     ]
    }
   ],
   "source": [
    "file_path = 'article.txt'\n",
    "file = open( file_path )\n",
    "article = file.read( )\n",
    "\n",
    "# Import Counter\n",
    "from collections import Counter\n",
    "\n",
    "# Tokenize the article: tokens\n",
    "tokens = word_tokenize( article )\n",
    "\n",
    "# Convert the tokens into lowercase: lower_tokens\n",
    "lower_tokens = [t.lower() for t in tokens]\n",
    "\n",
    "# Create a Counter with the lowercase tokens: bow_simple\n",
    "bow_simple = Counter( lower_tokens )\n",
    "\n",
    "# Print the 10 most common tokens\n",
    "print(bow_simple.most_common( 10 ))"
   ]
  },
  {
   "cell_type": "markdown",
   "metadata": {},
   "source": [
    "<br>\n",
    "\n",
    "### Simple Text Preprocessing\n",
    "\n",
    "* Preprocessing leads to better input data\n",
    "* Preprocessing:\n",
    "    - tokenization\n",
    "    - case (lowercase works better for bag-of-words)\n",
    "    - lemmatization/stemming\n",
    "    - removing stop words, punctuation or unwanted tokens\n",
    "\n",
    "<br>"
   ]
  },
  {
   "cell_type": "code",
   "execution_count": 31,
   "metadata": {},
   "outputs": [
    {
     "data": {
      "text/plain": [
       "[('debugging', 30),\n",
       " ('system', 18),\n",
       " ('software', 16),\n",
       " ('computer', 12),\n",
       " ('used', 12),\n",
       " ('tools', 12),\n",
       " ('process', 11),\n",
       " ('http', 11),\n",
       " ('term', 11),\n",
       " ('program', 10),\n",
       " ('programming', 9),\n",
       " ('bug', 9),\n",
       " ('problem', 9),\n",
       " ('debugger', 9),\n",
       " ('code', 8),\n",
       " ('check', 8),\n",
       " ('also', 7),\n",
       " ('techniques', 7),\n",
       " ('example', 7),\n",
       " ('may', 6),\n",
       " ('acm', 6),\n",
       " ('would', 6),\n",
       " ('language', 6),\n",
       " ('make', 6),\n",
       " ('test', 6)]"
      ]
     },
     "execution_count": 31,
     "metadata": {},
     "output_type": "execute_result"
    }
   ],
   "source": [
    "# select for text only tokens\n",
    "from nltk.corpus import stopwords\n",
    "tokens = [w for w in word_tokenize( article.lower() ) if w.isalpha() ]\n",
    "no_stops = [ t for t in tokens if t not in stopwords.words( 'english' ) ]\n",
    "Counter( no_stops ).most_common( 25 )"
   ]
  },
  {
   "cell_type": "code",
   "execution_count": 34,
   "metadata": {},
   "outputs": [
    {
     "name": "stdout",
     "output_type": "stream",
     "text": [
      "[('debugging', 30), ('system', 23), ('software', 16), ('computer', 14), ('bug', 14), ('problem', 14), ('term', 13), ('tool', 13), ('process', 12), ('used', 12), ('http', 11), ('program', 11), ('debugger', 10), ('programming', 9), ('technique', 9), ('language', 9), ('code', 8), ('check', 8), ('error', 7), ('also', 7), ('make', 7), ('example', 7), ('programmer', 6), ('may', 6), ('acm', 6)]\n"
     ]
    }
   ],
   "source": [
    "# Import WordNetLemmatizer\n",
    "from nltk.stem import WordNetLemmatizer\n",
    "\n",
    "# Retain alphabetic words: alpha_only\n",
    "alpha_only = [t for t in word_tokenize( article.lower() ) if t.isalpha()]\n",
    "\n",
    "# Remove all stop words: no_stops\n",
    "no_stops = [t for t in alpha_only if t not in stopwords.words( 'english' ) ]\n",
    "\n",
    "# Instantiate the WordNetLemmatizer\n",
    "wordnet_lemmatizer = WordNetLemmatizer()\n",
    "\n",
    "# Lemmatize all tokens into a new list: lemmatized\n",
    "lemmatized = [wordnet_lemmatizer.lemmatize(t) for t in no_stops]\n",
    "\n",
    "# Create the bag-of-words: bow\n",
    "bow = Counter(lemmatized)\n",
    "\n",
    "# Print the 10 most common tokens\n",
    "print(bow.most_common(25))"
   ]
  },
  {
   "cell_type": "markdown",
   "metadata": {},
   "source": [
    "<br>\n",
    "\n",
    "### Introduction to `gensim`\n",
    "\n",
    "`gensim` is a popular open-source NLP library used for building documents (corpora) and word vectors. also for performing complex tasks such as topic identification and document comparison  \n",
    "\n",
    "**word vector/embedding** - trained from a larger corpus. a multidimentional representation of a word that reveals relationships between the words or documents. Word vectors are multi-dimensional mathematical representations of words created using deep learning methods. They give us insight into relationships between words in a corpus.  \n",
    "check out the interesting article on [clustering presidential speeches](https://tlfvincent.github.io/2015/10/23/presidential-speech-topics/)  \n",
    "\n",
    "**corpora** is a set of texts used to help perform natural language processing tasks  \n",
    "\n",
    "`gensim` produces a more advanced and feature rich bag-of-words\n",
    "\n",
    "<br>"
   ]
  },
  {
   "cell_type": "code",
   "execution_count": 37,
   "metadata": {},
   "outputs": [
    {
     "name": "stdout",
     "output_type": "stream",
     "text": [
      "['wiki_text_bug.txt', 'wiki_text_computer.txt', 'wiki_text_crash.txt', 'wiki_text_debugger.txt', 'wiki_text_debugging.txt', 'wiki_text_exception.txt', 'wiki_text_hopper.txt', 'wiki_text_language.txt', 'wiki_text_malware.txt', 'wiki_text_program.txt', 'wiki_text_reversing.txt', 'wiki_text_software.txt']\n"
     ]
    }
   ],
   "source": [
    "from nltk.corpus import PlaintextCorpusReader\n",
    "corpus_root = '/home/bonzilla/Documents/ReadingLearningTinkering/DataCamp/NLP_inPython/Wikipedia_articles'\n",
    "wordlists = PlaintextCorpusReader( corpus_root, '.*' )\n",
    "print( wordlists.fileids() )"
   ]
  },
  {
   "cell_type": "code",
   "execution_count": 61,
   "metadata": {},
   "outputs": [],
   "source": [
    "articles = [ [word for word in wordlists.words( fileid ) \n",
    "            if word.isalpha()\n",
    "            if word not in stopwords.words( 'english' )] for fileid in wordlists.fileids() ]"
   ]
  },
  {
   "cell_type": "code",
   "execution_count": 62,
   "metadata": {},
   "outputs": [
    {
     "name": "stdout",
     "output_type": "stream",
     "text": [
      "computer\n",
      "[(0, 5), (3, 1), (10, 1), (11, 1), (21, 3), (27, 1), (28, 1), (29, 4), (36, 2), (42, 2)]\n"
     ]
    }
   ],
   "source": [
    "# Import Dictionary\n",
    "from gensim.corpora.dictionary import Dictionary\n",
    "\n",
    "# Create a Dictionary from the articles: dictionary\n",
    "dictionary = Dictionary(articles)\n",
    "\n",
    "# Select the id for \"computer\": computer_id\n",
    "computer_id = dictionary.token2id.get(\"computer\")\n",
    "\n",
    "# Use computer_id with the dictionary to print the word\n",
    "print(dictionary.get(computer_id))\n",
    "\n",
    "# Create a MmCorpus: corpus\n",
    "corpus = [dictionary.doc2bow(article) for article in articles]\n",
    "\n",
    "# Print the first 10 word ids with their frequency counts from the fifth document\n",
    "print(corpus[4][:10])"
   ]
  },
  {
   "cell_type": "code",
   "execution_count": 74,
   "metadata": {},
   "outputs": [
    {
     "name": "stdout",
     "output_type": "stream",
     "text": [
      "engineering 81\n",
      "reverse 61\n",
      "Reverse 48\n",
      "software 40\n",
      "The 32\n"
     ]
    }
   ],
   "source": [
    "from collections import defaultdict\n",
    "import itertools\n",
    "\n",
    "# Save the fifth document: doc\n",
    "doc = corpus[10]\n",
    "\n",
    "# Sort the doc for frequency: bow_doc\n",
    "bow_doc = sorted(doc, key=lambda w: w[1], reverse=True)\n",
    "\n",
    "# Print the top 5 words of the document alongside the count\n",
    "for word_id, word_count in bow_doc[:5]:\n",
    "    print(dictionary.get(word_id), word_count)\n",
    "    \n",
    "# Create the defaultdict: total_word_count\n",
    "total_word_count = defaultdict(int)\n",
    "for word_id, word_count in itertools.chain.from_iterable(corpus):\n",
    "    total_word_count[word_id] += word_count"
   ]
  },
  {
   "cell_type": "code",
   "execution_count": 75,
   "metadata": {},
   "outputs": [
    {
     "name": "stdout",
     "output_type": "stream",
     "text": [
      "debugging 37\n",
      "system 18\n",
      "The 16\n",
      "software 15\n",
      "http 14\n",
      "computer 509\n",
      "software 394\n",
      "The 393\n",
      "title 355\n",
      "http 313\n"
     ]
    }
   ],
   "source": [
    "# use your new gensim corpus and dictionary to see the most common terms per document and across all documents. \n",
    "# Save the fifth document: doc\n",
    "doc = corpus[4]\n",
    "\n",
    "# Sort the doc for frequency: bow_doc\n",
    "bow_doc = sorted(doc, key=lambda w: w[1], reverse=True)\n",
    "\n",
    "# Print the top 5 words of the document alongside the count\n",
    "for word_id, word_count in bow_doc[:5]:\n",
    "    print(dictionary.get(word_id), word_count)\n",
    "    \n",
    "# Create the defaultdict: total_word_count\n",
    "total_word_count = defaultdict(int)\n",
    "for word_id, word_count in itertools.chain.from_iterable(corpus):\n",
    "    total_word_count[word_id] += word_count\n",
    "    \n",
    "# Create a sorted list from the defaultdict: sorted_word_count\n",
    "sorted_word_count = sorted(total_word_count.items(), key=lambda w: w[1], reverse=True) \n",
    "\n",
    "# Print the top 5 words across all documents alongside the count\n",
    "for word_id, word_count in sorted_word_count[:5]:\n",
    "    print( dictionary.get(word_id), word_count)"
   ]
  },
  {
   "cell_type": "markdown",
   "metadata": {},
   "source": [
    "<br>\n",
    "\n",
    "### Tf-idf with `gensim`\n",
    "\n",
    "**tf-idf** - term-frequency - inverse document frequency  \n",
    "allows you to determine the most important words in each document  \n",
    "shared words beyond just stopwords  \n",
    "ensures that the most common words don't show up as key words.  \n",
    "keeps document specific frequent words weighted high, with corpora ubiquitous words weighted low  \n",
    "\n",
    "$$w_{i,j} = tf_{i,j}\\cdot log(\\frac{N}{df_i})$$\n",
    "\n",
    "which can be interpreted as: the weight is found as the term frequency ($tf_{i,j}$) how many times the token appears in a specific document) times the log of the total number of documents ($N$) divided by the number of documents where the token appears ($df_i$)\n",
    "\n",
    "The weight will be low if the token doesn't appear in the doc.  \n",
    "The weight will also be low if the token appears in a lot of docs in the corpora\n",
    "<br>"
   ]
  },
  {
   "cell_type": "code",
   "execution_count": 77,
   "metadata": {},
   "outputs": [
    {
     "ename": "NameError",
     "evalue": "name 'TFidfModel' is not defined",
     "output_type": "error",
     "traceback": [
      "\u001b[0;31m---------------------------------------------------------------------------\u001b[0m",
      "\u001b[0;31mNameError\u001b[0m                                 Traceback (most recent call last)",
      "\u001b[0;32m<ipython-input-77-158d139dbca0>\u001b[0m in \u001b[0;36m<module>\u001b[0;34m\u001b[0m\n\u001b[1;32m      1\u001b[0m \u001b[0;32mfrom\u001b[0m \u001b[0mgensim\u001b[0m\u001b[0;34m.\u001b[0m\u001b[0mmodels\u001b[0m\u001b[0;34m.\u001b[0m\u001b[0mtfidfmodel\u001b[0m \u001b[0;32mimport\u001b[0m \u001b[0mTfidfModel\u001b[0m\u001b[0;34m\u001b[0m\u001b[0;34m\u001b[0m\u001b[0m\n\u001b[0;32m----> 2\u001b[0;31m \u001b[0mtfidf\u001b[0m \u001b[0;34m=\u001b[0m \u001b[0mTFidfModel\u001b[0m\u001b[0;34m(\u001b[0m \u001b[0mcorpus\u001b[0m \u001b[0;34m)\u001b[0m\u001b[0;34m\u001b[0m\u001b[0;34m\u001b[0m\u001b[0m\n\u001b[0m\u001b[1;32m      3\u001b[0m \u001b[0mtfidf\u001b[0m\u001b[0;34m[\u001b[0m \u001b[0mcorpus\u001b[0m\u001b[0;34m[\u001b[0m\u001b[0;36m1\u001b[0m\u001b[0;34m]\u001b[0m \u001b[0;34m]\u001b[0m\u001b[0;34m\u001b[0m\u001b[0;34m\u001b[0m\u001b[0m\n",
      "\u001b[0;31mNameError\u001b[0m: name 'TFidfModel' is not defined"
     ]
    }
   ],
   "source": [
    "from gensim.models.tfidfmodel import TfidfModel\n",
    "tfidf = TFidfModel( corpus )\n",
    "tfidf[ corpus[1] ]"
   ]
  },
  {
   "cell_type": "code",
   "execution_count": 76,
   "metadata": {},
   "outputs": [
    {
     "ename": "NameError",
     "evalue": "name 'TfidfModel' is not defined",
     "output_type": "error",
     "traceback": [
      "\u001b[0;31m---------------------------------------------------------------------------\u001b[0m",
      "\u001b[0;31mNameError\u001b[0m                                 Traceback (most recent call last)",
      "\u001b[0;32m<ipython-input-76-2aa3ed6ca8e1>\u001b[0m in \u001b[0;36m<module>\u001b[0;34m\u001b[0m\n\u001b[1;32m      1\u001b[0m \u001b[0;31m# Create a new TfidfModel using the corpus: tfidf\u001b[0m\u001b[0;34m\u001b[0m\u001b[0;34m\u001b[0m\u001b[0;34m\u001b[0m\u001b[0m\n\u001b[0;32m----> 2\u001b[0;31m \u001b[0mtfidf\u001b[0m \u001b[0;34m=\u001b[0m \u001b[0mTfidfModel\u001b[0m\u001b[0;34m(\u001b[0m \u001b[0mcorpus\u001b[0m \u001b[0;34m)\u001b[0m\u001b[0;34m\u001b[0m\u001b[0;34m\u001b[0m\u001b[0m\n\u001b[0m\u001b[1;32m      3\u001b[0m \u001b[0;34m\u001b[0m\u001b[0m\n\u001b[1;32m      4\u001b[0m \u001b[0;31m# Calculate the tfidf weights of doc: tfidf_weights\u001b[0m\u001b[0;34m\u001b[0m\u001b[0;34m\u001b[0m\u001b[0;34m\u001b[0m\u001b[0m\n\u001b[1;32m      5\u001b[0m \u001b[0mtfidf_weights\u001b[0m \u001b[0;34m=\u001b[0m \u001b[0mtfidf\u001b[0m\u001b[0;34m[\u001b[0m \u001b[0mdoc\u001b[0m \u001b[0;34m]\u001b[0m\u001b[0;34m\u001b[0m\u001b[0;34m\u001b[0m\u001b[0m\n",
      "\u001b[0;31mNameError\u001b[0m: name 'TfidfModel' is not defined"
     ]
    }
   ],
   "source": [
    "# Create a new TfidfModel using the corpus: tfidf\n",
    "tfidf = TfidfModel( corpus )\n",
    "\n",
    "# Calculate the tfidf weights of doc: tfidf_weights\n",
    "tfidf_weights = tfidf[ doc ]\n",
    "\n",
    "# Print the first five weights\n",
    "print(tfidf_weights[0:5])"
   ]
  },
  {
   "cell_type": "code",
   "execution_count": null,
   "metadata": {},
   "outputs": [],
   "source": []
  }
 ],
 "metadata": {
  "kernelspec": {
   "display_name": "Python 3",
   "language": "python",
   "name": "python3"
  },
  "language_info": {
   "codemirror_mode": {
    "name": "ipython",
    "version": 3
   },
   "file_extension": ".py",
   "mimetype": "text/x-python",
   "name": "python",
   "nbconvert_exporter": "python",
   "pygments_lexer": "ipython3",
   "version": "3.7.6"
  }
 },
 "nbformat": 4,
 "nbformat_minor": 4
}
