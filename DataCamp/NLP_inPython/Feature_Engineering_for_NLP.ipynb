{
 "cells": [
  {
   "cell_type": "markdown",
   "metadata": {},
   "source": [
    "<br>\n",
    "\n",
    "# Feature Engineering for NLP in Python\n",
    "\n",
    "<br>"
   ]
  },
  {
   "cell_type": "markdown",
   "metadata": {},
   "source": [
    "## Introductiont to NLP Feature Engineering\n",
    "\n",
    "For an ML algorithm, data fed into it must be in tabular form and all the training features must be numerical.  \n",
    "**One-hot-encoding** - can be useful for recoding text information for ML algorithms.  \n",
    "use the `get_dummies()` function from the `pandas` library.  \n",
    "\n",
    "    # Import the pandas library\n",
    "    import pandas as pf\n",
    "    \n",
    "    # Perform one-hot encoding on a feature in a dataframe\n",
    "    df = get_dummies( df, columns = ['feature'] )\n",
    "\n",
    "<br>"
   ]
  },
  {
   "cell_type": "markdown",
   "metadata": {},
   "source": [
    "### Basic Feature Extraction\n",
    "\n",
    "**Number of Characters** - length of the string (including white space).\n",
    "\n",
    "    text = 'I don't know'\n",
    "    num_char = len( text )\n",
    "    \n",
    "    # create a 'num_chars' feature\n",
    "    df[ 'num_chars' ] = df[ 'review' ].apply( len )\n",
    "    \n",
    "**Number of Words**  \n",
    "\n",
    "    text = \"Mary had a littel lamb\"\n",
    "    words = text.split( )\n",
    "    num_words = len( words )\n",
    "    \n",
    "    # create a 'num_words' feature\n",
    "    def word_count( text ):\n",
    "        words = string.split()\n",
    "        return len( words )\n",
    "    df[ 'num_words' ] = df[ 'review' ].apply( word_count )\n",
    "\n",
    "**Average Word Length**\n",
    "\n",
    "    #define a function that returns the average word length of a string of words.\n",
    "    def avg_word_length( x ):\n",
    "        words = x.split()\n",
    "        word_lengths = [len( word ) for word in words ]\n",
    "        avg_len = sum( word_lengths )/len( word_lengths )\n",
    "        return( avg_len )\n",
    "        \n",
    "    # create a 'avg_word_length' feature\n",
    "    df[ 'avg_word_length' ] = df[ 'review' ].apply( doc_density )\n",
    "    \n",
    "**Special Features:** counts of hashtags and mentions in tweet data\n",
    "\n",
    "    # Function that returns number of hashtags\n",
    "    def hashtag_count( string ):\n",
    "        # split the string into words\n",
    "        words = string.split()\n",
    "        # create a list of hashtags\n",
    "        hashtags = [ word for word in words if word.startswith( '#' )]\n",
    "        # return the number of hashtags\n",
    "        return len( hashtags )\n",
    "    def mentions_count( string ):\n",
    "        # split the string into words\n",
    "        words = string.split()\n",
    "        # create a list of hashtags\n",
    "        mentions = [ word for word in words if word.startswith( '@' )]\n",
    "        # return the number of hashtags\n",
    "        return len( mentions )   \n",
    "        \n",
    "    # create 'hashtag_count' and 'mentions_count' features\n",
    "    df[ 'num_hashtags' ] = df[ 'review' ].apply( hashtag_count )\n",
    "    df[ 'num_mentions' ] = df[ 'review' ].apply( mentions_count )\n",
    "    \n",
    "**Other features**  \n",
    "\n",
    "* Number of sentences\n",
    "* Number of paragraphs\n",
    "* Words starting with an uppercase\n",
    "* All-capital words\n",
    "* Numeric quantities\n",
    "* etc.\n",
    "\n",
    "<br>"
   ]
  },
  {
   "cell_type": "code",
   "execution_count": 2,
   "metadata": {},
   "outputs": [
    {
     "data": {
      "text/html": [
       "<div>\n",
       "<style scoped>\n",
       "    .dataframe tbody tr th:only-of-type {\n",
       "        vertical-align: middle;\n",
       "    }\n",
       "\n",
       "    .dataframe tbody tr th {\n",
       "        vertical-align: top;\n",
       "    }\n",
       "\n",
       "    .dataframe thead th {\n",
       "        text-align: right;\n",
       "    }\n",
       "</style>\n",
       "<table border=\"1\" class=\"dataframe\">\n",
       "  <thead>\n",
       "    <tr style=\"text-align: right;\">\n",
       "      <th></th>\n",
       "      <th>Unnamed: 0</th>\n",
       "      <th>content</th>\n",
       "    </tr>\n",
       "  </thead>\n",
       "  <tbody>\n",
       "    <tr>\n",
       "      <th>0</th>\n",
       "      <td>127447</td>\n",
       "      <td>LIVE STREAM VIDEO=&gt; Donald Trump Rallies in Co...</td>\n",
       "    </tr>\n",
       "    <tr>\n",
       "      <th>1</th>\n",
       "      <td>123642</td>\n",
       "      <td>Muslim Attacks NYPD Cops with Meat Cleaver. Me...</td>\n",
       "    </tr>\n",
       "    <tr>\n",
       "      <th>2</th>\n",
       "      <td>226970</td>\n",
       "      <td>.@vfpatlas well that's a swella word there (di...</td>\n",
       "    </tr>\n",
       "    <tr>\n",
       "      <th>3</th>\n",
       "      <td>138339</td>\n",
       "      <td>RT wehking_pamela: Bobby_Axelrod2k MMFlint don...</td>\n",
       "    </tr>\n",
       "    <tr>\n",
       "      <th>4</th>\n",
       "      <td>161610</td>\n",
       "      <td>Жители обстреливаемых районов Донецка проводят...</td>\n",
       "    </tr>\n",
       "  </tbody>\n",
       "</table>\n",
       "</div>"
      ],
      "text/plain": [
       "   Unnamed: 0                                            content\n",
       "0      127447  LIVE STREAM VIDEO=> Donald Trump Rallies in Co...\n",
       "1      123642  Muslim Attacks NYPD Cops with Meat Cleaver. Me...\n",
       "2      226970  .@vfpatlas well that's a swella word there (di...\n",
       "3      138339  RT wehking_pamela: Bobby_Axelrod2k MMFlint don...\n",
       "4      161610  Жители обстреливаемых районов Донецка проводят..."
      ]
     },
     "execution_count": 2,
     "metadata": {},
     "output_type": "execute_result"
    }
   ],
   "source": [
    "import pandas as pd\n",
    "\n",
    "tweets = pd.read_csv( 'russian_tweets.csv' )\n",
    "tweets.head()"
   ]
  },
  {
   "cell_type": "code",
   "execution_count": 3,
   "metadata": {},
   "outputs": [
    {
     "name": "stdout",
     "output_type": "stream",
     "text": [
      "mean tweet length:  103.462\n"
     ]
    },
    {
     "data": {
      "text/html": [
       "<div>\n",
       "<style scoped>\n",
       "    .dataframe tbody tr th:only-of-type {\n",
       "        vertical-align: middle;\n",
       "    }\n",
       "\n",
       "    .dataframe tbody tr th {\n",
       "        vertical-align: top;\n",
       "    }\n",
       "\n",
       "    .dataframe thead th {\n",
       "        text-align: right;\n",
       "    }\n",
       "</style>\n",
       "<table border=\"1\" class=\"dataframe\">\n",
       "  <thead>\n",
       "    <tr style=\"text-align: right;\">\n",
       "      <th></th>\n",
       "      <th>Unnamed: 0</th>\n",
       "      <th>content</th>\n",
       "      <th>char_count</th>\n",
       "    </tr>\n",
       "  </thead>\n",
       "  <tbody>\n",
       "    <tr>\n",
       "      <th>0</th>\n",
       "      <td>127447</td>\n",
       "      <td>LIVE STREAM VIDEO=&gt; Donald Trump Rallies in Co...</td>\n",
       "      <td>130</td>\n",
       "    </tr>\n",
       "    <tr>\n",
       "      <th>1</th>\n",
       "      <td>123642</td>\n",
       "      <td>Muslim Attacks NYPD Cops with Meat Cleaver. Me...</td>\n",
       "      <td>138</td>\n",
       "    </tr>\n",
       "    <tr>\n",
       "      <th>2</th>\n",
       "      <td>226970</td>\n",
       "      <td>.@vfpatlas well that's a swella word there (di...</td>\n",
       "      <td>65</td>\n",
       "    </tr>\n",
       "    <tr>\n",
       "      <th>3</th>\n",
       "      <td>138339</td>\n",
       "      <td>RT wehking_pamela: Bobby_Axelrod2k MMFlint don...</td>\n",
       "      <td>139</td>\n",
       "    </tr>\n",
       "    <tr>\n",
       "      <th>4</th>\n",
       "      <td>161610</td>\n",
       "      <td>Жители обстреливаемых районов Донецка проводят...</td>\n",
       "      <td>131</td>\n",
       "    </tr>\n",
       "  </tbody>\n",
       "</table>\n",
       "</div>"
      ],
      "text/plain": [
       "   Unnamed: 0                                            content  char_count\n",
       "0      127447  LIVE STREAM VIDEO=> Donald Trump Rallies in Co...         130\n",
       "1      123642  Muslim Attacks NYPD Cops with Meat Cleaver. Me...         138\n",
       "2      226970  .@vfpatlas well that's a swella word there (di...          65\n",
       "3      138339  RT wehking_pamela: Bobby_Axelrod2k MMFlint don...         139\n",
       "4      161610  Жители обстреливаемых районов Донецка проводят...         131"
      ]
     },
     "execution_count": 3,
     "metadata": {},
     "output_type": "execute_result"
    }
   ],
   "source": [
    "# Create a feature char_count\n",
    "tweets['char_count'] = tweets['content'].apply(len)\n",
    "\n",
    "# Print the average character count\n",
    "print( 'mean tweet length: ', tweets['char_count'].mean())\n",
    "tweets.head()"
   ]
  },
  {
   "cell_type": "code",
   "execution_count": 4,
   "metadata": {},
   "outputs": [
    {
     "data": {
      "image/png": "[encoded data removed]",
      "text/plain": [
       "<Figure size 432x288 with 1 Axes>"
      ]
     },
     "metadata": {
      "needs_background": "light"
     },
     "output_type": "display_data"
    },
    {
     "data": {
      "image/png": "[encoded data removed]",
      "text/plain": [
       "<Figure size 432x288 with 1 Axes>"
      ]
     },
     "metadata": {
      "needs_background": "light"
     },
     "output_type": "display_data"
    }
   ],
   "source": [
    "import matplotlib.pyplot as plt\n",
    "%matplotlib inline\n",
    "\n",
    "# Function that returns numner of hashtags in a string\n",
    "def count_hashtags(string):\n",
    "\t# Split the string into words\n",
    "    words = string.split()\n",
    "    \n",
    "    # Create a list of words that are hashtags\n",
    "    hashtags = [word for word in words if word.startswith('#')]\n",
    "    \n",
    "    # Return number of hashtags\n",
    "    return(len(hashtags))\n",
    "\n",
    "# Create a feature hashtag_count and display distribution\n",
    "tweets['hashtag_count'] = tweets['content'].apply(count_hashtags)\n",
    "tweets['hashtag_count'].hist()\n",
    "plt.title('Hashtag count distribution')\n",
    "plt.show()\n",
    "\n",
    "# Function that returns number of mentions in a string\n",
    "def count_mentions(string):\n",
    "\t# Split the string into words\n",
    "    words = string.split()\n",
    "    \n",
    "    # Create a list of words that are mentions\n",
    "    mentions = [word for word in words if word.startswith('@')]\n",
    "    \n",
    "    # Return number of mentions\n",
    "    return(len(mentions))\n",
    "\n",
    "# Create a feature mention_count and display distribution\n",
    "tweets['mention_count'] = tweets['content'].apply(count_mentions)\n",
    "tweets['mention_count'].hist()\n",
    "plt.title('Mention count distribution')\n",
    "plt.show()"
   ]
  },
  {
   "cell_type": "code",
   "execution_count": 5,
   "metadata": {},
   "outputs": [
    {
     "name": "stdout",
     "output_type": "stream",
     "text": [
      "1987.1\n"
     ]
    }
   ],
   "source": [
    "ted = pd.read_csv( 'ted.csv' )\n",
    "\n",
    "# Function that returns number of words in a string\n",
    "def count_words(string):\n",
    "\t# Split the string into words\n",
    "    words = string.split()\n",
    "    \n",
    "    # Return the number of words\n",
    "    return len(words)\n",
    "\n",
    "# Create a new feature word_count\n",
    "ted['word_count'] = ted['transcript'].apply(count_words)\n",
    "\n",
    "# Print the average word count of the talks\n",
    "print(ted['word_count'].mean())"
   ]
  },
  {
   "cell_type": "markdown",
   "metadata": {},
   "source": [
    "<br>\n",
    "\n",
    "### Readability Tests\n",
    "\n",
    "Determine the readability of an English passage of text.  \n",
    "A mathematical formula is used to determine readability the utilizes the word, syllable and sentence count of a piece of text.  \n",
    "\n",
    "Readability Tests (English):  \n",
    "\n",
    "* Flesch reading ease\n",
    "* Gunning fog index\n",
    "* Simple Measure of Gobbledygook (SMOG)\n",
    "* Dale-Chacll score\n",
    "\n",
    "**Flesch Reading Ease:**\n",
    "\n",
    "* One of the oldest and most widely used tests\n",
    "* Dependent on 2 factors:\n",
    "    * the greater the average sentence length, the harder the text is to read\n",
    "    * the greater the average number of syllables in a word, the harder the text is to read\n",
    "* the higher the Flesch reading score, the greater the readability\n",
    "    * score: 90-100 $\\rightarrow$ 5th grade level\n",
    "    * score: 60-70 $\\rightarrow$ 8-9th grade level\n",
    "    * score: 0-30 $\\rightarrow$ College graduate\n",
    "    \n",
    "**Gunning Fog Index:**\n",
    "\n",
    "* Also dependent on average sentence length\n",
    "* Greater the percentage of complex words, the harder the text is to read\n",
    "    * where a complex word is any word with 3+ syllables\n",
    "* the Higher the score, the more difficult the text is to understand\n",
    "    * score: 6 $\\rightarrow$ 6th grade\n",
    "    * score: 17 $\\rightarrow$ College \n",
    "    \n",
    "**Implementation**  \n",
    "Use the `textatistic` library\n",
    "\n",
    "    # Import the Textatistic class\n",
    "    from textatistic import Textatistic\n",
    "    \n",
    "    # Create a Textatistic Object\n",
    "    readability_scores = Textatistic( text ).scores\n",
    "    \n",
    "    # Return the scores\n",
    "    print( readability_scores['flesch_score'] )\n",
    "    print( readability_scores = ['gunnungfog_score'] )\n",
    "    \n",
    "<br>"
   ]
  },
  {
   "cell_type": "code",
   "execution_count": 6,
   "metadata": {},
   "outputs": [
    {
     "name": "stdout",
     "output_type": "stream",
     "text": [
      "The Flesch Reading Ease is 81.67\n"
     ]
    }
   ],
   "source": [
    "sisyphus_essay = \"\"\"\\nThe gods had condemned Sisyphus to ceaselessly rolling a rock to the top of a mountain, \n",
    "whence the stone would fall back of its own weight. They had thought with some reason that there is no more \n",
    "dreadful punishment than futile and hopeless labor. If one believes Homer, Sisyphus was the wisest and most \n",
    "prudent of mortals. According to another tradition, however, he was disposed to practice the profession of \n",
    "highwayman. I see no contradiction in this. Opinions differ as to the reasons why he became the futile laborer \n",
    "of the underworld. To begin with, he is accused of a certain levity in regard to the gods. He stole their secrets. \n",
    "Egina, the daughter of Esopus, was carried off by Jupiter. The father was shocked by that disappearance and \n",
    "complained to Sisyphus. He, who knew of the abduction, offered to tell about it on condition that Esopus would \n",
    "give water to the citadel of Corinth. To the celestial thunderbolts he preferred the benediction of water. \n",
    "He was punished for this in the underworld. Homer tells us also that Sisyphus had put Death in chains. \n",
    "Pluto could not endure the sight of his deserted, silent empire. He dispatched the god of war, who liberated \n",
    "Death from the hands of her conqueror. It is said that Sisyphus, being near to death, rashly wanted to test \n",
    "his wife\\'s love. He ordered her to cast his unburied body into the middle of the public square. \n",
    "Sisyphus woke up in the underworld. And there, annoyed by an obedience so contrary to human love, he obtained \n",
    "from Pluto permission to return to earth in order to chastise his wife. But when he had seen again the face of \n",
    "this world, enjoyed water and sun, warm stones and the sea, he no longer wanted to go back to the infernal \n",
    "darkness. Recalls, signs of anger, warnings were of no avail. Many years more he lived facing the curve of the \n",
    "gulf, the sparkling sea, and the smiles of earth. A decree of the gods was necessary. Mercury came and seized \n",
    "the impudent man by the collar and, snatching him from his joys, lead him forcibly back to the underworld, where \n",
    "his rock was ready for him. You have already grasped that Sisyphus is the absurd hero. He is, as much through his \n",
    "passions as through his torture. His scorn of the gods, his hatred of death, and his passion for life won him \n",
    "that unspeakable penalty in which the whole being is exerted toward accomplishing nothing. This is the price \n",
    "that must be paid for the passions of this earth. Nothing is told us about Sisyphus in the underworld. \n",
    "Myths are made for the imagination to breathe life into them. As for this myth, one sees merely the whole \n",
    "effort of a body straining to raise the huge stone, to roll it, and push it up a slope a hundred times over; \n",
    "one sees the face screwed up, the cheek tight against the stone, the shoulder bracing the clay-covered mass, \n",
    "the foot wedging it, the fresh start with arms outstretched, the wholly human security of two earth-clotted hands. \n",
    "At the very end of his long effort measured by skyless space and time without depth, the purpose is achieved. \n",
    "Then Sisyphus watches the stone rush down in a few moments toward tlower world whence he will have to push it \n",
    "up again toward the summit. He goes back down to the plain. It is during that return, that pause, that Sisyphus \n",
    "interests me. A face that toils so close to stones is already stone itself! I see that man going back down with \n",
    "a heavy yet measured step toward the torment of which he will never know the end. That hour like a breathing-space \n",
    "which returns as surely as his suffering, that is the hour of consciousness. At each of those moments when he \n",
    "leaves the heights and gradually sinks toward the lairs of the gods, he is superior to his fate. He is stronger \n",
    "than his rock. If this myth is tragic, that is because its hero is conscious. Where would his torture be, indeed, \n",
    "if at every step the hope of succeeding upheld him? The workman of today works everyday in his life at the same \n",
    "tasks, and his fate is no less absurd. But it is tragic only at the rare moments when it becomes conscious. \n",
    "Sisyphus, proletarian of the gods, powerless and rebellious, knows the whole extent of his wretched condition: \n",
    "it is what he thinks of during his descent. The lucidity that was to constitute his torture at the same time \n",
    "crowns his victory. There is no fate that can not be surmounted by scorn. If the descent is thus sometimes \n",
    "performed in sorrow, it can also take place in joy. This word is not too much. Again I fancy Sisyphus returning \n",
    "toward his rock, and the sorrow was in the beginning. When the images of earth cling too tightly to memory, \n",
    "when the call of happiness becomes too insistent, it happens that melancholy arises in man\\'s heart: \n",
    "this is the rock\\'s victory, this is the rock itself. The boundless grief is too heavy to bear. These are our \n",
    "nights of Gethsemane. But crushing truths perish from being acknowledged. Thus, Edipus at the outset obeys fate \n",
    "without knowing it. But from the moment he knows, his tragedy begins. Yet at the same moment, blind and desperate, \n",
    "he realizes that the only bond linking him to the world is the cool hand of a girl. Then a tremendous remark \n",
    "rings out: \"Despite so many ordeals, my advanced age and the nobility of my soul make me conclude that all is \n",
    "well.\" Sophocles\\' Edipus, like Dostoevsky\\'s Kirilov, thus gives the recipe for the absurd victory. Ancient \n",
    "wisdom confirms modern heroism. One does not discover the absurd without being tempted to write a manual of \n",
    "happiness. \"What!---by such narrow ways--?\" There is but one world, however. Happiness and the absurd are two \n",
    "sons of the same earth. They are inseparable. It would be a mistake to say that happiness necessarily springs \n",
    "from the absurd. Discovery. It happens as well that the felling of the absurd springs from happiness. \"I \n",
    "conclude that all is well,\" says Edipus, and that remark is sacred. It echoes in the wild and limited universe \n",
    "of man. It teaches that all is not, has not been, exhausted. It drives out of this world a god who had come into \n",
    "it with dissatisfaction and a preference for futile suffering. It makes of fate a human matter, which must be \n",
    "settled among men. All Sisyphus\\' silent joy is contained therein. His fate belongs to him. His rock is a thing. \n",
    "Likewise, the absurd man, when he contemplates his torment, silences all the idols. In the universe suddenly \n",
    "restored to its silence, the myriad wondering little voices of the earth rise up. Unconscious, secret calls, \n",
    "invitations from all the faces, they are the necessary reverse and price of victory. There is no sun without \n",
    "shadow, and it is essential to know the night. The absurd man says yes and his efforts will henceforth be \n",
    "unceasing. If there is a personal fate, there is no higher destiny, or at least there is, but one which he \n",
    "concludes is inevitable and despicable. For the rest, he knows himself to be the master of his days. At that \n",
    "subtle moment when man glances backward over his life, Sisyphus returning toward his rock, in that slight \n",
    "pivoting he contemplates that series of unrelated actions which become his fate, created by him, combined \n",
    "under his memory\\'s eye and soon sealed by his death. Thus, convinced of the wholly human origin of all that \n",
    "is human, a blind man eager to see who knows that the night has no end, he is still on the go. The rock is \n",
    "still rolling. I leave Sisyphus at the foot of the mountain! One always finds one\\'s burden again. \n",
    "But Sisyphus teaches the higher fidelity that negates the gods and raises rocks. He too concludes that all is \n",
    "well. This universe henceforth without a master seems to him neither sterile nor futile. Each atom of that stone, \n",
    "each mineral flake of that night filled mountain, in itself forms a world. The struggle itself toward the heights \n",
    "is enough to fill a man\\'s heart. One must imagine Sisyphus happy.\\n\"\"\"\n",
    "\n",
    "# Import Textatistic\n",
    "from textatistic import Textatistic\n",
    "\n",
    "# Compute the readability scores \n",
    "readability_scores = Textatistic(sisyphus_essay).scores\n",
    "\n",
    "# Print the flesch reading ease score\n",
    "flesch = readability_scores['flesch_score']\n",
    "print(\"The Flesch Reading Ease is %.2f\" % (flesch))"
   ]
  },
  {
   "cell_type": "code",
   "execution_count": 7,
   "metadata": {},
   "outputs": [
    {
     "name": "stdout",
     "output_type": "stream",
     "text": [
      "[5.926785009861934, 5.926785009861934, 5.926785009861934, 5.926785009861934]\n"
     ]
    }
   ],
   "source": [
    "forbes = '\\nThe idea is to create more transparency about companies and individuals that are breaking the law or are non-compliant with official obligations and incentivize the right behaviors with the overall goal of improving governance and market order. The Chinese Communist Party intends the social credit score system to “allow the trustworthy to roam freely under heaven while making it hard for the discredited to take a single step.” Even though the system is still under development it currently plays out in real life in myriad ways for private citizens, businesses and government officials. Generally, higher credit scores give people a variety of advantages. Individuals are often given perks such as discounted energy bills and access or better visibility on dating websites. Often, those with higher social credit scores are able to forgo deposits on rental properties, bicycles, and umbrellas. They can even get better travel deals. In addition, Chinese hospitals are currently experimenting with social credit scores. A social credit score above 650 at one hospital allows an individual to see a doctor without lining up to pay.\\n'\n",
    "harvard_law = '\\nIn his important new book, The Schoolhouse Gate: Public Education, the Supreme Court, and the Battle for the American Mind, Professor Justin Driver reminds us that private controversies that arise within the confines of public schools are part of a broader historical arc — one that tracks a range of cultural and intellectual flashpoints in U.S. history. Moreover, Driver explains, these tensions are reflected in constitutional law, and indeed in the history and jurisprudence of the Supreme Court. As such, debates that arise in the context of public education are not simply about the conflict between academic freedom, public safety, and student rights. They mirror our persistent struggle to reconcile our interest in fostering a pluralistic society, rooted in the ideal of individual autonomy, with our desire to cultivate a sense of national unity and shared identity (or, put differently, our effort to reconcile our desire to forge common norms of citizenship with our fear of state indoctrination and overencroachment). In this regard, these debates reflect the unique role that both the school and the courts have played in defining and enforcing the boundaries of American citizenship. \\n'\n",
    "r_digest = '\\nThis week 30 passengers were reportedly injured when a Turkish Airlines flight landing at John F. Kennedy International Airport encountered turbulent conditions. Injuries included bruises, bloody noses, and broken bones. In mid-February, a Delta Airlines flight made an emergency landing to assist three passengers in getting to the nearest hospital after some sudden and unexpected turbulence. Doctors treated 15 passengers after a flight from Miami to Buenos Aires last October for everything from severe bruising to nosebleeds after the plane caught some rough winds over Brazil. In 2016, 23 passengers were injured on a United Airlines flight after severe turbulence threw people into the cabin ceiling. The list goes on. Turbulence has been become increasingly common, with painful outcomes for those on board. And more costly to the airlines, too. Forbes estimates that the cost of turbulence has risen to over $500 million each year in damages and delays. And there are no signs the increase in turbulence will be stopping anytime soon.\\n'\n",
    "time_kids = '\\nThat, of course, is easier said than done. The more you eat salty foods, the more you develop a taste for them. The key to changing your diet is to start small. “Small changes in sodium in foods are not usually noticed,” Quader says. Eventually, she adds, the effort will reset a kid’s taste buds so the salt cravings stop. Bridget Murphy is a dietitian at New York University’s Langone Medical Center. She suggests kids try adding spices to their food instead of salt. Eating fruits and veggies and cutting back on packaged foods will also help. Need a little inspiration? Murphy offers this tip: Focus on the immediate effects of a diet that is high in sodium. High blood pressure can make it difficult to be active. “Do you want to be able to think clearly and perform well in school?” she asks. “If you’re an athlete, do you want to run faster?” If you answered yes to these questions, then it’s time to shake the salt habit.\\n'\n",
    "\n",
    "# Import Textatistic\n",
    "from textatistic import Textatistic\n",
    "\n",
    "# List of excerpts\n",
    "excerpts = [forbes, harvard_law, r_digest, time_kids]\n",
    "\n",
    "# Loop through excerpts and compute gunning fog index\n",
    "gunning_fog_scores = []\n",
    "for excerpt in excerpts:\n",
    "    #print( excerpt )\n",
    "    #print( type( excerpt ) )\n",
    "  readability_scores = Textatistic(time_kids).scores\n",
    "  gunning_fog = readability_scores['gunningfog_score']\n",
    "  gunning_fog_scores.append(gunning_fog)\n",
    "\n",
    "# Print the gunning fog indices\n",
    "print(gunning_fog_scores)"
   ]
  },
  {
   "cell_type": "markdown",
   "metadata": {},
   "source": [
    "<br>\n",
    "\n",
    "## Text Preprocessing, POS tagging and NER\n",
    "\n",
    "### Tokenization and Lemmatization\n",
    "\n",
    "making text machine friendly  \n",
    "\n",
    "text preprocessing techniques:  \n",
    "\n",
    "* Converting words into lowercase\n",
    "* removing leading and trailing whitespace\n",
    "* removing punctuation\n",
    "* removing stopwords\n",
    "* expanding contractions\n",
    "* removing special characters ( numbers, emojis, etc. )\n",
    "\n",
    "\n",
    "**Lemmatization** - converting a word into its base form (lemma)\n",
    "\n",
    "<br>"
   ]
  },
  {
   "cell_type": "code",
   "execution_count": 8,
   "metadata": {},
   "outputs": [
    {
     "name": "stdout",
     "output_type": "stream",
     "text": [
      "text1:\n",
      "['I', 'have', 'a', 'dog', '.', 'His', 'name', 'is', 'Hachi', '.']\n",
      "['I', 'have', 'a', 'dog', '.', 'his', 'name', 'be', 'Hachi', '.']\n",
      "text2:\n",
      "['Do', \"n't\", 'do', 'this']\n",
      "['do', \"n't\", 'do', 'this']\n"
     ]
    }
   ],
   "source": [
    "text1 = 'I have a dog. His name is Hachi.'\n",
    "text2 = \"Don't do this\"\n",
    "\n",
    "import spacy\n",
    "nlp = spacy.load( 'en_core_web_sm' )\n",
    "doc = nlp( text1 )\n",
    "\n",
    "print( 'text1:')\n",
    "#generate a list of tokens\n",
    "tokens = [ token.text for token in doc ]\n",
    "print( tokens )\n",
    "#generate a list of lemmas\n",
    "lemmas = [ token.lemma_ for token in doc ]\n",
    "print( lemmas )\n",
    "\n",
    "doc2 = nlp( text2 )\n",
    "\n",
    "print( 'text2:')\n",
    "#generate a list of tokens\n",
    "tokens = [ token.text for token in doc2 ]\n",
    "print( tokens )\n",
    "#generate a list of lemmas\n",
    "lemmas = [ token.lemma_ for token in doc2 ]\n",
    "print( lemmas )"
   ]
  },
  {
   "cell_type": "code",
   "execution_count": 9,
   "metadata": {},
   "outputs": [
    {
     "name": "stdout",
     "output_type": "stream",
     "text": [
      "['Four', 'score', 'and', 'seven', 'years', 'ago', 'our', 'fathers', 'brought', 'forth', 'on', 'this', 'continent', ',', 'a', 'new', 'nation', ',', 'conceived', 'in', 'Liberty', ',', 'and', 'dedicated', 'to', 'the', 'proposition', 'that', 'all', 'men', 'are', 'created', 'equal', '.', 'Now', 'we', \"'re\", 'engaged', 'in', 'a', 'great', 'civil', 'war', ',', 'testing', 'whether', 'that', 'nation', ',', 'or', 'any', 'nation', 'so', 'conceived', 'and', 'so', 'dedicated', ',', 'can', 'long', 'endure', '.', 'We', \"'re\", 'met', 'on', 'a', 'great', 'battlefield', 'of', 'that', 'war', '.', 'We', \"'ve\", 'come', 'to', 'dedicate', 'a', 'portion', 'of', 'that', 'field', ',', 'as', 'a', 'final', 'resting', 'place', 'for', 'those', 'who', 'here', 'gave', 'their', 'lives', 'that', 'that', 'nation', 'might', 'live', '.', 'It', \"'s\", 'altogether', 'fitting', 'and', 'proper', 'that', 'we', 'should', 'do', 'this', '.', 'But', ',', 'in', 'a', 'larger', 'sense', ',', 'we', 'ca', \"n't\", 'dedicate', '-', 'we', 'can', 'not', 'consecrate', '-', 'we', 'can', 'not', 'hallow', '-', 'this', 'ground', '.', 'The', 'brave', 'men', ',', 'living', 'and', 'dead', ',', 'who', 'struggled', 'here', ',', 'have', 'consecrated', 'it', ',', 'far', 'above', 'our', 'poor', 'power', 'to', 'add', 'or', 'detract', '.', 'The', 'world', 'will', 'little', 'note', ',', 'nor', 'long', 'remember', 'what', 'we', 'say', 'here', ',', 'but', 'it', 'can', 'never', 'forget', 'what', 'they', 'did', 'here', '.', 'It', 'is', 'for', 'us', 'the', 'living', ',', 'rather', ',', 'to', 'be', 'dedicated', 'here', 'to', 'the', 'unfinished', 'work', 'which', 'they', 'who', 'fought', 'here', 'have', 'thus', 'far', 'so', 'nobly', 'advanced', '.', 'It', \"'s\", 'rather', 'for', 'us', 'to', 'be', 'here', 'dedicated', 'to', 'the', 'great', 'task', 'remaining', 'before', 'us', '-', 'that', 'from', 'these', 'honored', 'dead', 'we', 'take', 'increased', 'devotion', 'to', 'that', 'cause', 'for', 'which', 'they', 'gave', 'the', 'last', 'full', 'measure', 'of', 'devotion', '-', 'that', 'we', 'here', 'highly', 'resolve', 'that', 'these', 'dead', 'shall', 'not', 'have', 'died', 'in', 'vain', '-', 'that', 'this', 'nation', ',', 'under', 'God', ',', 'shall', 'have', 'a', 'new', 'birth', 'of', 'freedom', '-', 'and', 'that', 'government', 'of', 'the', 'people', ',', 'by', 'the', 'people', ',', 'for', 'the', 'people', ',', 'shall', 'not', 'perish', 'from', 'the', 'earth', '.']\n",
      "four score and seven year ago our father bring forth on this continent , a new nation , conceive in Liberty , and dedicate to the proposition that all man be create equal . now we be engage in a great civil war , test whether that nation , or any nation so conceive and so dedicated , can long endure . we be meet on a great battlefield of that war . we 've come to dedicate a portion of that field , as a final resting place for those who here give their life that that nation might live . it be altogether fitting and proper that we should do this . but , in a large sense , we ca n't dedicate - we can not consecrate - we can not hallow - this ground . the brave man , live and dead , who struggle here , have consecrate it , far above our poor power to add or detract . the world will little note , nor long remember what we say here , but it can never forget what they do here . it be for we the living , rather , to be dedicate here to the unfinished work which they who fight here have thus far so nobly advanced . it be rather for we to be here dedicate to the great task remain before we - that from these honor dead we take increased devotion to that cause for which they give the last full measure of devotion - that we here highly resolve that these dead shall not have die in vain - that this nation , under God , shall have a new birth of freedom - and that government of the people , by the people , for the people , shall not perish from the earth .\n"
     ]
    }
   ],
   "source": [
    "gettysberg = \"\"\"Four score and seven years ago our fathers brought forth on this continent, a new nation, conceived in Liberty, and dedicated to the proposition that all men are created equal. Now we're engaged in a great civil war, testing whether that nation, or any nation so conceived and so dedicated, can long endure. We're met on a great battlefield of that war. We've come to dedicate a portion of that field, as a final resting place for those who here gave their lives that that nation might live. It's altogether fitting and proper that we should do this. But, in a larger sense, we can't dedicate - we can not consecrate - we can not hallow - this ground. The brave men, living and dead, who struggled here, have consecrated it, far above our poor power to add or detract. The world will little note, nor long remember what we say here, but it can never forget what they did here. It is for us the living, rather, to be dedicated here to the unfinished work which they who fought here have thus far so nobly advanced. It's rather for us to be here dedicated to the great task remaining before us - that from these honored dead we take increased devotion to that cause for which they gave the last full measure of devotion - that we here highly resolve that these dead shall not have died in vain - that this nation, under God, shall have a new birth of freedom - and that government of the people, by the people, for the people, shall not perish from the earth.\"\"\"\n",
    "\n",
    "# Create a Doc object\n",
    "doc = nlp(gettysberg)\n",
    "\n",
    "# Generate the tokens\n",
    "tokens = [token.text for token in doc]\n",
    "print(tokens)\n",
    "\n",
    "# Generate lemmas\n",
    "lemmas = [token.lemma_ for token in doc]\n",
    "\n",
    "# Convert lemmas into a string\n",
    "print(' '.join(lemmas))"
   ]
  },
  {
   "cell_type": "markdown",
   "metadata": {},
   "source": [
    "<br>\n",
    "\n",
    "### Text Cleaning\n",
    "\n",
    "Text cleaning techniques:\n",
    "* unnecessary whitespace and escape sequences\n",
    "* punctuations\n",
    "* special characters (number, emojis, etc.)\n",
    "* stopwords\n",
    "\n",
    "<br>"
   ]
  },
  {
   "cell_type": "code",
   "execution_count": 10,
   "metadata": {},
   "outputs": [
    {
     "name": "stdout",
     "output_type": "stream",
     "text": [
      "['\\n', 'omg', '!', '!', '!', 'this', 'be', 'like', '   ', 'the', 'good', 'thing', 'ever', '\\t\\n', '.', '\\n', 'wow', ',', 'such', 'an', 'amazing', 'song', '.', 'I', 'be', 'hooked', '.', 'top', '5', 'definitely', '.', '?', '\\n']\n",
      "['omg', 'this', 'be', 'like', 'the', 'good', 'thing', 'ever', 'wow', 'such', 'an', 'amazing', 'song', 'I', 'be', 'hooked', 'top', 'definitely']\n"
     ]
    }
   ],
   "source": [
    "text = \"\"\"\n",
    "OMG!!! This is like    the best thing ever \\t\\n.\n",
    "Wow, such an amazing song. I'm hooked. Top 5 definitely. ?\n",
    "\"\"\"\n",
    "\n",
    "doc = nlp( text.lower() )\n",
    "lemmas = [ token.lemma_ for token in doc ]\n",
    "print( lemmas )\n",
    "\n",
    "a_lemmas = [ lemma for lemma in lemmas\n",
    "           if lemma.isalpha() or lemma in '-PRON-' ]\n",
    "print( a_lemmas )"
   ]
  },
  {
   "cell_type": "code",
   "execution_count": 11,
   "metadata": {},
   "outputs": [
    {
     "name": "stdout",
     "output_type": "stream",
     "text": [
      "\n",
      "  --  SPACE  --  \n",
      "\n",
      "omg  --  NOUN  --  omg\n",
      "!  --  PUNCT  --  !\n",
      "!  --  PUNCT  --  !\n",
      "!  --  PUNCT  --  !\n",
      "this  --  DET  --  this\n",
      "is  --  AUX  --  be\n",
      "like  --  ADP  --  like\n",
      "     --  SPACE  --     \n",
      "the  --  DET  --  the\n",
      "best  --  ADJ  --  good\n",
      "thing  --  NOUN  --  thing\n",
      "ever  --  ADV  --  ever\n",
      "\t\n",
      "  --  SPACE  --  \t\n",
      "\n",
      ".  --  PUNCT  --  .\n",
      "\n",
      "  --  SPACE  --  \n",
      "\n",
      "wow  --  INTJ  --  wow\n",
      ",  --  PUNCT  --  ,\n",
      "such  --  DET  --  such\n",
      "an  --  DET  --  an\n",
      "amazing  --  ADJ  --  amazing\n",
      "song  --  NOUN  --  song\n",
      ".  --  PUNCT  --  .\n",
      "i  --  PRON  --  I\n",
      "'m  --  VERB  --  be\n",
      "hooked  --  ADJ  --  hooked\n",
      ".  --  PUNCT  --  .\n",
      "top  --  ADJ  --  top\n",
      "5  --  NUM  --  5\n",
      "definitely  --  ADV  --  definitely\n",
      ".  --  PUNCT  --  .\n",
      "?  --  PUNCT  --  ?\n",
      "\n",
      "  --  SPACE  --  \n",
      "\n"
     ]
    }
   ],
   "source": [
    "for token in doc:\n",
    "    print(token.text, \" -- \", token.pos_, \" -- \",token.lemma_)"
   ]
  },
  {
   "cell_type": "code",
   "execution_count": 12,
   "metadata": {},
   "outputs": [
    {
     "name": "stdout",
     "output_type": "stream",
     "text": [
      "omg this be like the good thing ever wow such an amazing song I be hooked top definitely\n"
     ]
    }
   ],
   "source": [
    "b_lemmas = [ token.lemma_ for token in doc\n",
    "           if token.lemma_.isalpha() or token.pos_ == '-PRON-' ]\n",
    "print( ' '.join( b_lemmas ) )"
   ]
  },
  {
   "cell_type": "markdown",
   "metadata": {},
   "source": [
    "<br>\n",
    "\n",
    "**Stopwords** \n",
    "\n",
    "* words that occur so often that they do not add informational value to the text\n",
    "* ex: articles, be verbs, pronouns etc\n",
    "\n",
    "<br>"
   ]
  },
  {
   "cell_type": "code",
   "execution_count": 13,
   "metadata": {},
   "outputs": [
    {
     "name": "stdout",
     "output_type": "stream",
     "text": [
      "{'into', 'nor', 'somewhere', 'used', 'myself', 'other', 'to', 'very', 'get', 'sixty', 'both', 'whereupon', 'eleven', 'anyhow', 'during', 'made', 'namely', 'cannot', 'doing', 'without', 'even', 'no', 'wherein', 'only', 'after', \"'m\", 'although', 'name', 'here', 'really', 'yet', 'as', 'most', 'within', 'all', 'whenever', 'toward', 'meanwhile', 'former', 'ca', 'again', 'noone', 'per', 'being', 'fifteen', 'mine', 'itself', 'whose', 'move', 'several', 'sometimes', 'whence', 'together', 'something', 'though', 'when', 'top', 'behind', 'show', 'through', 'hence', 'just', 'except', 'next', 'over', 'therefore', 'you', 'using', 'thus', 'until', 'had', 'then', 'up', 'someone', 'therein', 'another', 'yourselves', 'please', 'never', 'nobody', 'because', 'whole', 'we', 'such', 'twenty', 'twelve', 'her', \"'ve\", 'under', 'did', 'whereby', 'been', 'elsewhere', 'about', 'much', 'put', 'one', 'are', 'their', 'see', \"'ll\", 'forty', 'thru', 'nowhere', 'beside', 'on', 'beyond', 'where', 'your', '’re', 'does', '‘re', 'become', 'himself', 'third', 'herself', 'further', 'hereby', 'seemed', 'she', 'whoever', 'done', 'these', 'those', 'least', 'would', 'almost', 'whom', 'somehow', 'what', 'around', 'latterly', '‘m', 'them', 'if', 'some', 'am', 'fifty', 'none', 'hundred', 'the', 'thereby', 'so', 'formerly', 'amongst', 'say', 'always', 'herein', 'thereafter', 'whither', 'have', 'give', 'yourself', 'should', 'once', 'full', 'between', 'n‘t', 'mostly', 'sometime', 'go', 'who', 'us', 'this', 'above', 'last', 'do', 'already', 'alone', \"'d\", 'themselves', 'own', 'less', 'his', 'often', \"'s\", 'for', 'everyone', '‘ve', 'however', 'latter', 'rather', 'became', 'will', 'either', '’ll', 'part', 'keep', 'everything', 'hereupon', 'still', 'that', 'and', 'else', 'might', '‘s', 'everywhere', 'they', 'quite', 'seeming', 'but', 'than', 'me', 'moreover', 'an', 'against', 'three', 'each', 'nine', 'whereafter', 'amount', 'out', 'two', 'five', 'ours', '’s', 'hers', 'unless', 'it', 'well', 'while', '‘ll', 'take', 'at', 'onto', 'down', 'thence', 'is', 'afterwards', 'he', 'neither', 'can', 'perhaps', 'anything', 'how', 'anyway', 'among', '’m', '’d', 'every', 'via', 'nevertheless', 'side', 'towards', 'along', 'a', 'also', 'anywhere', 'be', 'him', 'nothing', 'may', 'whatever', 'across', 'whether', 'make', 'yours', 'enough', 'ever', 'front', 'my', 'with', 'were', 'six', 'hereafter', 'back', 'throughout', 'ten', 'few', 're', 'which', 'beforehand', 'many', 'ourselves', 'first', 'four', 'was', 'from', 'becoming', 'any', 'whereas', 'besides', 'becomes', 'too', 'since', 'below', 'indeed', 'not', 'there', \"'re\", '’ve', 'in', 'our', 'i', 'why', 'regarding', 'n’t', 'thereupon', 'more', 'serious', 'call', 'due', 'now', 'of', 'otherwise', 'off', \"n't\", 'bottom', 'eight', 'seem', 'empty', 'before', 'by', 'seems', 'has', 'upon', 'wherever', 'could', 'various', 'or', 'same', 'others', 'must', 'its', '‘d', 'anyone'}\n",
      "omg like good thing wow amazing song hooked definitely\n"
     ]
    }
   ],
   "source": [
    "# get list of spacy STOPWORDS\n",
    "stopwords = spacy.lang.en.stop_words.STOP_WORDS\n",
    "print( stopwords )\n",
    "\n",
    "a_lemmas = [ lemma for lemma in lemmas\n",
    "           if lemma.isalpha() and lemma.lower() not in stopwords ]\n",
    "print( ' '.join( a_lemmas ) )"
   ]
  },
  {
   "cell_type": "code",
   "execution_count": 14,
   "metadata": {},
   "outputs": [
    {
     "name": "stdout",
     "output_type": "stream",
     "text": [
      "century politic witness alarming rise populism Europe warning sign come UK Brexit Referendum vote swinging way Leave follow stupendous victory billionaire Donald Trump President United States November Europe steady rise populist far right party capitalize Europe Immigration Crisis raise nationalist anti europe sentiment instance include Alternative Germany AfD win seat enter Bundestag upset Germany political order time Second World War success Star Movement Italy surge popularity neo nazism neo fascism country Hungary Czech Republic Poland Austria\n"
     ]
    }
   ],
   "source": [
    "blog = '\\nTwenty-first-century politics has witnessed an alarming rise of populism in the U.S. and Europe. The first warning signs came with the UK Brexit Referendum vote in 2016 swinging in the way of Leave. This was followed by a stupendous victory by billionaire Donald Trump to become the 45th President of the United States in November 2016. Since then, Europe has seen a steady rise in populist and far-right parties that have capitalized on Europe’s Immigration Crisis to raise nationalist and anti-Europe sentiments. Some instances include Alternative for Germany (AfD) winning 12.6% of all seats and entering the Bundestag, thus upsetting Germany’s political order for the first time since the Second World War, the success of the Five Star Movement in Italy and the surge in popularity of neo-nazism and neo-fascism in countries such as Hungary, Czech Republic, Poland and Austria.\\n'\n",
    "doc = nlp( blog )\n",
    "\n",
    "lemmas = [ token.lemma_ for token in doc ]\n",
    "\n",
    "# Remove stopwords and non-alphabetic tokens\n",
    "a_lemmas = [lemma for lemma in lemmas \n",
    "            if lemma.isalpha() and lemma.lower() not in stopwords]\n",
    "\n",
    "# Print string after text cleaning\n",
    "print(' '.join(a_lemmas))\n"
   ]
  },
  {
   "cell_type": "code",
   "execution_count": 15,
   "metadata": {},
   "outputs": [
    {
     "name": "stdout",
     "output_type": "stream",
     "text": [
      "0    talk new lecture TED I illusion create TED I t...\n",
      "1    representation brain brain break left half log...\n",
      "2    great honor today share Digital Universe creat...\n",
      "3    passion music technology thing combination thi...\n",
      "4    use want computer new program programming requ...\n",
      "Name: transcript, dtype: object\n"
     ]
    }
   ],
   "source": [
    "import pandas as pd\n",
    "ted = pd.read_csv( 'ted.csv' )\n",
    "tedhead = ted.head().copy()\n",
    "# Function to preprocess text\n",
    "def preprocess(text):\n",
    "  \t# Create Doc object\n",
    "    doc = nlp(text, disable=['ner', 'parser'])\n",
    "    # Generate lemmas\n",
    "    lemmas = [token.lemma_ for token in doc]\n",
    "    # Remove stopwords and non-alphabetic characters\n",
    "    a_lemmas = [lemma for lemma in lemmas \n",
    "            if lemma.isalpha() and lemma not in stopwords]\n",
    "    \n",
    "    return ' '.join(a_lemmas)\n",
    "  \n",
    "# Apply preprocess to ted['transcript']\n",
    "tedhead['transcript'] = tedhead['transcript'].apply(preprocess)\n",
    "print(tedhead['transcript'])"
   ]
  },
  {
   "cell_type": "markdown",
   "metadata": {},
   "source": [
    "<br>\n",
    "\n",
    "Other text preprocessing techniques  \n",
    "\n",
    "* Removing HTML/XML tags\n",
    "* Replacing accented characters\n",
    "* Correcting spelling errors\n",
    "\n",
    "<br>"
   ]
  },
  {
   "cell_type": "markdown",
   "metadata": {},
   "source": [
    "### Part-of-Speech Tagging\n",
    "\n",
    "Applications  \n",
    "\n",
    "* word-sense disambiguation (noun/verb distinctions)\n",
    "* Sentiment analysis\n",
    "* Question Answering\n",
    "* detecting fake news/spam\n",
    "\n",
    "**POS tagging** - assigning every word to its corresponding part of speech\n",
    "\n",
    "<br>"
   ]
  },
  {
   "cell_type": "code",
   "execution_count": 16,
   "metadata": {},
   "outputs": [
    {
     "name": "stdout",
     "output_type": "stream",
     "text": [
      "[('Jane', 'PROPN'), ('is', 'AUX'), ('an', 'DET'), ('amazing', 'ADJ'), ('guitarist', 'NOUN')]\n"
     ]
    }
   ],
   "source": [
    "nlp = spacy.load( 'en_core_web_sm' )\n",
    "sent = \"Jane is an amazing guitarist\"\n",
    "doc = nlp( sent )\n",
    "\n",
    "# generate a list of tokens and pos tags\n",
    "pos = [(token.text, token.pos_) for token in doc ]\n",
    "print( pos )"
   ]
  },
  {
   "cell_type": "code",
   "execution_count": 17,
   "metadata": {},
   "outputs": [
    {
     "name": "stdout",
     "output_type": "stream",
     "text": [
      "[('He', 'PRON'), ('found', 'VERB'), ('himself', 'PRON'), ('understanding', 'VERB'), ('the', 'DET'), ('wearisomeness', 'NOUN'), ('of', 'ADP'), ('this', 'DET'), ('life', 'NOUN'), (',', 'PUNCT'), ('where', 'ADV'), ('every', 'DET'), ('path', 'NOUN'), ('was', 'VERB'), ('an', 'DET'), ('improvisation', 'NOUN'), ('and', 'CCONJ'), ('a', 'DET'), ('considerable', 'ADJ'), ('part', 'NOUN'), ('of', 'ADP'), ('one', 'PRON'), ('’s', 'ADV'), ('waking', 'VERB'), ('life', 'NOUN'), ('was', 'AUX'), ('spent', 'VERB'), ('watching', 'VERB'), ('one', 'NUM'), ('’s', 'NOUN'), ('feet', 'NOUN'), ('.', 'PUNCT')]\n"
     ]
    }
   ],
   "source": [
    "sent = 'He found himself understanding the wearisomeness of this life, where every path was an improvisation and a considerable part of one’s waking life was spent watching one’s feet.'\n",
    "doc = nlp( sent )\n",
    "\n",
    "# generate a list of tokens and pos tags\n",
    "pos = [(token.text, token.pos_) for token in doc ]\n",
    "print( pos )"
   ]
  },
  {
   "cell_type": "code",
   "execution_count": 18,
   "metadata": {},
   "outputs": [
    {
     "name": "stdout",
     "output_type": "stream",
     "text": [
      "3\n"
     ]
    }
   ],
   "source": [
    "# Returns number of proper nouns\n",
    "def proper_nouns(text, model=nlp):\n",
    "  \t# Create doc object\n",
    "    doc = model(text)\n",
    "    # Generate list of POS tags\n",
    "    pos = [token.pos_ for token in doc]\n",
    "    \n",
    "    # Return number of proper nouns\n",
    "    return pos.count('PROPN')\n",
    "\n",
    "print(proper_nouns(\"Abdul, Bill and Cathy went to the market to buy apples.\", nlp))"
   ]
  },
  {
   "cell_type": "markdown",
   "metadata": {},
   "source": [
    "<br>\n",
    "\n",
    "### Named Entity Recognition (NER)\n",
    "\n",
    "**Named Entity Recognition** - identifying and classifying named entities into predefined categories such as person, organization, country, etc.  \n",
    "\n",
    "<br>"
   ]
  },
  {
   "cell_type": "code",
   "execution_count": 19,
   "metadata": {},
   "outputs": [
    {
     "name": "stdout",
     "output_type": "stream",
     "text": [
      "[('John Doe', 'PERSON'), ('France', 'GPE')]\n"
     ]
    }
   ],
   "source": [
    "string = \"John Doe is a software engineer working at Google. He lives in France\"\n",
    "doc = nlp( string )\n",
    "\n",
    "# generate the named entities\n",
    "ne = [(ent.text, ent.label_) for ent in doc.ents]\n",
    "print( ne )"
   ]
  },
  {
   "cell_type": "code",
   "execution_count": 20,
   "metadata": {},
   "outputs": [
    {
     "name": "stdout",
     "output_type": "stream",
     "text": [
      "Google ORG\n",
      "Mountain View GPE\n"
     ]
    }
   ],
   "source": [
    "# Create a Doc instance \n",
    "text = 'Sundar Pichai is the CEO of Google. Its headquarters is in Mountain View.'\n",
    "doc = nlp( text)\n",
    "\n",
    "# Print all named entities and their labels\n",
    "for ent in doc.ents:\n",
    "    print(ent.text, ent.label_)"
   ]
  },
  {
   "cell_type": "markdown",
   "metadata": {},
   "source": [
    "<br>\n",
    "\n",
    "## N-Gram Models\n",
    "\n",
    "### Build a Bag-of-Words Model\n",
    "\n",
    "Bag of Words Model:  \n",
    "\n",
    "* Extract Word Tokens\n",
    "* Compute frequency of word tokens\n",
    "* Construct a word vector out of these frequencies and vocabulary of corpus\n",
    "\n",
    "<br>"
   ]
  },
  {
   "cell_type": "code",
   "execution_count": 24,
   "metadata": {},
   "outputs": [
    {
     "name": "stdout",
     "output_type": "stream",
     "text": [
      "[[0 0 0 0 1 1 1 0 1 0 1 0 3]\n",
      " [0 1 0 1 0 0 0 1 0 1 1 0 0]\n",
      " [1 0 1 0 1 0 0 0 1 0 0 1 1]]\n"
     ]
    }
   ],
   "source": [
    "corpus = pd.Series([\n",
    "    'The lion is the king of the jungle',\n",
    "    'Lions have lifespans of a decade',\n",
    "    'The lion is an endangered species'\n",
    "])\n",
    "\n",
    "from sklearn.feature_extraction.text import CountVectorizer\n",
    "vectorizer = CountVectorizer()\n",
    "bow_matrix = vectorizer.fit_transform(corpus)\n",
    "print(bow_matrix.toarray())"
   ]
  },
  {
   "cell_type": "code",
   "execution_count": 25,
   "metadata": {},
   "outputs": [
    {
     "name": "stdout",
     "output_type": "stream",
     "text": [
      "   an  decade  endangered  have  is  jungle  king  lifespans  lion  lions  of  \\\n",
      "0   0       0           0     0   1       1     1          0     1      0   1   \n",
      "1   0       1           0     1   0       0     0          1     0      1   1   \n",
      "2   1       0           1     0   1       0     0          0     1      0   0   \n",
      "\n",
      "   species  the  \n",
      "0        0    3  \n",
      "1        0    0  \n",
      "2        1    1  \n"
     ]
    }
   ],
   "source": [
    "# Convert bow_matrix into a DataFrame\n",
    "bow_df = pd.DataFrame(bow_matrix.toarray())\n",
    "\n",
    "# Map the column names to vocabulary \n",
    "bow_df.columns = vectorizer.get_feature_names()\n",
    "\n",
    "# Print bow_df\n",
    "print(bow_df)"
   ]
  },
  {
   "cell_type": "markdown",
   "metadata": {},
   "source": [
    "<br>\n",
    "\n",
    "### Building a BoW Naive Bayes Classifier\n",
    "\n",
    "Spam filtering messages.  \n",
    "\n",
    "1. Text preprocessing using `CountVectorizer`\n",
    "    * `lowercase`:True or False\n",
    "    * `strip_accents`: unicode, ascii, None\n",
    "    * `stop_words`: english, a list, None\n",
    "    * `token_pattern`: regex\n",
    "    * `tokenizer`: function\n",
    "2. Building a BoW model (representation)\n",
    "    * import the CountVectorizer fom sklearn\n",
    "    * ....\n",
    "3. Machine Learning\n",
    "    * import MultinomialNB\n",
    "    * ....\n",
    "\n",
    "\n",
    "ex:\n",
    "\n",
    "    from sklearn.feature_extraction.text import CountVectorizer\n",
    "    vectorizer = CountVectorizer( strip_accents='ascii', stop_words='english', lowercase=False)\n",
    "    from sklearn.model_selection import train_test_split\n",
    "    X_train, X_test, y_train, y_test = train_test_split( df['message'], df['label'], test_size=0.25)\n",
    "    X_train_bow = vectorizer.fit_transform(X_train)\n",
    "    X_test_bow = vectorizer.transform(X_test)\n",
    "    \n",
    "    from sklearn.naive_bayes import MultinomialNB\n",
    "    clf = MultinomialNB()\n",
    "    clf.fit(X_train_bow, y_train)\n",
    "    accuracy = clf.score(X_test_bow, y_test)\n",
    "    print(accuracy)\n",
    "    \n",
    "   \n",
    "<br>"
   ]
  },
  {
   "cell_type": "markdown",
   "metadata": {},
   "source": [
    "### Build N-gram Models\n",
    "\n",
    "**n-grams** - contiguous sequence of n elements in a given document  \n",
    "\n",
    "* n = 1 $\\rightarrow$ bag-of-words\n",
    "* n = 2 $\\rightarrow$ bi-grams\n",
    "* n = 3 $\\rightarrow$ tri-grams\n",
    "* n $\\rightarrow$ n-grams\n",
    "\n",
    "n-gram applications  \n",
    "\n",
    "* provide more context\n",
    "* sequence completion\n",
    "* spelling correction\n",
    "* machine translation correction\n",
    "\n",
    "examples:  \n",
    "\n",
    "    bigrams = CountVectorizer( ngram_range=( 2,2 ) )\n",
    "    ngrams = CountVectorizer( ngram_range=( 1,3 ) )\n",
    "    \n",
    "n-gram shortcomings:\n",
    "\n",
    "* increases the number of dimensions to feature set\n",
    "* higher order n-grams are rare\n"
   ]
  },
  {
   "cell_type": "code",
   "execution_count": null,
   "metadata": {},
   "outputs": [],
   "source": []
  },
  {
   "cell_type": "code",
   "execution_count": null,
   "metadata": {},
   "outputs": [],
   "source": []
  },
  {
   "cell_type": "code",
   "execution_count": null,
   "metadata": {},
   "outputs": [],
   "source": []
  }
 ],
 "metadata": {
  "kernelspec": {
   "display_name": "Python 3",
   "language": "python",
   "name": "python3"
  },
  "language_info": {
   "codemirror_mode": {
    "name": "ipython",
    "version": 3
   },
   "file_extension": ".py",
   "mimetype": "text/x-python",
   "name": "python",
   "nbconvert_exporter": "python",
   "pygments_lexer": "ipython3",
   "version": "3.7.6"
  }
 },
 "nbformat": 4,
 "nbformat_minor": 4
}
