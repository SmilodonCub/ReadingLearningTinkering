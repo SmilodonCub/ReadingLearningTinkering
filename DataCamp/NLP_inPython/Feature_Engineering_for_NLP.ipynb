{
 "cells": [
  {
   "cell_type": "markdown",
   "metadata": {},
   "source": [
    "<br>\n",
    "\n",
    "# Feature Engineering for NLP in Python\n",
    "\n",
    "<br>"
   ]
  },
  {
   "cell_type": "markdown",
   "metadata": {},
   "source": [
    "## Introductiont to NLP Feature Engineering\n",
    "\n",
    "For an ML algorithm, data fed into it must be in tabular form and all the training features must be numerical.  \n",
    "**One-hot-encoding** - can be useful for recoding text information for ML algorithms.  \n",
    "use the `get_dummies()` function from the `pandas` library.  \n",
    "\n",
    "    # Import the pandas library\n",
    "    import pandas as pf\n",
    "    \n",
    "    # Perform one-hot encoding on a feature in a dataframe\n",
    "    df = get_dummies( df, columns = ['feature'] )\n",
    "\n",
    "<br>"
   ]
  },
  {
   "cell_type": "markdown",
   "metadata": {},
   "source": [
    "### Basic Feature Extraction\n",
    "\n",
    "**Number of Characters** - length of the string (including white space).\n",
    "\n",
    "    text = 'I don't know'\n",
    "    num_char = len( text )\n",
    "    \n",
    "    # create a 'num_chars' feature\n",
    "    df[ 'num_chars' ] = df[ 'review' ].apply( len )\n",
    "    \n",
    "**Number of Words**  \n",
    "\n",
    "    text = \"Mary had a littel lamb\"\n",
    "    words = text.split( )\n",
    "    num_words = len( words )\n",
    "    \n",
    "    # create a 'num_words' feature\n",
    "    def word_count( text ):\n",
    "        words = string.split()\n",
    "        return len( words )\n",
    "    df[ 'num_words' ] = df[ 'review' ].apply( word_count )\n",
    "\n",
    "**Average Word Length**\n",
    "\n",
    "    #define a function that returns the average word length of a string of words.\n",
    "    def avg_word_length( x ):\n",
    "        words = x.split()\n",
    "        word_lengths = [len( word ) for word in words ]\n",
    "        avg_len = sum( word_lengths )/len( word_lengths )\n",
    "        return( avg_len )\n",
    "        \n",
    "    # create a 'avg_word_length' feature\n",
    "    df[ 'avg_word_length' ] = df[ 'review' ].apply( doc_density )\n",
    "    \n",
    "**Special Features:** counts of hashtags and mentions in tweet data\n",
    "\n",
    "    # Function that returns number of hashtags\n",
    "    def hashtag_count( string ):\n",
    "        # split the string into words\n",
    "        words = string.split()\n",
    "        # create a list of hashtags\n",
    "        hashtags = [ word for word in words if word.startswith( '#' )]\n",
    "        # return the number of hashtags\n",
    "        return len( hashtags )\n",
    "    def mentions_count( string ):\n",
    "        # split the string into words\n",
    "        words = string.split()\n",
    "        # create a list of hashtags\n",
    "        mentions = [ word for word in words if word.startswith( '@' )]\n",
    "        # return the number of hashtags\n",
    "        return len( mentions )   \n",
    "        \n",
    "    # create 'hashtag_count' and 'mentions_count' features\n",
    "    df[ 'num_hashtags' ] = df[ 'review' ].apply( hashtag_count )\n",
    "    df[ 'num_mentions' ] = df[ 'review' ].apply( mentions_count )\n",
    "    \n",
    "**Other features**  \n",
    "\n",
    "* Number of sentences\n",
    "* Number of paragraphs\n",
    "* Words starting with an uppercase\n",
    "* All-capital words\n",
    "* Numeric quantities\n",
    "* etc.\n",
    "\n",
    "<br>"
   ]
  },
  {
   "cell_type": "code",
   "execution_count": 2,
   "metadata": {},
   "outputs": [
    {
     "data": {
      "text/html": [
       "<div>\n",
       "<style scoped>\n",
       "    .dataframe tbody tr th:only-of-type {\n",
       "        vertical-align: middle;\n",
       "    }\n",
       "\n",
       "    .dataframe tbody tr th {\n",
       "        vertical-align: top;\n",
       "    }\n",
       "\n",
       "    .dataframe thead th {\n",
       "        text-align: right;\n",
       "    }\n",
       "</style>\n",
       "<table border=\"1\" class=\"dataframe\">\n",
       "  <thead>\n",
       "    <tr style=\"text-align: right;\">\n",
       "      <th></th>\n",
       "      <th>Unnamed: 0</th>\n",
       "      <th>content</th>\n",
       "    </tr>\n",
       "  </thead>\n",
       "  <tbody>\n",
       "    <tr>\n",
       "      <th>0</th>\n",
       "      <td>127447</td>\n",
       "      <td>LIVE STREAM VIDEO=&gt; Donald Trump Rallies in Co...</td>\n",
       "    </tr>\n",
       "    <tr>\n",
       "      <th>1</th>\n",
       "      <td>123642</td>\n",
       "      <td>Muslim Attacks NYPD Cops with Meat Cleaver. Me...</td>\n",
       "    </tr>\n",
       "    <tr>\n",
       "      <th>2</th>\n",
       "      <td>226970</td>\n",
       "      <td>.@vfpatlas well that's a swella word there (di...</td>\n",
       "    </tr>\n",
       "    <tr>\n",
       "      <th>3</th>\n",
       "      <td>138339</td>\n",
       "      <td>RT wehking_pamela: Bobby_Axelrod2k MMFlint don...</td>\n",
       "    </tr>\n",
       "    <tr>\n",
       "      <th>4</th>\n",
       "      <td>161610</td>\n",
       "      <td>Жители обстреливаемых районов Донецка проводят...</td>\n",
       "    </tr>\n",
       "  </tbody>\n",
       "</table>\n",
       "</div>"
      ],
      "text/plain": [
       "   Unnamed: 0                                            content\n",
       "0      127447  LIVE STREAM VIDEO=> Donald Trump Rallies in Co...\n",
       "1      123642  Muslim Attacks NYPD Cops with Meat Cleaver. Me...\n",
       "2      226970  .@vfpatlas well that's a swella word there (di...\n",
       "3      138339  RT wehking_pamela: Bobby_Axelrod2k MMFlint don...\n",
       "4      161610  Жители обстреливаемых районов Донецка проводят..."
      ]
     },
     "execution_count": 2,
     "metadata": {},
     "output_type": "execute_result"
    }
   ],
   "source": [
    "import pandas as pd\n",
    "\n",
    "tweets = pd.read_csv( 'russian_tweets.csv' )\n",
    "tweets.head()"
   ]
  },
  {
   "cell_type": "code",
   "execution_count": 3,
   "metadata": {},
   "outputs": [
    {
     "name": "stdout",
     "output_type": "stream",
     "text": [
      "mean tweet length:  103.462\n"
     ]
    },
    {
     "data": {
      "text/html": [
       "<div>\n",
       "<style scoped>\n",
       "    .dataframe tbody tr th:only-of-type {\n",
       "        vertical-align: middle;\n",
       "    }\n",
       "\n",
       "    .dataframe tbody tr th {\n",
       "        vertical-align: top;\n",
       "    }\n",
       "\n",
       "    .dataframe thead th {\n",
       "        text-align: right;\n",
       "    }\n",
       "</style>\n",
       "<table border=\"1\" class=\"dataframe\">\n",
       "  <thead>\n",
       "    <tr style=\"text-align: right;\">\n",
       "      <th></th>\n",
       "      <th>Unnamed: 0</th>\n",
       "      <th>content</th>\n",
       "      <th>char_count</th>\n",
       "    </tr>\n",
       "  </thead>\n",
       "  <tbody>\n",
       "    <tr>\n",
       "      <th>0</th>\n",
       "      <td>127447</td>\n",
       "      <td>LIVE STREAM VIDEO=&gt; Donald Trump Rallies in Co...</td>\n",
       "      <td>130</td>\n",
       "    </tr>\n",
       "    <tr>\n",
       "      <th>1</th>\n",
       "      <td>123642</td>\n",
       "      <td>Muslim Attacks NYPD Cops with Meat Cleaver. Me...</td>\n",
       "      <td>138</td>\n",
       "    </tr>\n",
       "    <tr>\n",
       "      <th>2</th>\n",
       "      <td>226970</td>\n",
       "      <td>.@vfpatlas well that's a swella word there (di...</td>\n",
       "      <td>65</td>\n",
       "    </tr>\n",
       "    <tr>\n",
       "      <th>3</th>\n",
       "      <td>138339</td>\n",
       "      <td>RT wehking_pamela: Bobby_Axelrod2k MMFlint don...</td>\n",
       "      <td>139</td>\n",
       "    </tr>\n",
       "    <tr>\n",
       "      <th>4</th>\n",
       "      <td>161610</td>\n",
       "      <td>Жители обстреливаемых районов Донецка проводят...</td>\n",
       "      <td>131</td>\n",
       "    </tr>\n",
       "  </tbody>\n",
       "</table>\n",
       "</div>"
      ],
      "text/plain": [
       "   Unnamed: 0                                            content  char_count\n",
       "0      127447  LIVE STREAM VIDEO=> Donald Trump Rallies in Co...         130\n",
       "1      123642  Muslim Attacks NYPD Cops with Meat Cleaver. Me...         138\n",
       "2      226970  .@vfpatlas well that's a swella word there (di...          65\n",
       "3      138339  RT wehking_pamela: Bobby_Axelrod2k MMFlint don...         139\n",
       "4      161610  Жители обстреливаемых районов Донецка проводят...         131"
      ]
     },
     "execution_count": 3,
     "metadata": {},
     "output_type": "execute_result"
    }
   ],
   "source": [
    "# Create a feature char_count\n",
    "tweets['char_count'] = tweets['content'].apply(len)\n",
    "\n",
    "# Print the average character count\n",
    "print( 'mean tweet length: ', tweets['char_count'].mean())\n",
    "tweets.head()"
   ]
  },
  {
   "cell_type": "code",
   "execution_count": 4,
   "metadata": {},
   "outputs": [
    {
     "data": {
      "image/png": "[encoded data removed]",
      "text/plain": [
       "<Figure size 432x288 with 1 Axes>"
      ]
     },
     "metadata": {
      "needs_background": "light"
     },
     "output_type": "display_data"
    },
    {
     "data": {
      "image/png": "[encoded data removed]",
      "text/plain": [
       "<Figure size 432x288 with 1 Axes>"
      ]
     },
     "metadata": {
      "needs_background": "light"
     },
     "output_type": "display_data"
    }
   ],
   "source": [
    "import matplotlib.pyplot as plt\n",
    "%matplotlib inline\n",
    "\n",
    "# Function that returns numner of hashtags in a string\n",
    "def count_hashtags(string):\n",
    "\t# Split the string into words\n",
    "    words = string.split()\n",
    "    \n",
    "    # Create a list of words that are hashtags\n",
    "    hashtags = [word for word in words if word.startswith('#')]\n",
    "    \n",
    "    # Return number of hashtags\n",
    "    return(len(hashtags))\n",
    "\n",
    "# Create a feature hashtag_count and display distribution\n",
    "tweets['hashtag_count'] = tweets['content'].apply(count_hashtags)\n",
    "tweets['hashtag_count'].hist()\n",
    "plt.title('Hashtag count distribution')\n",
    "plt.show()\n",
    "\n",
    "# Function that returns number of mentions in a string\n",
    "def count_mentions(string):\n",
    "\t# Split the string into words\n",
    "    words = string.split()\n",
    "    \n",
    "    # Create a list of words that are mentions\n",
    "    mentions = [word for word in words if word.startswith('@')]\n",
    "    \n",
    "    # Return number of mentions\n",
    "    return(len(mentions))\n",
    "\n",
    "# Create a feature mention_count and display distribution\n",
    "tweets['mention_count'] = tweets['content'].apply(count_mentions)\n",
    "tweets['mention_count'].hist()\n",
    "plt.title('Mention count distribution')\n",
    "plt.show()"
   ]
  },
  {
   "cell_type": "code",
   "execution_count": 5,
   "metadata": {},
   "outputs": [
    {
     "name": "stdout",
     "output_type": "stream",
     "text": [
      "1987.1\n"
     ]
    }
   ],
   "source": [
    "ted = pd.read_csv( 'ted.csv' )\n",
    "\n",
    "# Function that returns number of words in a string\n",
    "def count_words(string):\n",
    "\t# Split the string into words\n",
    "    words = string.split()\n",
    "    \n",
    "    # Return the number of words\n",
    "    return len(words)\n",
    "\n",
    "# Create a new feature word_count\n",
    "ted['word_count'] = ted['transcript'].apply(count_words)\n",
    "\n",
    "# Print the average word count of the talks\n",
    "print(ted['word_count'].mean())"
   ]
  },
  {
   "cell_type": "markdown",
   "metadata": {},
   "source": [
    "<br>\n",
    "\n",
    "### Readability Tests\n",
    "\n",
    "Determine the readability of an English passage of text.  \n",
    "A mathematical formula is used to determine readability the utilizes the word, syllable and sentence count of a piece of text.  \n",
    "\n",
    "Readability Tests (English):  \n",
    "\n",
    "* Flesch reading ease\n",
    "* Gunning fog index\n",
    "* Simple Measure of Gobbledygook (SMOG)\n",
    "* Dale-Chacll score\n",
    "\n",
    "**Flesch Reading Ease:**\n",
    "\n",
    "* One of the oldest and most widely used tests\n",
    "* Dependent on 2 factors:\n",
    "    * the greater the average sentence length, the harder the text is to read\n",
    "    * the greater the average number of syllables in a word, the harder the text is to read\n",
    "* the higher the Flesch reading score, the greater the readability\n",
    "    * score: 90-100 $\\rightarrow$ 5th grade level\n",
    "    * score: 60-70 $\\rightarrow$ 8-9th grade level\n",
    "    * score: 0-30 $\\rightarrow$ College graduate\n",
    "    \n",
    "**Gunning Fog Index:**\n",
    "\n",
    "* Also dependent on average sentence length\n",
    "* Greater the percentage of complex words, the harder the text is to read\n",
    "    * where a complex word is any word with 3+ syllables\n",
    "* the Higher the score, the more difficult the text is to understand\n",
    "    * score: 6 $\\rightarrow$ 6th grade\n",
    "    * score: 17 $\\rightarrow$ College \n",
    "    \n",
    "**Implementation**  \n",
    "Use the `textatistic` library\n",
    "\n",
    "    # Import the Textatistic class\n",
    "    from textatistic import Textatistic\n",
    "    \n",
    "    # Create a Textatistic Object\n",
    "    readability_scores = Textatistic( text ).scores\n",
    "    \n",
    "    # Return the scores\n",
    "    print( readability_scores['flesch_score'] )\n",
    "    print( readability_scores = ['gunnungfog_score'] )\n",
    "    \n",
    "<br>"
   ]
  },
  {
   "cell_type": "code",
   "execution_count": 6,
   "metadata": {},
   "outputs": [
    {
     "name": "stdout",
     "output_type": "stream",
     "text": [
      "The Flesch Reading Ease is 81.67\n"
     ]
    }
   ],
   "source": [
    "sisyphus_essay = \"\"\"\\nThe gods had condemned Sisyphus to ceaselessly rolling a rock to the top of a mountain, \n",
    "whence the stone would fall back of its own weight. They had thought with some reason that there is no more \n",
    "dreadful punishment than futile and hopeless labor. If one believes Homer, Sisyphus was the wisest and most \n",
    "prudent of mortals. According to another tradition, however, he was disposed to practice the profession of \n",
    "highwayman. I see no contradiction in this. Opinions differ as to the reasons why he became the futile laborer \n",
    "of the underworld. To begin with, he is accused of a certain levity in regard to the gods. He stole their secrets. \n",
    "Egina, the daughter of Esopus, was carried off by Jupiter. The father was shocked by that disappearance and \n",
    "complained to Sisyphus. He, who knew of the abduction, offered to tell about it on condition that Esopus would \n",
    "give water to the citadel of Corinth. To the celestial thunderbolts he preferred the benediction of water. \n",
    "He was punished for this in the underworld. Homer tells us also that Sisyphus had put Death in chains. \n",
    "Pluto could not endure the sight of his deserted, silent empire. He dispatched the god of war, who liberated \n",
    "Death from the hands of her conqueror. It is said that Sisyphus, being near to death, rashly wanted to test \n",
    "his wife\\'s love. He ordered her to cast his unburied body into the middle of the public square. \n",
    "Sisyphus woke up in the underworld. And there, annoyed by an obedience so contrary to human love, he obtained \n",
    "from Pluto permission to return to earth in order to chastise his wife. But when he had seen again the face of \n",
    "this world, enjoyed water and sun, warm stones and the sea, he no longer wanted to go back to the infernal \n",
    "darkness. Recalls, signs of anger, warnings were of no avail. Many years more he lived facing the curve of the \n",
    "gulf, the sparkling sea, and the smiles of earth. A decree of the gods was necessary. Mercury came and seized \n",
    "the impudent man by the collar and, snatching him from his joys, lead him forcibly back to the underworld, where \n",
    "his rock was ready for him. You have already grasped that Sisyphus is the absurd hero. He is, as much through his \n",
    "passions as through his torture. His scorn of the gods, his hatred of death, and his passion for life won him \n",
    "that unspeakable penalty in which the whole being is exerted toward accomplishing nothing. This is the price \n",
    "that must be paid for the passions of this earth. Nothing is told us about Sisyphus in the underworld. \n",
    "Myths are made for the imagination to breathe life into them. As for this myth, one sees merely the whole \n",
    "effort of a body straining to raise the huge stone, to roll it, and push it up a slope a hundred times over; \n",
    "one sees the face screwed up, the cheek tight against the stone, the shoulder bracing the clay-covered mass, \n",
    "the foot wedging it, the fresh start with arms outstretched, the wholly human security of two earth-clotted hands. \n",
    "At the very end of his long effort measured by skyless space and time without depth, the purpose is achieved. \n",
    "Then Sisyphus watches the stone rush down in a few moments toward tlower world whence he will have to push it \n",
    "up again toward the summit. He goes back down to the plain. It is during that return, that pause, that Sisyphus \n",
    "interests me. A face that toils so close to stones is already stone itself! I see that man going back down with \n",
    "a heavy yet measured step toward the torment of which he will never know the end. That hour like a breathing-space \n",
    "which returns as surely as his suffering, that is the hour of consciousness. At each of those moments when he \n",
    "leaves the heights and gradually sinks toward the lairs of the gods, he is superior to his fate. He is stronger \n",
    "than his rock. If this myth is tragic, that is because its hero is conscious. Where would his torture be, indeed, \n",
    "if at every step the hope of succeeding upheld him? The workman of today works everyday in his life at the same \n",
    "tasks, and his fate is no less absurd. But it is tragic only at the rare moments when it becomes conscious. \n",
    "Sisyphus, proletarian of the gods, powerless and rebellious, knows the whole extent of his wretched condition: \n",
    "it is what he thinks of during his descent. The lucidity that was to constitute his torture at the same time \n",
    "crowns his victory. There is no fate that can not be surmounted by scorn. If the descent is thus sometimes \n",
    "performed in sorrow, it can also take place in joy. This word is not too much. Again I fancy Sisyphus returning \n",
    "toward his rock, and the sorrow was in the beginning. When the images of earth cling too tightly to memory, \n",
    "when the call of happiness becomes too insistent, it happens that melancholy arises in man\\'s heart: \n",
    "this is the rock\\'s victory, this is the rock itself. The boundless grief is too heavy to bear. These are our \n",
    "nights of Gethsemane. But crushing truths perish from being acknowledged. Thus, Edipus at the outset obeys fate \n",
    "without knowing it. But from the moment he knows, his tragedy begins. Yet at the same moment, blind and desperate, \n",
    "he realizes that the only bond linking him to the world is the cool hand of a girl. Then a tremendous remark \n",
    "rings out: \"Despite so many ordeals, my advanced age and the nobility of my soul make me conclude that all is \n",
    "well.\" Sophocles\\' Edipus, like Dostoevsky\\'s Kirilov, thus gives the recipe for the absurd victory. Ancient \n",
    "wisdom confirms modern heroism. One does not discover the absurd without being tempted to write a manual of \n",
    "happiness. \"What!---by such narrow ways--?\" There is but one world, however. Happiness and the absurd are two \n",
    "sons of the same earth. They are inseparable. It would be a mistake to say that happiness necessarily springs \n",
    "from the absurd. Discovery. It happens as well that the felling of the absurd springs from happiness. \"I \n",
    "conclude that all is well,\" says Edipus, and that remark is sacred. It echoes in the wild and limited universe \n",
    "of man. It teaches that all is not, has not been, exhausted. It drives out of this world a god who had come into \n",
    "it with dissatisfaction and a preference for futile suffering. It makes of fate a human matter, which must be \n",
    "settled among men. All Sisyphus\\' silent joy is contained therein. His fate belongs to him. His rock is a thing. \n",
    "Likewise, the absurd man, when he contemplates his torment, silences all the idols. In the universe suddenly \n",
    "restored to its silence, the myriad wondering little voices of the earth rise up. Unconscious, secret calls, \n",
    "invitations from all the faces, they are the necessary reverse and price of victory. There is no sun without \n",
    "shadow, and it is essential to know the night. The absurd man says yes and his efforts will henceforth be \n",
    "unceasing. If there is a personal fate, there is no higher destiny, or at least there is, but one which he \n",
    "concludes is inevitable and despicable. For the rest, he knows himself to be the master of his days. At that \n",
    "subtle moment when man glances backward over his life, Sisyphus returning toward his rock, in that slight \n",
    "pivoting he contemplates that series of unrelated actions which become his fate, created by him, combined \n",
    "under his memory\\'s eye and soon sealed by his death. Thus, convinced of the wholly human origin of all that \n",
    "is human, a blind man eager to see who knows that the night has no end, he is still on the go. The rock is \n",
    "still rolling. I leave Sisyphus at the foot of the mountain! One always finds one\\'s burden again. \n",
    "But Sisyphus teaches the higher fidelity that negates the gods and raises rocks. He too concludes that all is \n",
    "well. This universe henceforth without a master seems to him neither sterile nor futile. Each atom of that stone, \n",
    "each mineral flake of that night filled mountain, in itself forms a world. The struggle itself toward the heights \n",
    "is enough to fill a man\\'s heart. One must imagine Sisyphus happy.\\n\"\"\"\n",
    "\n",
    "# Import Textatistic\n",
    "from textatistic import Textatistic\n",
    "\n",
    "# Compute the readability scores \n",
    "readability_scores = Textatistic(sisyphus_essay).scores\n",
    "\n",
    "# Print the flesch reading ease score\n",
    "flesch = readability_scores['flesch_score']\n",
    "print(\"The Flesch Reading Ease is %.2f\" % (flesch))"
   ]
  },
  {
   "cell_type": "code",
   "execution_count": 7,
   "metadata": {},
   "outputs": [
    {
     "name": "stdout",
     "output_type": "stream",
     "text": [
      "[5.926785009861934, 5.926785009861934, 5.926785009861934, 5.926785009861934]\n"
     ]
    }
   ],
   "source": [
    "forbes = '\\nThe idea is to create more transparency about companies and individuals that are breaking the law or are non-compliant with official obligations and incentivize the right behaviors with the overall goal of improving governance and market order. The Chinese Communist Party intends the social credit score system to “allow the trustworthy to roam freely under heaven while making it hard for the discredited to take a single step.” Even though the system is still under development it currently plays out in real life in myriad ways for private citizens, businesses and government officials. Generally, higher credit scores give people a variety of advantages. Individuals are often given perks such as discounted energy bills and access or better visibility on dating websites. Often, those with higher social credit scores are able to forgo deposits on rental properties, bicycles, and umbrellas. They can even get better travel deals. In addition, Chinese hospitals are currently experimenting with social credit scores. A social credit score above 650 at one hospital allows an individual to see a doctor without lining up to pay.\\n'\n",
    "harvard_law = '\\nIn his important new book, The Schoolhouse Gate: Public Education, the Supreme Court, and the Battle for the American Mind, Professor Justin Driver reminds us that private controversies that arise within the confines of public schools are part of a broader historical arc — one that tracks a range of cultural and intellectual flashpoints in U.S. history. Moreover, Driver explains, these tensions are reflected in constitutional law, and indeed in the history and jurisprudence of the Supreme Court. As such, debates that arise in the context of public education are not simply about the conflict between academic freedom, public safety, and student rights. They mirror our persistent struggle to reconcile our interest in fostering a pluralistic society, rooted in the ideal of individual autonomy, with our desire to cultivate a sense of national unity and shared identity (or, put differently, our effort to reconcile our desire to forge common norms of citizenship with our fear of state indoctrination and overencroachment). In this regard, these debates reflect the unique role that both the school and the courts have played in defining and enforcing the boundaries of American citizenship. \\n'\n",
    "r_digest = '\\nThis week 30 passengers were reportedly injured when a Turkish Airlines flight landing at John F. Kennedy International Airport encountered turbulent conditions. Injuries included bruises, bloody noses, and broken bones. In mid-February, a Delta Airlines flight made an emergency landing to assist three passengers in getting to the nearest hospital after some sudden and unexpected turbulence. Doctors treated 15 passengers after a flight from Miami to Buenos Aires last October for everything from severe bruising to nosebleeds after the plane caught some rough winds over Brazil. In 2016, 23 passengers were injured on a United Airlines flight after severe turbulence threw people into the cabin ceiling. The list goes on. Turbulence has been become increasingly common, with painful outcomes for those on board. And more costly to the airlines, too. Forbes estimates that the cost of turbulence has risen to over $500 million each year in damages and delays. And there are no signs the increase in turbulence will be stopping anytime soon.\\n'\n",
    "time_kids = '\\nThat, of course, is easier said than done. The more you eat salty foods, the more you develop a taste for them. The key to changing your diet is to start small. “Small changes in sodium in foods are not usually noticed,” Quader says. Eventually, she adds, the effort will reset a kid’s taste buds so the salt cravings stop. Bridget Murphy is a dietitian at New York University’s Langone Medical Center. She suggests kids try adding spices to their food instead of salt. Eating fruits and veggies and cutting back on packaged foods will also help. Need a little inspiration? Murphy offers this tip: Focus on the immediate effects of a diet that is high in sodium. High blood pressure can make it difficult to be active. “Do you want to be able to think clearly and perform well in school?” she asks. “If you’re an athlete, do you want to run faster?” If you answered yes to these questions, then it’s time to shake the salt habit.\\n'\n",
    "\n",
    "# Import Textatistic\n",
    "from textatistic import Textatistic\n",
    "\n",
    "# List of excerpts\n",
    "excerpts = [forbes, harvard_law, r_digest, time_kids]\n",
    "\n",
    "# Loop through excerpts and compute gunning fog index\n",
    "gunning_fog_scores = []\n",
    "for excerpt in excerpts:\n",
    "    #print( excerpt )\n",
    "    #print( type( excerpt ) )\n",
    "  readability_scores = Textatistic(time_kids).scores\n",
    "  gunning_fog = readability_scores['gunningfog_score']\n",
    "  gunning_fog_scores.append(gunning_fog)\n",
    "\n",
    "# Print the gunning fog indices\n",
    "print(gunning_fog_scores)"
   ]
  },
  {
   "cell_type": "markdown",
   "metadata": {},
   "source": [
    "<br>\n",
    "\n",
    "## Text Preprocessing, POS tagging and NER\n",
    "\n",
    "### Tokenization and Lemmatization\n",
    "\n",
    "making text machine friendly  \n",
    "\n",
    "text preprocessing techniques:  \n",
    "\n",
    "* Converting words into lowercase\n",
    "* removing leading and trailing whitespace\n",
    "* removing punctuation\n",
    "* removing stopwords\n",
    "* expanding contractions\n",
    "* removing special characters ( numbers, emojis, etc. )\n",
    "\n",
    "\n",
    "**Lemmatization** - converting a word into its base form (lemma)\n",
    "\n",
    "<br>"
   ]
  },
  {
   "cell_type": "code",
   "execution_count": 8,
   "metadata": {},
   "outputs": [
    {
     "name": "stdout",
     "output_type": "stream",
     "text": [
      "text1:\n",
      "['I', 'have', 'a', 'dog', '.', 'His', 'name', 'is', 'Hachi', '.']\n",
      "['I', 'have', 'a', 'dog', '.', 'his', 'name', 'be', 'Hachi', '.']\n",
      "text2:\n",
      "['Do', \"n't\", 'do', 'this']\n",
      "['do', \"n't\", 'do', 'this']\n"
     ]
    }
   ],
   "source": [
    "text1 = 'I have a dog. His name is Hachi.'\n",
    "text2 = \"Don't do this\"\n",
    "\n",
    "import spacy\n",
    "nlp = spacy.load( 'en_core_web_sm' )\n",
    "doc = nlp( text1 )\n",
    "\n",
    "print( 'text1:')\n",
    "#generate a list of tokens\n",
    "tokens = [ token.text for token in doc ]\n",
    "print( tokens )\n",
    "#generate a list of lemmas\n",
    "lemmas = [ token.lemma_ for token in doc ]\n",
    "print( lemmas )\n",
    "\n",
    "doc2 = nlp( text2 )\n",
    "\n",
    "print( 'text2:')\n",
    "#generate a list of tokens\n",
    "tokens = [ token.text for token in doc2 ]\n",
    "print( tokens )\n",
    "#generate a list of lemmas\n",
    "lemmas = [ token.lemma_ for token in doc2 ]\n",
    "print( lemmas )"
   ]
  },
  {
   "cell_type": "code",
   "execution_count": 9,
   "metadata": {},
   "outputs": [
    {
     "name": "stdout",
     "output_type": "stream",
     "text": [
      "['Four', 'score', 'and', 'seven', 'years', 'ago', 'our', 'fathers', 'brought', 'forth', 'on', 'this', 'continent', ',', 'a', 'new', 'nation', ',', 'conceived', 'in', 'Liberty', ',', 'and', 'dedicated', 'to', 'the', 'proposition', 'that', 'all', 'men', 'are', 'created', 'equal', '.', 'Now', 'we', \"'re\", 'engaged', 'in', 'a', 'great', 'civil', 'war', ',', 'testing', 'whether', 'that', 'nation', ',', 'or', 'any', 'nation', 'so', 'conceived', 'and', 'so', 'dedicated', ',', 'can', 'long', 'endure', '.', 'We', \"'re\", 'met', 'on', 'a', 'great', 'battlefield', 'of', 'that', 'war', '.', 'We', \"'ve\", 'come', 'to', 'dedicate', 'a', 'portion', 'of', 'that', 'field', ',', 'as', 'a', 'final', 'resting', 'place', 'for', 'those', 'who', 'here', 'gave', 'their', 'lives', 'that', 'that', 'nation', 'might', 'live', '.', 'It', \"'s\", 'altogether', 'fitting', 'and', 'proper', 'that', 'we', 'should', 'do', 'this', '.', 'But', ',', 'in', 'a', 'larger', 'sense', ',', 'we', 'ca', \"n't\", 'dedicate', '-', 'we', 'can', 'not', 'consecrate', '-', 'we', 'can', 'not', 'hallow', '-', 'this', 'ground', '.', 'The', 'brave', 'men', ',', 'living', 'and', 'dead', ',', 'who', 'struggled', 'here', ',', 'have', 'consecrated', 'it', ',', 'far', 'above', 'our', 'poor', 'power', 'to', 'add', 'or', 'detract', '.', 'The', 'world', 'will', 'little', 'note', ',', 'nor', 'long', 'remember', 'what', 'we', 'say', 'here', ',', 'but', 'it', 'can', 'never', 'forget', 'what', 'they', 'did', 'here', '.', 'It', 'is', 'for', 'us', 'the', 'living', ',', 'rather', ',', 'to', 'be', 'dedicated', 'here', 'to', 'the', 'unfinished', 'work', 'which', 'they', 'who', 'fought', 'here', 'have', 'thus', 'far', 'so', 'nobly', 'advanced', '.', 'It', \"'s\", 'rather', 'for', 'us', 'to', 'be', 'here', 'dedicated', 'to', 'the', 'great', 'task', 'remaining', 'before', 'us', '-', 'that', 'from', 'these', 'honored', 'dead', 'we', 'take', 'increased', 'devotion', 'to', 'that', 'cause', 'for', 'which', 'they', 'gave', 'the', 'last', 'full', 'measure', 'of', 'devotion', '-', 'that', 'we', 'here', 'highly', 'resolve', 'that', 'these', 'dead', 'shall', 'not', 'have', 'died', 'in', 'vain', '-', 'that', 'this', 'nation', ',', 'under', 'God', ',', 'shall', 'have', 'a', 'new', 'birth', 'of', 'freedom', '-', 'and', 'that', 'government', 'of', 'the', 'people', ',', 'by', 'the', 'people', ',', 'for', 'the', 'people', ',', 'shall', 'not', 'perish', 'from', 'the', 'earth', '.']\n",
      "four score and seven year ago our father bring forth on this continent , a new nation , conceive in Liberty , and dedicate to the proposition that all man be create equal . now we be engage in a great civil war , test whether that nation , or any nation so conceive and so dedicated , can long endure . we be meet on a great battlefield of that war . we 've come to dedicate a portion of that field , as a final resting place for those who here give their life that that nation might live . it be altogether fitting and proper that we should do this . but , in a large sense , we ca n't dedicate - we can not consecrate - we can not hallow - this ground . the brave man , live and dead , who struggle here , have consecrate it , far above our poor power to add or detract . the world will little note , nor long remember what we say here , but it can never forget what they do here . it be for we the living , rather , to be dedicate here to the unfinished work which they who fight here have thus far so nobly advanced . it be rather for we to be here dedicate to the great task remain before we - that from these honor dead we take increased devotion to that cause for which they give the last full measure of devotion - that we here highly resolve that these dead shall not have die in vain - that this nation , under God , shall have a new birth of freedom - and that government of the people , by the people , for the people , shall not perish from the earth .\n"
     ]
    }
   ],
   "source": [
    "gettysberg = \"\"\"Four score and seven years ago our fathers brought forth on this continent, a new nation, conceived in Liberty, and dedicated to the proposition that all men are created equal. Now we're engaged in a great civil war, testing whether that nation, or any nation so conceived and so dedicated, can long endure. We're met on a great battlefield of that war. We've come to dedicate a portion of that field, as a final resting place for those who here gave their lives that that nation might live. It's altogether fitting and proper that we should do this. But, in a larger sense, we can't dedicate - we can not consecrate - we can not hallow - this ground. The brave men, living and dead, who struggled here, have consecrated it, far above our poor power to add or detract. The world will little note, nor long remember what we say here, but it can never forget what they did here. It is for us the living, rather, to be dedicated here to the unfinished work which they who fought here have thus far so nobly advanced. It's rather for us to be here dedicated to the great task remaining before us - that from these honored dead we take increased devotion to that cause for which they gave the last full measure of devotion - that we here highly resolve that these dead shall not have died in vain - that this nation, under God, shall have a new birth of freedom - and that government of the people, by the people, for the people, shall not perish from the earth.\"\"\"\n",
    "\n",
    "# Create a Doc object\n",
    "doc = nlp(gettysberg)\n",
    "\n",
    "# Generate the tokens\n",
    "tokens = [token.text for token in doc]\n",
    "print(tokens)\n",
    "\n",
    "# Generate lemmas\n",
    "lemmas = [token.lemma_ for token in doc]\n",
    "\n",
    "# Convert lemmas into a string\n",
    "print(' '.join(lemmas))"
   ]
  },
  {
   "cell_type": "markdown",
   "metadata": {},
   "source": [
    "<br>\n",
    "\n",
    "### Text Cleaning\n",
    "\n",
    "Text cleaning techniques:\n",
    "* unnecessary whitespace and escape sequences\n",
    "* punctuations\n",
    "* special characters (number, emojis, etc.)\n",
    "* stopwords\n",
    "\n",
    "<br>"
   ]
  },
  {
   "cell_type": "code",
   "execution_count": 10,
   "metadata": {},
   "outputs": [
    {
     "name": "stdout",
     "output_type": "stream",
     "text": [
      "['\\n', 'omg', '!', '!', '!', 'this', 'be', 'like', '   ', 'the', 'good', 'thing', 'ever', '\\t\\n', '.', '\\n', 'wow', ',', 'such', 'an', 'amazing', 'song', '.', 'I', 'be', 'hooked', '.', 'top', '5', 'definitely', '.', '?', '\\n']\n",
      "['omg', 'this', 'be', 'like', 'the', 'good', 'thing', 'ever', 'wow', 'such', 'an', 'amazing', 'song', 'I', 'be', 'hooked', 'top', 'definitely']\n"
     ]
    }
   ],
   "source": [
    "text = \"\"\"\n",
    "OMG!!! This is like    the best thing ever \\t\\n.\n",
    "Wow, such an amazing song. I'm hooked. Top 5 definitely. ?\n",
    "\"\"\"\n",
    "\n",
    "doc = nlp( text.lower() )\n",
    "lemmas = [ token.lemma_ for token in doc ]\n",
    "print( lemmas )\n",
    "\n",
    "a_lemmas = [ lemma for lemma in lemmas\n",
    "           if lemma.isalpha() or lemma in '-PRON-' ]\n",
    "print( a_lemmas )"
   ]
  },
  {
   "cell_type": "code",
   "execution_count": 11,
   "metadata": {},
   "outputs": [
    {
     "name": "stdout",
     "output_type": "stream",
     "text": [
      "\n",
      "  --  SPACE  --  \n",
      "\n",
      "omg  --  NOUN  --  omg\n",
      "!  --  PUNCT  --  !\n",
      "!  --  PUNCT  --  !\n",
      "!  --  PUNCT  --  !\n",
      "this  --  DET  --  this\n",
      "is  --  AUX  --  be\n",
      "like  --  ADP  --  like\n",
      "     --  SPACE  --     \n",
      "the  --  DET  --  the\n",
      "best  --  ADJ  --  good\n",
      "thing  --  NOUN  --  thing\n",
      "ever  --  ADV  --  ever\n",
      "\t\n",
      "  --  SPACE  --  \t\n",
      "\n",
      ".  --  PUNCT  --  .\n",
      "\n",
      "  --  SPACE  --  \n",
      "\n",
      "wow  --  INTJ  --  wow\n",
      ",  --  PUNCT  --  ,\n",
      "such  --  DET  --  such\n",
      "an  --  DET  --  an\n",
      "amazing  --  ADJ  --  amazing\n",
      "song  --  NOUN  --  song\n",
      ".  --  PUNCT  --  .\n",
      "i  --  PRON  --  I\n",
      "'m  --  VERB  --  be\n",
      "hooked  --  ADJ  --  hooked\n",
      ".  --  PUNCT  --  .\n",
      "top  --  ADJ  --  top\n",
      "5  --  NUM  --  5\n",
      "definitely  --  ADV  --  definitely\n",
      ".  --  PUNCT  --  .\n",
      "?  --  PUNCT  --  ?\n",
      "\n",
      "  --  SPACE  --  \n",
      "\n"
     ]
    }
   ],
   "source": [
    "for token in doc:\n",
    "    print(token.text, \" -- \", token.pos_, \" -- \",token.lemma_)"
   ]
  },
  {
   "cell_type": "code",
   "execution_count": 12,
   "metadata": {},
   "outputs": [
    {
     "name": "stdout",
     "output_type": "stream",
     "text": [
      "omg this be like the good thing ever wow such an amazing song I be hooked top definitely\n"
     ]
    }
   ],
   "source": [
    "b_lemmas = [ token.lemma_ for token in doc\n",
    "           if token.lemma_.isalpha() or token.pos_ == '-PRON-' ]\n",
    "print( ' '.join( b_lemmas ) )"
   ]
  },
  {
   "cell_type": "markdown",
   "metadata": {},
   "source": [
    "<br>\n",
    "\n",
    "**Stopwords** \n",
    "\n",
    "* words that occur so often that they do not add informational value to the text\n",
    "* ex: articles, be verbs, pronouns etc\n",
    "\n",
    "<br>"
   ]
  },
  {
   "cell_type": "code",
   "execution_count": 13,
   "metadata": {},
   "outputs": [
    {
     "name": "stdout",
     "output_type": "stream",
     "text": [
      "{'into', 'nor', 'somewhere', 'used', 'myself', 'other', 'to', 'very', 'get', 'sixty', 'both', 'whereupon', 'eleven', 'anyhow', 'during', 'made', 'namely', 'cannot', 'doing', 'without', 'even', 'no', 'wherein', 'only', 'after', \"'m\", 'although', 'name', 'here', 'really', 'yet', 'as', 'most', 'within', 'all', 'whenever', 'toward', 'meanwhile', 'former', 'ca', 'again', 'noone', 'per', 'being', 'fifteen', 'mine', 'itself', 'whose', 'move', 'several', 'sometimes', 'whence', 'together', 'something', 'though', 'when', 'top', 'behind', 'show', 'through', 'hence', 'just', 'except', 'next', 'over', 'therefore', 'you', 'using', 'thus', 'until', 'had', 'then', 'up', 'someone', 'therein', 'another', 'yourselves', 'please', 'never', 'nobody', 'because', 'whole', 'we', 'such', 'twenty', 'twelve', 'her', \"'ve\", 'under', 'did', 'whereby', 'been', 'elsewhere', 'about', 'much', 'put', 'one', 'are', 'their', 'see', \"'ll\", 'forty', 'thru', 'nowhere', 'beside', 'on', 'beyond', 'where', 'your', '’re', 'does', '‘re', 'become', 'himself', 'third', 'herself', 'further', 'hereby', 'seemed', 'she', 'whoever', 'done', 'these', 'those', 'least', 'would', 'almost', 'whom', 'somehow', 'what', 'around', 'latterly', '‘m', 'them', 'if', 'some', 'am', 'fifty', 'none', 'hundred', 'the', 'thereby', 'so', 'formerly', 'amongst', 'say', 'always', 'herein', 'thereafter', 'whither', 'have', 'give', 'yourself', 'should', 'once', 'full', 'between', 'n‘t', 'mostly', 'sometime', 'go', 'who', 'us', 'this', 'above', 'last', 'do', 'already', 'alone', \"'d\", 'themselves', 'own', 'less', 'his', 'often', \"'s\", 'for', 'everyone', '‘ve', 'however', 'latter', 'rather', 'became', 'will', 'either', '’ll', 'part', 'keep', 'everything', 'hereupon', 'still', 'that', 'and', 'else', 'might', '‘s', 'everywhere', 'they', 'quite', 'seeming', 'but', 'than', 'me', 'moreover', 'an', 'against', 'three', 'each', 'nine', 'whereafter', 'amount', 'out', 'two', 'five', 'ours', '’s', 'hers', 'unless', 'it', 'well', 'while', '‘ll', 'take', 'at', 'onto', 'down', 'thence', 'is', 'afterwards', 'he', 'neither', 'can', 'perhaps', 'anything', 'how', 'anyway', 'among', '’m', '’d', 'every', 'via', 'nevertheless', 'side', 'towards', 'along', 'a', 'also', 'anywhere', 'be', 'him', 'nothing', 'may', 'whatever', 'across', 'whether', 'make', 'yours', 'enough', 'ever', 'front', 'my', 'with', 'were', 'six', 'hereafter', 'back', 'throughout', 'ten', 'few', 're', 'which', 'beforehand', 'many', 'ourselves', 'first', 'four', 'was', 'from', 'becoming', 'any', 'whereas', 'besides', 'becomes', 'too', 'since', 'below', 'indeed', 'not', 'there', \"'re\", '’ve', 'in', 'our', 'i', 'why', 'regarding', 'n’t', 'thereupon', 'more', 'serious', 'call', 'due', 'now', 'of', 'otherwise', 'off', \"n't\", 'bottom', 'eight', 'seem', 'empty', 'before', 'by', 'seems', 'has', 'upon', 'wherever', 'could', 'various', 'or', 'same', 'others', 'must', 'its', '‘d', 'anyone'}\n",
      "omg like good thing wow amazing song hooked definitely\n"
     ]
    }
   ],
   "source": [
    "# get list of spacy STOPWORDS\n",
    "stopwords = spacy.lang.en.stop_words.STOP_WORDS\n",
    "print( stopwords )\n",
    "\n",
    "a_lemmas = [ lemma for lemma in lemmas\n",
    "           if lemma.isalpha() and lemma.lower() not in stopwords ]\n",
    "print( ' '.join( a_lemmas ) )"
   ]
  },
  {
   "cell_type": "code",
   "execution_count": 14,
   "metadata": {},
   "outputs": [
    {
     "name": "stdout",
     "output_type": "stream",
     "text": [
      "century politic witness alarming rise populism Europe warning sign come UK Brexit Referendum vote swinging way Leave follow stupendous victory billionaire Donald Trump President United States November Europe steady rise populist far right party capitalize Europe Immigration Crisis raise nationalist anti europe sentiment instance include Alternative Germany AfD win seat enter Bundestag upset Germany political order time Second World War success Star Movement Italy surge popularity neo nazism neo fascism country Hungary Czech Republic Poland Austria\n"
     ]
    }
   ],
   "source": [
    "blog = '\\nTwenty-first-century politics has witnessed an alarming rise of populism in the U.S. and Europe. The first warning signs came with the UK Brexit Referendum vote in 2016 swinging in the way of Leave. This was followed by a stupendous victory by billionaire Donald Trump to become the 45th President of the United States in November 2016. Since then, Europe has seen a steady rise in populist and far-right parties that have capitalized on Europe’s Immigration Crisis to raise nationalist and anti-Europe sentiments. Some instances include Alternative for Germany (AfD) winning 12.6% of all seats and entering the Bundestag, thus upsetting Germany’s political order for the first time since the Second World War, the success of the Five Star Movement in Italy and the surge in popularity of neo-nazism and neo-fascism in countries such as Hungary, Czech Republic, Poland and Austria.\\n'\n",
    "doc = nlp( blog )\n",
    "\n",
    "lemmas = [ token.lemma_ for token in doc ]\n",
    "\n",
    "# Remove stopwords and non-alphabetic tokens\n",
    "a_lemmas = [lemma for lemma in lemmas \n",
    "            if lemma.isalpha() and lemma.lower() not in stopwords]\n",
    "\n",
    "# Print string after text cleaning\n",
    "print(' '.join(a_lemmas))\n"
   ]
  },
  {
   "cell_type": "code",
   "execution_count": 15,
   "metadata": {},
   "outputs": [
    {
     "name": "stdout",
     "output_type": "stream",
     "text": [
      "0    talk new lecture TED I illusion create TED I t...\n",
      "1    representation brain brain break left half log...\n",
      "2    great honor today share Digital Universe creat...\n",
      "3    passion music technology thing combination thi...\n",
      "4    use want computer new program programming requ...\n",
      "Name: transcript, dtype: object\n"
     ]
    }
   ],
   "source": [
    "import pandas as pd\n",
    "ted = pd.read_csv( 'ted.csv' )\n",
    "tedhead = ted.head().copy()\n",
    "# Function to preprocess text\n",
    "def preprocess(text):\n",
    "  \t# Create Doc object\n",
    "    doc = nlp(text, disable=['ner', 'parser'])\n",
    "    # Generate lemmas\n",
    "    lemmas = [token.lemma_ for token in doc]\n",
    "    # Remove stopwords and non-alphabetic characters\n",
    "    a_lemmas = [lemma for lemma in lemmas \n",
    "            if lemma.isalpha() and lemma not in stopwords]\n",
    "    \n",
    "    return ' '.join(a_lemmas)\n",
    "  \n",
    "# Apply preprocess to ted['transcript']\n",
    "tedhead['transcript'] = tedhead['transcript'].apply(preprocess)\n",
    "print(tedhead['transcript'])"
   ]
  },
  {
   "cell_type": "markdown",
   "metadata": {},
   "source": [
    "<br>\n",
    "\n",
    "Other text preprocessing techniques  \n",
    "\n",
    "* Removing HTML/XML tags\n",
    "* Replacing accented characters\n",
    "* Correcting spelling errors\n",
    "\n",
    "<br>"
   ]
  },
  {
   "cell_type": "markdown",
   "metadata": {},
   "source": [
    "### Part-of-Speech Tagging\n",
    "\n",
    "Applications  \n",
    "\n",
    "* word-sense disambiguation (noun/verb distinctions)\n",
    "* Sentiment analysis\n",
    "* Question Answering\n",
    "* detecting fake news/spam\n",
    "\n",
    "**POS tagging** - assigning every word to its corresponding part of speech\n",
    "\n",
    "<br>"
   ]
  },
  {
   "cell_type": "code",
   "execution_count": 16,
   "metadata": {},
   "outputs": [
    {
     "name": "stdout",
     "output_type": "stream",
     "text": [
      "[('Jane', 'PROPN'), ('is', 'AUX'), ('an', 'DET'), ('amazing', 'ADJ'), ('guitarist', 'NOUN')]\n"
     ]
    }
   ],
   "source": [
    "nlp = spacy.load( 'en_core_web_sm' )\n",
    "sent = \"Jane is an amazing guitarist\"\n",
    "doc = nlp( sent )\n",
    "\n",
    "# generate a list of tokens and pos tags\n",
    "pos = [(token.text, token.pos_) for token in doc ]\n",
    "print( pos )"
   ]
  },
  {
   "cell_type": "code",
   "execution_count": 17,
   "metadata": {},
   "outputs": [
    {
     "name": "stdout",
     "output_type": "stream",
     "text": [
      "[('He', 'PRON'), ('found', 'VERB'), ('himself', 'PRON'), ('understanding', 'VERB'), ('the', 'DET'), ('wearisomeness', 'NOUN'), ('of', 'ADP'), ('this', 'DET'), ('life', 'NOUN'), (',', 'PUNCT'), ('where', 'ADV'), ('every', 'DET'), ('path', 'NOUN'), ('was', 'VERB'), ('an', 'DET'), ('improvisation', 'NOUN'), ('and', 'CCONJ'), ('a', 'DET'), ('considerable', 'ADJ'), ('part', 'NOUN'), ('of', 'ADP'), ('one', 'PRON'), ('’s', 'ADV'), ('waking', 'VERB'), ('life', 'NOUN'), ('was', 'AUX'), ('spent', 'VERB'), ('watching', 'VERB'), ('one', 'NUM'), ('’s', 'NOUN'), ('feet', 'NOUN'), ('.', 'PUNCT')]\n"
     ]
    }
   ],
   "source": [
    "sent = 'He found himself understanding the wearisomeness of this life, where every path was an improvisation and a considerable part of one’s waking life was spent watching one’s feet.'\n",
    "doc = nlp( sent )\n",
    "\n",
    "# generate a list of tokens and pos tags\n",
    "pos = [(token.text, token.pos_) for token in doc ]\n",
    "print( pos )"
   ]
  },
  {
   "cell_type": "code",
   "execution_count": 18,
   "metadata": {},
   "outputs": [
    {
     "name": "stdout",
     "output_type": "stream",
     "text": [
      "3\n"
     ]
    }
   ],
   "source": [
    "# Returns number of proper nouns\n",
    "def proper_nouns(text, model=nlp):\n",
    "  \t# Create doc object\n",
    "    doc = model(text)\n",
    "    # Generate list of POS tags\n",
    "    pos = [token.pos_ for token in doc]\n",
    "    \n",
    "    # Return number of proper nouns\n",
    "    return pos.count('PROPN')\n",
    "\n",
    "print(proper_nouns(\"Abdul, Bill and Cathy went to the market to buy apples.\", nlp))"
   ]
  },
  {
   "cell_type": "markdown",
   "metadata": {},
   "source": [
    "<br>\n",
    "\n",
    "### Named Entity Recognition (NER)\n",
    "\n",
    "**Named Entity Recognition** - identifying and classifying named entities into predefined categories such as person, organization, country, etc.  \n",
    "\n",
    "<br>"
   ]
  },
  {
   "cell_type": "code",
   "execution_count": 19,
   "metadata": {},
   "outputs": [
    {
     "name": "stdout",
     "output_type": "stream",
     "text": [
      "[('John Doe', 'PERSON'), ('France', 'GPE')]\n"
     ]
    }
   ],
   "source": [
    "string = \"John Doe is a software engineer working at Google. He lives in France\"\n",
    "doc = nlp( string )\n",
    "\n",
    "# generate the named entities\n",
    "ne = [(ent.text, ent.label_) for ent in doc.ents]\n",
    "print( ne )"
   ]
  },
  {
   "cell_type": "code",
   "execution_count": 20,
   "metadata": {},
   "outputs": [
    {
     "name": "stdout",
     "output_type": "stream",
     "text": [
      "Google ORG\n",
      "Mountain View GPE\n"
     ]
    }
   ],
   "source": [
    "# Create a Doc instance \n",
    "text = 'Sundar Pichai is the CEO of Google. Its headquarters is in Mountain View.'\n",
    "doc = nlp( text)\n",
    "\n",
    "# Print all named entities and their labels\n",
    "for ent in doc.ents:\n",
    "    print(ent.text, ent.label_)"
   ]
  },
  {
   "cell_type": "markdown",
   "metadata": {},
   "source": [
    "<br>\n",
    "\n",
    "## N-Gram Models\n",
    "\n",
    "### Build a Bag-of-Words Model\n",
    "\n",
    "Bag of Words Model:  \n",
    "\n",
    "* Extract Word Tokens\n",
    "* Compute frequency of word tokens\n",
    "* Construct a word vector out of these frequencies and vocabulary of corpus\n",
    "\n",
    "<br>"
   ]
  },
  {
   "cell_type": "code",
   "execution_count": 24,
   "metadata": {},
   "outputs": [
    {
     "name": "stdout",
     "output_type": "stream",
     "text": [
      "[[0 0 0 0 1 1 1 0 1 0 1 0 3]\n",
      " [0 1 0 1 0 0 0 1 0 1 1 0 0]\n",
      " [1 0 1 0 1 0 0 0 1 0 0 1 1]]\n"
     ]
    }
   ],
   "source": [
    "corpus = pd.Series([\n",
    "    'The lion is the king of the jungle',\n",
    "    'Lions have lifespans of a decade',\n",
    "    'The lion is an endangered species'\n",
    "])\n",
    "\n",
    "from sklearn.feature_extraction.text import CountVectorizer\n",
    "vectorizer = CountVectorizer()\n",
    "bow_matrix = vectorizer.fit_transform(corpus)\n",
    "print(bow_matrix.toarray())"
   ]
  },
  {
   "cell_type": "code",
   "execution_count": 25,
   "metadata": {},
   "outputs": [
    {
     "name": "stdout",
     "output_type": "stream",
     "text": [
      "   an  decade  endangered  have  is  jungle  king  lifespans  lion  lions  of  \\\n",
      "0   0       0           0     0   1       1     1          0     1      0   1   \n",
      "1   0       1           0     1   0       0     0          1     0      1   1   \n",
      "2   1       0           1     0   1       0     0          0     1      0   0   \n",
      "\n",
      "   species  the  \n",
      "0        0    3  \n",
      "1        0    0  \n",
      "2        1    1  \n"
     ]
    }
   ],
   "source": [
    "# Convert bow_matrix into a DataFrame\n",
    "bow_df = pd.DataFrame(bow_matrix.toarray())\n",
    "\n",
    "# Map the column names to vocabulary \n",
    "bow_df.columns = vectorizer.get_feature_names()\n",
    "\n",
    "# Print bow_df\n",
    "print(bow_df)"
   ]
  },
  {
   "cell_type": "markdown",
   "metadata": {},
   "source": [
    "<br>\n",
    "\n",
    "### Building a BoW Naive Bayes Classifier\n",
    "\n",
    "Spam filtering messages.  \n",
    "\n",
    "1. Text preprocessing using `CountVectorizer`\n",
    "    * `lowercase`:True or False\n",
    "    * `strip_accents`: unicode, ascii, None\n",
    "    * `stop_words`: english, a list, None\n",
    "    * `token_pattern`: regex\n",
    "    * `tokenizer`: function\n",
    "2. Building a BoW model (representation)\n",
    "    * import the CountVectorizer fom sklearn\n",
    "    * ....\n",
    "3. Machine Learning\n",
    "    * import MultinomialNB\n",
    "    * ....\n",
    "\n",
    "\n",
    "ex:\n",
    "\n",
    "    from sklearn.feature_extraction.text import CountVectorizer\n",
    "    vectorizer = CountVectorizer( strip_accents='ascii', stop_words='english', lowercase=False)\n",
    "    from sklearn.model_selection import train_test_split\n",
    "    X_train, X_test, y_train, y_test = train_test_split( df['message'], df['label'], test_size=0.25)\n",
    "    X_train_bow = vectorizer.fit_transform(X_train)\n",
    "    X_test_bow = vectorizer.transform(X_test)\n",
    "    \n",
    "    from sklearn.naive_bayes import MultinomialNB\n",
    "    clf = MultinomialNB()\n",
    "    clf.fit(X_train_bow, y_train)\n",
    "    accuracy = clf.score(X_test_bow, y_test)\n",
    "    print(accuracy)\n",
    "    \n",
    "   \n",
    "<br>"
   ]
  },
  {
   "cell_type": "markdown",
   "metadata": {},
   "source": [
    "### Build N-gram Models\n",
    "\n",
    "**n-grams** - contiguous sequence of n elements in a given document  \n",
    "\n",
    "* n = 1 $\\rightarrow$ bag-of-words\n",
    "* n = 2 $\\rightarrow$ bi-grams\n",
    "* n = 3 $\\rightarrow$ tri-grams\n",
    "* n $\\rightarrow$ n-grams\n",
    "\n",
    "n-gram applications  \n",
    "\n",
    "* provide more context\n",
    "* sequence completion\n",
    "* spelling correction\n",
    "* machine translation correction\n",
    "\n",
    "examples:  \n",
    "\n",
    "    bigrams = CountVectorizer( ngram_range=( 2,2 ) )\n",
    "    ngrams = CountVectorizer( ngram_range=( 1,3 ) )\n",
    "    \n",
    "n-gram shortcomings:\n",
    "\n",
    "* increases the number of dimensions to feature set\n",
    "* higher order n-grams are rare\n"
   ]
  },
  {
   "cell_type": "markdown",
   "metadata": {},
   "source": [
    "<br>\n",
    "\n",
    "## TF-IDF and Similarity Scores\n",
    "\n",
    "### Building tf-idf document vectors\n",
    "\n",
    "**ti-idf** - term frequency - inverse document frequency  \n",
    "\n",
    "* proportional to the term frequency\n",
    "* inverse function of the number of documents in which it occurs \n",
    "\n",
    "$$w_{i,j} = tf_{i,j}\\cdot \\mbox{log}(\\frac{N}{df_i})$$\n",
    "\n",
    "the weight of a term in a doc is determined by the frequency the term appears in the doc times the log of the number of documents divided by the number of documents that hold the term.\n",
    "\n",
    "    from sklearn.feature_extraction.text import TfidfVectorizer\n",
    "    vectorizer = TfidfVectorizer()\n",
    "    tfidf_matrix = vectorizer.fit_transform( corpus )\n",
    "    print( tfidf_matrix.toarray())\n",
    "\n",
    "<br>"
   ]
  },
  {
   "cell_type": "markdown",
   "metadata": {},
   "source": [
    "### Cosine Similarity\n",
    "\n",
    "$$sim(A,B) = \\mbox{cos}(\\theta)=\\frac{A\\cdot B}{\\|A\\|\\|B\\|}$$\n",
    "\n",
    "<br>"
   ]
  },
  {
   "cell_type": "code",
   "execution_count": 26,
   "metadata": {},
   "outputs": [
    {
     "name": "stdout",
     "output_type": "stream",
     "text": [
      "[[0.73881883]]\n"
     ]
    }
   ],
   "source": [
    "from sklearn.metrics.pairwise import cosine_similarity\n",
    "A = ( 4,7,1 )\n",
    "B = ( 5,2,3 )\n",
    "score = cosine_similarity( [A], [B] )\n",
    "print( score )"
   ]
  },
  {
   "cell_type": "code",
   "execution_count": 28,
   "metadata": {},
   "outputs": [
    {
     "name": "stdout",
     "output_type": "stream",
     "text": [
      "4\n",
      "[[0.4472136]]\n"
     ]
    }
   ],
   "source": [
    "import numpy as np\n",
    "# Initialize numpy vectors\n",
    "A = np.array([1,3])\n",
    "B = np.array([-2,2])\n",
    "\n",
    "# Compute dot product\n",
    "dot_prod = np.dot(A,B)\n",
    "score = cosine_similarity( [A], [B] )\n",
    "\n",
    "# Print dot product\n",
    "print(dot_prod)\n",
    "print( score )"
   ]
  },
  {
   "cell_type": "markdown",
   "metadata": {},
   "source": [
    "<br>\n",
    "\n",
    "Recommender System:  \n",
    "\n",
    "1. Text Preprocessing\n",
    "2. Generate tf-idf vectors\n",
    "3. Generate cosine similarity vectors\n",
    "\n",
    "generating the matrix:\n",
    "\n",
    "    from sklearn.metrics.pairwise import cosine_similarity\n",
    "    cosine_sim = cosine_similarity( tfidf_matrix, tfidf_matrix )\n",
    "    \n",
    "    OR\n",
    "    \n",
    "    from sklearn.metrics.pairwise import linear_kernel\n",
    "    cosine_sim = linear_kernel( tfidf_matrix, tfidf_matrix )"
   ]
  },
  {
   "cell_type": "code",
   "execution_count": 38,
   "metadata": {},
   "outputs": [
    {
     "name": "stdout",
     "output_type": "stream",
     "text": [
      "                                          transcript  \\\n",
      "0  We're going to talk — my — a new lecture, just...   \n",
      "1  This is a representation of your brain, and yo...   \n",
      "2  It's a great honor today to share with you The...   \n",
      "3  My passions are music, technology and making t...   \n",
      "4  It used to be that if you wanted to get a comp...   \n",
      "\n",
      "                                                 url  \n",
      "0  https://www.ted.com/talks/al_seckel_says_our_b...  \n",
      "1  https://www.ted.com/talks/aaron_o_connell_maki...  \n",
      "2  https://www.ted.com/talks/carter_emmart_demos_...  \n",
      "3  https://www.ted.com/talks/jared_ficklin_new_wa...  \n",
      "4  https://www.ted.com/talks/jeremy_howard_the_wo...  \n"
     ]
    }
   ],
   "source": [
    "ted = pd.read_csv( 'ted.csv' )\n",
    "print( ted.head() )\n",
    "# Generate mapping between titles and index\n",
    "indices = pd.Series(ted.index, index=ted['transcript']).drop_duplicates()\n",
    "transcripts = pd.Series( ted['transcript'])"
   ]
  },
  {
   "cell_type": "code",
   "execution_count": 31,
   "metadata": {},
   "outputs": [],
   "source": [
    "def get_recommendations(title, cosine_sim, indices):\n",
    "    # Get index of movie that matches title\n",
    "    idx = indices[title]\n",
    "    # Sort the movies based on the similarity scores\n",
    "    sim_scores = list(enumerate(cosine_sim[idx]))\n",
    "    sim_scores = sorted(sim_scores, key=lambda x: x[1], reverse=True)\n",
    "    # Get the scores for 10 most similar movies\n",
    "    sim_scores = sim_scores[1:11]\n",
    "    # Get the movie indices\n",
    "    movie_indices = [i[0] for i in sim_scores]\n",
    "    # Return the top 10 most similar movies\n",
    "    return metadata['title'].iloc[movie_indices]"
   ]
  },
  {
   "cell_type": "code",
   "execution_count": 39,
   "metadata": {},
   "outputs": [],
   "source": [
    "from sklearn.feature_extraction.text import TfidfVectorizer\n",
    "from sklearn.metrics.pairwise import linear_kernel\n",
    "\n",
    "# Initialize the TfidfVectorizer \n",
    "tfidf = TfidfVectorizer(stop_words='english')\n",
    "\n",
    "# Construct the TF-IDF matrix\n",
    "tfidf_matrix = tfidf.fit_transform( transcripts )\n",
    "\n",
    "# Generate the cosine similarity matrix\n",
    "cosine_sim = linear_kernel( tfidf_matrix, tfidf_matrix )\n",
    " \n",
    "# Generate recommendations \n",
    "#print(get_recommendations('5 ways to kill your dreams', cosine_sim, indices))"
   ]
  },
  {
   "cell_type": "markdown",
   "metadata": {},
   "source": [
    "<br>\n",
    "\n",
    "### Word Embeddings\n",
    "\n",
    "**word Embeddings** - mapping words into an n-dimensional vector space  \n",
    "\n",
    "* produced using deep learning and huge amounts of data\n",
    "* discern how similar two words are\n",
    "* can be used to detect synonyms and antonyms\n",
    "* captures complex relationships\n",
    "\n",
    "<br>"
   ]
  },
  {
   "cell_type": "code",
   "execution_count": 41,
   "metadata": {},
   "outputs": [
    {
     "name": "stdout",
     "output_type": "stream",
     "text": [
      "[ 1.8733e-01  4.0595e-01 -5.1174e-01 -5.5482e-01  3.9716e-02  1.2887e-01\n",
      "  4.5137e-01 -5.9149e-01  1.5591e-01  1.5137e+00 -8.7020e-01  5.0672e-02\n",
      "  1.5211e-01 -1.9183e-01  1.1181e-01  1.2131e-01 -2.7212e-01  1.6203e+00\n",
      " -2.4884e-01  1.4060e-01  3.3099e-01 -1.8061e-02  1.5244e-01 -2.6943e-01\n",
      " -2.7833e-01 -5.2123e-02 -4.8149e-01 -5.1839e-01  8.6262e-02  3.0818e-02\n",
      " -2.1253e-01 -1.1378e-01 -2.2384e-01  1.8262e-01 -3.4541e-01  8.2611e-02\n",
      "  1.0024e-01 -7.9550e-02 -8.1721e-01  6.5621e-03  8.0134e-02 -3.9976e-01\n",
      " -6.3131e-02  3.2260e-01 -3.1625e-02  4.3056e-01 -2.7270e-01 -7.6020e-02\n",
      "  1.0293e-01 -8.8653e-02 -2.9087e-01 -4.7214e-02  4.6036e-02 -1.7788e-02\n",
      "  6.4990e-02  8.8451e-02 -3.1574e-01 -5.8522e-01  2.2295e-01 -5.2785e-02\n",
      " -5.5981e-01 -3.9580e-01 -7.9849e-02 -1.0933e-02 -4.1722e-02 -5.5576e-01\n",
      "  8.8707e-02  1.3710e-01 -2.9873e-03 -2.6256e-02  7.7330e-02  3.9199e-01\n",
      "  3.4507e-01 -8.0130e-02  3.3451e-01  2.7063e-01 -2.4544e-02  7.2576e-02\n",
      " -1.8120e-01  2.3693e-01  3.9977e-01  4.5012e-01  2.7179e-02  2.7400e-01\n",
      "  1.4791e-01 -5.8324e-03  9.5910e-01 -1.0129e+00  2.0699e-01  1.8237e-01\n",
      " -2.5234e-01 -2.6261e-01 -3.4799e-01 -2.4051e-02  4.4470e-01  5.9226e-02\n",
      "  4.5561e-01  1.9700e-01 -4.8327e-01  8.9523e-02 -2.2373e-01 -1.5654e-01\n",
      "  2.1578e-01  1.1673e-01  8.2006e-02 -8.0735e-01  2.3903e-01 -5.1304e-01\n",
      " -3.3888e-01 -3.1499e-01 -1.7272e-01 -6.7020e-01  2.7096e-01 -4.3241e-01\n",
      "  4.3103e-02  2.1233e-02  1.3350e-02 -6.3938e-02 -2.4957e-01 -2.4938e-01\n",
      "  3.4812e-01 -7.1321e-02  2.3375e-01 -9.5384e-02  5.2488e-01  6.8175e-01\n",
      " -1.0214e-01 -1.4914e-01 -7.5697e-02  1.7248e-01  2.5440e-01  1.5760e-01\n",
      " -5.9125e-01  2.4300e-01  6.3962e-01 -9.3280e-02 -2.7914e-01 -6.6262e-02\n",
      " -6.7170e-02 -4.0929e-01 -3.0300e+00  1.8250e-01  2.0113e-01  6.0628e-02\n",
      " -2.4769e-01  5.5324e-02 -4.9106e-01  3.1544e-01 -3.4231e-01 -6.3766e-01\n",
      " -3.6129e-01 -5.9029e-02  1.5510e-01  4.4577e-02  2.3572e-01 -1.7095e-01\n",
      " -2.2749e-01 -2.3184e-02  2.3868e-01  2.8170e-02  4.2965e-01 -1.2458e-01\n",
      " -3.6972e-02  2.0061e-01 -3.1405e-01 -8.5287e-02 -3.3496e-01 -9.7047e-02\n",
      " -1.4388e-01  1.1147e-01 -4.5232e-01 -2.4217e-01 -1.8245e-01 -6.7292e-01\n",
      "  2.1933e-02 -5.4816e-02 -4.6508e-01  4.7767e-01 -2.4752e-01 -1.5790e-01\n",
      "  1.1817e-01  5.6851e-02 -4.9151e-01  1.5496e-01  1.6425e-02  4.1650e-02\n",
      " -3.4990e-01 -1.5979e-01  3.9705e-01  2.2963e-01  2.4688e-01  1.9567e-02\n",
      " -2.8802e-01 -6.9983e-01  3.2744e-01  1.0833e-01  2.4945e-01 -7.8653e-01\n",
      " -6.1379e-02 -3.7359e-01 -1.1603e-01 -2.4950e-01  1.0161e-01  3.3994e-02\n",
      "  1.5650e-01  2.1344e-01 -1.1094e-01 -5.7687e-03  1.7869e-01 -1.0127e-01\n",
      " -1.6891e-02  3.0001e-01 -3.4116e-01 -3.2390e-02  4.2514e-02  1.1850e-01\n",
      " -1.8337e-01 -6.2865e-01 -2.8021e-01  4.2351e-01  1.1277e-01  1.2121e-03\n",
      "  1.5710e-01 -3.6321e-01 -4.9251e-01  1.1653e-01  2.4024e-01  1.7712e-01\n",
      "  6.8700e-02 -4.4137e-01 -2.9877e-01 -1.2071e-02  2.8325e-01  1.0668e-01\n",
      " -1.8859e-01 -4.1345e-01 -3.4090e-01  4.7236e-02 -3.8309e-01  4.3572e-01\n",
      "  2.4505e-01  2.7337e-01 -7.3038e-02  4.2514e-01 -3.2455e-02 -3.5211e-01\n",
      "  4.5691e-01  1.9433e-01 -1.5230e-01  4.2675e-01  2.8795e-01 -5.5969e-01\n",
      " -1.3031e-01  8.9844e-02  4.2605e-01 -1.9632e-01 -7.1989e-02 -8.0189e-02\n",
      " -3.0425e-01 -4.6190e-01  2.8178e-01 -9.9872e-02  3.5097e-01  1.6123e-01\n",
      " -3.6548e-02 -3.6739e-01 -1.9819e-02  3.2130e-01  1.7479e-01  2.5175e-01\n",
      " -7.6439e-03 -9.3786e-02 -3.7852e-01  4.3725e-01  2.1288e-01  2.5096e-01\n",
      " -1.9613e-01 -2.8865e-01 -5.6726e-03  4.2795e-01  2.0625e-01 -3.7701e-02\n",
      " -1.2200e-01 -7.9253e-02 -1.0290e-01  1.0558e-02  4.9880e-01  2.5382e-01\n",
      "  1.5526e-01  1.7951e-03  1.1633e-01  7.9300e-02 -3.9142e-01 -3.2483e-01\n",
      "  6.3451e-01 -1.8910e-01  5.4050e-02  1.6495e-01  1.8757e-01  5.3874e-01]\n",
      "[-8.1760e-02  9.5050e-01 -1.9627e-01  3.2322e-01 -1.1475e-01  7.2491e-01\n",
      "  1.9991e-01 -4.1873e-01 -2.1523e-01  2.2864e+00 -3.7111e-01  2.0624e-01\n",
      " -3.4831e-01 -2.4620e-01  1.9677e-01 -7.9295e-02 -3.6580e-01  1.1856e+00\n",
      " -3.5559e-03  5.7556e-01 -2.3356e-01 -4.5721e-01  1.8607e-01  5.3613e-01\n",
      " -5.5108e-02  2.6244e-01 -1.9040e-02 -5.3399e-02  9.9329e-01 -4.6326e-02\n",
      " -5.8343e-01  2.4831e-01  2.3628e-01  3.6735e-01 -4.1087e-01 -2.4192e-02\n",
      " -3.8454e-01  3.3113e-01 -2.5281e-01 -2.1088e-02 -2.9030e-01 -3.1195e-01\n",
      " -3.7847e-01  7.9862e-01  3.3756e-01  6.0462e-01  2.1106e-01  1.7161e-02\n",
      "  1.6436e-01 -3.4147e-01  3.2015e-01  3.4738e-01 -6.0944e-01  2.8853e-01\n",
      "  4.7932e-01  5.8479e-01 -7.5082e-01 -4.4402e-01  6.5224e-03 -1.0748e-01\n",
      "  9.1903e-02 -1.1566e+00 -7.5945e-02 -1.7315e-01 -6.5896e-01 -7.6838e-01\n",
      "  6.9863e-01 -3.9328e-02  3.5764e-01  5.6520e-01  2.0184e-02 -4.9523e-01\n",
      " -1.9349e-01 -1.6587e-01  8.3815e-01  5.0432e-01  5.3014e-01  2.2458e-01\n",
      " -3.8416e-01  6.2961e-01  1.9621e-01  5.1145e-02  8.5893e-02 -3.1473e-01\n",
      "  3.4123e-01 -1.9530e-01  5.7403e-01 -8.9242e-01  6.0832e-01 -2.1274e-02\n",
      "  2.0518e-01 -3.1363e-01 -8.1625e-01  2.9493e-01  3.4002e-01  2.3381e-01\n",
      "  4.7663e-01  6.4454e-02 -1.7138e-01 -1.0685e-01 -1.1225e-02 -5.8588e-02\n",
      " -2.0039e-01 -2.4616e-01  3.6297e-01  5.6525e-01 -5.1624e-01 -8.0988e-01\n",
      "  2.7651e-02  1.0138e-01 -2.4744e-01 -3.0343e-01  3.0367e-01 -4.2305e-01\n",
      "  5.6549e-01 -1.1670e-01 -3.1203e-01 -5.6972e-01 -8.0784e-02 -9.2206e-02\n",
      "  1.1807e-01 -3.7990e-01  4.1985e-01 -2.6395e-01  5.8506e-01 -3.6453e-02\n",
      " -3.0516e-02 -1.4047e-01 -4.9372e-01  5.1860e-02  1.0483e-01 -4.4887e-01\n",
      " -6.6936e-01 -8.9778e-02  1.3845e-01 -6.9786e-01 -4.3077e-01  2.3854e-01\n",
      " -1.3252e-01  2.1398e-01 -1.3762e+00  1.1814e-01  1.6111e-01  1.2531e-01\n",
      "  5.4347e-02  5.4878e-01 -3.7092e-01 -1.0099e-01 -7.2403e-02 -6.6552e-01\n",
      " -3.4027e-01  3.2232e-02 -7.6320e-02  3.7552e-01 -4.1588e-01  2.2676e-01\n",
      "  3.4596e-01 -3.3434e-01 -5.3742e-01  9.4397e-02 -1.7104e-02 -2.6160e-01\n",
      "  2.7804e-01 -6.5511e-02  7.3646e-02  2.5776e-01 -3.5709e-02 -1.4276e-01\n",
      " -2.0539e-01 -1.8760e-01 -5.5609e-01 -3.2273e-01  2.9594e-01 -3.9765e-01\n",
      " -2.5016e-02 -4.8199e-02 -3.4339e-01 -1.7692e-01  2.5867e-01  6.8487e-01\n",
      " -3.3053e-01 -5.7565e-02 -3.3737e-01 -1.2563e-01 -2.9366e-01  1.9139e-01\n",
      "  5.3887e-02 -2.7826e-02  1.9512e-01  1.1829e-01 -5.8045e-01  3.5679e-01\n",
      " -6.1477e-01 -5.1816e-01  1.4871e-01  8.7451e-01 -2.3132e-01  4.0470e-01\n",
      " -7.8567e-02 -2.0145e-01  4.3885e-01 -1.0504e-01  6.6496e-02  1.5818e-01\n",
      "  3.2686e-01  7.7705e-02 -1.3774e-01 -2.8313e-01  5.6313e-02  3.0749e-02\n",
      " -1.6830e-01 -2.4820e-01  1.6009e-01 -2.7654e-01  2.6247e-01 -7.1188e-03\n",
      " -3.4712e-01  2.9753e-01 -3.5213e-01 -3.3462e-02  3.2864e-01 -4.1862e-02\n",
      "  3.7404e-01  2.5576e-01  1.6339e-01 -7.5334e-02  3.4678e-01  1.8152e-01\n",
      " -3.8499e-01 -3.7584e-01 -9.0580e-02  1.9120e-01 -3.0927e-01  1.3177e-01\n",
      " -2.7881e-01 -5.6982e-01 -6.6286e-01 -3.0949e-01 -2.0002e-01  4.9368e-01\n",
      "  3.4719e-01  2.3746e-02  1.0352e-01  2.8529e-01 -4.0391e-01 -4.0647e-01\n",
      " -3.9268e-02 -1.4621e-01  3.4379e-01  8.5500e-01 -7.4400e-02  1.5851e-01\n",
      " -7.3204e-02 -7.2655e-02  6.4226e-01 -2.3160e-01  7.3683e-03 -9.2140e-02\n",
      "  6.3533e-02 -7.4703e-02  3.4700e-01  4.2235e-01  4.8242e-01  1.7781e-01\n",
      " -1.4147e-01 -1.8437e-01 -2.4470e-01  8.4425e-02 -1.0549e-03  1.0658e-01\n",
      " -2.5153e-01 -1.7086e-01 -6.8509e-01 -1.2899e-01  8.3986e-02  1.5304e-01\n",
      "  1.1152e-01 -4.2578e-01 -3.4582e-01  7.9028e-01  2.5903e-01 -5.1056e-01\n",
      "  7.9888e-02 -2.5027e-02  1.8446e-01  2.6668e-02  2.2356e-01 -1.5973e-01\n",
      "  1.0135e-01  8.0687e-01  6.3786e-02  2.2335e-01 -2.6171e-01 -4.6166e-01\n",
      "  3.7709e-02 -7.7545e-02 -1.7156e-01 -1.5184e-01 -2.3864e-01  4.1293e-01]\n",
      "[ 0.036775   0.40917   -0.52141   -0.067184   0.087702  -0.048564\n",
      "  0.40947   -0.42818    0.19304    2.3925    -0.11441   -0.22952\n",
      " -0.16061    0.035533  -0.53179    0.19764   -0.48827    0.57439\n",
      " -0.064301   0.47053   -0.29647   -0.15927   -0.052798   0.10121\n",
      " -0.054461   0.036129  -0.16118   -0.34139    0.45834   -0.20144\n",
      " -0.29067   -0.51888   -0.062106   0.14084    0.016413   0.050826\n",
      "  0.13243   -0.033663  -0.42228   -0.30086    0.06202    0.26338\n",
      "  0.077223   0.27307    0.13392    0.30183   -0.16546    0.057011\n",
      " -0.0034585 -0.071113  -0.27287   -0.10297    0.07457   -0.32104\n",
      "  0.36696    0.27051   -0.15776    0.2978    -0.18988    0.097477\n",
      "  0.035665  -0.49749   -0.52759   -0.046148   0.021715  -0.11047\n",
      " -0.18007    0.20295    0.15254   -0.045976  -0.21846   -0.066865\n",
      " -0.21355    0.017509   0.66474    0.25527    0.24864   -0.094851\n",
      " -0.012857   0.46896    0.052031   0.62488   -0.12662    0.063972\n",
      " -0.15719   -0.45907    0.32286   -0.17502    0.64181    0.091587\n",
      " -0.075871   0.11718   -0.13864    0.24951   -0.40664    0.08845\n",
      " -0.29196   -0.51624   -0.074847  -0.012822  -0.088844  -0.19935\n",
      "  0.052734  -0.13588    0.231     -0.34368    0.30607   -0.21223\n",
      "  0.08178    0.10097    0.33585   -0.17491    0.019115   0.15998\n",
      "  0.38803   -0.35932    0.31682   -0.18614    0.11732   -0.068517\n",
      "  0.50785   -0.0035486  0.20069    0.25218    0.38309    0.19359\n",
      "  0.43857   -0.29954   -0.14219    0.087962  -0.14229    0.10075\n",
      " -0.58986   -0.12672    0.036944  -0.050421  -0.19875   -0.051368\n",
      " -0.023402   0.08744   -2.4938     0.15427    0.12373   -0.0086429\n",
      " -0.17007   -0.519     -0.29962    0.24369   -0.20535   -0.24942\n",
      " -0.079362   0.40986   -0.10753    0.098907  -0.063449   0.05373\n",
      "  0.26206    0.13207   -0.067694  -0.56168   -0.18867    0.14453\n",
      " -0.22469   -0.28404    0.20909   -0.46989    0.30992   -0.13283\n",
      "  0.041392   0.11146    0.17015   -0.059407  -0.16098   -0.2211\n",
      " -0.0035877 -0.22357   -0.01852   -0.23026   -0.18824    0.32997\n",
      "  0.16287   -0.52067    0.17308   -0.024264  -0.041321  -0.3241\n",
      " -0.44122   -0.11114    0.22684   -0.10883   -0.1278    -0.16696\n",
      "  0.051048  -0.12131    0.18038    0.19793    0.134     -0.37113\n",
      "  0.36008    0.092685  -0.30263    0.16565   -0.10863   -0.29565\n",
      "  0.26143    0.13369   -0.090181   0.021989  -0.093353  -0.20325\n",
      " -0.2008     0.20721    0.17208   -0.20199    0.043315   0.17768\n",
      "  0.57448   -0.45917   -0.077197   0.12051    0.07209   -0.095313\n",
      "  0.10973    0.22375    0.045804  -0.13573    0.14041   -0.11364\n",
      " -0.46605   -0.43262   -0.058678   0.19043   -0.40867    0.30509\n",
      "  0.18542    0.095309  -0.42329   -0.15225   -0.13827    0.18119\n",
      "  0.14755   -0.053628   0.031298   0.65695   -0.1717     0.23649\n",
      " -0.34742   -0.17438   -0.085304   0.37687    0.21322   -0.13184\n",
      " -0.35197   -0.14072    0.2332     0.21014   -0.14763    0.047515\n",
      " -0.27979    0.090331  -0.15565    0.42803   -0.019297   0.012198\n",
      "  0.036031  -0.10396    0.11014    0.13458    0.2775     0.36225\n",
      " -0.35591   -0.16877   -0.41201    0.070133  -0.27769    0.13739\n",
      " -0.057831   0.19277    0.11131    0.53696    0.0093424 -0.26107\n",
      " -0.38663    0.040653   0.18617    0.26312    0.12212   -0.030012\n",
      "  0.096286   0.47376   -0.21633    0.10798   -0.17703    0.22116\n",
      "  0.6726     0.065036  -0.017414  -0.048585  -0.090863   0.28591  ]\n"
     ]
    }
   ],
   "source": [
    "import spacy\n",
    "\n",
    "nlp = spacy.load( 'en_core_web_lg' )\n",
    "doc = nlp( 'I am happy' )\n",
    "\n",
    "for token in doc:\n",
    "    print( token.vector )"
   ]
  },
  {
   "cell_type": "code",
   "execution_count": 42,
   "metadata": {},
   "outputs": [
    {
     "name": "stdout",
     "output_type": "stream",
     "text": [
      "happy happy 1.0\n",
      "happy joyous 0.533303\n",
      "happy sad 0.64389884\n",
      "joyous happy 0.533303\n",
      "joyous joyous 1.0\n",
      "joyous sad 0.43832767\n",
      "sad happy 0.64389884\n",
      "sad joyous 0.43832767\n",
      "sad sad 1.0\n"
     ]
    }
   ],
   "source": [
    "# word similarities\n",
    "doc = nlp( \"happy joyous sad\" )\n",
    "for token1 in doc:\n",
    "    for token2 in doc:\n",
    "        print( token1.text, token2.text, token1.similarity(token2) )"
   ]
  },
  {
   "cell_type": "code",
   "execution_count": 44,
   "metadata": {},
   "outputs": [
    {
     "name": "stdout",
     "output_type": "stream",
     "text": [
      "0.9313557710870207\n",
      "0.9165895065112751\n"
     ]
    }
   ],
   "source": [
    "sent1 = nlp( 'I am happy' )\n",
    "sent2 = nlp( 'I am smiling' )\n",
    "sent3 = nlp( 'I am crying' )\n",
    "\n",
    "print( sent1.similarity( sent2 ) )\n",
    "print( sent1.similarity( sent3 ) )"
   ]
  }
 ],
 "metadata": {
  "kernelspec": {
   "display_name": "Python 3",
   "language": "python",
   "name": "python3"
  },
  "language_info": {
   "codemirror_mode": {
    "name": "ipython",
    "version": 3
   },
   "file_extension": ".py",
   "mimetype": "text/x-python",
   "name": "python",
   "nbconvert_exporter": "python",
   "pygments_lexer": "ipython3",
   "version": "3.7.6"
  }
 },
 "nbformat": 4,
 "nbformat_minor": 4
}
