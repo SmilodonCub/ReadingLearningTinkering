{
 "cells": [
  {
   "cell_type": "markdown",
   "id": "99534b9d",
   "metadata": {},
   "source": [
    "<br>\n",
    "\n",
    "# Paratransit Analysis\n",
    "\n",
    "Take home assessment exploring an excerpt of the 'Trip' table from Access-A-Ride (AAR) Paratransit's scheduling engine.\n",
    "\n",
    "**Table of Contents**\n",
    "1. Environment - loading Python libraries and 'trips.csv'\n",
    "2. Data Quality Visualization\n",
    "    - summary of trips data\n",
    "    - visualizations to explore the extent of missing data\n",
    "3. Questions\n",
    "    * Question 1: summaries by ProviderType for weekend vs weekday\n",
    "        1. total number of successful trips\n",
    "        2. average trips per day\n",
    "        3. % trips by mode\n",
    "    * Question 2: top 10 zipcodes for AM rush hour Primary trip pickups\n",
    "    * Question 3: flexible B-leg assessment comparing intra and inter ZIP trip distances\n",
    "        1. Intra-borough trips\n",
    "        2. Inter-borough trips\n",
    "        3. Total\n",
    "        4. Summary\n",
    "4. Summary"
   ]
  },
  {
   "cell_type": "markdown",
   "id": "26c6cf0f",
   "metadata": {},
   "source": [
    "## 1) Environment\n",
    "\n",
    "Setting up the environment for our analysis.\n",
    "Recommended use: create a virtual environment to run and install package dependencies from requirements.txt\n",
    "   * **pip** python3 -m pip install -r requirements.txt\n",
    "   * **conda** conda create --name <env_name> --file requirements.txt\n",
    "   \n",
    "   \n",
    "The following code will:\n",
    "1. load necessary Python libraries\n",
    "2. load \"trips.csv\" as a pandas DataFrame\n",
    "    - **Note** this notebook assumes \"trips.csv\" exists in the same working directory"
   ]
  },
  {
   "cell_type": "code",
   "execution_count": 1,
   "id": "72e1cd71",
   "metadata": {},
   "outputs": [
    {
     "data": {
      "text/html": [
       "<details>\n",
       "<summary>Click to view session information</summary>\n",
       "<pre>\n",
       "-----\n",
       "matplotlib          3.5.2\n",
       "missingno           0.5.1\n",
       "numpy               1.22.3\n",
       "pandas              1.4.2\n",
       "session_info        1.0.0\n",
       "-----\n",
       "</pre>\n",
       "<details>\n",
       "<summary>Click to view modules imported as dependencies</summary>\n",
       "<pre>\n",
       "PIL                 9.1.0\n",
       "apport_python_hook  NA\n",
       "asttokens           NA\n",
       "backcall            0.2.0\n",
       "beta_ufunc          NA\n",
       "binom_ufunc         NA\n",
       "cffi                1.15.1\n",
       "cloudpickle         2.0.0\n",
       "colorama            0.4.4\n",
       "cycler              0.10.0\n",
       "cython_runtime      NA\n",
       "dateutil            2.8.2\n",
       "debugpy             1.6.0\n",
       "decorator           5.1.1\n",
       "defusedxml          0.7.1\n",
       "entrypoints         0.4\n",
       "executing           0.8.3\n",
       "google              NA\n",
       "hypergeom_ufunc     NA\n",
       "ipykernel           6.13.0\n",
       "ipython_genutils    0.2.0\n",
       "ipywidgets          7.7.1\n",
       "jedi                0.18.1\n",
       "kiwisolver          1.4.2\n",
       "mpl_toolkits        NA\n",
       "nbinom_ufunc        NA\n",
       "netifaces           0.11.0\n",
       "packaging           21.3\n",
       "parso               0.8.3\n",
       "pexpect             4.8.0\n",
       "pickleshare         0.7.5\n",
       "pkg_resources       NA\n",
       "prompt_toolkit      3.0.29\n",
       "psutil              5.9.0\n",
       "ptyprocess          0.7.0\n",
       "pure_eval           0.2.2\n",
       "pyarrow             8.0.0\n",
       "pydev_ipython       NA\n",
       "pydevconsole        NA\n",
       "pydevd              2.8.0\n",
       "pydevd_file_utils   NA\n",
       "pydevd_plugins      NA\n",
       "pydevd_tracing      NA\n",
       "pygments            2.12.0\n",
       "pyparsing           2.4.7\n",
       "pytz                2022.1\n",
       "scipy               1.8.0\n",
       "seaborn             0.11.2\n",
       "sitecustomize       NA\n",
       "six                 1.16.0\n",
       "stack_data          0.2.0\n",
       "tornado             6.1\n",
       "traitlets           5.3.0\n",
       "typing_extensions   NA\n",
       "wcwidth             0.2.5\n",
       "zmq                 22.3.0\n",
       "</pre>\n",
       "</details> <!-- seems like this ends pre, so might as well be explicit -->\n",
       "<pre>\n",
       "-----\n",
       "IPython             8.3.0\n",
       "jupyter_client      7.3.0\n",
       "jupyter_core        4.10.0\n",
       "notebook            6.4.12\n",
       "-----\n",
       "Python 3.10.4 (main, Jun 29 2022, 12:14:53) [GCC 11.2.0]\n",
       "Linux-5.18.10-76051810-generic-x86_64-with-glibc2.35\n",
       "-----\n",
       "Session information updated at 2022-08-12 19:11\n",
       "</pre>\n",
       "</details>"
      ],
      "text/plain": [
       "<IPython.core.display.HTML object>"
      ]
     },
     "execution_count": 1,
     "metadata": {},
     "output_type": "execute_result"
    }
   ],
   "source": [
    "# 1.1 loading necessary Python libraries\n",
    "import pandas as pd\n",
    "import matplotlib.pyplot as plt\n",
    "import missingno as msno\n",
    "import session_info\n",
    "import numpy as np\n",
    "session_info.show()"
   ]
  },
  {
   "cell_type": "code",
   "execution_count": 2,
   "id": "9dd0c65f",
   "metadata": {},
   "outputs": [
    {
     "name": "stdout",
     "output_type": "stream",
     "text": [
      "<class 'pandas.core.frame.DataFrame'>\n",
      "RangeIndex: 1164013 entries, 0 to 1164012\n",
      "Data columns (total 18 columns):\n",
      " #   Column        Non-Null Count    Dtype  \n",
      "---  ------        --------------    -----  \n",
      " 0   TripId        1164013 non-null  int64  \n",
      " 1   Clientid      1164013 non-null  int64  \n",
      " 2   Status        1164013 non-null  object \n",
      " 3   ProviderType  1164013 non-null  object \n",
      " 4   Outcome       1164013 non-null  object \n",
      " 5   Tripdate      1164013 non-null  object \n",
      " 6   RequestTime   1164013 non-null  object \n",
      " 7   PromiseTime   1164013 non-null  object \n",
      " 8   ProviderId    543476 non-null   object \n",
      " 9   APtime        1164012 non-null  object \n",
      " 10  APtime1       1164013 non-null  object \n",
      " 11  ADtime        1164012 non-null  object \n",
      " 12  Anchor        1164013 non-null  object \n",
      " 13  PickCounty    1138339 non-null  object \n",
      " 14  PickZip       1138336 non-null  object \n",
      " 15  DropCounty    1138338 non-null  object \n",
      " 16  DropZip       1138336 non-null  object \n",
      " 17  TripMiles     1164013 non-null  float64\n",
      "dtypes: float64(1), int64(2), object(15)\n",
      "memory usage: 159.9+ MB\n"
     ]
    }
   ],
   "source": [
    "# 1.2 loading \"trips.csv\" as a pandas DataFrame\n",
    "# NOTE: this code assumes that 'trips.csv' exists in the same directory as this notebook.\n",
    "df = pd.read_csv('trips.csv')\n",
    "# display basic information about the dimensions and features of df\n",
    "df.info()"
   ]
  },
  {
   "cell_type": "markdown",
   "id": "a5825d32",
   "metadata": {},
   "source": [
    "<br>\n",
    "\n",
    "## 2) Data Quality Visualization"
   ]
  },
  {
   "cell_type": "markdown",
   "id": "e078d1e6",
   "metadata": {},
   "source": [
    "<br>\n",
    "\n",
    "From the output of the .info() method above, we can see that not all of the data features are free of null values (see 'Non-Null Count'). To gain a further understanding of the data, we can visualize the missing values (missingness) of the data quickly with the `missingno` Python library  \n",
    "\n",
    "The `missingno` library has been imported as `msno`. Here we will use both the matrix and bar visualizations to evaluate the data"
   ]
  },
  {
   "cell_type": "code",
   "execution_count": 3,
   "id": "dfea2cab",
   "metadata": {},
   "outputs": [
    {
     "data": {
      "text/plain": [
       "<AxesSubplot:>"
      ]
     },
     "execution_count": 3,
     "metadata": {},
     "output_type": "execute_result"
    },
    {
     "data": {
      "image/png": "[encoded data removed]",
      "text/plain": [
       "<Figure size 1800x720 with 2 Axes>"
      ]
     },
     "metadata": {
      "needs_background": "light"
     },
     "output_type": "display_data"
    }
   ],
   "source": [
    "# matrix style visualization of trips data\n",
    "msno.matrix(df)"
   ]
  },
  {
   "cell_type": "code",
   "execution_count": 4,
   "id": "feb1b051",
   "metadata": {},
   "outputs": [
    {
     "data": {
      "text/plain": [
       "<AxesSubplot:>"
      ]
     },
     "execution_count": 4,
     "metadata": {},
     "output_type": "execute_result"
    },
    {
     "data": {
      "image/png": "[encoded data removed]",
      "text/plain": [
       "<Figure size 1800x720 with 3 Axes>"
      ]
     },
     "metadata": {
      "needs_background": "light"
     },
     "output_type": "display_data"
    }
   ],
   "source": [
    "# bar style visualization of trips data\n",
    "msno.bar(df)"
   ]
  },
  {
   "cell_type": "markdown",
   "id": "5bfaf00a",
   "metadata": {},
   "source": [
    "From the above visualizations it is readily apparent that the `ProviderID` feature is missing values for more than half of the records. The columns `APtime`, `ADtime`, `PickCounty`, `PickZip`, `DropCounty` and `DropZip` are missing comparatively fewer data values. For analyses that use features with missing data, we will have to strategize a way to deal with null values.  \n",
    "\n",
    "Detailed looks at the features directly used in the analysis will be taken up in the following sections"
   ]
  },
  {
   "cell_type": "markdown",
   "id": "dcc51950",
   "metadata": {},
   "source": [
    "<br>  \n",
    "\n",
    "## 3) Questions\n",
    "\n",
    "### Question 1: proportion of trips completed on \"primary\" vs \"broker\" or \"e-hail\" trips.\n",
    "\n",
    "Provide a table showing the following for the three provider types of interest (primary, broker & e-hail) comparing weekday vs weekend:\n",
    "1. total number of successful trips\n",
    "2. average trips per day\n",
    "3. % trips by mode"
   ]
  },
  {
   "cell_type": "markdown",
   "id": "4345e8f0",
   "metadata": {},
   "source": [
    "#### Approach for Question 1.1: total number of successful trips\n",
    "\n",
    "1. Preliminary Data Shaping: \n",
    "    - evaluate the `ProviderType` feature\n",
    "    - subset the trips df to just the variables (columns) needed\n",
    "    - create a new data feature to indicate if the trip occured on a weekday or weekend.\n",
    "    - the resulting data structure will be used for each of the three tasks for Question 1\n",
    "2. Total Number of Successful Trips\n",
    "    - evaluate `Outcome` feature\n",
    "    - subset on the relevant ('successful') Outcome criteria\n",
    "    - render a table with the pandas .crosstab() method\n",
    "    \n",
    "start by evaluating `ProviderType`:"
   ]
  },
  {
   "cell_type": "code",
   "execution_count": 5,
   "id": "aad2d3eb",
   "metadata": {},
   "outputs": [
    {
     "data": {
      "text/plain": [
       "E-Hail                 642331\n",
       "Broker                 293832\n",
       "Primary                152762\n",
       "Deleted                 41964\n",
       "Driver break record     25669\n",
       "Fixed Route-Exclude      7351\n",
       "Test Record               104\n",
       "Name: ProviderType, dtype: int64"
      ]
     },
     "execution_count": 5,
     "metadata": {},
     "output_type": "execute_result"
    }
   ],
   "source": [
    "# use the .value_counts() pandas method to show a quick table of the unique values of ProviderTypes\n",
    "df.ProviderType.value_counts()"
   ]
  },
  {
   "cell_type": "markdown",
   "id": "f292ce88",
   "metadata": {},
   "source": [
    "Based on the instructions, we are only interested in the outcomes for 'Primary','Broker', and 'E-Hail' trips.  \n",
    "Next, we limit the scope of the analysis to only the variables (columns) needed for the analysis and only the records with just the types of providers we are interested in:"
   ]
  },
  {
   "cell_type": "code",
   "execution_count": 6,
   "id": "1f2e8325",
   "metadata": {},
   "outputs": [],
   "source": [
    "# subset to just the relevant variables (columns): 'ProviderType' 'Outcome' & 'Tripdate'\n",
    "Q1_cols = ['ProviderType', 'Outcome', 'Tripdate']\n",
    "df_PType_PBE = df[Q1_cols].copy()"
   ]
  },
  {
   "cell_type": "code",
   "execution_count": 7,
   "id": "a28c0279",
   "metadata": {},
   "outputs": [
    {
     "data": {
      "text/plain": [
       "E-Hail     642331\n",
       "Broker     293832\n",
       "Primary    152762\n",
       "Name: ProviderType, dtype: int64"
      ]
     },
     "execution_count": 7,
     "metadata": {},
     "output_type": "execute_result"
    }
   ],
   "source": [
    "# subset trips to records with ProviderType == 'Primary','Broker', or 'E-Hail'\n",
    "ptypes = ['Primary','Broker','E-Hail']\n",
    "df_PType_PBE = df_PType_PBE[df_PType_PBE['ProviderType'].isin(ptypes)]\n",
    "df_PType_PBE.ProviderType.value_counts()"
   ]
  },
  {
   "cell_type": "markdown",
   "id": "7b139f61",
   "metadata": {},
   "source": [
    "We would like to compare weekday vs weekend trips. This will be facilitated by creating a new variable (column) indicating whether a given trip occured on a weekend or weekday."
   ]
  },
  {
   "cell_type": "code",
   "execution_count": 8,
   "id": "c526bfd2",
   "metadata": {},
   "outputs": [
    {
     "data": {
      "text/html": [
       "<div>\n",
       "<style scoped>\n",
       "    .dataframe tbody tr th:only-of-type {\n",
       "        vertical-align: middle;\n",
       "    }\n",
       "\n",
       "    .dataframe tbody tr th {\n",
       "        vertical-align: top;\n",
       "    }\n",
       "\n",
       "    .dataframe thead th {\n",
       "        text-align: right;\n",
       "    }\n",
       "</style>\n",
       "<table border=\"1\" class=\"dataframe\">\n",
       "  <thead>\n",
       "    <tr style=\"text-align: right;\">\n",
       "      <th></th>\n",
       "      <th>ProviderType</th>\n",
       "      <th>Outcome</th>\n",
       "      <th>Tripdate</th>\n",
       "      <th>IsWeekend</th>\n",
       "    </tr>\n",
       "  </thead>\n",
       "  <tbody>\n",
       "    <tr>\n",
       "      <th>0</th>\n",
       "      <td>E-Hail</td>\n",
       "      <td>Early Cancel</td>\n",
       "      <td>2022-04-01</td>\n",
       "      <td>Weekday</td>\n",
       "    </tr>\n",
       "    <tr>\n",
       "      <th>1</th>\n",
       "      <td>E-Hail</td>\n",
       "      <td>Authorized</td>\n",
       "      <td>2022-04-01</td>\n",
       "      <td>Weekday</td>\n",
       "    </tr>\n",
       "    <tr>\n",
       "      <th>2</th>\n",
       "      <td>E-Hail</td>\n",
       "      <td>Early Cancel</td>\n",
       "      <td>2022-04-01</td>\n",
       "      <td>Weekday</td>\n",
       "    </tr>\n",
       "    <tr>\n",
       "      <th>3</th>\n",
       "      <td>E-Hail</td>\n",
       "      <td>Early Cancel</td>\n",
       "      <td>2022-04-01</td>\n",
       "      <td>Weekday</td>\n",
       "    </tr>\n",
       "    <tr>\n",
       "      <th>4</th>\n",
       "      <td>Primary</td>\n",
       "      <td>Completed</td>\n",
       "      <td>2022-04-01</td>\n",
       "      <td>Weekday</td>\n",
       "    </tr>\n",
       "  </tbody>\n",
       "</table>\n",
       "</div>"
      ],
      "text/plain": [
       "  ProviderType       Outcome   Tripdate IsWeekend\n",
       "0       E-Hail  Early Cancel 2022-04-01   Weekday\n",
       "1       E-Hail    Authorized 2022-04-01   Weekday\n",
       "2       E-Hail  Early Cancel 2022-04-01   Weekday\n",
       "3       E-Hail  Early Cancel 2022-04-01   Weekday\n",
       "4      Primary     Completed 2022-04-01   Weekday"
      ]
     },
     "execution_count": 8,
     "metadata": {},
     "output_type": "execute_result"
    }
   ],
   "source": [
    "# add a new data feature (variable) to indicate of the trip occured on a weekday or weekend.\n",
    "df_PType_PBE[\"Tripdate\"] = pd.to_datetime(df_PType_PBE[\"Tripdate\"])\n",
    "df_PType_PBE[\"IsWeekend\"] = df_PType_PBE[\"Tripdate\"].dt.weekday >= 5\n",
    "df_PType_PBE[\"IsWeekend\"] = ['Weekend' if t else 'Weekday' for t in df_PType_PBE[\"IsWeekend\"]]\n",
    "\n",
    "# display the first 5 records\n",
    "df_PType_PBE.head()"
   ]
  },
  {
   "cell_type": "markdown",
   "id": "e75b3a91",
   "metadata": {},
   "source": [
    "The dataframe `df_PType_PBE` will serve as a starting point to produce the deliverables of each task for Questions 1.  \n",
    "\n",
    "The following code will further process the data to produce a table showing the total number of successful trips"
   ]
  },
  {
   "cell_type": "code",
   "execution_count": 9,
   "id": "a33fe6ae",
   "metadata": {},
   "outputs": [
    {
     "data": {
      "text/plain": [
       "Authorized            392457\n",
       "Customer Refusal      327400\n",
       "Early Cancel          164502\n",
       "Completed             139659\n",
       "Late Cancel            46553\n",
       "Customer no-show       17204\n",
       "No-fault no-show         835\n",
       "Provider no-show         308\n",
       "Other FLTR_Outcome         4\n",
       "Denial                     3\n",
       "Name: Outcome, dtype: int64"
      ]
     },
     "execution_count": 9,
     "metadata": {},
     "output_type": "execute_result"
    }
   ],
   "source": [
    "# evaluate the 'Outcomes' feature\n",
    "df_PType_PBE.Outcome.value_counts()"
   ]
  },
  {
   "cell_type": "markdown",
   "id": "d9bded21",
   "metadata": {},
   "source": [
    "From the output above, we see that there are many different Outcomes for Access-A-Ride trips. However, for this task we are only concerned with the 'successful' trips.  \n",
    "Successful trips meet the following criteria:\n",
    "* ProviderType == 'Primary' AND Outcome == 'Completed'\n",
    "* ProviderType == 'Broker' AND Outcome == 'Authorized'\n",
    "* ProviderType == 'E-Hail' AND Outcome == 'Authorized'\n",
    "\n",
    "Therefore, we will take the subset of df_PType_PBE records that meet these criteria"
   ]
  },
  {
   "cell_type": "code",
   "execution_count": 10,
   "id": "72b5d45b",
   "metadata": {},
   "outputs": [
    {
     "name": "stdout",
     "output_type": "stream",
     "text": [
      "<class 'pandas.core.frame.DataFrame'>\n",
      "Int64Index: 532116 entries, 4 to 1164008\n",
      "Data columns (total 4 columns):\n",
      " #   Column        Non-Null Count   Dtype         \n",
      "---  ------        --------------   -----         \n",
      " 0   ProviderType  532116 non-null  object        \n",
      " 1   Outcome       532116 non-null  object        \n",
      " 2   Tripdate      532116 non-null  datetime64[ns]\n",
      " 3   IsWeekend     532116 non-null  object        \n",
      "dtypes: datetime64[ns](1), object(3)\n",
      "memory usage: 20.3+ MB\n"
     ]
    }
   ],
   "source": [
    "# subset on the relevant ('successful') Outcome criteria\n",
    "p_sub = df_PType_PBE.query('ProviderType  == \"Primary\" & Outcome == \"Completed\"') # successful Primary trips\n",
    "b_sub = df_PType_PBE.query('ProviderType  == \"Broker\" & Outcome == \"Authorized\"') # successful Broker trips\n",
    "e_sub = df_PType_PBE.query('ProviderType  == \"E-Hail\" & Outcome == \"Authorized\"') # successful E-Haul trips\n",
    "# concatenate the results into a single dataframe\n",
    "success_df = pd.concat([p_sub, b_sub, e_sub])\n",
    "success_df.info()"
   ]
  },
  {
   "cell_type": "code",
   "execution_count": 11,
   "id": "88aaec5d",
   "metadata": {},
   "outputs": [
    {
     "data": {
      "text/html": [
       "<div>\n",
       "<style scoped>\n",
       "    .dataframe tbody tr th:only-of-type {\n",
       "        vertical-align: middle;\n",
       "    }\n",
       "\n",
       "    .dataframe tbody tr th {\n",
       "        vertical-align: top;\n",
       "    }\n",
       "\n",
       "    .dataframe thead th {\n",
       "        text-align: right;\n",
       "    }\n",
       "</style>\n",
       "<table border=\"1\" class=\"dataframe\">\n",
       "  <thead>\n",
       "    <tr style=\"text-align: right;\">\n",
       "      <th>ProviderType</th>\n",
       "      <th>Broker</th>\n",
       "      <th>E-Hail</th>\n",
       "      <th>Primary</th>\n",
       "      <th>Total</th>\n",
       "    </tr>\n",
       "    <tr>\n",
       "      <th>IsWeekend</th>\n",
       "      <th></th>\n",
       "      <th></th>\n",
       "      <th></th>\n",
       "      <th></th>\n",
       "    </tr>\n",
       "  </thead>\n",
       "  <tbody>\n",
       "    <tr>\n",
       "      <th>Weekday</th>\n",
       "      <td>230605</td>\n",
       "      <td>86357</td>\n",
       "      <td>112506</td>\n",
       "      <td>429468</td>\n",
       "    </tr>\n",
       "    <tr>\n",
       "      <th>Weekend</th>\n",
       "      <td>58012</td>\n",
       "      <td>17483</td>\n",
       "      <td>27153</td>\n",
       "      <td>102648</td>\n",
       "    </tr>\n",
       "    <tr>\n",
       "      <th>Total</th>\n",
       "      <td>288617</td>\n",
       "      <td>103840</td>\n",
       "      <td>139659</td>\n",
       "      <td>532116</td>\n",
       "    </tr>\n",
       "  </tbody>\n",
       "</table>\n",
       "</div>"
      ],
      "text/plain": [
       "ProviderType  Broker  E-Hail  Primary   Total\n",
       "IsWeekend                                    \n",
       "Weekday       230605   86357   112506  429468\n",
       "Weekend        58012   17483    27153  102648\n",
       "Total         288617  103840   139659  532116"
      ]
     },
     "execution_count": 11,
     "metadata": {},
     "output_type": "execute_result"
    }
   ],
   "source": [
    "# use the .crosstab method to visualize a table of the total number of successful trips\n",
    "# for the each of the three provider types and compare weekend vs weekday\n",
    "pd.crosstab(success_df.IsWeekend, success_df.ProviderType, margins=True, margins_name=\"Total\")"
   ]
  },
  {
   "cell_type": "markdown",
   "id": "b297c8ef",
   "metadata": {},
   "source": [
    "The table above shows the total number of successful trips for the Broker, E-Hail and Primary trips and compares the number of rides on weekdays with weekend."
   ]
  },
  {
   "cell_type": "markdown",
   "id": "a4cbcbc5",
   "metadata": {},
   "source": [
    "<br>\n",
    "\n",
    "#### Approach for Question 1.2: average trips per day\n",
    "\n",
    "1. Average trips per day\n",
    "    - start with the df_PType_PBE dataframe\n",
    "    - group the trips by date and ProviderType and count the occurances\n",
    "    - group the result by IsWeekend and ProviderType and find the mean values\n",
    "    - render a table by pivoting the result \n",
    "    \n",
    "start by grouping trips to count by day of trip and provider type:"
   ]
  },
  {
   "cell_type": "code",
   "execution_count": 12,
   "id": "e598c764",
   "metadata": {},
   "outputs": [
    {
     "data": {
      "text/html": [
       "<div>\n",
       "<style scoped>\n",
       "    .dataframe tbody tr th:only-of-type {\n",
       "        vertical-align: middle;\n",
       "    }\n",
       "\n",
       "    .dataframe tbody tr th {\n",
       "        vertical-align: top;\n",
       "    }\n",
       "\n",
       "    .dataframe thead th {\n",
       "        text-align: right;\n",
       "    }\n",
       "</style>\n",
       "<table border=\"1\" class=\"dataframe\">\n",
       "  <thead>\n",
       "    <tr style=\"text-align: right;\">\n",
       "      <th></th>\n",
       "      <th>Tripdate</th>\n",
       "      <th>ProviderType</th>\n",
       "      <th>IsWeekend</th>\n",
       "      <th>count</th>\n",
       "    </tr>\n",
       "  </thead>\n",
       "  <tbody>\n",
       "    <tr>\n",
       "      <th>0</th>\n",
       "      <td>2022-04-01</td>\n",
       "      <td>Broker</td>\n",
       "      <td>Weekday</td>\n",
       "      <td>11202</td>\n",
       "    </tr>\n",
       "    <tr>\n",
       "      <th>1</th>\n",
       "      <td>2022-04-01</td>\n",
       "      <td>E-Hail</td>\n",
       "      <td>Weekday</td>\n",
       "      <td>24939</td>\n",
       "    </tr>\n",
       "    <tr>\n",
       "      <th>2</th>\n",
       "      <td>2022-04-01</td>\n",
       "      <td>Primary</td>\n",
       "      <td>Weekday</td>\n",
       "      <td>5895</td>\n",
       "    </tr>\n",
       "    <tr>\n",
       "      <th>3</th>\n",
       "      <td>2022-04-02</td>\n",
       "      <td>Broker</td>\n",
       "      <td>Weekend</td>\n",
       "      <td>6961</td>\n",
       "    </tr>\n",
       "    <tr>\n",
       "      <th>4</th>\n",
       "      <td>2022-04-02</td>\n",
       "      <td>E-Hail</td>\n",
       "      <td>Weekend</td>\n",
       "      <td>14337</td>\n",
       "    </tr>\n",
       "  </tbody>\n",
       "</table>\n",
       "</div>"
      ],
      "text/plain": [
       "    Tripdate ProviderType IsWeekend  count\n",
       "0 2022-04-01       Broker   Weekday  11202\n",
       "1 2022-04-01       E-Hail   Weekday  24939\n",
       "2 2022-04-01      Primary   Weekday   5895\n",
       "3 2022-04-02       Broker   Weekend   6961\n",
       "4 2022-04-02       E-Hail   Weekend  14337"
      ]
     },
     "execution_count": 12,
     "metadata": {},
     "output_type": "execute_result"
    }
   ],
   "source": [
    "# group the trips by date and ProviderType and count the occurances\n",
    "perday_df = df_PType_PBE.groupby(['Tripdate', 'ProviderType', 'IsWeekend']) \\\n",
    "    ['Outcome'].count().reset_index(name=\"count\")\n",
    "# display the first 5 rows of the reshaped data\n",
    "perday_df.head()"
   ]
  },
  {
   "cell_type": "markdown",
   "id": "d7d6fa96",
   "metadata": {},
   "source": [
    "The data structure above holds a record for each Tripdate for each ProviderType whether this day is a weekday/end and the number of occurences. We will now use one more groupby to transform the data into the result we would like: the average number of trips per day for each Provider type for both weekends and weekdays:"
   ]
  },
  {
   "cell_type": "code",
   "execution_count": 13,
   "id": "86b09580",
   "metadata": {},
   "outputs": [
    {
     "data": {
      "text/html": [
       "<div>\n",
       "<style scoped>\n",
       "    .dataframe tbody tr th:only-of-type {\n",
       "        vertical-align: middle;\n",
       "    }\n",
       "\n",
       "    .dataframe tbody tr th {\n",
       "        vertical-align: top;\n",
       "    }\n",
       "\n",
       "    .dataframe thead th {\n",
       "        text-align: right;\n",
       "    }\n",
       "</style>\n",
       "<table border=\"1\" class=\"dataframe\">\n",
       "  <thead>\n",
       "    <tr style=\"text-align: right;\">\n",
       "      <th></th>\n",
       "      <th>ProviderType</th>\n",
       "      <th>IsWeekend</th>\n",
       "      <th>average</th>\n",
       "    </tr>\n",
       "  </thead>\n",
       "  <tbody>\n",
       "    <tr>\n",
       "      <th>0</th>\n",
       "      <td>Broker</td>\n",
       "      <td>Weekday</td>\n",
       "      <td>11175.190476</td>\n",
       "    </tr>\n",
       "    <tr>\n",
       "      <th>1</th>\n",
       "      <td>Broker</td>\n",
       "      <td>Weekend</td>\n",
       "      <td>6572.555556</td>\n",
       "    </tr>\n",
       "    <tr>\n",
       "      <th>2</th>\n",
       "      <td>E-Hail</td>\n",
       "      <td>Weekday</td>\n",
       "      <td>24427.904762</td>\n",
       "    </tr>\n",
       "    <tr>\n",
       "      <th>3</th>\n",
       "      <td>E-Hail</td>\n",
       "      <td>Weekend</td>\n",
       "      <td>14371.666667</td>\n",
       "    </tr>\n",
       "    <tr>\n",
       "      <th>4</th>\n",
       "      <td>Primary</td>\n",
       "      <td>Weekday</td>\n",
       "      <td>5845.095238</td>\n",
       "    </tr>\n",
       "    <tr>\n",
       "      <th>5</th>\n",
       "      <td>Primary</td>\n",
       "      <td>Weekend</td>\n",
       "      <td>3335.000000</td>\n",
       "    </tr>\n",
       "  </tbody>\n",
       "</table>\n",
       "</div>"
      ],
      "text/plain": [
       "  ProviderType IsWeekend       average\n",
       "0       Broker   Weekday  11175.190476\n",
       "1       Broker   Weekend   6572.555556\n",
       "2       E-Hail   Weekday  24427.904762\n",
       "3       E-Hail   Weekend  14371.666667\n",
       "4      Primary   Weekday   5845.095238\n",
       "5      Primary   Weekend   3335.000000"
      ]
     },
     "execution_count": 13,
     "metadata": {},
     "output_type": "execute_result"
    }
   ],
   "source": [
    "perday_df = perday_df.groupby(['ProviderType', 'IsWeekend']) \\\n",
    "    ['count'].mean().reset_index(name=\"average\")\n",
    "perday_df"
   ]
  },
  {
   "cell_type": "markdown",
   "id": "3953c6a8",
   "metadata": {},
   "source": [
    "The output above holds the values we are interested in. However, if we do some light reformatting by pivoting the dataframe, we can achieve a more aesthetic output:"
   ]
  },
  {
   "cell_type": "code",
   "execution_count": 14,
   "id": "43f247b9",
   "metadata": {},
   "outputs": [
    {
     "data": {
      "text/html": [
       "<style type=\"text/css\">\n",
       "</style>\n",
       "<table id=\"T_b11d7\">\n",
       "  <thead>\n",
       "    <tr>\n",
       "      <th class=\"blank level0\" >&nbsp;</th>\n",
       "      <th id=\"T_b11d7_level0_col0\" class=\"col_heading level0 col0\" colspan=\"3\">average</th>\n",
       "    </tr>\n",
       "    <tr>\n",
       "      <th class=\"index_name level1\" >ProviderType</th>\n",
       "      <th id=\"T_b11d7_level1_col0\" class=\"col_heading level1 col0\" >Broker</th>\n",
       "      <th id=\"T_b11d7_level1_col1\" class=\"col_heading level1 col1\" >E-Hail</th>\n",
       "      <th id=\"T_b11d7_level1_col2\" class=\"col_heading level1 col2\" >Primary</th>\n",
       "    </tr>\n",
       "    <tr>\n",
       "      <th class=\"index_name level0\" >IsWeekend</th>\n",
       "      <th class=\"blank col0\" >&nbsp;</th>\n",
       "      <th class=\"blank col1\" >&nbsp;</th>\n",
       "      <th class=\"blank col2\" >&nbsp;</th>\n",
       "    </tr>\n",
       "  </thead>\n",
       "  <tbody>\n",
       "    <tr>\n",
       "      <th id=\"T_b11d7_level0_row0\" class=\"row_heading level0 row0\" >Weekday</th>\n",
       "      <td id=\"T_b11d7_row0_col0\" class=\"data row0 col0\" >11175.190476</td>\n",
       "      <td id=\"T_b11d7_row0_col1\" class=\"data row0 col1\" >24427.904762</td>\n",
       "      <td id=\"T_b11d7_row0_col2\" class=\"data row0 col2\" >5845.095238</td>\n",
       "    </tr>\n",
       "    <tr>\n",
       "      <th id=\"T_b11d7_level0_row1\" class=\"row_heading level0 row1\" >Weekend</th>\n",
       "      <td id=\"T_b11d7_row1_col0\" class=\"data row1 col0\" >6572.555556</td>\n",
       "      <td id=\"T_b11d7_row1_col1\" class=\"data row1 col1\" >14371.666667</td>\n",
       "      <td id=\"T_b11d7_row1_col2\" class=\"data row1 col2\" >3335.000000</td>\n",
       "    </tr>\n",
       "  </tbody>\n",
       "</table>\n"
      ],
      "text/plain": [
       "<pandas.io.formats.style.Styler at 0x7f11c4e129e0>"
      ]
     },
     "execution_count": 14,
     "metadata": {},
     "output_type": "execute_result"
    }
   ],
   "source": [
    "# pivot the data on ProviderType and maintain IsWeekend as index\n",
    "perday_df = perday_df.pivot(index='IsWeekend',columns='ProviderType')\n",
    "perday_df.style"
   ]
  },
  {
   "cell_type": "markdown",
   "id": "ed718870",
   "metadata": {},
   "source": [
    "#### Approach for Question 1.3: % trips by mode\n",
    "\n",
    "1. % trips by mode\n",
    "    - start with the df_PType_PBE dataframe\n",
    "    - use .crosstab() methods to produce table summary\n",
    "    \n",
    "Manipulating the data for this task is quite simple, because we just need to crosstabulate the 'df_PType_PBE' dataframe and normalize the score to find the joint probabilities:"
   ]
  },
  {
   "cell_type": "code",
   "execution_count": 15,
   "id": "ed7ab3fe",
   "metadata": {},
   "outputs": [
    {
     "data": {
      "text/html": [
       "<div>\n",
       "<style scoped>\n",
       "    .dataframe tbody tr th:only-of-type {\n",
       "        vertical-align: middle;\n",
       "    }\n",
       "\n",
       "    .dataframe tbody tr th {\n",
       "        vertical-align: top;\n",
       "    }\n",
       "\n",
       "    .dataframe thead th {\n",
       "        text-align: right;\n",
       "    }\n",
       "</style>\n",
       "<table border=\"1\" class=\"dataframe\">\n",
       "  <thead>\n",
       "    <tr style=\"text-align: right;\">\n",
       "      <th>ProviderType</th>\n",
       "      <th>Broker</th>\n",
       "      <th>E-Hail</th>\n",
       "      <th>Primary</th>\n",
       "      <th>Total</th>\n",
       "    </tr>\n",
       "    <tr>\n",
       "      <th>IsWeekend</th>\n",
       "      <th></th>\n",
       "      <th></th>\n",
       "      <th></th>\n",
       "      <th></th>\n",
       "    </tr>\n",
       "  </thead>\n",
       "  <tbody>\n",
       "    <tr>\n",
       "      <th>Weekday</th>\n",
       "      <td>21.551438</td>\n",
       "      <td>47.109397</td>\n",
       "      <td>11.272310</td>\n",
       "      <td>79.933145</td>\n",
       "    </tr>\n",
       "    <tr>\n",
       "      <th>Weekend</th>\n",
       "      <td>5.432238</td>\n",
       "      <td>11.878229</td>\n",
       "      <td>2.756388</td>\n",
       "      <td>20.066855</td>\n",
       "    </tr>\n",
       "    <tr>\n",
       "      <th>Total</th>\n",
       "      <td>26.983677</td>\n",
       "      <td>58.987625</td>\n",
       "      <td>14.028698</td>\n",
       "      <td>100.000000</td>\n",
       "    </tr>\n",
       "  </tbody>\n",
       "</table>\n",
       "</div>"
      ],
      "text/plain": [
       "ProviderType     Broker     E-Hail    Primary       Total\n",
       "IsWeekend                                                \n",
       "Weekday       21.551438  47.109397  11.272310   79.933145\n",
       "Weekend        5.432238  11.878229   2.756388   20.066855\n",
       "Total         26.983677  58.987625  14.028698  100.000000"
      ]
     },
     "execution_count": 15,
     "metadata": {},
     "output_type": "execute_result"
    }
   ],
   "source": [
    "# form crosstab with dropna=True (default)\n",
    "percent_res = pd.crosstab(df_PType_PBE.IsWeekend, df_PType_PBE.ProviderType,\n",
    "            margins=True, margins_name=\"Total\", normalize=True)*100\n",
    "percent_res"
   ]
  },
  {
   "cell_type": "markdown",
   "id": "e3bbe760",
   "metadata": {},
   "source": [
    "The tabel above gives the joint probabilities. For example, the joint probability that a trip is made by an E-Haul provider on a weekday is 47%. However, if we are more interested in the conditional probability that a ride provider was E-Haul, given that it was on a weekday, we can make the following transformation of the data:"
   ]
  },
  {
   "cell_type": "code",
   "execution_count": 16,
   "id": "b5bc4a50",
   "metadata": {},
   "outputs": [
    {
     "data": {
      "text/html": [
       "<div>\n",
       "<style scoped>\n",
       "    .dataframe tbody tr th:only-of-type {\n",
       "        vertical-align: middle;\n",
       "    }\n",
       "\n",
       "    .dataframe tbody tr th {\n",
       "        vertical-align: top;\n",
       "    }\n",
       "\n",
       "    .dataframe thead th {\n",
       "        text-align: right;\n",
       "    }\n",
       "</style>\n",
       "<table border=\"1\" class=\"dataframe\">\n",
       "  <thead>\n",
       "    <tr style=\"text-align: right;\">\n",
       "      <th>ProviderType</th>\n",
       "      <th>Broker</th>\n",
       "      <th>E-Hail</th>\n",
       "      <th>Primary</th>\n",
       "      <th>Total</th>\n",
       "    </tr>\n",
       "    <tr>\n",
       "      <th>IsWeekend</th>\n",
       "      <th></th>\n",
       "      <th></th>\n",
       "      <th></th>\n",
       "      <th></th>\n",
       "    </tr>\n",
       "  </thead>\n",
       "  <tbody>\n",
       "    <tr>\n",
       "      <th>Weekday</th>\n",
       "      <td>26.961830</td>\n",
       "      <td>58.935998</td>\n",
       "      <td>14.102172</td>\n",
       "      <td>100.0</td>\n",
       "    </tr>\n",
       "    <tr>\n",
       "      <th>Weekend</th>\n",
       "      <td>27.070701</td>\n",
       "      <td>59.193275</td>\n",
       "      <td>13.736025</td>\n",
       "      <td>100.0</td>\n",
       "    </tr>\n",
       "    <tr>\n",
       "      <th>Total</th>\n",
       "      <td>26.983677</td>\n",
       "      <td>58.987625</td>\n",
       "      <td>14.028698</td>\n",
       "      <td>100.0</td>\n",
       "    </tr>\n",
       "  </tbody>\n",
       "</table>\n",
       "</div>"
      ],
      "text/plain": [
       "ProviderType     Broker     E-Hail    Primary  Total\n",
       "IsWeekend                                           \n",
       "Weekday       26.961830  58.935998  14.102172  100.0\n",
       "Weekend       27.070701  59.193275  13.736025  100.0\n",
       "Total         26.983677  58.987625  14.028698  100.0"
      ]
     },
     "execution_count": 16,
     "metadata": {},
     "output_type": "execute_result"
    }
   ],
   "source": [
    "cond_res = percent_res.div(percent_res['Total'].values,axis=0)*100\n",
    "cond_res"
   ]
  },
  {
   "cell_type": "markdown",
   "id": "4f60b096",
   "metadata": {},
   "source": [
    "<br>\n",
    "\n",
    "### Question 2: Top 10 Zipcodes\n",
    "\n",
    "* provide a list of the top 10 ZIP codes where successful Primary trip pickups occur during the AM rush hour (06:00 through 10:00).\n",
    "* include count/total for each zipcode\n",
    "* use a time feature that is 'future looking' (when customers were scheduled to be picked up)"
   ]
  },
  {
   "cell_type": "markdown",
   "id": "9086f12f",
   "metadata": {},
   "source": [
    "#### Approach for Question 2\n",
    "\n",
    "Overview of analysis process:\n",
    "\n",
    "1. Preliminary Data Shaping\n",
    "    - subset the data to just the relevant features for this portion of the analysis:\n",
    "        - 'ProviderType', 'Outcome' :: these will be used to filter successful Primary trips\n",
    "        - 'PromiseTime' :: will be used as the 'future looking' trip pickup time\n",
    "        - 'PickZip' :: map result to the customer's origin zipcode\n",
    "        - drop records with null values from dataset\n",
    "    - filter for 'successful' Primary trips\n",
    "        - 'ProviderType  == \"Primary\" & Outcome == \"Completed\"'\n",
    "    - filter for the AM rush\n",
    "        - is 'PromiseTime' within the hours of 6am $\\rightarrow$ 10am?\n",
    "2. Top Zipcodes\n",
    "    - group by 'PickZip' and count the records\n",
    "    - sort by count result\n",
    "    - return the top 10 records and corresponding counts"
   ]
  },
  {
   "cell_type": "code",
   "execution_count": 17,
   "id": "e85b2264",
   "metadata": {},
   "outputs": [
    {
     "name": "stdout",
     "output_type": "stream",
     "text": [
      "<class 'pandas.core.frame.DataFrame'>\n",
      "RangeIndex: 1164013 entries, 0 to 1164012\n",
      "Data columns (total 4 columns):\n",
      " #   Column        Non-Null Count    Dtype \n",
      "---  ------        --------------    ----- \n",
      " 0   ProviderType  1164013 non-null  object\n",
      " 1   Outcome       1164013 non-null  object\n",
      " 2   PromiseTime   1164013 non-null  object\n",
      " 3   PickZip       1138336 non-null  object\n",
      "dtypes: object(4)\n",
      "memory usage: 35.5+ MB\n"
     ]
    }
   ],
   "source": [
    "# subset relevant columns of trips data\n",
    "zipcodes_df = df[['ProviderType', 'Outcome', 'PromiseTime', 'PickZip']]\n",
    "zipcodes_df.info()"
   ]
  },
  {
   "cell_type": "markdown",
   "id": "574bb372",
   "metadata": {},
   "source": [
    "Here is where using the `missingno` library comes in handy: we are already aware that the 'PickZip' variable holds some null values. The following code will drop records with missing information:"
   ]
  },
  {
   "cell_type": "code",
   "execution_count": 18,
   "id": "1d399eb8",
   "metadata": {},
   "outputs": [
    {
     "name": "stdout",
     "output_type": "stream",
     "text": [
      "<class 'pandas.core.frame.DataFrame'>\n",
      "Int64Index: 1138336 entries, 0 to 1164012\n",
      "Data columns (total 4 columns):\n",
      " #   Column        Non-Null Count    Dtype \n",
      "---  ------        --------------    ----- \n",
      " 0   ProviderType  1138336 non-null  object\n",
      " 1   Outcome       1138336 non-null  object\n",
      " 2   PromiseTime   1138336 non-null  object\n",
      " 3   PickZip       1138336 non-null  object\n",
      "dtypes: object(4)\n",
      "memory usage: 43.4+ MB\n"
     ]
    }
   ],
   "source": [
    "zipcodes_df = zipcodes_df.dropna()\n",
    "zipcodes_df.info()"
   ]
  },
  {
   "cell_type": "markdown",
   "id": "c2c36727",
   "metadata": {},
   "source": [
    "Next, we will find the records that correspond to 'successful' primary provider trips which occured during the morning rush hours:"
   ]
  },
  {
   "cell_type": "code",
   "execution_count": 19,
   "id": "55fee3a8",
   "metadata": {},
   "outputs": [
    {
     "data": {
      "text/plain": [
       "(139658, 4)"
      ]
     },
     "execution_count": 19,
     "metadata": {},
     "output_type": "execute_result"
    }
   ],
   "source": [
    "# filter for 'successful' Primary trips\n",
    "zipcodes_df = zipcodes_df.query('ProviderType  == \"Primary\" & Outcome == \"Completed\"') # successful Primary trips\n",
    "zipcodes_df.shape"
   ]
  },
  {
   "cell_type": "code",
   "execution_count": 20,
   "id": "6382ddb0",
   "metadata": {},
   "outputs": [
    {
     "name": "stdout",
     "output_type": "stream",
     "text": [
      "(37456, 5)\n"
     ]
    },
    {
     "data": {
      "text/html": [
       "<div>\n",
       "<style scoped>\n",
       "    .dataframe tbody tr th:only-of-type {\n",
       "        vertical-align: middle;\n",
       "    }\n",
       "\n",
       "    .dataframe tbody tr th {\n",
       "        vertical-align: top;\n",
       "    }\n",
       "\n",
       "    .dataframe thead th {\n",
       "        text-align: right;\n",
       "    }\n",
       "</style>\n",
       "<table border=\"1\" class=\"dataframe\">\n",
       "  <thead>\n",
       "    <tr style=\"text-align: right;\">\n",
       "      <th></th>\n",
       "      <th>ProviderType</th>\n",
       "      <th>Outcome</th>\n",
       "      <th>PromiseTime</th>\n",
       "      <th>PickZip</th>\n",
       "      <th>tripHour</th>\n",
       "    </tr>\n",
       "  </thead>\n",
       "  <tbody>\n",
       "    <tr>\n",
       "      <th>4</th>\n",
       "      <td>Primary</td>\n",
       "      <td>Completed</td>\n",
       "      <td>09:30</td>\n",
       "      <td>11203</td>\n",
       "      <td>9</td>\n",
       "    </tr>\n",
       "    <tr>\n",
       "      <th>8</th>\n",
       "      <td>Primary</td>\n",
       "      <td>Completed</td>\n",
       "      <td>07:15</td>\n",
       "      <td>11221</td>\n",
       "      <td>7</td>\n",
       "    </tr>\n",
       "    <tr>\n",
       "      <th>9</th>\n",
       "      <td>Primary</td>\n",
       "      <td>Completed</td>\n",
       "      <td>09:45</td>\n",
       "      <td>11429</td>\n",
       "      <td>9</td>\n",
       "    </tr>\n",
       "    <tr>\n",
       "      <th>11</th>\n",
       "      <td>Primary</td>\n",
       "      <td>Completed</td>\n",
       "      <td>07:30</td>\n",
       "      <td>11236</td>\n",
       "      <td>7</td>\n",
       "    </tr>\n",
       "    <tr>\n",
       "      <th>24</th>\n",
       "      <td>Primary</td>\n",
       "      <td>Completed</td>\n",
       "      <td>07:30</td>\n",
       "      <td>10306</td>\n",
       "      <td>7</td>\n",
       "    </tr>\n",
       "  </tbody>\n",
       "</table>\n",
       "</div>"
      ],
      "text/plain": [
       "   ProviderType    Outcome PromiseTime PickZip  tripHour\n",
       "4       Primary  Completed       09:30   11203         9\n",
       "8       Primary  Completed       07:15   11221         7\n",
       "9       Primary  Completed       09:45   11429         9\n",
       "11      Primary  Completed       07:30   11236         7\n",
       "24      Primary  Completed       07:30   10306         7"
      ]
     },
     "execution_count": 20,
     "metadata": {},
     "output_type": "execute_result"
    }
   ],
   "source": [
    "# filter for the AM rush\n",
    "# parse the hour the PromiseTime occured\n",
    "zipcodes_df[\"tripHour\"] = [int(h.split(':')[0]) for h in zipcodes_df['PromiseTime']]\n",
    "# filter the records whose tripHour is between [6,10)\n",
    "zipcodes_df = zipcodes_df[zipcodes_df['tripHour'].between(6, 10, inclusive='left')]\n",
    "\n",
    "# display the first 5 records\n",
    "print( zipcodes_df.shape )\n",
    "zipcodes_df.head()"
   ]
  },
  {
   "cell_type": "markdown",
   "id": "cb07d6fd",
   "metadata": {},
   "source": [
    "Now that we have filtered the relevant information, we can group by zipcode and find the zipcodes with the most records:"
   ]
  },
  {
   "cell_type": "code",
   "execution_count": 21,
   "id": "b4871966",
   "metadata": {},
   "outputs": [],
   "source": [
    "count_name = \"Number of Primary Trips during AM Rush Hour\"\n",
    "zipcodes_count = zipcodes_df.groupby(['PickZip'])['tripHour'] \\\n",
    "    .count().reset_index(name=count_name) \\\n",
    "    .sort_values(by=count_name, ascending=False)"
   ]
  },
  {
   "cell_type": "code",
   "execution_count": 22,
   "id": "509a6577",
   "metadata": {},
   "outputs": [
    {
     "data": {
      "text/html": [
       "<style type=\"text/css\">\n",
       "</style>\n",
       "<table id=\"T_e5e72\">\n",
       "  <thead>\n",
       "    <tr>\n",
       "      <th class=\"blank level0\" >&nbsp;</th>\n",
       "      <th id=\"T_e5e72_level0_col0\" class=\"col_heading level0 col0\" >PickZip</th>\n",
       "      <th id=\"T_e5e72_level0_col1\" class=\"col_heading level0 col1\" >Number of Primary Trips during AM Rush Hour</th>\n",
       "    </tr>\n",
       "  </thead>\n",
       "  <tbody>\n",
       "    <tr>\n",
       "      <th id=\"T_e5e72_level0_row0\" class=\"row_heading level0 row0\" >65</th>\n",
       "      <td id=\"T_e5e72_row0_col0\" class=\"data row0 col0\" >10314</td>\n",
       "      <td id=\"T_e5e72_row0_col1\" class=\"data row0 col1\" >1177</td>\n",
       "    </tr>\n",
       "    <tr>\n",
       "      <th id=\"T_e5e72_level0_row1\" class=\"row_heading level0 row1\" >133</th>\n",
       "      <td id=\"T_e5e72_row1_col0\" class=\"data row1 col0\" >11212</td>\n",
       "      <td id=\"T_e5e72_row1_col1\" class=\"data row1 col1\" >869</td>\n",
       "    </tr>\n",
       "    <tr>\n",
       "      <th id=\"T_e5e72_level0_row2\" class=\"row_heading level0 row2\" >55</th>\n",
       "      <td id=\"T_e5e72_row2_col0\" class=\"data row2 col0\" >10304</td>\n",
       "      <td id=\"T_e5e72_row2_col1\" class=\"data row2 col1\" >857</td>\n",
       "    </tr>\n",
       "    <tr>\n",
       "      <th id=\"T_e5e72_level0_row3\" class=\"row_heading level0 row3\" >128</th>\n",
       "      <td id=\"T_e5e72_row3_col0\" class=\"data row3 col0\" >11207</td>\n",
       "      <td id=\"T_e5e72_row3_col1\" class=\"data row3 col1\" >823</td>\n",
       "    </tr>\n",
       "    <tr>\n",
       "      <th id=\"T_e5e72_level0_row4\" class=\"row_heading level0 row4\" >52</th>\n",
       "      <td id=\"T_e5e72_row4_col0\" class=\"data row4 col0\" >10301</td>\n",
       "      <td id=\"T_e5e72_row4_col1\" class=\"data row4 col1\" >768</td>\n",
       "    </tr>\n",
       "    <tr>\n",
       "      <th id=\"T_e5e72_level0_row5\" class=\"row_heading level0 row5\" >57</th>\n",
       "      <td id=\"T_e5e72_row5_col0\" class=\"data row5 col0\" >10306</td>\n",
       "      <td id=\"T_e5e72_row5_col1\" class=\"data row5 col1\" >753</td>\n",
       "    </tr>\n",
       "    <tr>\n",
       "      <th id=\"T_e5e72_level0_row6\" class=\"row_heading level0 row6\" >219</th>\n",
       "      <td id=\"T_e5e72_row6_col0\" class=\"data row6 col0\" >11434</td>\n",
       "      <td id=\"T_e5e72_row6_col1\" class=\"data row6 col1\" >710</td>\n",
       "    </tr>\n",
       "    <tr>\n",
       "      <th id=\"T_e5e72_level0_row7\" class=\"row_heading level0 row7\" >161</th>\n",
       "      <td id=\"T_e5e72_row7_col0\" class=\"data row7 col0\" >11233</td>\n",
       "      <td id=\"T_e5e72_row7_col1\" class=\"data row7 col1\" >637</td>\n",
       "    </tr>\n",
       "    <tr>\n",
       "      <th id=\"T_e5e72_level0_row8\" class=\"row_heading level0 row8\" >230</th>\n",
       "      <td id=\"T_e5e72_row8_col0\" class=\"data row8 col0\" >11691</td>\n",
       "      <td id=\"T_e5e72_row8_col1\" class=\"data row8 col1\" >611</td>\n",
       "    </tr>\n",
       "    <tr>\n",
       "      <th id=\"T_e5e72_level0_row9\" class=\"row_heading level0 row9\" >166</th>\n",
       "      <td id=\"T_e5e72_row9_col0\" class=\"data row9 col0\" >11236</td>\n",
       "      <td id=\"T_e5e72_row9_col1\" class=\"data row9 col1\" >600</td>\n",
       "    </tr>\n",
       "  </tbody>\n",
       "</table>\n"
      ],
      "text/plain": [
       "<pandas.io.formats.style.Styler at 0x7f11caceb1c0>"
      ]
     },
     "execution_count": 22,
     "metadata": {},
     "output_type": "execute_result"
    }
   ],
   "source": [
    "zipcodes_count.head(10).style"
   ]
  },
  {
   "cell_type": "markdown",
   "id": "cd654768",
   "metadata": {},
   "source": [
    "<br>\n",
    "\n",
    "### Question 3: Cost Forcasting for a 'Flexible B-leg'\n",
    "\n",
    "For trips beginning or ending in 11201, 10469, 11694, 10306:\n",
    "* Intra-borough trips (started and ended in one of the four zip codes)\n",
    "    * mean trip distance\n",
    "    * total number of trips\n",
    "* Inter-borough trips (started/ended in 11201, 10469, 11694, 10306 and ended/started in Manhattan)\n",
    "    * mean trip distance\n",
    "    * total number of trips\n",
    "* Overall trips\n",
    "    * mean of intra & inter trips distances\n",
    "    * total number of inter and intra trips"
   ]
  },
  {
   "cell_type": "markdown",
   "id": "75b0aaa7",
   "metadata": {},
   "source": [
    "#### Approach for Question 3\n",
    "\n",
    "Overview of analysis process:\n",
    "\n",
    "* Data Preparation\n",
    "    - subset on the columns used for this analysis: 'PickZip', 'DropZip', 'PickCounty', 'DropCounty', 'TripMiles'\n",
    "    - select all trips that either started or ended in one of the following zipcodes: 11201, 10469, 11694, 10306\n",
    "* Intra-Borough trips\n",
    "    - find records where 'PickZip'=='DropZip'\n",
    "    - groupby zipcode count records and find mean TripMiles\n",
    "    - add a new field, 'target_zip' which identifies which zipcode of interest the trip took place in (to be used in later steps)\n",
    "* Inter-Borough trips\n",
    "    - find records where PickCounty='New York' & DropZip is a target zipcode\n",
    "    - find records where PickZip is a target zipcode & DropCounty = 'New York'\n",
    "    - to each of these results, add a new field 'target_zip' which identifies which zipcode of interest the trip either originated from or concluded in.\n",
    "    - combine the two dataframes, groupby 'target_zip' and aggregate to find the number of records and mean TripMiles\n",
    "* Total (all trips starting or ending in ZIP)\n",
    "    - combine the dataframes for intra & inter borough trips\n",
    "    - group the results by the field 'target_zip', aggregate to find the total number of observations and mean TripMiles for each of the four target zipcodes\n",
    "* Presenting the results\n",
    "    - combine the summary results for intra, inter and total\n",
    "    - format as an easily readable table"
   ]
  },
  {
   "cell_type": "markdown",
   "id": "209a4f0a",
   "metadata": {},
   "source": [
    "**Data Preparation**\n",
    "\n",
    "We are interested in the pick-up and drop-off locations (both zip code and county) as well as the distance of the trip. Let's start by selecting the data relevant for this analysis:"
   ]
  },
  {
   "cell_type": "code",
   "execution_count": 23,
   "id": "09f92fb7",
   "metadata": {
    "scrolled": true
   },
   "outputs": [
    {
     "data": {
      "text/plain": [
       "(74134, 5)"
      ]
     },
     "execution_count": 23,
     "metadata": {},
     "output_type": "execute_result"
    }
   ],
   "source": [
    "# subset on columns used for analysis\n",
    "zip_cols = ['PickZip', 'DropZip', 'PickCounty', 'DropCounty', 'TripMiles']\n",
    "flexB_df = df[zip_cols]\n",
    "\n",
    "# select trips that either started or ended in the target zipcodes\n",
    "zips = ['11201', '10469', '11694', '10306']\n",
    "flexB_df = flexB_df.query('PickZip.isin(@zips) | DropZip.isin(@zips)')\n",
    "flexB_df.shape"
   ]
  },
  {
   "cell_type": "markdown",
   "id": "8ed427b9",
   "metadata": {},
   "source": [
    "**Intra-Borough trips**\n",
    "\n",
    "Find the records where the pick-up and drop-off zipcodes are the same (one of the four target zips). Then, perform a simple aggregation over the result to find the number of trips as well as the mean distance travelled."
   ]
  },
  {
   "cell_type": "code",
   "execution_count": 24,
   "id": "fc275e37",
   "metadata": {},
   "outputs": [
    {
     "data": {
      "text/html": [
       "<div>\n",
       "<style scoped>\n",
       "    .dataframe tbody tr th:only-of-type {\n",
       "        vertical-align: middle;\n",
       "    }\n",
       "\n",
       "    .dataframe tbody tr th {\n",
       "        vertical-align: top;\n",
       "    }\n",
       "\n",
       "    .dataframe thead th {\n",
       "        text-align: right;\n",
       "    }\n",
       "</style>\n",
       "<table border=\"1\" class=\"dataframe\">\n",
       "  <thead>\n",
       "    <tr style=\"text-align: right;\">\n",
       "      <th></th>\n",
       "      <th>count</th>\n",
       "      <th>mean distance</th>\n",
       "    </tr>\n",
       "    <tr>\n",
       "      <th>PickZip</th>\n",
       "      <th></th>\n",
       "      <th></th>\n",
       "    </tr>\n",
       "  </thead>\n",
       "  <tbody>\n",
       "    <tr>\n",
       "      <th>10306</th>\n",
       "      <td>1209</td>\n",
       "      <td>0.595095</td>\n",
       "    </tr>\n",
       "    <tr>\n",
       "      <th>10469</th>\n",
       "      <td>613</td>\n",
       "      <td>0.403377</td>\n",
       "    </tr>\n",
       "    <tr>\n",
       "      <th>11201</th>\n",
       "      <td>696</td>\n",
       "      <td>0.203233</td>\n",
       "    </tr>\n",
       "    <tr>\n",
       "      <th>11694</th>\n",
       "      <td>105</td>\n",
       "      <td>0.298762</td>\n",
       "    </tr>\n",
       "  </tbody>\n",
       "</table>\n",
       "</div>"
      ],
      "text/plain": [
       "         count  mean distance\n",
       "PickZip                      \n",
       "10306     1209       0.595095\n",
       "10469      613       0.403377\n",
       "11201      696       0.203233\n",
       "11694      105       0.298762"
      ]
     },
     "execution_count": 24,
     "metadata": {},
     "output_type": "execute_result"
    }
   ],
   "source": [
    "# find records where 'PickZip'=='DropZip'\n",
    "intraB_df = flexB_df.query('PickZip == DropZip').copy()\n",
    "# create a new feature that identifies the which one of the four target zip codes this trip involves\n",
    "# this will come in handy when we need to summarize the total trips\n",
    "intraB_df['target_zip'] = intraB_df['PickZip']\n",
    "# groupby zipcode count records and find mean TripMiles\n",
    "intra_b_res = intraB_df.groupby(['PickZip']) \\\n",
    "       .agg({'DropZip':'size', 'TripMiles':'mean'}) \\\n",
    "       .rename(columns={'DropZip':'count','TripMiles':'mean distance'})\n",
    "intra_b_res"
   ]
  },
  {
   "cell_type": "markdown",
   "id": "82ff0af9",
   "metadata": {},
   "source": [
    "**Inter-Borough trips**\n",
    "\n",
    "to be interpreted as trips either:\n",
    "* from Manhattan to a target zipcode\n",
    "* from a target zipcode to Manhattan\n",
    "\n",
    "To find the inter-borough trips, we will create two data subsets for trips from Manhattan to a target zipcode and for trips from a target zipcode to Manhattan. As we create a 'target_zip' variable in the same way we did for intra-borough data. However, here the feature will be directly useful, because we can use it to group the data and produce the desired summary metrics:"
   ]
  },
  {
   "cell_type": "code",
   "execution_count": 25,
   "id": "620bdcae",
   "metadata": {},
   "outputs": [
    {
     "data": {
      "text/html": [
       "<div>\n",
       "<style scoped>\n",
       "    .dataframe tbody tr th:only-of-type {\n",
       "        vertical-align: middle;\n",
       "    }\n",
       "\n",
       "    .dataframe tbody tr th {\n",
       "        vertical-align: top;\n",
       "    }\n",
       "\n",
       "    .dataframe thead th {\n",
       "        text-align: right;\n",
       "    }\n",
       "</style>\n",
       "<table border=\"1\" class=\"dataframe\">\n",
       "  <thead>\n",
       "    <tr style=\"text-align: right;\">\n",
       "      <th></th>\n",
       "      <th>count</th>\n",
       "      <th>mean distance</th>\n",
       "    </tr>\n",
       "    <tr>\n",
       "      <th>target_zip</th>\n",
       "      <th></th>\n",
       "      <th></th>\n",
       "    </tr>\n",
       "  </thead>\n",
       "  <tbody>\n",
       "    <tr>\n",
       "      <th>10306</th>\n",
       "      <td>1381</td>\n",
       "      <td>10.443454</td>\n",
       "    </tr>\n",
       "    <tr>\n",
       "      <th>10469</th>\n",
       "      <td>4055</td>\n",
       "      <td>5.781354</td>\n",
       "    </tr>\n",
       "    <tr>\n",
       "      <th>11201</th>\n",
       "      <td>4264</td>\n",
       "      <td>2.984306</td>\n",
       "    </tr>\n",
       "    <tr>\n",
       "      <th>11694</th>\n",
       "      <td>657</td>\n",
       "      <td>8.717610</td>\n",
       "    </tr>\n",
       "  </tbody>\n",
       "</table>\n",
       "</div>"
      ],
      "text/plain": [
       "            count  mean distance\n",
       "target_zip                      \n",
       "10306        1381      10.443454\n",
       "10469        4055       5.781354\n",
       "11201        4264       2.984306\n",
       "11694         657       8.717610"
      ]
     },
     "execution_count": 25,
     "metadata": {},
     "output_type": "execute_result"
    }
   ],
   "source": [
    "# from Manhattan to target zip\n",
    "fromM_df = flexB_df.query('PickCounty==\"New York\" & DropZip.isin(@zips)').copy()\n",
    "fromM_df['target_zip'] = fromM_df['DropZip']\n",
    "\n",
    "# from target zip to Manhattan\n",
    "toM_df = flexB_df.query('DropCounty==\"New York\" & PickZip.isin(@zips)').copy()\n",
    "toM_df['target_zip'] = toM_df['PickZip']\n",
    "\n",
    "# concatenate the results\n",
    "interB_df = pd.concat([fromM_df, toM_df])\n",
    "\n",
    "# groupby target zipcode, count records, and find mean TripMiles\n",
    "inter_b_res = interB_df.groupby(['target_zip']) \\\n",
    "       .agg({'DropZip':'size', 'TripMiles':'mean'}) \\\n",
    "       .rename(columns={'DropZip':'count','TripMiles':'mean distance'})\n",
    "inter_b_res"
   ]
  },
  {
   "cell_type": "markdown",
   "id": "b244b9b6",
   "metadata": {},
   "source": [
    "**Totals (all trips starting or ending in ZIP)**\n",
    "\n",
    "We have already done most of the work. Now we just need to combine the intra and inter borough results:\n",
    "* concatenate intraB_df and interB_df\n",
    "* groupby 'target_zip', counts records, and find the mean TripMiles"
   ]
  },
  {
   "cell_type": "code",
   "execution_count": 26,
   "id": "0f7a14a8",
   "metadata": {},
   "outputs": [
    {
     "data": {
      "text/html": [
       "<div>\n",
       "<style scoped>\n",
       "    .dataframe tbody tr th:only-of-type {\n",
       "        vertical-align: middle;\n",
       "    }\n",
       "\n",
       "    .dataframe tbody tr th {\n",
       "        vertical-align: top;\n",
       "    }\n",
       "\n",
       "    .dataframe thead th {\n",
       "        text-align: right;\n",
       "    }\n",
       "</style>\n",
       "<table border=\"1\" class=\"dataframe\">\n",
       "  <thead>\n",
       "    <tr style=\"text-align: right;\">\n",
       "      <th></th>\n",
       "      <th>count</th>\n",
       "      <th>mean distance</th>\n",
       "    </tr>\n",
       "    <tr>\n",
       "      <th>target_zip</th>\n",
       "      <th></th>\n",
       "      <th></th>\n",
       "    </tr>\n",
       "  </thead>\n",
       "  <tbody>\n",
       "    <tr>\n",
       "      <th>10306</th>\n",
       "      <td>2590</td>\n",
       "      <td>5.846286</td>\n",
       "    </tr>\n",
       "    <tr>\n",
       "      <th>10469</th>\n",
       "      <td>4668</td>\n",
       "      <td>5.075120</td>\n",
       "    </tr>\n",
       "    <tr>\n",
       "      <th>11201</th>\n",
       "      <td>4960</td>\n",
       "      <td>2.594058</td>\n",
       "    </tr>\n",
       "    <tr>\n",
       "      <th>11694</th>\n",
       "      <td>762</td>\n",
       "      <td>7.557533</td>\n",
       "    </tr>\n",
       "  </tbody>\n",
       "</table>\n",
       "</div>"
      ],
      "text/plain": [
       "            count  mean distance\n",
       "target_zip                      \n",
       "10306        2590       5.846286\n",
       "10469        4668       5.075120\n",
       "11201        4960       2.594058\n",
       "11694         762       7.557533"
      ]
     },
     "execution_count": 26,
     "metadata": {},
     "output_type": "execute_result"
    }
   ],
   "source": [
    "# concatenate the previous results\n",
    "total_df = pd.concat([intraB_df, interB_df])\n",
    "# groupby target zipcode, count records, and find mean TripMiles\n",
    "total_res = total_df.groupby(['target_zip']) \\\n",
    "       .agg({'DropZip':'size', 'TripMiles':'mean'}) \\\n",
    "       .rename(columns={'DropZip':'count','TripMiles':'mean distance'})\n",
    "total_res"
   ]
  },
  {
   "cell_type": "markdown",
   "id": "a76422a1",
   "metadata": {},
   "source": [
    "**Summary Table**  \n",
    "\n",
    "Let's consolidate the output into a clear and concise table:"
   ]
  },
  {
   "cell_type": "code",
   "execution_count": 27,
   "id": "350c3f51",
   "metadata": {
    "scrolled": true
   },
   "outputs": [
    {
     "data": {
      "text/html": [
       "<div>\n",
       "<style scoped>\n",
       "    .dataframe tbody tr th:only-of-type {\n",
       "        vertical-align: middle;\n",
       "    }\n",
       "\n",
       "    .dataframe tbody tr th {\n",
       "        vertical-align: top;\n",
       "    }\n",
       "\n",
       "    .dataframe thead tr th {\n",
       "        text-align: left;\n",
       "    }\n",
       "</style>\n",
       "<table border=\"1\" class=\"dataframe\">\n",
       "  <thead>\n",
       "    <tr>\n",
       "      <th>Subset:</th>\n",
       "      <th colspan=\"2\" halign=\"left\">Intra-borough trips</th>\n",
       "      <th colspan=\"2\" halign=\"left\">Inter-borough trips</th>\n",
       "      <th colspan=\"2\" halign=\"left\">Totals (all trips starting or ending in ZIP)</th>\n",
       "    </tr>\n",
       "    <tr>\n",
       "      <th>Measure:</th>\n",
       "      <th>Total trips</th>\n",
       "      <th>Mean distance</th>\n",
       "      <th>Total trips</th>\n",
       "      <th>Mean distance</th>\n",
       "      <th>Total trips</th>\n",
       "      <th>Mean distance</th>\n",
       "    </tr>\n",
       "  </thead>\n",
       "  <tbody>\n",
       "    <tr>\n",
       "      <th>10306</th>\n",
       "      <td>1209</td>\n",
       "      <td>0.595095</td>\n",
       "      <td>1381</td>\n",
       "      <td>10.443454</td>\n",
       "      <td>2590</td>\n",
       "      <td>5.846286</td>\n",
       "    </tr>\n",
       "    <tr>\n",
       "      <th>10469</th>\n",
       "      <td>613</td>\n",
       "      <td>0.403377</td>\n",
       "      <td>4055</td>\n",
       "      <td>5.781354</td>\n",
       "      <td>4668</td>\n",
       "      <td>5.075120</td>\n",
       "    </tr>\n",
       "    <tr>\n",
       "      <th>11201</th>\n",
       "      <td>696</td>\n",
       "      <td>0.203233</td>\n",
       "      <td>4264</td>\n",
       "      <td>2.984306</td>\n",
       "      <td>4960</td>\n",
       "      <td>2.594058</td>\n",
       "    </tr>\n",
       "    <tr>\n",
       "      <th>11694</th>\n",
       "      <td>105</td>\n",
       "      <td>0.298762</td>\n",
       "      <td>657</td>\n",
       "      <td>8.717610</td>\n",
       "      <td>762</td>\n",
       "      <td>7.557533</td>\n",
       "    </tr>\n",
       "  </tbody>\n",
       "</table>\n",
       "</div>"
      ],
      "text/plain": [
       "Subset:  Intra-borough trips               Inter-borough trips                \\\n",
       "Measure:         Total trips Mean distance         Total trips Mean distance   \n",
       "10306                   1209      0.595095                1381     10.443454   \n",
       "10469                    613      0.403377                4055      5.781354   \n",
       "11201                    696      0.203233                4264      2.984306   \n",
       "11694                    105      0.298762                 657      8.717610   \n",
       "\n",
       "Subset:  Totals (all trips starting or ending in ZIP)                \n",
       "Measure:                                  Total trips Mean distance  \n",
       "10306                                            2590      5.846286  \n",
       "10469                                            4668      5.075120  \n",
       "11201                                            4960      2.594058  \n",
       "11694                                             762      7.557533  "
      ]
     },
     "execution_count": 27,
     "metadata": {},
     "output_type": "execute_result"
    }
   ],
   "source": [
    "combined_results = pd.concat([intra_b_res, inter_b_res, total_res], axis=1)\n",
    "midx = pd.MultiIndex.from_product([['Intra-borough trips', 'Inter-borough trips', 'Totals (all trips starting or ending in ZIP)'],\n",
    "                            ['Total trips','Mean distance']], names=['Subset:', 'Measure:'])\n",
    "combined_results.columns = midx\n",
    "combined_results"
   ]
  },
  {
   "cell_type": "markdown",
   "id": "1feca966",
   "metadata": {},
   "source": [
    "From the table above, we can see that the Mean Distance for Inter-borough trips for each zip code is an order of magnitude greater than the Mean Distance for Intra-borough trips. To underscore this, we can visualize the trip distance distributions for intra- and inter-borough trips (successful primary provider trips)"
   ]
  },
  {
   "cell_type": "code",
   "execution_count": 28,
   "id": "2560e6e7",
   "metadata": {},
   "outputs": [
    {
     "data": {
      "image/png": "[encoded data removed]",
      "text/plain": [
       "<Figure size 720x432 with 1 Axes>"
      ]
     },
     "metadata": {
      "needs_background": "light"
     },
     "output_type": "display_data"
    }
   ],
   "source": [
    "x = intraB_df.TripMiles.tolist()\n",
    "y = interB_df.TripMiles.tolist()\n",
    "\n",
    "bins = np.linspace(0, 25, 25)\n",
    "\n",
    "plt.figure(figsize=(10,6))\n",
    "plt.hist(x, bins, alpha=0.5, label='intra')\n",
    "plt.hist(y, bins, alpha=0.5, label='inter')\n",
    "plt.title('Distributions of Intra- & Inter-Borough trip Lengths')\n",
    "plt.legend(loc='upper right')\n",
    "plt.xlabel('trip distance (mi.)')\n",
    "plt.ylabel('count')\n",
    "plt.show()"
   ]
  },
  {
   "cell_type": "markdown",
   "id": "d0cd17d4",
   "metadata": {},
   "source": [
    "The orange series in the figure above shows the distribution of inter-borough trip distances. We can readily see that this data is much longer tailed (has more higher values) than the intra-borough trips given in blue. Therefore, because trip  cost scales with trip distance scales it follows that inter-borough trips are generally more costly to the MTA. However, it would be interesting to compare these results with the numerosity and mean distance traveled for inter-borough trips that do not involve Manhattan"
   ]
  },
  {
   "cell_type": "markdown",
   "id": "766e4554",
   "metadata": {},
   "source": [
    "<br><br>\n",
    "\n",
    "***"
   ]
  },
  {
   "cell_type": "markdown",
   "id": "274371cf",
   "metadata": {},
   "source": [
    "<br><br>\n",
    "\n",
    "### Background Notes\n",
    "\n",
    "**Access-A-Ride** a paratransit service that provides public transportation for eligible customers who have disabilities that prevent the from using the public buses and subways\n",
    "- 5 boroughs + a 3/4 mile corridor beyond fixed-route service\n",
    "- shared-ride program\n",
    "- Origin to destination service or feeder service\n",
    "- Non-priority trips with maximum ride times based on distance\n",
    "- 24/7 * 365\n",
    "- compliance with ADA regulations\n",
    "    \n",
    "Three modes to provide service:\n",
    "1. 'Primary' carrier - Access-A-Ride vans\n",
    "2. 'Broker' service from taxi companies\n",
    "3. 'E-hail' rides dispatched through Lift, Arro, Curb etc.\n",
    "\n",
    "Customer can specify either:\n",
    "* Pickup - when they would like to be picked up\n",
    "* Appointment - when they would like to arrive at thier destination\n",
    "\n",
    "Primary trips are considered successful if Outcome == 'Completed'  \n",
    "Other services are considered successful if Outcome == 'Authorized'\n",
    "\n",
    "<br><br>"
   ]
  }
 ],
 "metadata": {
  "kernelspec": {
   "display_name": "gensim",
   "language": "python",
   "name": "gensim"
  },
  "language_info": {
   "codemirror_mode": {
    "name": "ipython",
    "version": 3
   },
   "file_extension": ".py",
   "mimetype": "text/x-python",
   "name": "python",
   "nbconvert_exporter": "python",
   "pygments_lexer": "ipython3",
   "version": "3.10.4"
  }
 },
 "nbformat": 4,
 "nbformat_minor": 5
}
