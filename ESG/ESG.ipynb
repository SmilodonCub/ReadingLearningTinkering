{
 "cells": [
  {
   "cell_type": "markdown",
   "id": "1b8a01d3",
   "metadata": {},
   "source": []
  },
  {
   "cell_type": "markdown",
   "id": "ee23c622",
   "metadata": {
    "slideshow": {
     "slide_type": "slide"
    }
   },
   "source": [
    "# Towards a Cummulative Nacci Impact Score for ESG\n",
    "Bonnie Cooper\n",
    "<br>\n",
    "\n",
    "***\n",
    "<br>\n",
    "\n",
    "Conceptualizing a metric to wholistically embody Environmental, Social and Governance (ESG) measures with traditional performance measures such as profitability."
   ]
  },
  {
   "cell_type": "markdown",
   "id": "745e2591",
   "metadata": {
    "slideshow": {
     "slide_type": "notes"
    }
   },
   "source": [
    "Hello  \n",
    "Thank you for the opportunity to speak with you all today.  \n",
    "I am very excited to be invited to the final interview round and I've been looking forward to this since recieving the email.  \n",
    "I'll get started on talking with you about a Cummulative Nacci Impact Score for ESG.  \n",
    "My concept that I will discuss is still very much a work in progress. There will undoubtedly be some handwaving involved, but I will do my best to present a clear vision of my approach towards a metric that incorporates ESG measures and profitability to evaluate ESG strengths and to be incorporated into predictive models"
   ]
  },
  {
   "cell_type": "markdown",
   "id": "ca0789ac",
   "metadata": {
    "slideshow": {
     "slide_type": "slide"
    }
   },
   "source": [
    "## Talk Roadmap\n",
    "\n",
    "* Making the Case for ESG\n",
    "* Current Approaches for Integrating ESG\n",
    "* Nacci Impact Score Proposal"
   ]
  },
  {
   "cell_type": "markdown",
   "id": "ee40d5ea",
   "metadata": {
    "slideshow": {
     "slide_type": "notes"
    }
   },
   "source": [
    "Just to give a bit of an idea for what to expect with our time,  \n",
    "I would like to lead us through the talk by first making a case for ESG.  \n",
    "Why is it important for corporations to incorporate Environmental, Social and Governance concerns in thier business plan?  \n",
    "Then I would like to give a brief overview of some existing ESG metrics  \n",
    "After which I will present my concept for a composite ESG metric which could serve as a possible Nacci Impact Score  \n",
    "I'll walk through the components I believe should be included as well as brief justifications for them  \n",
    "before revealing a composite representation to serve as a single quantifiable KPI measure. Furthermore, I will discuss ideas for incorporating the score into predictive models."
   ]
  },
  {
   "cell_type": "markdown",
   "id": "2e8eace6",
   "metadata": {
    "slideshow": {
     "slide_type": "slide"
    }
   },
   "source": [
    "## Making the Case for ESG\n",
    "\n",
    "“We are faced not with two separate crises, one environmental and the other social, but rather with one complex crisis which is both social and environmental.” - Pope Franscis\n",
    "\n",
    "<img src=\"https://www.quantumnewenergy.com/wp-content/uploads/2021/03/AdobeStock_389787442-what-is-ESG.jpeg\" width=\"70%\" style=\"margin-left:auto; margin-right:auto\">"
   ]
  },
  {
   "cell_type": "markdown",
   "id": "99d307ef",
   "metadata": {
    "slideshow": {
     "slide_type": "notes"
    }
   },
   "source": [
    "So let me get started with Making a case for ESG....  \n",
    "\n",
    "I included this quote here from Pope Francis to underscore the spirit of ESG.  \n",
    "“we are faced not with two separate crises, one environmental and the other social, but rather with one complex crisis which is both social and environmental.”  \n",
    "\n",
    "Just as we as human beings also corporations/businesses as entities exist in the flux of social and environment turmoil around us. And as the size and complexity of corporations scales upwards -we live in an era where some corporations' finances dwarf that of small nation states- it is necessary for corporations/businesses to recognize thier impact on the world -be that the environment and/or community- around them.  \n",
    "\n",
    "business does not exist in a vacuum.  \n",
    "it is now more important than ever to incorporate environmental and social concerns not only into the business plan, but to internalize the same values within the internal governance of the organization.  \n",
    "This is the intent that is meant with ESG principles."
   ]
  },
  {
   "cell_type": "markdown",
   "id": "7a7c4398",
   "metadata": {
    "slideshow": {
     "slide_type": "subslide"
    }
   },
   "source": [
    "### Environmental, Social and Governance Concerns\n",
    "\n",
    "* **E**nvironmental - energy taken in & waste discharged. \n",
    "    - the energy/resource concerns and how this impacts people \n",
    "    - e.g. carbon emissions and climate change"
   ]
  },
  {
   "cell_type": "markdown",
   "id": "28b9f209",
   "metadata": {
    "slideshow": {
     "slide_type": "fragment"
    }
   },
   "source": [
    "* **S**ocial - relationships & reputation a company has with people/communities \n",
    "    - every company operates within a broader, diverse society\n",
    "    - e.g. labor relations, diversity and inclusion"
   ]
  },
  {
   "cell_type": "markdown",
   "id": "2043246b",
   "metadata": {
    "slideshow": {
     "slide_type": "fragment"
    }
   },
   "source": [
    "* **G**overnance - internal practices/controls to govern itself \n",
    "    - e.g. management structure & employee relations"
   ]
  },
  {
   "cell_type": "markdown",
   "id": "cea8d6b2",
   "metadata": {
    "slideshow": {
     "slide_type": "notes"
    }
   },
   "source": [
    "By Environmental concerns:  \n",
    "in a nut shell, we are talking about the energy consumed and waste discharged by an organization  \n",
    "for instance....  \n",
    "\n",
    "By Social:  \n",
    "we refer to the nature of the relationship the company has with the communities local and abroad  \n",
    "\n",
    "By Governance:  \n",
    "we refer to the internal practices of how the company comports itself  \n",
    "\n",
    "On the surface these seem to broadly qualitative to condence into a metric, but in the next section I will briefly describe how these ideals have been quantified."
   ]
  },
  {
   "cell_type": "markdown",
   "id": "46d0d57e",
   "metadata": {
    "slideshow": {
     "slide_type": "subslide"
    }
   },
   "source": [
    "### ESG correlates with perforance\n",
    "\n",
    "the business case for ESG investing is empirically well founded  \n",
    "\n",
    "\n",
    "<img src=\"Friede2015.png\" width=\"60%\" style=\"margin-left:auto; margin-right:auto\">"
   ]
  },
  {
   "cell_type": "markdown",
   "id": "a1965251",
   "metadata": {
    "slideshow": {
     "slide_type": "notes"
    }
   },
   "source": [
    "Investing in ESG pays financially.  \n",
    "Authors Friede and collaborators made a 2015 second-level review which combined results from 2200 unique primary studies.\n",
    "Based on correlation factors and the distribution analysis of more than 2000 empiracle studies, (Friede et al 2015) feel confident in generalizing that ESG criteria and CFP are, on average, positively correlated  \n",
    "The distinct positive empiric result is found across various approaches, regions, and asset classes.  \n",
    "furthermore, thier study found a relatively even relation of E, S and G categories in relation to CFP"
   ]
  },
  {
   "cell_type": "markdown",
   "id": "9576038d",
   "metadata": {
    "slideshow": {
     "slide_type": "subslide"
    }
   },
   "source": [
    "### ESG on the Rise\n",
    "\n",
    "<img src=\"ESG_growth.png\" width=\"60%\" style=\"margin-left:auto; margin-right:auto\">"
   ]
  },
  {
   "cell_type": "markdown",
   "id": "2aa726c0",
   "metadata": {
    "slideshow": {
     "slide_type": "notes"
    }
   },
   "source": [
    "The positive correlation of ESG and CFP has not escaped the attention of forward-thinking corportations.\n",
    "\n",
    "Indeed, ESG-oriented investing has experienced a meteoric rise. The acceleration has been driven by heightened social, governmental, and consumer attention on the broader impact of corporations, as well as by the investors and executives who realize that a strong ESG proposition can safeguard a company’s long-term success.\n",
    "\n",
    "A strong ESG proposition correlates with higher equity returns, from both a tilt and momentum perspective.\n",
    "\n",
    "The number of S&P companies that provided some type of sustainability report in 2019 has grown to 90 percent, which represents 80 percent of the outstanding equity of the largest U.S. companies,\n",
    "\n",
    "This is not by accident, ESG reflects how prepared an organization is for the future. ESG factors are metrics of risk, which quants and investors are interested in understanding."
   ]
  },
  {
   "cell_type": "markdown",
   "id": "c721bbbd",
   "metadata": {
    "slideshow": {
     "slide_type": "subslide"
    }
   },
   "source": [
    "### ESG Adds Value\n",
    "\n",
    "* **facilitating top-line growth** - tap new markets: become trusted actors and are awarded oppotunities. drive consumer preference \n",
    "* **reducing costs** - resource efficiency is correlated with financial performance. measurable: energy, water and waste in relation to revenue\n",
    "* **reduced regulatory and legal interventions** - strength in ESG helps reduce companies’ risk of adverse government action\n",
    "* **increasing employee productivity** - attract and retain quality employees. employee satisfaction is possitively correlated with shareholder returns\n",
    "* **optimizing investment and capital expenditures** - allocating to more promising opportunities while avoiding stranded investments"
   ]
  },
  {
   "cell_type": "markdown",
   "id": "15efc227",
   "metadata": {
    "slideshow": {
     "slide_type": "notes"
    }
   },
   "source": [
    "How exactly does a strong ESG proposition make financial sense? (6)\n",
    "\n",
    "also 'softer' personal dynamics  \n",
    "Reputation alone can mark the difference for awarding company contracts, resilience in corporate stock prices, and overall trust from the markets."
   ]
  },
  {
   "cell_type": "markdown",
   "id": "b96e8639",
   "metadata": {
    "slideshow": {
     "slide_type": "slide"
    }
   },
   "source": [
    "## Current Approaches for Measuring ESG"
   ]
  },
  {
   "cell_type": "markdown",
   "id": "e02c545b",
   "metadata": {
    "slideshow": {
     "slide_type": "notes"
    }
   },
   "source": [
    "To summarize the previous section,  \n",
    "We saw how ESG metrics correlate with positive financial performance,  \n",
    "and outlined some of ways ESG might be effecting positive growth  \n",
    "\n",
    "Now I would like to spend some time discussing some current ways to capture ESG.  \n",
    "This is by no means an exhaustive review.  \n",
    "Rather, I highlight a few approaches that Would lend interesting insight to a Nacci Impact Score"
   ]
  },
  {
   "cell_type": "markdown",
   "id": "a899006e",
   "metadata": {
    "slideshow": {
     "slide_type": "subslide"
    }
   },
   "source": [
    "## The GRI & SASB"
   ]
  },
  {
   "cell_type": "markdown",
   "id": "6ccb69cb",
   "metadata": {
    "slideshow": {
     "slide_type": "fragment"
    }
   },
   "source": [
    "#### GRI: Global Reporting Initiative \n",
    "* most widely implemented\n",
    "* **Focus**: impact the organization has on the world"
   ]
  },
  {
   "cell_type": "markdown",
   "id": "ce2b2338",
   "metadata": {
    "slideshow": {
     "slide_type": "fragment"
    }
   },
   "source": [
    "#### SASB: Sustainability Accounting Standards Board \n",
    "\n",
    "* an independent non-profit\n",
    "* mission: develop sustainability accounting sandards to help corporations disclose ESG factors\n",
    "* **Focus**:"
   ]
  },
  {
   "cell_type": "markdown",
   "id": "9ecef379",
   "metadata": {
    "slideshow": {
     "slide_type": "notes"
    }
   },
   "source": [
    "SASB - industry- and sector-specific material sustainability standards for disclosure. SASB is better aligned with representing how the world impacts a company through an investment community lens and is used by U.S. public companies. understand the financial impacts of sustainability on a business, which align with shareholder and investor risk."
   ]
  },
  {
   "cell_type": "markdown",
   "id": "9c18e493",
   "metadata": {
    "slideshow": {
     "slide_type": "subslide"
    }
   },
   "source": [
    "### EFFAS KPIs for ESG\n",
    "\n",
    "The European Federation of Financial Analysts Societies (EFFAS) has developed several sets of ESG KPIs specific to the following industrial sectors:  \n",
    "* Oil & Gas\n",
    "* Basic Materials\n",
    "* Industrials\n",
    "* Consumer Goods\n",
    "* Health Care\n",
    "* Consumer Services\n",
    "* Telecommunications\n",
    "* Utilities\n",
    "* Financials\n",
    "* Technology"
   ]
  },
  {
   "cell_type": "markdown",
   "id": "a5256213",
   "metadata": {
    "slideshow": {
     "slide_type": "fragment"
    }
   },
   "source": [
    "each industrial sector is further divided into subsectors.  \n",
    "e.g. Health Care: Health Care Providers, Medical Equipment, Medical Supplies, Biotechnology, & Pharmaceuticals"
   ]
  },
  {
   "cell_type": "markdown",
   "id": "832bdb0e",
   "metadata": {
    "slideshow": {
     "slide_type": "notes"
    }
   },
   "source": [
    "Sustainability data requires context: The data that is utilized to measure sustainability across different industries is specific to each industry and the unique company characteristics within the industry context."
   ]
  },
  {
   "cell_type": "markdown",
   "id": "63376ed5",
   "metadata": {
    "slideshow": {
     "slide_type": "subslide"
    }
   },
   "source": [
    "### Emerging Technology & ESG \n",
    "* **blockchain** - for governance and safety. \n",
    "    * ex: track the journey of data and transactions\n",
    "* **IoT** - optimizing operational oversight\n",
    "    * ex: temp data to track worker conditions\n",
    "* **Machine Learning** - summarize data and gather valuable insights\n",
    "    * ex: aggregate and analyze social media data to monitor brand perception"
   ]
  },
  {
   "cell_type": "markdown",
   "id": "5c569a2e",
   "metadata": {
    "slideshow": {
     "slide_type": "slide"
    }
   },
   "source": [
    "## Nacci Impact Score Proposal"
   ]
  },
  {
   "cell_type": "markdown",
   "id": "75928021",
   "metadata": {
    "slideshow": {
     "slide_type": "subslide"
    }
   },
   "source": [
    "### Score Components\n",
    "\n",
    "the return on ESG investments is likely to require new ways of collecting financial data\n",
    "\n",
    "* [Financial Ratios](https://smallbusiness.chron.com/4-categories-financial-ratios-1672.html)\n",
    "    - growth \n",
    "    - financial condition\n",
    "    - profitability\n",
    "    - liquidity\n",
    "* ESG ratios\n",
    "    - GRI-like\n",
    "    - SASB-like\n",
    "    - Subsector specific\n",
    "    - Geopolitic specific\n",
    "* Emergent measures\n",
    "    - Digital Innitiatives\n",
    "    - Cybersecurity"
   ]
  },
  {
   "cell_type": "markdown",
   "id": "4f3e6a9b",
   "metadata": {},
   "source": []
  },
  {
   "cell_type": "markdown",
   "id": "d748199a",
   "metadata": {},
   "source": []
  },
  {
   "cell_type": "markdown",
   "id": "c0f9e8d1",
   "metadata": {},
   "source": []
  },
  {
   "cell_type": "markdown",
   "id": "fa39c918",
   "metadata": {
    "slideshow": {
     "slide_type": "subslide"
    }
   },
   "source": [
    "### Composite Score"
   ]
  },
  {
   "cell_type": "markdown",
   "id": "d1444b01",
   "metadata": {
    "slideshow": {
     "slide_type": "subslide"
    }
   },
   "source": [
    "### Modeling "
   ]
  },
  {
   "cell_type": "markdown",
   "id": "2174b602",
   "metadata": {
    "slideshow": {
     "slide_type": "subslide"
    }
   },
   "source": [
    "### The Base Case: Do Nothing"
   ]
  },
  {
   "cell_type": "markdown",
   "id": "462d807b",
   "metadata": {
    "slideshow": {
     "slide_type": "slide"
    }
   },
   "source": [
    "## Summary"
   ]
  },
  {
   "cell_type": "markdown",
   "id": "d9f863c4",
   "metadata": {
    "slideshow": {
     "slide_type": "notes"
    }
   },
   "source": [
    "Shareholders and stakeholders do not compete in a zero-sum game. ESG helps generate wealth, and wealth is not a fixed pie."
   ]
  },
  {
   "cell_type": "markdown",
   "id": "a5e65493",
   "metadata": {
    "slideshow": {
     "slide_type": "slide"
    }
   },
   "source": [
    "## Future Directions\n",
    "\n",
    "* Develop Machine Learning pipelines to refine ESG metrics \n",
    "    - NLP for brand strength & public perception\n",
    "    - Time Series Analysis to model progress towards ESG goals\n",
    "* Refining Predictive Models that incorporate ESG feature variables\n",
    "* Develop a platform for formal training on how to consider ESG criteria in investment analysis\n",
    "* Investigate Competitors' Approaches\n",
    "    - Humankind Investments\n",
    "    - Sustainalytics"
   ]
  },
  {
   "cell_type": "markdown",
   "id": "3a398e13",
   "metadata": {
    "slideshow": {
     "slide_type": "slide"
    }
   },
   "source": [
    "## References\n",
    "\n",
    "1. [ESG Data Science Projects](https://medium.com/@jcanque/esg-data-science-projects-994801599ade)\n",
    "2. [ESG Metrics & KPIs: What ESG team Needs to Know](https://vitalflux.com/esg-metrics-and-kpis-what-esg-team-needs-to-know/)\n",
    "3. [KPIs for ESG 3.0](https://www.dvfa.de/fileadmin/downloads/Publikationen/Standards/KPIs_for_ESG_3_0_Final.pdf)\n",
    "4. [Valuation: Valuation of ESG and Digital Initiatives](https://learning.oreilly.com/library/view/valuation-7th-edition/9781119610885/)\n",
    "5. [How to Bring ESG Into the Quarterly Earnings Call](https://learning.oreilly.com/library/view/how-to-bring/53863MIT62417/)\n",
    "6. [5 Ways that ESG creates Value](https://www.mckinsey.com/~/media/McKinsey/Business%20Functions/Strategy%20and%20Corporate%20Finance/Our%20Insights/Five%20ways%20that%20ESG%20creates%20value/Five-ways-that-ESG-creates-value.ashx)\n",
    "7. [Corporate Sustainability: First Evidence on Materiality](https://dash.harvard.edu/bitstream/handle/1/14369106/15-073.pdf?sequence=1&mod=article_inline)\n",
    "8. [ESG and Financial Performance: aggregated evidence from more than 2000 emipical studies](https://www.tandfonline.com/doi/pdf/10.1080/20430795.2015.1118917?source=post_page)\n",
    "\n",
    "9. [Transparency in ESG and the Circular Economy](https://www.google.com/books/edition/Transparency_in_ESG_and_the_Circular_Eco/Ru6SzgEACAAJ?hl=en)\n",
    "10. [A Broken Record: Flows for U.S. Sustainable Funds Again Reach New Heights](https://www.morningstar.com/articles/1019195/a-broken-record-flows-for-us-sustainable-funds-again-reach-new-heights)\n",
    "11. [Drive Growth Through Sustainable Business Practices](https://play.google.com/store/books/details/Drive_Growth_Through_Sustainable_Business_Practice?id=u_0tAgAAQBAJ&hl=en_US&gl=US)\n"
   ]
  },
  {
   "cell_type": "markdown",
   "id": "5438a1ac",
   "metadata": {
    "slideshow": {
     "slide_type": "slide"
    }
   },
   "source": [
    "<img src=\"https://media.istockphoto.com/photos/thank-you-on-yellow-sticky-note-picture-id908260062?k=20&m=908260062&s=612x612&w=0&h=w1F095IMcC0e0JTAfFJkDLlneJRPgxjIs77-FuBS4BM=\" width=\"50%\" style=\"margin-left:auto; margin-right:auto\"> \n"
   ]
  },
  {
   "cell_type": "markdown",
   "id": "5abe7615",
   "metadata": {
    "slideshow": {
     "slide_type": "slide"
    }
   },
   "source": [
    "***"
   ]
  },
  {
   "cell_type": "markdown",
   "id": "45fb63ae",
   "metadata": {
    "slideshow": {
     "slide_type": "slide"
    }
   },
   "source": [
    "# Notes..."
   ]
  },
  {
   "cell_type": "markdown",
   "id": "4523ca8f",
   "metadata": {
    "slideshow": {
     "slide_type": "slide"
    }
   },
   "source": [
    "### the task\n",
    "\n",
    "* create some sort of composite metric  that can become a new standard KPI across industries\n",
    "* purpose-driven and net-positive without sacrificing revenue/profitability\n",
    "* create a predictive measure that incorporates longitudinal data related to employee satisfaction & retension, sustainability metrics, brand strength/sentiment, sourcing standards, diversity as well as profiability\n",
    "* the new normal  \n",
    "\n",
    "ESG & DEI & CSR  \n",
    "Environmental, Social & Governance  \n",
    "Diversity, Equity & Inclusion  \n",
    "Corporate Social Responsibility  \n",
    "Key Performance Narratives (KPN)  \n",
    "Key Performance Indicators (KPI)  \n",
    "Corporate Financial Performance (CFP)  \n",
    "\n",
    "*triple bottom line*, referring to the financial, environmental, and social elements included in the new calculation  \n",
    "\n",
    "**EBITDA**: earnings before interest, taxes, depreciation, and amortization, is a measure of a company's overall financial performance and is used as an alternative to net income in some circumstances.  \n",
    "\n",
    "move beyond EBITDA and align activity with ambitions to create a better world.  \n",
    "\n",
    "Create a longitudinal data measure that incorportates employee satisfaction & retention, sustainability metrics, brand strnegth, sourcing standards, diversity, etc. as well as profitability."
   ]
  },
  {
   "cell_type": "markdown",
   "id": "c58f88f5",
   "metadata": {
    "slideshow": {
     "slide_type": "slide"
    }
   },
   "source": [
    "### Steps Towards ESG Prominance\n",
    "\n",
    "it is important to brings ESG to the forefront.  \n",
    "but this is challenging for a variety of reasons:  \n",
    "\n",
    "* companies are not accustomed to reporting on ESG with rigor therefore ESG can seem 'soft' to some observers\n",
    "* analysts are not used to reporting ESG metrics\n",
    "\n",
    "What is needed:\n",
    "* lay the groundwork: establish a base level of confort and confidence with ESG issues. link the companies sustainability performance with financial performance\n",
    "* companies should share financially relevant ESG disclosures\n",
    "* host ESG specific calls to underline ESG issues to stakeholders\n",
    "* integrate ESG content into presentations\n",
    "\n",
    "ESG-driven financial measures: revenue from more sustainable products and services, improved retention rates, operational efficiency through waste reduction.  \n",
    "\n",
    "Report on (and fully explain) the return on ESG investment. EX: reduced attrition rates disclose the money saved benchmark against others in the sector."
   ]
  },
  {
   "cell_type": "markdown",
   "id": "4c640462",
   "metadata": {
    "slideshow": {
     "slide_type": "slide"
    }
   },
   "source": [
    "## Notes\n",
    "\n",
    "* ESGs can help companies improve their operational efficiencies, environmental impact, financial position, governance, transparency, and societal contributions while managing risks. (2)\n",
    "* ESGs encompass issues such as ethics, diversity, social justice, employee relations, and governance. Implementing ESG initiatives can help companies improve their operational efficiencies while managing risks that may have a negative impact on the company’s reputation if they aren’t addressed properly. (2)\n",
    "* ESG KPI metrics\n",
    "    - usage of natural resources (usage of renewable resources, carbon footprint per employee)\n",
    "    - environmental impact on water scarcity and quality\n",
    "    - health and safety of employees, communities, patients, or consumers (workplace injury/illness, frequency rates per 100 FTEs, lost time incident rate)\n",
    "    - energy efficiency improvements (metrics that track progress towards environmental goals)\n",
    "    - measure greenhouse gas emissions by the facility\n",
    "    - ethical compliance human rights, labor policies, environmental concerns\n",
    "    - social metrics to measure community development and corporate philanthropy\n",
    "    - contributions to sustainable causes (corporate philanthropy)\n",
    "    - ESG performance of a company’s supply chain and suppliers (workers rights etc)\n",
    "    - track supplier diversity\n",
    "    - governance: risk management associated with suppliers.\n",
    "* Techniques to track ESG metircs:\n",
    "    - ESG dashboards\n",
    "    - measure ESG success by Social Media Tracking & Analytics\n",
    "    - Implement ESGs into your current analytics model"
   ]
  },
  {
   "cell_type": "markdown",
   "id": "a50a4056",
   "metadata": {},
   "source": [
    "## ESG \n",
    "\n",
    "“we are faced not with two separate crises, one environmental and the other social, but rather with one complex crisis which is both social and environmental.” - Pope Franscis  \n",
    "\n",
    "Being sustainable means that companies actively pursue goals such as responsible use of natural resources both in their own operations and the operations of their respective clients, as well as respecting social rights in their markets of operation and those markets where their products and services are in use and being accountable to providers of equity and debt capital.\n",
    "\n",
    "(what is ESG)\n",
    "\n",
    "<img src=\"https://www.quantumnewenergy.com/wp-content/uploads/2021/03/AdobeStock_389787442-what-is-ESG.jpeg\" width=\"100%\" style=\"margin-left:auto; margin-right:auto\">  \n",
    "\n",
    "stakeholders engaged as employees, employee families, neighborhoods, suppliers, customers, vendors, investors, or other roles of community members.  \n",
    "\n",
    "The first is the level of commitment from the community, which drives opportunities for revenue generation, and the second is the perception of investors on the level of risk, which impacts access to capital for growth."
   ]
  },
  {
   "cell_type": "markdown",
   "id": "30499462",
   "metadata": {},
   "source": [
    "## ESG Valuation\n",
    "\n",
    "(how has ESG been used to assess performance)\n",
    "identify robust metrics of their success.  \n",
    "\n",
    "It's not good enough to look at advancing technology or increasing demand for sustainability and act blindly based on an uninformed sense of obligation to keep up with outside forces.  \n",
    "\n",
    "Investors are becoming more interested in a companies ESG performance and ESG-oriented investin is on the rise"
   ]
  },
  {
   "cell_type": "markdown",
   "id": "7eb2139d",
   "metadata": {},
   "source": [
    "## ESG adds Value\n",
    "\n",
    "ESG-oriented investing has experienced a meteoric rise. The acceleration has been driven by heightened social, governmental,\n",
    "and consumer attention on the broader impact of corporations, as well as by the\n",
    "investors and executives who realize that a strong ESG proposition can safeguard\n",
    "a company’s long-term success.  \n",
    "\n",
    "A strong ESG proposition correlates with higher equity returns, from both a tilt and momentum perspective.  \n",
    "\n",
    "The number of S&P companies that provided some type of sustainability report in 2019 has grown to 90 percent, which represents 80 percent of the outstanding equity of the largest U.S. companies,  \n",
    "\n",
    "how prepared an organization is for the future. ESG factors are metrics of risk, which quants and investors are interested in understanding."
   ]
  },
  {
   "cell_type": "markdown",
   "id": "568648a3",
   "metadata": {},
   "source": [
    "## ESG: how?\n",
    "\n",
    "How exactly does a strong ESG proposition make financial sense? (6)\n",
    "\n",
    "* **facilitating top-line growth** - tap new markets: become trusted actors and are awarded oppotunities. drive consumer preference \n",
    "* **reducing costs** - resource efficiency is correlated with financial performance. measurable: energy, water and waste in relation to revenue\n",
    "* **reduced regulatory and legal interventions** - strength in ESG helps reduce companies’ risk of adverse government action\n",
    "* **increasing employee productivity** - attract and retain quality employees. employee satisfaction is possitively correlated with shareholder returns\n",
    "* **optimizing investment and capital expenditures** - allocating to more promising opportunities while avoiding stranded investments\n",
    "\n",
    "also 'softer' personal dynamics  \n",
    "Reputation alone can mark the difference for awarding company contracts, resilience in corporate stock prices, and overall trust from the markets."
   ]
  },
  {
   "cell_type": "markdown",
   "id": "e75285cd",
   "metadata": {},
   "source": [
    "## Things to include:  \n",
    "\n",
    "* Environmental - energy taking in & waste discharged. the energy/resource concerns and how this impacts people (carbon emissions and climate change)\n",
    "* Social - relationships & reputation a company has with people/communities (labor relations, diversity and inclusion). every company operates within a broader, diverse society\n",
    "* Governance - internal practices/controls to govern itself \n",
    "* Digital (Transformation) - evaluate digital projects on the cash they are expected to generate\n",
    "\n",
    "the individual elements are themselves intertwined"
   ]
  },
  {
   "cell_type": "markdown",
   "id": "a9b3bdee",
   "metadata": {},
   "source": [
    "<img src=\"esg_flow.png\" width=\"40%\" style=\"margin-left:auto; margin-right:auto\">"
   ]
  },
  {
   "cell_type": "markdown",
   "id": "9c0202e3",
   "metadata": {},
   "source": [
    "## ESG link\n",
    "\n",
    "ESG may link to cashflow in five important ways (4)  \n",
    "\n",
    "1. facilitating revenue growth\n",
    "2. reducing costs\n",
    "3. minimizing regulatory and legal interventions\n",
    "4. increasing employee productivity\n",
    "5. optimizing investments and capital expenditures"
   ]
  },
  {
   "cell_type": "markdown",
   "id": "66640c35",
   "metadata": {},
   "source": [
    "## Approaches\n",
    "\n",
    "existing valuation principles can help with framing initial responses and surfacing techniques for dealing with such challenges as they evolve\n",
    "\n",
    "use discounted cash flows, and compare scenario cash flows with a base case. critical: define the base case. e.g. the 'do-nothing' case  \n",
    "\n",
    "the 'do-nothing approach is usually an eroding line, not a straight line. While the investments required to update your operations may be substantial, choosing to wait it out can be the most expensive option of all.  \n",
    "\n",
    "the rules of the game are shifting. preemptive action now can land a company ahead of the curve. instead of being reactive to govenment regs & social pressure; acting now can allow a company to adjust on thier own terms.  \n",
    "\n",
    "may feel orthogonal to its traditional business model. make the case that your company’s ESG priorities do link to value, and show leaders\n",
    "how, ideally with hard metrics that feed into the business model (for example, output per\n",
    "baseline electricity use, waste cost in a given plant or location per employee, or revenue\n",
    "per calorie for a food-and-beverage business).  \n",
    "\n",
    "in terms of CEO pay versus pay for an average employee and things like that. So these are additional metrics. That are quite important for making investment decisions  \n",
    "\n",
    "now you have these non-traditional data sources that you're trying to bring in  \n",
    "\n",
    "many different data sources that are not always structured data as been mentioned. For example, carbon usage, what carbon emission water, usage, sustainability, metrics diversity, mate.  \n",
    "\n",
    "clients could look at their report and they could tell How their money is being invested and whether it is in line with their principals or not.  \n",
    "\n",
    "how much weight it should, I give to a particular Factor, right? If it is a software company carbon emission is not the big deal for them. So we should probably reduce the weight of carbon emission for software companies, whereas if it is a manufacturing company....  \n",
    "\n",
    "It's a semi-structured data problem.  \n",
    "\n",
    "creating Advanced, Analytical engine such as modeling engine, our Ai and NLP engine, that helps extract some of this information and vectorize them for further analysis, and things like that. An optimization engine that that helps us optimize the portfolio in terms of its risk and return characteristics and things like that. visualizations: tableau dashboards  \n",
    "\n",
    "connect & collect data $\\rightarrow$ create a rich set of metadata (attributes) $\\rightarrow$ structure/schema for datasets? $\\rightarrow$ operational metadata, taking an agnostic view in terms of your whole data control plane  \n",
    "\n",
    "SASB System"
   ]
  },
  {
   "cell_type": "markdown",
   "id": "1f0fa3c1",
   "metadata": {},
   "source": [
    "Shareholders and stakeholders do not compete in a zero-sum game. ESG helps generate wealth, and wealth is not a fixed pie."
   ]
  },
  {
   "cell_type": "markdown",
   "id": "f687d958",
   "metadata": {},
   "source": [
    "## ESG Data\n",
    "\n",
    "Sustainability data requires context: The data that is utilized to measure sustainability across different industries is specific to each industry and the unique company characteristics within the industry context.  \n",
    "\n",
    "* Negative Screening (SIN stocks)\n",
    "* **GRI** Global Reporting Initiative (most widely implemented) - impact the organization has on the world\n",
    "* Dow Jones Sustainability Indices\n",
    "* **CDP** Carbon Disclosure Project - environmental disclosure\n",
    "* **CDSB** Climate Disclosure Standards Board\n",
    "* **GRESB** Global Real Estate Sustainability Benchmark\n",
    "* **GISR** Global Initiative for Sustainability Ratings - a ratings framework that measures excellence in sustainability performance by utilizing ESG data to produce ratings.\n",
    "* **SASB** Sustainability Accounting Standards Board - industry- and sector-specific material sustainability standards for disclosure. SASB is better aligned with representing how the world impacts a company through an investment community lens and is used by U.S. public companies. understand the financial impacts of sustainability on a business, which align with shareholder and investor risk.\n",
    "* **TCFD** Task Force on Climate-Related Financial Disclosures  \n",
    "\n",
    "About the data: Most of the data is unstructured and requires context and integration into the appropriate sustainability frameworks to extract valuable insights. Machine learning and artificial intelligence solutions are evolving to create more sophisticated insights and predictions on risk factors.  \n",
    "Sustainability data lacks standardization, and reporting looks back in time, rather than being forward-looking.  \n",
    "Unfortunately, the lack of standardization, proprietary methodologies, differences in data sources, variability in parameter weights, and a lack of transparency create a significant level of inconsistency across rating approaches.  \n",
    "\n",
    "**Leading Sustainability Ratings Companies**  \n",
    "* Moody's\n",
    "* MSCI KLD 400 Social Index\n",
    "* Sustainalytics & Morningstar\n",
    "* RobecoSAM - provides company benchmarking reports with strengths and weaknesses mapped against best in class and sustainability metrics\n",
    "* Refiniv ESG - data points have different ratings, or can be assigned a different Relative Level of Importance (RLI), depending on the pillars and industry under consideration.\n",
    "* Bloomberg - proprietary ESG scores and an SASB ESG Index\n",
    "* **AI Solutions**\n",
    "    * Arabesque uses artificial intelligence and non-financial ESG data successfully to build new quant models for sustainability.\n",
    "    * Sensefolio, which utilizes artificial intelligence and natural language processing to extract company ethical performance by analyzing unstructured social feeds, news, and financial reports."
   ]
  },
  {
   "cell_type": "markdown",
   "id": "5a3cb7cc",
   "metadata": {},
   "source": [
    "## Key Factors for Implementing ESG\n",
    "\n",
    "* Participation of various stakeholders"
   ]
  },
  {
   "cell_type": "markdown",
   "id": "1a4e1b1f",
   "metadata": {},
   "source": [
    "## ESG data\n",
    "\n",
    "* Regular reporting on certain defined elements (such as waste generation, pollutant emissions, and accident rates) is an ongoing and often mandatory activity.\n",
    "    - EPA maintains several large databases (TRI, CERCLIS, BRS)\n",
    "* ESG Information - putting basic data in relevant context\n",
    "* ESG Knowledge\n",
    "* ESG Wisdom (Insights) - understanding of the implications of ES&G issues and organizational posture and performance.\n",
    "\n",
    "* Governance - representatives involved in management of sustainability issues and concerned\n",
    "* Policies, commitments & goals\n",
    "* Systems and Practices - information describing the use of formal pathways to achieve sustainability goals\n",
    "* Social Performance Results - how the firm or other organization performed, both in absolute terms and relative to any improvement goals. Typical indicators include an array of traditional EHS endpoints such as waste and emissions, accidents and injuries (or rates), compliance (fines and penalties, notices of violation), consumption, conservation, and recovery of energy and water and, to a lesser extent, raw materials (in some industries)\n",
    "* Financial Results - financial implications of sustainability posture and performance are critically important, both to investors and other stakeholders.\n",
    "\n",
    "**Green Metrics That Matter**  \n",
    "* Resource Consumption Resource Conservation and Recovery. - energy, electricity and water use\n",
    "* Emissions and Waste Management - greenhouse gases, solid and hazardous waste \n",
    "* Health and Safety - injuries, deaths, lost workdays due to injury. near misses, unsafe exposures driving safety\n",
    "* Compliance - violations, fines, penalties\n",
    "* EHS/Sustainability Management Practices\n",
    "\n",
    "At this point in time, it is fair to characterize the GRI reporting format as the de facto global standard for sustainability reporting, because it is by far the most commonly used approach and has no serious rival."
   ]
  },
  {
   "cell_type": "markdown",
   "id": "9b7ae127",
   "metadata": {},
   "source": [
    "## Building on GRI \n",
    "\n",
    "GRI, responds to these needs quite well. The current incarnation of the GRI reporting guidelines (the so-called “G3”) requests narratives on how the organization addresses each of the major “legs of the stool.” It also includes a substantial number of quantitative performance indicators in such areas as waste, pollutant emissions, injury and illness rates, diversity, training, respect for human and labor rights, and many others. When augmented with the appropriate “sector supplement” for particular industries,6 the GRI can provide a comprehensive and thought-provoking framework\n",
    "\n",
    "But:\n",
    "* GRI is lop-sided with a focus on Social KPIs\n",
    "* unclear linkages between GRI indicators and key business endpoints.\n",
    "* no apparent relationship between the G3 indicators and the widely used financial indicators (revenues, cash flow, capital structure"
   ]
  },
  {
   "cell_type": "markdown",
   "id": "3fa58696",
   "metadata": {},
   "source": [
    "## Suggested Approaches\n",
    "\n",
    "3rd party ratings: the marginal benefit is not having to rely on company disclosures offers the ability to avoid reporting bias\n",
    "\n",
    "metrics to include:  \n",
    "\n",
    "* credit ratings (Moody's, S&P, Fitch) - financial ability to repay & reflect an organizations access to capital\n",
    "* Sustainability Ratings & Indexes - understanding the materiality of financial risk of an organization\n",
    "\n",
    "\n",
    "**Emerging Technology & ESG**  \n",
    "* blockchain for governance and safety - journey of data and transactions\n",
    "* IoT - e.g. temp data to track worker conditions\n",
    "* AI and ML can summarize data and gather valuable insights\n",
    "\n",
    "When comparing the ESG ratings for an entity, the ESG ratings have a wider range of values than the issuer credit rating for each entity.\n",
    "\n",
    "* Polar Plot\n",
    "* ESG coordinates (2 or 3 metrics)"
   ]
  },
  {
   "cell_type": "markdown",
   "id": "5dcb147d",
   "metadata": {},
   "source": [
    "### The Stern Center's Return on Sustainability Investment Methodology\n",
    "\n",
    "helps companies estimate the value of sustainability"
   ]
  },
  {
   "cell_type": "markdown",
   "id": "f31f2875",
   "metadata": {},
   "source": [
    "### Corporate Sustainability: First Evidence on Materiality\n",
    "\n",
    "* data set to measure perfornace on sustainabiity from SASB $\\rightarrow$ MSCI KLD\n",
    "* we first orthogonalize a firm’s change in materiality score with respect to changes in firm size, market-to-book ratio, leverage, profitability, and sector membership\n",
    "* form portfolios based on the unexplained portion of the materiality score change (the residuals from the first step) and estimate Fama and French (1993) calendartime regressions to test for one-year-ahead abnormal stock return performance of the portfolio"
   ]
  }
 ],
 "metadata": {
  "celltoolbar": "Slideshow",
  "kernelspec": {
   "display_name": "Python 3",
   "language": "python",
   "name": "python3"
  },
  "language_info": {
   "codemirror_mode": {
    "name": "ipython",
    "version": 3
   },
   "file_extension": ".py",
   "mimetype": "text/x-python",
   "name": "python",
   "nbconvert_exporter": "python",
   "pygments_lexer": "ipython3",
   "version": "3.7.6"
  }
 },
 "nbformat": 4,
 "nbformat_minor": 5
}
