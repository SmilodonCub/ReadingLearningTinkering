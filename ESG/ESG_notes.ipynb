{
 "cells": [
  {
   "cell_type": "markdown",
   "id": "8275c356",
   "metadata": {},
   "source": [
    "# ESG Talk Notes"
   ]
  },
  {
   "cell_type": "markdown",
   "id": "01094fd9",
   "metadata": {},
   "source": [
    "## Towards a Cummulative Nacci Impact Score\n",
    "\n",
    "Hello  \n",
    "Thank you for the opportunity to speak with you all today.  \n",
    "I am very excited to be invited to the final interview round and I've been looking forward to this since recieving the email.  \n",
    "I'll get started on talking with you about a Cummulative Nacci Impact Score for ESG.  \n",
    "\n",
    "My concept that I will discuss is still very much a work in progress.  \n",
    "There will undoubtedly be some handwaving involved, but I will do my best to present a clear vision of my approach towards a metric that incorporates ESG measures and profitability to evaluate ESG strengths and to be incorporated into predictive models"
   ]
  },
  {
   "cell_type": "markdown",
   "id": "84155d86",
   "metadata": {},
   "source": [
    "## Talk Roadmap\n",
    "\n",
    "Just to give a bit of an idea for what to expect with our time,  \n",
    "I would like to lead us through the talk by first making a case for ESG.  \n",
    "Why is it important for corporations to incorporate Environmental, Social and Governance concerns in thier business plan?  \n",
    "Then I would like to give a brief overview of some existing ESG metrics  \n",
    "After which I will present my concept for a composite ESG metric which could serve as a possible Nacci Impact Score  \n",
    "I'll walk through the components I believe should be included as well as brief justifications for them  \n",
    "before revealing a composite representation to serve as a single quantifiable KPI measure. "
   ]
  },
  {
   "cell_type": "markdown",
   "id": "776bd4bc",
   "metadata": {},
   "source": [
    "## Making The Case for ESG\n",
    "\n",
    "So let me get started with Making a case for ESG....  \n",
    "\n",
    "I included this quote here from Pope Francis to underscore the spirit of ESG.  \n",
    "“we are faced not with two separate crises, one environmental and the other social, but rather with one complex crisis which is both social and environmental.”  \n",
    "\n",
    "Just as we as human beings also corporations/businesses as entities exist in the flux of social and environment turmoil around us. And as the size and complexity of corporations scales upwards -we live in an era where some corporations' finances dwarf that of small nation states- it is necessary for corporations/businesses to recognize thier impact on the world -be that the environment and/or community- around them.  \n",
    "\n",
    "business does not exist in a vacuum.  \n",
    "it is now more important than ever to incorporate environmental and social concerns not only into the business plan, but to internalize the same values within the internal governance of the organization.  \n",
    "This is the intent that is meant with ESG principles."
   ]
  },
  {
   "cell_type": "markdown",
   "id": "27df8ab5",
   "metadata": {},
   "source": [
    "## Environmental, Social and Governance Concerns\n",
    "\n",
    "By Environmental concerns:  \n",
    "in a nut shell, we are talking about the energy consumed and waste discharged by an organization  \n",
    "for instance....  \n",
    "\n",
    "By Social:  \n",
    "we refer to the nature of the relationship the company has with the communities local and abroad  \n",
    "\n",
    "By Governance:  \n",
    "we refer to the internal practices of how the company comports itself  "
   ]
  },
  {
   "cell_type": "markdown",
   "id": "ee16512f",
   "metadata": {},
   "source": [
    "## ESG Issues\n",
    "\n",
    "On the surface these seem too broadly qualitative to condence into a metric, but in the next section I will briefly describe how these ideals have been quantified. "
   ]
  },
  {
   "cell_type": "markdown",
   "id": "23104507",
   "metadata": {},
   "source": [
    "## ESG Correlates with Performance\n",
    "\n",
    "Investing in ESG pays financially.  \n",
    "Authors Friede and collaborators made a 2015 second-level review which combined results from 2200 unique primary studies.\n",
    "Based on correlation factors and the distribution analysis of more than 2000 empiracle studies, (Friede et al 2015) feel confident in generalizing that ESG criteria and CFP are, on average, positively correlated  \n",
    "\n",
    "approximately 90% of studies find a nonnegative ESG–CFP (Corporate Finanacial Performance) relation  \n",
    "\n",
    "The distinct positive empiric result is found across various approaches, regions, and asset classes.  \n",
    "furthermore, thier study found a relatively even relation of E, S and G categories in relation to CFP"
   ]
  },
  {
   "cell_type": "markdown",
   "id": "de64a459",
   "metadata": {},
   "source": [
    "## ESG on the Rise\n",
    "\n",
    "The positive correlation of ESG and Corporate Financial Performance has not escaped the attention of forward-thinking investors.\n",
    "\n",
    "Indeed, ESG-oriented investing has experienced a meteoric rise. The acceleration has been driven by heightened social, governmental, and consumer attention on the broader impact of corporations, as well as by the investors and executives who realize that a strong ESG proposition can safeguard a company’s long-term success.\n",
    "\n",
    "\n",
    "The number of S&P companies that provided some type of sustainability report in 2019 has grown to 90 percent, which represents 80 percent of the outstanding equity of the largest U.S. companies,  \n",
    "\n",
    "An estimated 1 Trillion in investments by 2030\n",
    "\n",
    "This is not by accident, ESG reflects how prepared an organization is for the future. ESG factors are metrics of risk, which quants and investors are interested in understanding."
   ]
  },
  {
   "cell_type": "markdown",
   "id": "13b4d014",
   "metadata": {},
   "source": [
    "## ESG Adds Value\n",
    "\n",
    "How exactly does a strong ESG proposition make financial sense? (6)\n",
    "\n",
    "also 'softer' personal dynamics  \n",
    "Reputation alone can mark the difference for awarding company contracts, resilience in corporate stock prices, and overall trust from the markets."
   ]
  },
  {
   "cell_type": "markdown",
   "id": "b41a8410",
   "metadata": {},
   "source": [
    "## Current Approaches for Measureing ESG\n",
    "\n",
    "To summarize the previous section,  \n",
    "We saw how ESG metrics correlate with positive financial performance,  \n",
    "and outlined some of ways ESG might be effecting positive growth  \n",
    "\n",
    "Now I would like to spend some time discussing some current ways to capture ESG.  \n",
    "This is by no means an exhaustive review.  \n",
    "Rather, I highlight a few approaches that Would lend interesting insight to a Nacci Impact Score  \n",
    "\n",
    "We can think of each of these as different approaches to give a company's ESG data some context"
   ]
  },
  {
   "cell_type": "markdown",
   "id": "5603ba87",
   "metadata": {},
   "source": [
    "## ESG Sustainability Frameworks\n",
    "\n",
    "I'd like to start by intorducing 2 ESG sustainabiity frameworks\n",
    "\n",
    "GRI: the Global Reporting Initiative  \n",
    "is the oldest of the sustainability reporting standards  \n",
    "was spawned from the fallout of the Exxon Valdez oil spill in the early 00s  \n",
    "a corporate sustainabiity framework that is free to use and widely implemented  \n",
    "The focus of the framework is to evaluate the impact theorganization has on the word (e.g. environment)  \n",
    "it was developed in concert with the UN  \n",
    "and gives a blueprint for corporations to report the UN's Sustainabiity Development Goals\n",
    "\n",
    "SASB - industry- and sector-specific material sustainability standards for disclosure.  \n",
    "SASB is better aligned with representing sustainability information through an investors lens  \n",
    "understand the financial impacts of sustainability on a business, which align with shareholder and investor risk.  \n",
    "\n",
    "There are certainly many other indistry standards for ESG reporting frameworks  \n",
    "for example, the Dow Jones Sustainability Indices, the Carbon Disclosure Project etc.  \n",
    "However, I highlight the GRI & SASB as frameworks:  \n",
    "* to incorporate into a Nacci Impact Score\n",
    "* one is an old guard metric that is widely used\n",
    "* the other is new with high velocity\n",
    "* take two very different stakeholders perspective\n",
    "* both cover ES &G (not just the E)"
   ]
  },
  {
   "cell_type": "markdown",
   "id": "f79c918d",
   "metadata": {},
   "source": [
    "## Industry/Sector Specific ESG Metrics\n",
    "\n",
    "Sustainability data requires context: \n",
    "\n",
    "The data that is utilized to measure sustainability across different industries  \n",
    "is specific to each industry and the unique company characteristics within the industry context.  \n",
    "\n",
    "The European Federation of Financial Analysts Societies has developed a set of  \n",
    "KPIs for ESG that are industry sector and subsector specific   \n",
    "\n",
    "there are then sets of KPIs that are graded on different levels or 'scopes' of reporting (entry, mid & high)  \n",
    "\n",
    "The GRI, SASB & these EFFAS guidelines set a framework for corporations to self-report  \n",
    "However, we need other, less biased sources of ESG data (avoid 'greenwashing')  \n",
    "For that we turn to other sources"
   ]
  },
  {
   "cell_type": "markdown",
   "id": "b55eda10",
   "metadata": {},
   "source": [
    "## Geographic Specific ESG Metrics\n",
    "\n",
    "The country in which business operations unfold represents another factor in the sustainability equation that needs to be considered.  \n",
    "\n",
    "SDGs: Sustainability Development Goals\n",
    "\n",
    "\n",
    "Some of the SDGs look at a country's actions and policies towards ESG goals.  \n",
    "Studies have shown that a governments policies  \n",
    "-which would be refelcted in the SDG scores-  \n",
    "are tightly correlated with the sustainabiity of companies within the country.  \n",
    "So it is important to take this into account when evaluating and commparing companies in different geographic regions  \n",
    "\n",
    "ROBECO"
   ]
  },
  {
   "cell_type": "markdown",
   "id": "693b92ec",
   "metadata": {},
   "source": [
    "## Emerging Technology & ESG Accountability\n",
    "\n",
    "but with a focus on ML:  \n",
    "\n",
    "ML is leaned on heavily by ESG research and analysis firms.  \n",
    "these are orgs that perform independent analysis with a lens for the investor  "
   ]
  },
  {
   "cell_type": "markdown",
   "id": "36c07946",
   "metadata": {},
   "source": [
    "## Nacci Impact Score Proposal\n",
    "\n",
    "So I have just summarised several sources for metrics that should be included in a Nacci Impact Score.  \n",
    "Covering the 'What'  \n",
    "Now I would like to talk on a more granular level about how to use this information to build a  \n",
    "Cummulative Nacci Immpact Score"
   ]
  },
  {
   "cell_type": "markdown",
   "id": "ebca8dd6",
   "metadata": {},
   "source": [
    "## Financial Ratios\n",
    "\n",
    "Growth ratios: how fast business is growing  \n",
    "* sales percetage: compare sales to previous year\n",
    "* net income percentage: profit-operation costs:previous year\n",
    "\n",
    "Financial Conditions: overall financial health  \n",
    "* dept-to-equity ratio - incurred dept:assets\n",
    "\n",
    "Profitability: e.g. of specific areas\n",
    "* gross profit margin: sales:cost of sold goods\n",
    "\n",
    "Liquidity: measure of ability to meet short term obligations  \n",
    "\n",
    "Using these as examples, Build out a feature set of relevant Corporate Financial Performance variables"
   ]
  },
  {
   "cell_type": "markdown",
   "id": "343e40ba",
   "metadata": {},
   "source": [
    "## Evaluating ESG Ratios"
   ]
  },
  {
   "cell_type": "markdown",
   "id": "ae0e371b",
   "metadata": {},
   "source": [
    "## Independent ESG Measure\n",
    "\n",
    "Measuring Brand Perception\n",
    "consumer responsiveness: a form sentiment analysis across social media platforms. utilize various NLP machine learning methodologies\n",
    "\n",
    "Digital Innitiatives: preparedness for the workplace in the wake of COVID\n",
    "\n",
    "Cybersecurity Innitiatives: How is the company safeguarding consumer data\n",
    "\n",
    "Build out a family of independently derived features based on unstructured data\n",
    "public data and/or data provided by the company itself"
   ]
  },
  {
   "cell_type": "markdown",
   "id": "4854a61e",
   "metadata": {},
   "source": []
  }
 ],
 "metadata": {
  "kernelspec": {
   "display_name": "Python 3",
   "language": "python",
   "name": "python3"
  },
  "language_info": {
   "codemirror_mode": {
    "name": "ipython",
    "version": 3
   },
   "file_extension": ".py",
   "mimetype": "text/x-python",
   "name": "python",
   "nbconvert_exporter": "python",
   "pygments_lexer": "ipython3",
   "version": "3.7.6"
  }
 },
 "nbformat": 4,
 "nbformat_minor": 5
}
